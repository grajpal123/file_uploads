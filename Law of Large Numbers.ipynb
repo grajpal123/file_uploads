{
 "cells": [
  {
   "cell_type": "markdown",
   "metadata": {},
   "source": [
    "### Law of Large Numbers:- Normal Distribution E(X) - 68.2%\n",
    "\n",
    "Imagine you have a sample of observation consider coin tosses or you just picked out 100 or 1000 people from bunch of population.\n",
    "\n",
    "So LLN say that,\n",
    "\n",
    "Mean/Average of certain measured value of X across sample n will converge to expected value E(X) when n tends to infinity."
   ]
  },
  {
   "cell_type": "markdown",
   "metadata": {},
   "source": [
    "#### Question:\n",
    "\n",
    "Test the law of large number for N randomly normally distriubuted numbers with mean=0 and stdev=1.\n",
    "\n",
    "Create a Python script that will tell us how many of numbers fall between -1 and 1 and divide it by total quantity of N. You know that E(X) = 68.2%."
   ]
  },
  {
   "cell_type": "code",
   "execution_count": 39,
   "metadata": {},
   "outputs": [
    {
     "name": "stdout",
     "output_type": "stream",
     "text": [
      "0.682207\n"
     ]
    }
   ],
   "source": [
    "import numpy as np\n",
    "from numpy.random import randn\n",
    "\n",
    "N = 1000000\n",
    "counter = 0\n",
    "for i in randn(N):\n",
    "    if (i > -1 and i < 1):\n",
    "        counter = counter  + 1\n",
    "answer = counter / N\n",
    "print(answer)"
   ]
  }
 ],
 "metadata": {
  "kernelspec": {
   "display_name": "Python 3",
   "language": "python",
   "name": "python3"
  },
  "language_info": {
   "codemirror_mode": {
    "name": "ipython",
    "version": 3
   },
   "file_extension": ".py",
   "mimetype": "text/x-python",
   "name": "python",
   "nbconvert_exporter": "python",
   "pygments_lexer": "ipython3",
   "version": "3.7.1"
  }
 },
 "nbformat": 4,
 "nbformat_minor": 2
}
