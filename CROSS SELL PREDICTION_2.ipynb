{
 "cells": [
  {
   "cell_type": "markdown",
   "metadata": {},
   "source": [
    "## `CROSS SELL PREDICTION - AV`"
   ]
  },
  {
   "cell_type": "markdown",
   "metadata": {},
   "source": [
    "### `STEP 1: IMPORT LIBRARIES`"
   ]
  },
  {
   "cell_type": "code",
   "execution_count": 1,
   "metadata": {},
   "outputs": [],
   "source": [
    "import numpy as np\n",
    "import pandas as pd\n",
    "import matplotlib.pyplot as plt\n",
    "import seaborn as sns\n",
    "\n",
    "import warnings\n",
    "warnings.filterwarnings('ignore')"
   ]
  },
  {
   "cell_type": "markdown",
   "metadata": {},
   "source": [
    "### `STEP 2: IMPORT DATASET`"
   ]
  },
  {
   "cell_type": "code",
   "execution_count": 2,
   "metadata": {},
   "outputs": [
    {
     "name": "stdout",
     "output_type": "stream",
     "text": [
      "Data Imported Successfully\n"
     ]
    }
   ],
   "source": [
    "train_data = pd.read_csv('train.csv')\n",
    "\n",
    "test_data  = pd.read_csv('test.csv')\n",
    "\n",
    "print(\"Data Imported Successfully\")"
   ]
  },
  {
   "cell_type": "markdown",
   "metadata": {},
   "source": [
    "### `STEP 3: EXPLORTORY DATA ANALYSIS / DATA MINING / DATA CLEANING`"
   ]
  },
  {
   "cell_type": "code",
   "execution_count": 3,
   "metadata": {},
   "outputs": [
    {
     "data": {
      "text/plain": [
       "(381109, 12)"
      ]
     },
     "execution_count": 3,
     "metadata": {},
     "output_type": "execute_result"
    }
   ],
   "source": [
    "# Checking Shape\n",
    "\n",
    "train_data.shape"
   ]
  },
  {
   "cell_type": "code",
   "execution_count": 4,
   "metadata": {},
   "outputs": [
    {
     "data": {
      "text/html": [
       "<div>\n",
       "<style scoped>\n",
       "    .dataframe tbody tr th:only-of-type {\n",
       "        vertical-align: middle;\n",
       "    }\n",
       "\n",
       "    .dataframe tbody tr th {\n",
       "        vertical-align: top;\n",
       "    }\n",
       "\n",
       "    .dataframe thead th {\n",
       "        text-align: right;\n",
       "    }\n",
       "</style>\n",
       "<table border=\"1\" class=\"dataframe\">\n",
       "  <thead>\n",
       "    <tr style=\"text-align: right;\">\n",
       "      <th></th>\n",
       "      <th>id</th>\n",
       "      <th>Gender</th>\n",
       "      <th>Age</th>\n",
       "      <th>Driving_License</th>\n",
       "      <th>Region_Code</th>\n",
       "      <th>Previously_Insured</th>\n",
       "      <th>Vehicle_Age</th>\n",
       "      <th>Vehicle_Damage</th>\n",
       "      <th>Annual_Premium</th>\n",
       "      <th>Policy_Sales_Channel</th>\n",
       "      <th>Vintage</th>\n",
       "      <th>Response</th>\n",
       "    </tr>\n",
       "  </thead>\n",
       "  <tbody>\n",
       "    <tr>\n",
       "      <td>0</td>\n",
       "      <td>1</td>\n",
       "      <td>Male</td>\n",
       "      <td>44</td>\n",
       "      <td>1</td>\n",
       "      <td>28.0</td>\n",
       "      <td>0</td>\n",
       "      <td>&gt; 2 Years</td>\n",
       "      <td>Yes</td>\n",
       "      <td>40454.0</td>\n",
       "      <td>26.0</td>\n",
       "      <td>217</td>\n",
       "      <td>1</td>\n",
       "    </tr>\n",
       "    <tr>\n",
       "      <td>1</td>\n",
       "      <td>2</td>\n",
       "      <td>Male</td>\n",
       "      <td>76</td>\n",
       "      <td>1</td>\n",
       "      <td>3.0</td>\n",
       "      <td>0</td>\n",
       "      <td>1-2 Year</td>\n",
       "      <td>No</td>\n",
       "      <td>33536.0</td>\n",
       "      <td>26.0</td>\n",
       "      <td>183</td>\n",
       "      <td>0</td>\n",
       "    </tr>\n",
       "    <tr>\n",
       "      <td>2</td>\n",
       "      <td>3</td>\n",
       "      <td>Male</td>\n",
       "      <td>47</td>\n",
       "      <td>1</td>\n",
       "      <td>28.0</td>\n",
       "      <td>0</td>\n",
       "      <td>&gt; 2 Years</td>\n",
       "      <td>Yes</td>\n",
       "      <td>38294.0</td>\n",
       "      <td>26.0</td>\n",
       "      <td>27</td>\n",
       "      <td>1</td>\n",
       "    </tr>\n",
       "    <tr>\n",
       "      <td>3</td>\n",
       "      <td>4</td>\n",
       "      <td>Male</td>\n",
       "      <td>21</td>\n",
       "      <td>1</td>\n",
       "      <td>11.0</td>\n",
       "      <td>1</td>\n",
       "      <td>&lt; 1 Year</td>\n",
       "      <td>No</td>\n",
       "      <td>28619.0</td>\n",
       "      <td>152.0</td>\n",
       "      <td>203</td>\n",
       "      <td>0</td>\n",
       "    </tr>\n",
       "    <tr>\n",
       "      <td>4</td>\n",
       "      <td>5</td>\n",
       "      <td>Female</td>\n",
       "      <td>29</td>\n",
       "      <td>1</td>\n",
       "      <td>41.0</td>\n",
       "      <td>1</td>\n",
       "      <td>&lt; 1 Year</td>\n",
       "      <td>No</td>\n",
       "      <td>27496.0</td>\n",
       "      <td>152.0</td>\n",
       "      <td>39</td>\n",
       "      <td>0</td>\n",
       "    </tr>\n",
       "  </tbody>\n",
       "</table>\n",
       "</div>"
      ],
      "text/plain": [
       "   id  Gender  Age  Driving_License  Region_Code  Previously_Insured  \\\n",
       "0   1    Male   44                1         28.0                   0   \n",
       "1   2    Male   76                1          3.0                   0   \n",
       "2   3    Male   47                1         28.0                   0   \n",
       "3   4    Male   21                1         11.0                   1   \n",
       "4   5  Female   29                1         41.0                   1   \n",
       "\n",
       "  Vehicle_Age Vehicle_Damage  Annual_Premium  Policy_Sales_Channel  Vintage  \\\n",
       "0   > 2 Years            Yes         40454.0                  26.0      217   \n",
       "1    1-2 Year             No         33536.0                  26.0      183   \n",
       "2   > 2 Years            Yes         38294.0                  26.0       27   \n",
       "3    < 1 Year             No         28619.0                 152.0      203   \n",
       "4    < 1 Year             No         27496.0                 152.0       39   \n",
       "\n",
       "   Response  \n",
       "0         1  \n",
       "1         0  \n",
       "2         1  \n",
       "3         0  \n",
       "4         0  "
      ]
     },
     "execution_count": 4,
     "metadata": {},
     "output_type": "execute_result"
    }
   ],
   "source": [
    "#  Checking Top Records\n",
    "\n",
    "train_data.head()"
   ]
  },
  {
   "cell_type": "code",
   "execution_count": 5,
   "metadata": {},
   "outputs": [
    {
     "data": {
      "text/plain": [
       "id                      0\n",
       "Gender                  0\n",
       "Age                     0\n",
       "Driving_License         0\n",
       "Region_Code             0\n",
       "Previously_Insured      0\n",
       "Vehicle_Age             0\n",
       "Vehicle_Damage          0\n",
       "Annual_Premium          0\n",
       "Policy_Sales_Channel    0\n",
       "Vintage                 0\n",
       "Response                0\n",
       "dtype: int64"
      ]
     },
     "execution_count": 5,
     "metadata": {},
     "output_type": "execute_result"
    }
   ],
   "source": [
    "# Cheking Null Values\n",
    "\n",
    "train_data.isnull().sum()"
   ]
  },
  {
   "cell_type": "markdown",
   "metadata": {},
   "source": [
    "> > __`VARIABLE IDENTIFICATION`__"
   ]
  },
  {
   "cell_type": "code",
   "execution_count": 6,
   "metadata": {},
   "outputs": [
    {
     "name": "stdout",
     "output_type": "stream",
     "text": [
      "<class 'pandas.core.frame.DataFrame'>\n",
      "RangeIndex: 381109 entries, 0 to 381108\n",
      "Data columns (total 12 columns):\n",
      "id                      381109 non-null int64\n",
      "Gender                  381109 non-null object\n",
      "Age                     381109 non-null int64\n",
      "Driving_License         381109 non-null int64\n",
      "Region_Code             381109 non-null float64\n",
      "Previously_Insured      381109 non-null int64\n",
      "Vehicle_Age             381109 non-null object\n",
      "Vehicle_Damage          381109 non-null object\n",
      "Annual_Premium          381109 non-null float64\n",
      "Policy_Sales_Channel    381109 non-null float64\n",
      "Vintage                 381109 non-null int64\n",
      "Response                381109 non-null int64\n",
      "dtypes: float64(3), int64(6), object(3)\n",
      "memory usage: 34.9+ MB\n"
     ]
    }
   ],
   "source": [
    "train_data.info()"
   ]
  },
  {
   "cell_type": "markdown",
   "metadata": {},
   "source": [
    "Summary:\n",
    "\n",
    "   - We need to convert our target variable - __`Response`__ into object category.\n",
    "   \n",
    "   \n",
    "   - Also we need to __`Region_Code`__ into integer."
   ]
  },
  {
   "cell_type": "code",
   "execution_count": 7,
   "metadata": {},
   "outputs": [],
   "source": [
    "# train_data['Response'] = train_data['Response'].astype('object')\n",
    "\n",
    "train_data['Region_Code'] = train_data['Region_Code'].astype('int64')\n",
    "test_data['Region_Code'] = test_data['Region_Code'].astype('int64')"
   ]
  },
  {
   "cell_type": "markdown",
   "metadata": {},
   "source": [
    "<br>"
   ]
  },
  {
   "cell_type": "markdown",
   "metadata": {},
   "source": [
    "> > __`UNIVARIANT ANALYSIS`__"
   ]
  },
  {
   "cell_type": "markdown",
   "metadata": {},
   "source": [
    "#### `RESPONSE`"
   ]
  },
  {
   "cell_type": "code",
   "execution_count": 8,
   "metadata": {},
   "outputs": [
    {
     "name": "stdout",
     "output_type": "stream",
     "text": [
      "Nos of Responses\n",
      "0    334399\n",
      "1     46710\n",
      "Name: Response, dtype: int64\n"
     ]
    },
    {
     "data": {
      "image/png": "[encoded data removed]",
      "text/plain": [
       "<Figure size 1440x432 with 2 Axes>"
      ]
     },
     "metadata": {
      "needs_background": "light"
     },
     "output_type": "display_data"
    }
   ],
   "source": [
    "plt.figure(figsize = (20,6))\n",
    "\n",
    "plt.subplot(1, 2, 1)\n",
    "print(\"Nos of Responses\")\n",
    "print(train_data['Response'].value_counts())\n",
    "\n",
    "sns.countplot(x = train_data['Response'],\n",
    "              data = train_data,\n",
    "              palette = 'bone')\n",
    "plt.title('Response Distribution')\n",
    "plt.xlabel('Response Type')\n",
    "plt.ylabel('Frequency')\n",
    "\n",
    "\n",
    "plt.subplot(1, 2, 2)\n",
    "labels = ['0', '1']\n",
    "size = train_data['Response'].value_counts()\n",
    "colors = ['lightgrey', 'whitesmoke']\n",
    "explode = [0, 0.1]\n",
    "\n",
    "plt.pie(size, colors = colors, explode = explode, labels = labels, shadow = True, autopct = '%.2f%%')\n",
    "plt.title('Response Type')\n",
    "plt.axis('off')\n",
    "plt.legend(loc='upper left', bbox_to_anchor = (1,1))\n",
    "\n",
    "plt.show()"
   ]
  },
  {
   "cell_type": "markdown",
   "metadata": {},
   "source": [
    "Summary:\n",
    "    \n",
    "    1) Overall 87% from the datset tells us that customers where not intrested in Vehicle Insurance\n",
    "    \n",
    "    2) We recored very low respose those who favor for Vehicle Insurance."
   ]
  },
  {
   "cell_type": "markdown",
   "metadata": {},
   "source": [
    "#### `GENDER`"
   ]
  },
  {
   "cell_type": "code",
   "execution_count": 9,
   "metadata": {},
   "outputs": [
    {
     "name": "stdout",
     "output_type": "stream",
     "text": [
      "Nos of Males and Females:\n",
      "Male      206089\n",
      "Female    175020\n",
      "Name: Gender, dtype: int64\n"
     ]
    },
    {
     "data": {
      "image/png": "[encoded data removed]",
      "text/plain": [
       "<Figure size 1440x432 with 2 Axes>"
      ]
     },
     "metadata": {
      "needs_background": "light"
     },
     "output_type": "display_data"
    }
   ],
   "source": [
    "plt.figure(figsize = (20,6))\n",
    "\n",
    "plt.subplot(1, 2, 1)\n",
    "print(\"Nos of Males and Females:\")\n",
    "print(train_data['Gender'].value_counts())\n",
    "\n",
    "sns.countplot(x = train_data['Gender'],\n",
    "              data = train_data,\n",
    "              palette = 'bone')\n",
    "plt.title('Gender Distribution')\n",
    "plt.xlabel('Gender Type')\n",
    "plt.ylabel('Frequency')\n",
    "\n",
    "\n",
    "plt.subplot(1, 2, 2)\n",
    "labels = ['Male', 'Female']\n",
    "size = train_data['Gender'].value_counts()\n",
    "colors = ['lightgrey', 'whitesmoke']\n",
    "explode = [0, 0.1]\n",
    "\n",
    "plt.pie(size, colors = colors, explode = explode, labels = labels, shadow = True, autopct = '%.2f%%')\n",
    "plt.title('Gender Type')\n",
    "plt.axis('off')\n",
    "plt.legend(loc='upper left', bbox_to_anchor = (1,1))\n",
    "\n",
    "plt.show()"
   ]
  },
  {
   "cell_type": "markdown",
   "metadata": {},
   "source": [
    "Summary:\n",
    "    \n",
    "     1)  In our dataset 54 % (2 lack) accounted Males and 46 % (1.75 lack) Females.\n",
    "    \n",
    "     2)  We can further analyze in bivariant analysis as to which gender accounted more for vehicle assurance."
   ]
  },
  {
   "cell_type": "markdown",
   "metadata": {},
   "source": [
    "#### `GENERATION`"
   ]
  },
  {
   "cell_type": "code",
   "execution_count": 10,
   "metadata": {},
   "outputs": [
    {
     "data": {
      "image/png": "[encoded data removed]",
      "text/plain": [
       "<Figure size 1440x432 with 1 Axes>"
      ]
     },
     "metadata": {
      "needs_background": "light"
     },
     "output_type": "display_data"
    }
   ],
   "source": [
    "plt.figure(figsize = (20,6))\n",
    "\n",
    "sns.countplot(train_data['Age'], palette = 'hsv')\n",
    "plt.title('Distribution of Age')\n",
    "plt.show()"
   ]
  },
  {
   "cell_type": "markdown",
   "metadata": {},
   "source": [
    "Summary :\n",
    "    \n",
    "    1) Age Distribution looked to be right skewed. \n",
    "    \n",
    "    2) Min range of age was 20 and Maximum was 85.\n",
    "    \n",
    "    3) Most of the generation are between 20-30 years of age and we see a rising fall after the age of 45. "
   ]
  },
  {
   "cell_type": "markdown",
   "metadata": {},
   "source": [
    "#### `DRIVING LICENSE`"
   ]
  },
  {
   "cell_type": "code",
   "execution_count": 11,
   "metadata": {},
   "outputs": [
    {
     "name": "stdout",
     "output_type": "stream",
     "text": [
      "Driving License - Yes/No\n",
      "1    380297\n",
      "0       812\n",
      "Name: Driving_License, dtype: int64\n"
     ]
    },
    {
     "data": {
      "image/png": "[encoded data removed]",
      "text/plain": [
       "<Figure size 720x432 with 1 Axes>"
      ]
     },
     "metadata": {
      "needs_background": "light"
     },
     "output_type": "display_data"
    }
   ],
   "source": [
    "plt.figure(figsize = (10,6))\n",
    "\n",
    "print(\"Driving License - Yes/No\")\n",
    "print(train_data['Driving_License'].value_counts())\n",
    "\n",
    "sns.countplot(x = train_data['Driving_License'],\n",
    "              data = train_data,\n",
    "              palette = 'bone')\n",
    "plt.title('Driving License Distribution')\n",
    "plt.ylabel('Frequency')\n",
    "plt.show()"
   ]
  },
  {
   "cell_type": "markdown",
   "metadata": {},
   "source": [
    "Summary: \n",
    "    \n",
    "    1) 99% of customers had driving license where 1% of customers falls under the bracket of not having driving licence.\n",
    "    \n",
    "    2) We can further analyze in bivariant analysis  and derive more insights."
   ]
  },
  {
   "cell_type": "markdown",
   "metadata": {},
   "source": [
    "#### `REGION CODE`"
   ]
  },
  {
   "cell_type": "code",
   "execution_count": 12,
   "metadata": {},
   "outputs": [
    {
     "data": {
      "image/png": "[encoded data removed]",
      "text/plain": [
       "<Figure size 1440x432 with 1 Axes>"
      ]
     },
     "metadata": {
      "needs_background": "light"
     },
     "output_type": "display_data"
    }
   ],
   "source": [
    "plt.figure(figsize = (20,6))\n",
    "\n",
    "sns.countplot(train_data['Region_Code'], palette = 'hsv')\n",
    "plt.title('Distribution of Age')\n",
    "plt.show()"
   ]
  },
  {
   "cell_type": "markdown",
   "metadata": {},
   "source": [
    "Summary:\n",
    "    \n",
    "    1) Highest number of customers where coming from region 28 followed by 8 , 46 and 41.\n",
    "    \n",
    "    2) Rest of the region codes showed very less, less customers as compared to above.\n",
    "    \n",
    "    3) We can further analyze in bivariant analysis."
   ]
  },
  {
   "cell_type": "markdown",
   "metadata": {},
   "source": [
    "#### `PREVIOUSLY INSURED`"
   ]
  },
  {
   "cell_type": "code",
   "execution_count": 13,
   "metadata": {},
   "outputs": [
    {
     "name": "stdout",
     "output_type": "stream",
     "text": [
      "Previously Insured Count:\n",
      "0    206481\n",
      "1    174628\n",
      "Name: Previously_Insured, dtype: int64\n"
     ]
    },
    {
     "data": {
      "image/png": "[encoded data removed]",
      "text/plain": [
       "<Figure size 1440x432 with 2 Axes>"
      ]
     },
     "metadata": {
      "needs_background": "light"
     },
     "output_type": "display_data"
    }
   ],
   "source": [
    "plt.figure(figsize = (20,6))\n",
    "\n",
    "plt.subplot(1, 2, 1)\n",
    "print(\"Previously Insured Count:\")\n",
    "print(train_data['Previously_Insured'].value_counts())\n",
    "\n",
    "sns.countplot(x = train_data['Previously_Insured'],\n",
    "              data = train_data,\n",
    "              palette = 'bone')\n",
    "plt.title('Insured Distribution')\n",
    "plt.xlabel('Insured Type')\n",
    "plt.ylabel('Frequency')\n",
    "\n",
    "\n",
    "plt.subplot(1, 2, 2)\n",
    "labels = ['0', '1']\n",
    "size = train_data['Previously_Insured'].value_counts()\n",
    "colors = ['lightgrey', 'whitesmoke']\n",
    "explode = [0, 0.1]\n",
    "\n",
    "plt.pie(size, colors = colors, explode = explode, labels = labels, shadow = True, autopct = '%.2f%%')\n",
    "plt.title('Insured Distribution')\n",
    "plt.axis('off')\n",
    "plt.legend(loc='upper left', bbox_to_anchor = (1,1))\n",
    "\n",
    "\n",
    "plt.show()"
   ]
  },
  {
   "cell_type": "markdown",
   "metadata": {},
   "source": [
    "Summary: \n",
    "    \n",
    "    1) We can see that 54 % (2 Lacks) did not had insurance where as 45 % (1.75 Lacks) of customers had insurance.\n",
    "   \n",
    "   \n",
    "    2) We can analyze later what was the response of the customers having insurance, having insurance & driving license."
   ]
  },
  {
   "cell_type": "markdown",
   "metadata": {},
   "source": [
    "#### `VEHICLE AGE`"
   ]
  },
  {
   "cell_type": "code",
   "execution_count": 14,
   "metadata": {},
   "outputs": [
    {
     "name": "stdout",
     "output_type": "stream",
     "text": [
      "Vehicle Age Count:\n",
      "1-2 Year     200316\n",
      "< 1 Year     164786\n",
      "> 2 Years     16007\n",
      "Name: Vehicle_Age, dtype: int64\n"
     ]
    },
    {
     "data": {
      "image/png": "[encoded data removed]",
      "text/plain": [
       "<Figure size 1440x432 with 2 Axes>"
      ]
     },
     "metadata": {
      "needs_background": "light"
     },
     "output_type": "display_data"
    }
   ],
   "source": [
    "plt.figure(figsize = (20,6))\n",
    "\n",
    "plt.subplot(1, 2, 1)\n",
    "print(\"Vehicle Age Count:\")\n",
    "print(train_data['Vehicle_Age'].value_counts())\n",
    "\n",
    "sns.countplot(x = train_data['Vehicle_Age'],\n",
    "              data = train_data,\n",
    "              palette = 'bone')\n",
    "plt.title('Vehicle Age Distribution')\n",
    "plt.xlabel('Vehicle Age Type')\n",
    "plt.ylabel('Frequency')\n",
    "\n",
    "\n",
    "plt.subplot(1, 2, 2)\n",
    "labels = ['1-2', '< 1', '> 2']\n",
    "size = train_data['Vehicle_Age'].value_counts()\n",
    "colors = ['lightgrey', 'whitesmoke', 'darkgrey']\n",
    "explode = [0, 0, 0.2]\n",
    "\n",
    "plt.pie(size, colors = colors, explode = explode, labels = labels, shadow = True, autopct = '%.2f%%', startangle=180)\n",
    "plt.title('Vehicle Age Distribution')\n",
    "plt.axis('off')\n",
    "plt.legend(loc='upper left', bbox_to_anchor = (1,1))\n",
    "\n",
    "\n",
    "plt.show()"
   ]
  },
  {
   "cell_type": "markdown",
   "metadata": {},
   "source": [
    "Summary:\n",
    "    \n",
    "    1) Most of the customers vehicle's age was between 1-2 years followed by less than a year.\n",
    "\n",
    "    2) We recored least nos of customers whose vehicle age was more than 2 years."
   ]
  },
  {
   "cell_type": "markdown",
   "metadata": {},
   "source": [
    "#### `VECHILE DAMAGE`"
   ]
  },
  {
   "cell_type": "code",
   "execution_count": 15,
   "metadata": {},
   "outputs": [
    {
     "name": "stdout",
     "output_type": "stream",
     "text": [
      "Vehicle_Damage Count:\n",
      "Yes    192413\n",
      "No     188696\n",
      "Name: Vehicle_Damage, dtype: int64\n"
     ]
    },
    {
     "data": {
      "image/png": "[encoded data removed]",
      "text/plain": [
       "<Figure size 1440x432 with 2 Axes>"
      ]
     },
     "metadata": {
      "needs_background": "light"
     },
     "output_type": "display_data"
    }
   ],
   "source": [
    "plt.figure(figsize = (20,6))\n",
    "\n",
    "plt.subplot(1, 2, 1)\n",
    "print('Vehicle_Damage Count:')\n",
    "print(train_data['Vehicle_Damage'].value_counts())\n",
    "\n",
    "sns.countplot(x = train_data['Vehicle_Damage'],\n",
    "              data = train_data,\n",
    "              palette = 'bone')\n",
    "plt.title('Vehicle Damage Distribution')\n",
    "plt.xlabel('Vehicle Damage Type')\n",
    "plt.ylabel('Frequency')\n",
    "\n",
    "\n",
    "plt.subplot(1, 2, 2)\n",
    "labels = ['Yes', 'No']\n",
    "size = train_data['Vehicle_Damage'].value_counts()\n",
    "colors = ['lightgrey', 'whitesmoke']\n",
    "explode = [0, 0.1]\n",
    "\n",
    "plt.pie(size, colors = colors, explode = explode, labels = labels, shadow = True, autopct = '%.2f%%')\n",
    "plt.title('Vehicle Age Distribution')\n",
    "plt.axis('off')\n",
    "plt.legend(loc='upper left', bbox_to_anchor = (1,1))\n",
    "\n",
    "\n",
    "plt.show()"
   ]
  },
  {
   "cell_type": "markdown",
   "metadata": {},
   "source": [
    "Summary:\n",
    "    \n",
    "    1) Approximatly same amount of distribution is observed for Vehicle_Damage_Type.\n",
    "    \n",
    "    2) We can further analyz as to which Damage type received more response."
   ]
  },
  {
   "cell_type": "markdown",
   "metadata": {},
   "source": [
    "#### `ANNUAL PREMIUM`"
   ]
  },
  {
   "cell_type": "code",
   "execution_count": 16,
   "metadata": {},
   "outputs": [
    {
     "name": "stdout",
     "output_type": "stream",
     "text": [
      "Skewness : 1.7660872148961309, Kurtosis : 34.004568696114696\n"
     ]
    },
    {
     "data": {
      "image/png": "[encoded data removed]",
      "text/plain": [
       "<Figure size 1440x360 with 3 Axes>"
      ]
     },
     "metadata": {
      "needs_background": "light"
     },
     "output_type": "display_data"
    }
   ],
   "source": [
    "    plt.figure(figsize = (20,5))\n",
    "\n",
    "    plt.subplot(1,3,1)\n",
    "    sns.kdeplot(train_data['Annual_Premium'], shade=True)\n",
    "\n",
    "    plt.subplot(1,3,2)\n",
    "    sns.distplot(train_data['Annual_Premium'])\n",
    "\n",
    "    plt.subplot(1,3,3)\n",
    "    sns.boxplot(train_data['Annual_Premium'], orient = 'horizontal')\n",
    "\n",
    "    print(\"Skewness : {}, Kurtosis : {}\".format(train_data['Annual_Premium'].skew(), train_data['Annual_Premium'].kurtosis()))\n",
    "    plt.show()"
   ]
  },
  {
   "cell_type": "markdown",
   "metadata": {},
   "source": [
    "Summary:\n",
    "    \n",
    "    1) Skewness > 0 -> Right Skewed, Kurtosis > 0 (Platykurtic) -> More values distributed across tails.\n",
    "    \n",
    "    2) Outliers are observed which needs to be taken care."
   ]
  },
  {
   "cell_type": "markdown",
   "metadata": {},
   "source": [
    "#### `POLICY SALES CHANNEL`"
   ]
  },
  {
   "cell_type": "code",
   "execution_count": 17,
   "metadata": {},
   "outputs": [
    {
     "name": "stdout",
     "output_type": "stream",
     "text": [
      "Skewness : -0.9000081235103394, Kurtosis : -0.9708101781380822\n"
     ]
    },
    {
     "data": {
      "image/png": "[encoded data removed]",
      "text/plain": [
       "<Figure size 1440x360 with 3 Axes>"
      ]
     },
     "metadata": {
      "needs_background": "light"
     },
     "output_type": "display_data"
    }
   ],
   "source": [
    "plt.figure(figsize = (20,5))\n",
    "\n",
    "plt.subplot(1,3,1)\n",
    "sns.kdeplot(train_data['Policy_Sales_Channel'], shade=True)\n",
    "\n",
    "plt.subplot(1,3,2)\n",
    "sns.distplot(train_data['Policy_Sales_Channel'])\n",
    "\n",
    "plt.subplot(1,3,3)\n",
    "sns.boxplot(train_data['Policy_Sales_Channel'], orient = 'horizontal')\n",
    "\n",
    "print(\"Skewness : {}, Kurtosis : {}\".format(train_data['Policy_Sales_Channel'].skew(), train_data['Policy_Sales_Channel'].kurtosis()))\n",
    "plt.show()"
   ]
  },
  {
   "cell_type": "markdown",
   "metadata": {},
   "source": [
    "Summary:\n",
    "    \n",
    "    1) No outliers are observed.\n",
    "    \n",
    "    "
   ]
  },
  {
   "cell_type": "markdown",
   "metadata": {},
   "source": [
    "#### `VINTAGE`"
   ]
  },
  {
   "cell_type": "code",
   "execution_count": 18,
   "metadata": {},
   "outputs": [
    {
     "name": "stdout",
     "output_type": "stream",
     "text": [
      "Skewness : 0.0030295168899980816, Kurtosis : -1.2006880422961197\n"
     ]
    },
    {
     "data": {
      "image/png": "[encoded data removed]",
      "text/plain": [
       "<Figure size 1440x360 with 3 Axes>"
      ]
     },
     "metadata": {
      "needs_background": "light"
     },
     "output_type": "display_data"
    }
   ],
   "source": [
    "plt.figure(figsize = (20,5))\n",
    "\n",
    "plt.subplot(1,3,1)\n",
    "sns.kdeplot(train_data['Vintage'], shade=True)\n",
    "\n",
    "plt.subplot(1,3,2)\n",
    "sns.distplot(train_data['Vintage'])\n",
    "\n",
    "plt.subplot(1,3,3)\n",
    "sns.boxplot(train_data['Vintage'], orient = 'horizontal')\n",
    "\n",
    "print(\"Skewness : {}, Kurtosis : {}\".format(train_data['Vintage'].skew(), train_data['Vintage'].kurtosis()))\n",
    "plt.show()"
   ]
  },
  {
   "cell_type": "markdown",
   "metadata": {},
   "source": [
    "Summary:\n",
    "    \n",
    "    1) From the visualization above we can see that, Vintage column is having uniform distribution."
   ]
  },
  {
   "cell_type": "markdown",
   "metadata": {},
   "source": [
    "<br>"
   ]
  },
  {
   "cell_type": "markdown",
   "metadata": {},
   "source": [
    "> > __`BIVARIANT ANALYSIS`__"
   ]
  },
  {
   "cell_type": "code",
   "execution_count": 19,
   "metadata": {},
   "outputs": [],
   "source": [
    "def categorical_categorical(col1):\n",
    "    a = pd.crosstab(index = train_data[col1], columns = train_data['Response'])\n",
    "    print(a.unstack())\n",
    "\n",
    "    a.plot(kind = 'bar', stacked = True)\n",
    "    plt.legend(loc = 'upper left', bbox_to_anchor = (1,1))\n",
    "    plt.show()  "
   ]
  },
  {
   "cell_type": "code",
   "execution_count": 20,
   "metadata": {},
   "outputs": [
    {
     "name": "stdout",
     "output_type": "stream",
     "text": [
      "Response  Gender\n",
      "0         Female    156835\n",
      "          Male      177564\n",
      "1         Female     18185\n",
      "          Male       28525\n",
      "dtype: int64\n"
     ]
    },
    {
     "data": {
      "image/png": "[encoded data removed]",
      "text/plain": [
       "<Figure size 432x288 with 1 Axes>"
      ]
     },
     "metadata": {
      "needs_background": "light"
     },
     "output_type": "display_data"
    },
    {
     "name": "stdout",
     "output_type": "stream",
     "text": [
      "Response  Driving_License\n",
      "0         0                     771\n",
      "          1                  333628\n",
      "1         0                      41\n",
      "          1                   46669\n",
      "dtype: int64\n"
     ]
    },
    {
     "data": {
      "image/png": "[encoded data removed]",
      "text/plain": [
       "<Figure size 432x288 with 1 Axes>"
      ]
     },
     "metadata": {
      "needs_background": "light"
     },
     "output_type": "display_data"
    },
    {
     "name": "stdout",
     "output_type": "stream",
     "text": [
      "Response  Previously_Insured\n",
      "0         0                     159929\n",
      "          1                     174470\n",
      "1         0                      46552\n",
      "          1                        158\n",
      "dtype: int64\n"
     ]
    },
    {
     "data": {
      "image/png": "[encoded data removed]",
      "text/plain": [
       "<Figure size 432x288 with 1 Axes>"
      ]
     },
     "metadata": {
      "needs_background": "light"
     },
     "output_type": "display_data"
    },
    {
     "name": "stdout",
     "output_type": "stream",
     "text": [
      "Response  Vehicle_Age\n",
      "0         1-2 Year       165510\n",
      "          < 1 Year       157584\n",
      "          > 2 Years       11305\n",
      "1         1-2 Year        34806\n",
      "          < 1 Year         7202\n",
      "          > 2 Years        4702\n",
      "dtype: int64\n"
     ]
    },
    {
     "data": {
      "image/png": "[encoded data removed]",
      "text/plain": [
       "<Figure size 432x288 with 1 Axes>"
      ]
     },
     "metadata": {
      "needs_background": "light"
     },
     "output_type": "display_data"
    },
    {
     "name": "stdout",
     "output_type": "stream",
     "text": [
      "Response  Vehicle_Damage\n",
      "0         No                187714\n",
      "          Yes               146685\n",
      "1         No                   982\n",
      "          Yes                45728\n",
      "dtype: int64\n"
     ]
    },
    {
     "data": {
      "image/png": "[encoded data removed]",
      "text/plain": [
       "<Figure size 432x288 with 1 Axes>"
      ]
     },
     "metadata": {
      "needs_background": "light"
     },
     "output_type": "display_data"
    }
   ],
   "source": [
    "categorical_columns = ['Gender', 'Driving_License', 'Previously_Insured', 'Vehicle_Age', 'Vehicle_Damage']\n",
    "\n",
    "for col1 in categorical_columns:\n",
    "    categorical_categorical(col1)"
   ]
  },
  {
   "cell_type": "markdown",
   "metadata": {},
   "source": [
    "Summary\n",
    "\n",
    "    1) Male's where more intrested for the Vehicle Response as compared to Females.\n",
    "    \n",
    "    2) People those who had driving license where more likely to go for Vehicle Insurance.\n",
    "    \n",
    "    3) Also we could see people those who where not insured before wanted to go for new insurance policy offered by company.\n",
    "    \n",
    "    4) There was decrease in the trend observed for Vehicle_Age and Response -> 1-2 > less than 1 > more than 2.\n",
    "    \n",
    "    5) Most of the people whose vehicle was damaged where more likely to go for Vehicle Insurance."
   ]
  },
  {
   "cell_type": "code",
   "execution_count": 21,
   "metadata": {},
   "outputs": [
    {
     "data": {
      "text/plain": [
       "[]"
      ]
     },
     "execution_count": 21,
     "metadata": {},
     "output_type": "execute_result"
    },
    {
     "data": {
      "image/png": "[encoded data removed]",
      "text/plain": [
       "<Figure size 864x432 with 1 Axes>"
      ]
     },
     "metadata": {
      "needs_background": "light"
     },
     "output_type": "display_data"
    }
   ],
   "source": [
    "plt.figure(figsize = (12,6))\n",
    "sns.kdeplot(train_data.Age[train_data.Response == 1], shade = True,  color = 'darkturquoise')\n",
    "sns.kdeplot(train_data.Age[train_data.Response == 0], shade = True,  color = 'lightcoral')\n",
    "plt.legend(['Yes', 'No'], loc = 'upper left', bbox_to_anchor = (1,1), prop={'size':12}, frameon=True, fancybox=True, shadow=True, framealpha=1)\n",
    "plt.xlabel('Age')\n",
    "plt.ylabel('Probability Density Distribution')\n",
    "plt.title('Probability Density Distribution VS Age')\n",
    "plt.plot()"
   ]
  },
  {
   "cell_type": "markdown",
   "metadata": {},
   "source": [
    "Summary:\n",
    "    \n",
    "    1) Customers between 20-30 years of age have very less probabilty of not going with the insurance.\n",
    "    \n",
    "    2) Persons falling between 30-55 age group have more chances of puchasing the Vehicle Insurance.\n",
    "    \n",
    "    3) Beyond 55+ years of age we see a slight decline in the interest among teh customers toward Vehicle Insurance."
   ]
  },
  {
   "cell_type": "markdown",
   "metadata": {},
   "source": [
    "<br>"
   ]
  },
  {
   "cell_type": "markdown",
   "metadata": {},
   "source": [
    "> > __`MULTIVARIANT ANALYSIS`__"
   ]
  },
  {
   "cell_type": "markdown",
   "metadata": {},
   "source": [
    "Suppose a customers who prescribed for health insurance previously and may or may not be interested in vehicle insurance so the company will look for the `Age` and `Damage` parameters, as the premium will vary."
   ]
  },
  {
   "cell_type": "code",
   "execution_count": 22,
   "metadata": {},
   "outputs": [
    {
     "data": {
      "text/html": [
       "<div>\n",
       "<style scoped>\n",
       "    .dataframe tbody tr th:only-of-type {\n",
       "        vertical-align: middle;\n",
       "    }\n",
       "\n",
       "    .dataframe tbody tr th {\n",
       "        vertical-align: top;\n",
       "    }\n",
       "\n",
       "    .dataframe thead th {\n",
       "        text-align: right;\n",
       "    }\n",
       "</style>\n",
       "<table border=\"1\" class=\"dataframe\">\n",
       "  <thead>\n",
       "    <tr style=\"text-align: right;\">\n",
       "      <th></th>\n",
       "      <th></th>\n",
       "      <th>Response</th>\n",
       "      <th>0</th>\n",
       "      <th>1</th>\n",
       "    </tr>\n",
       "    <tr>\n",
       "      <th>Previously_Insured</th>\n",
       "      <th>Vehicle_Age</th>\n",
       "      <th>Vehicle_Damage</th>\n",
       "      <th></th>\n",
       "      <th></th>\n",
       "    </tr>\n",
       "  </thead>\n",
       "  <tbody>\n",
       "    <tr>\n",
       "      <td rowspan=\"6\" valign=\"top\">0</td>\n",
       "      <td rowspan=\"2\" valign=\"top\">1-2 Year</td>\n",
       "      <td>No</td>\n",
       "      <td>12106</td>\n",
       "      <td>557</td>\n",
       "    </tr>\n",
       "    <tr>\n",
       "      <td>Yes</td>\n",
       "      <td>88174</td>\n",
       "      <td>34154</td>\n",
       "    </tr>\n",
       "    <tr>\n",
       "      <td rowspan=\"2\" valign=\"top\">&lt; 1 Year</td>\n",
       "      <td>No</td>\n",
       "      <td>10966</td>\n",
       "      <td>353</td>\n",
       "    </tr>\n",
       "    <tr>\n",
       "      <td>Yes</td>\n",
       "      <td>37423</td>\n",
       "      <td>6787</td>\n",
       "    </tr>\n",
       "    <tr>\n",
       "      <td rowspan=\"2\" valign=\"top\">&gt; 2 Years</td>\n",
       "      <td>No</td>\n",
       "      <td>8</td>\n",
       "      <td>0</td>\n",
       "    </tr>\n",
       "    <tr>\n",
       "      <td>Yes</td>\n",
       "      <td>11252</td>\n",
       "      <td>4701</td>\n",
       "    </tr>\n",
       "    <tr>\n",
       "      <td rowspan=\"6\" valign=\"top\">1</td>\n",
       "      <td rowspan=\"2\" valign=\"top\">1-2 Year</td>\n",
       "      <td>No</td>\n",
       "      <td>59389</td>\n",
       "      <td>39</td>\n",
       "    </tr>\n",
       "    <tr>\n",
       "      <td>Yes</td>\n",
       "      <td>5841</td>\n",
       "      <td>56</td>\n",
       "    </tr>\n",
       "    <tr>\n",
       "      <td rowspan=\"2\" valign=\"top\">&lt; 1 Year</td>\n",
       "      <td>No</td>\n",
       "      <td>105238</td>\n",
       "      <td>33</td>\n",
       "    </tr>\n",
       "    <tr>\n",
       "      <td>Yes</td>\n",
       "      <td>3957</td>\n",
       "      <td>29</td>\n",
       "    </tr>\n",
       "    <tr>\n",
       "      <td rowspan=\"2\" valign=\"top\">&gt; 2 Years</td>\n",
       "      <td>No</td>\n",
       "      <td>7</td>\n",
       "      <td>0</td>\n",
       "    </tr>\n",
       "    <tr>\n",
       "      <td>Yes</td>\n",
       "      <td>38</td>\n",
       "      <td>1</td>\n",
       "    </tr>\n",
       "  </tbody>\n",
       "</table>\n",
       "</div>"
      ],
      "text/plain": [
       "Response                                            0      1\n",
       "Previously_Insured Vehicle_Age Vehicle_Damage               \n",
       "0                  1-2 Year    No               12106    557\n",
       "                               Yes              88174  34154\n",
       "                   < 1 Year    No               10966    353\n",
       "                               Yes              37423   6787\n",
       "                   > 2 Years   No                   8      0\n",
       "                               Yes              11252   4701\n",
       "1                  1-2 Year    No               59389     39\n",
       "                               Yes               5841     56\n",
       "                   < 1 Year    No              105238     33\n",
       "                               Yes               3957     29\n",
       "                   > 2 Years   No                   7      0\n",
       "                               Yes                 38      1"
      ]
     },
     "execution_count": 22,
     "metadata": {},
     "output_type": "execute_result"
    }
   ],
   "source": [
    "pd.crosstab(index = [train_data['Previously_Insured'], train_data['Vehicle_Age'], train_data['Vehicle_Damage']], columns = train_data['Response'])"
   ]
  },
  {
   "cell_type": "markdown",
   "metadata": {},
   "source": [
    "<br>"
   ]
  },
  {
   "cell_type": "markdown",
   "metadata": {},
   "source": [
    "\n",
    "> > __`HANDLING CATEGORICAL VALUE`__"
   ]
  },
  {
   "cell_type": "code",
   "execution_count": 23,
   "metadata": {},
   "outputs": [],
   "source": [
    "# Gender\n",
    "train_data['Gender'].replace({\n",
    "    'Male'  : 1,\n",
    "    'Female': 0\n",
    "}, inplace = True)\n",
    "\n",
    "test_data['Gender'].replace({\n",
    "    'Male'  : 1,\n",
    "    'Female': 0\n",
    "}, inplace = True)\n",
    "\n",
    "\n",
    "# Vehicle Age\n",
    "train_data['Vehicle_Age'].replace({\n",
    "    '< 1 Year' : 0,\n",
    "    '1-2 Year' : 1,\n",
    "    '> 2 Years': 2\n",
    "}, inplace = True)\n",
    "\n",
    "test_data['Vehicle_Age'].replace({\n",
    "    '< 1 Year' : 0,\n",
    "    '1-2 Year' : 1,\n",
    "    '> 2 Years': 2\n",
    "}, inplace = True)\n",
    "\n",
    "\n",
    "# Vehicle Damage\n",
    "train_data['Vehicle_Damage'].replace({\n",
    "    'Yes' : 1,\n",
    "    'No'  : 0\n",
    "}, inplace = True)\n",
    "\n",
    "test_data['Vehicle_Damage'].replace({\n",
    "    'Yes' : 1,\n",
    "    'No'  : 0\n",
    "}, inplace = True)"
   ]
  },
  {
   "cell_type": "markdown",
   "metadata": {},
   "source": [
    "<br>"
   ]
  },
  {
   "cell_type": "code",
   "execution_count": 24,
   "metadata": {},
   "outputs": [
    {
     "data": {
      "text/plain": [
       "(12.5, -0.5)"
      ]
     },
     "execution_count": 24,
     "metadata": {},
     "output_type": "execute_result"
    },
    {
     "data": {
      "image/png": "[encoded data removed]",
      "text/plain": [
       "<Figure size 1800x1440 with 2 Axes>"
      ]
     },
     "metadata": {
      "needs_background": "light"
     },
     "output_type": "display_data"
    }
   ],
   "source": [
    "plt.figure(figsize = (25,20))\n",
    "ax = sns.heatmap(train_data.corr(method= 'pearson'), \n",
    "                 linewidths=5, \n",
    "                 annot=True, \n",
    "                 fmt='.2f',\n",
    "                 cmap='Blues',\n",
    "                 annot_kws={\"size\": 12}, \n",
    "                 cbar_kws={\"shrink\": .82},\n",
    "                 vmin=-1, \n",
    "                 vmax=1, \n",
    "                 center= 0,\n",
    "                 yticklabels=True)\n",
    "bottom, top = ax.get_ylim()\n",
    "ax.set_ylim(bottom + 0.5, top - 0.5)\n",
    "#plt.yticks(rotation = 0)      "
   ]
  },
  {
   "cell_type": "code",
   "execution_count": 25,
   "metadata": {},
   "outputs": [
    {
     "data": {
      "image/png": "[encoded data removed]",
      "text/plain": [
       "<Figure size 720x432 with 1 Axes>"
      ]
     },
     "metadata": {
      "needs_background": "light"
     },
     "output_type": "display_data"
    }
   ],
   "source": [
    "plt.figure(figsize = (10,6))\n",
    "sns.barplot(x = 'Vehicle_Age',\n",
    "            y = 'Age',\n",
    "            data = train_data,\n",
    "            hue = 'Response',\n",
    "            palette = 'bone')\n",
    "plt.legend(loc = 'upper left', bbox_to_anchor = (1,1))\n",
    "plt.show()"
   ]
  },
  {
   "cell_type": "markdown",
   "metadata": {},
   "source": [
    "    - As the age of the vehicle increase, generation gap also increases.\n",
    "    \n",
    "    - Age variable is highly related to Vehicle_Age parameter."
   ]
  },
  {
   "cell_type": "code",
   "execution_count": 26,
   "metadata": {},
   "outputs": [
    {
     "data": {
      "image/png": "[encoded data removed]",
      "text/plain": [
       "<Figure size 720x432 with 1 Axes>"
      ]
     },
     "metadata": {
      "needs_background": "light"
     },
     "output_type": "display_data"
    }
   ],
   "source": [
    "plt.figure(figsize = (10,6))\n",
    "sns.barplot(x = 'Vehicle_Damage',\n",
    "            y = 'Previously_Insured',\n",
    "            data = train_data,\n",
    "            hue = 'Response',\n",
    "            palette = 'bone')\n",
    "plt.show()"
   ]
  },
  {
   "cell_type": "markdown",
   "metadata": {},
   "source": [
    "     - Vehicle_Damage and Previously_Insured are highly negative related with each other."
   ]
  },
  {
   "cell_type": "code",
   "execution_count": 27,
   "metadata": {},
   "outputs": [],
   "source": [
    "train_data_copy = train_data.copy()\n",
    "\n",
    "test_data_copy  = test_data.copy()"
   ]
  },
  {
   "cell_type": "markdown",
   "metadata": {},
   "source": [
    "<br>"
   ]
  },
  {
   "cell_type": "code",
   "execution_count": 29,
   "metadata": {},
   "outputs": [],
   "source": [
    "# Dropping Vintage as no importance to target Response \n",
    "\n",
    "train_data_copy.drop(columns = 'Vintage',\n",
    "                     axis = 1,\n",
    "                     inplace = True)\n",
    "\n",
    "test_data_copy.drop(columns = 'Vintage',\n",
    "                    axis = 1,\n",
    "                    inplace = True)"
   ]
  },
  {
   "cell_type": "code",
   "execution_count": 31,
   "metadata": {},
   "outputs": [],
   "source": [
    "# Taking log of Annual Income \n",
    "\n",
    "train_data_copy['Annual_Premium'] = np.log1p(train_data_copy['Annual_Premium'])\n",
    "test_data_copy['Annual_Premium'] = np.log1p(test_data_copy['Annual_Premium'])"
   ]
  },
  {
   "cell_type": "code",
   "execution_count": 65,
   "metadata": {},
   "outputs": [
    {
     "data": {
      "text/html": [
       "<div>\n",
       "<style scoped>\n",
       "    .dataframe tbody tr th:only-of-type {\n",
       "        vertical-align: middle;\n",
       "    }\n",
       "\n",
       "    .dataframe tbody tr th {\n",
       "        vertical-align: top;\n",
       "    }\n",
       "\n",
       "    .dataframe thead th {\n",
       "        text-align: right;\n",
       "    }\n",
       "</style>\n",
       "<table border=\"1\" class=\"dataframe\">\n",
       "  <thead>\n",
       "    <tr style=\"text-align: right;\">\n",
       "      <th></th>\n",
       "      <th>id</th>\n",
       "      <th>Gender</th>\n",
       "      <th>Age</th>\n",
       "      <th>Driving_License</th>\n",
       "      <th>Region_Code</th>\n",
       "      <th>Previously_Insured</th>\n",
       "      <th>Vehicle_Age</th>\n",
       "      <th>Vehicle_Damage</th>\n",
       "      <th>Annual_Premium</th>\n",
       "      <th>Policy_Sales_Channel</th>\n",
       "      <th>Response</th>\n",
       "      <th>Age_Premium_Mean</th>\n",
       "      <th>Region_Premium_Mean</th>\n",
       "      <th>Policy_Sales_Premium_Mean</th>\n",
       "      <th>VehicleA&amp;D_Premium_Mean</th>\n",
       "      <th>Age_Insured_Premium_Mean</th>\n",
       "    </tr>\n",
       "  </thead>\n",
       "  <tbody>\n",
       "    <tr>\n",
       "      <td>0</td>\n",
       "      <td>1</td>\n",
       "      <td>1</td>\n",
       "      <td>44</td>\n",
       "      <td>1</td>\n",
       "      <td>28</td>\n",
       "      <td>0</td>\n",
       "      <td>2</td>\n",
       "      <td>1</td>\n",
       "      <td>10.607946</td>\n",
       "      <td>26.0</td>\n",
       "      <td>1</td>\n",
       "      <td>10.017335</td>\n",
       "      <td>10.356058</td>\n",
       "      <td>10.124975</td>\n",
       "      <td>10.143414</td>\n",
       "      <td>10.032940</td>\n",
       "    </tr>\n",
       "    <tr>\n",
       "      <td>1</td>\n",
       "      <td>2</td>\n",
       "      <td>1</td>\n",
       "      <td>76</td>\n",
       "      <td>1</td>\n",
       "      <td>3</td>\n",
       "      <td>0</td>\n",
       "      <td>1</td>\n",
       "      <td>0</td>\n",
       "      <td>10.420405</td>\n",
       "      <td>26.0</td>\n",
       "      <td>0</td>\n",
       "      <td>10.127091</td>\n",
       "      <td>9.775790</td>\n",
       "      <td>10.124975</td>\n",
       "      <td>9.959893</td>\n",
       "      <td>10.115729</td>\n",
       "    </tr>\n",
       "    <tr>\n",
       "      <td>2</td>\n",
       "      <td>3</td>\n",
       "      <td>1</td>\n",
       "      <td>47</td>\n",
       "      <td>1</td>\n",
       "      <td>28</td>\n",
       "      <td>0</td>\n",
       "      <td>2</td>\n",
       "      <td>1</td>\n",
       "      <td>10.553075</td>\n",
       "      <td>26.0</td>\n",
       "      <td>1</td>\n",
       "      <td>9.997949</td>\n",
       "      <td>10.356058</td>\n",
       "      <td>10.124975</td>\n",
       "      <td>10.143414</td>\n",
       "      <td>9.997968</td>\n",
       "    </tr>\n",
       "  </tbody>\n",
       "</table>\n",
       "</div>"
      ],
      "text/plain": [
       "   id  Gender  Age  Driving_License  Region_Code  Previously_Insured  \\\n",
       "0   1       1   44                1           28                   0   \n",
       "1   2       1   76                1            3                   0   \n",
       "2   3       1   47                1           28                   0   \n",
       "\n",
       "   Vehicle_Age  Vehicle_Damage  Annual_Premium  Policy_Sales_Channel  \\\n",
       "0            2               1       10.607946                  26.0   \n",
       "1            1               0       10.420405                  26.0   \n",
       "2            2               1       10.553075                  26.0   \n",
       "\n",
       "   Response  Age_Premium_Mean  Region_Premium_Mean  Policy_Sales_Premium_Mean  \\\n",
       "0         1         10.017335            10.356058                  10.124975   \n",
       "1         0         10.127091             9.775790                  10.124975   \n",
       "2         1          9.997949            10.356058                  10.124975   \n",
       "\n",
       "   VehicleA&D_Premium_Mean  Age_Insured_Premium_Mean  \n",
       "0                10.143414                 10.032940  \n",
       "1                 9.959893                 10.115729  \n",
       "2                10.143414                  9.997968  "
      ]
     },
     "execution_count": 65,
     "metadata": {},
     "output_type": "execute_result"
    }
   ],
   "source": [
    "train_data_copy.head(3)"
   ]
  },
  {
   "cell_type": "code",
   "execution_count": 36,
   "metadata": {},
   "outputs": [],
   "source": [
    "train_data_copy['Age_Premium_Mean'] = train_data_copy.groupby(by = ['Age'])[\"Annual_Premium\"].transform('mean')\n",
    "train_data_copy['Region_Premium_Mean'] = train_data_copy.groupby(by = ['Region_Code'])[\"Annual_Premium\"].transform('mean')\n",
    "train_data_copy['Policy_Sales_Premium_Mean'] = train_data_copy.groupby(by = ['Policy_Sales_Channel'])[\"Annual_Premium\"].transform('mean')\n",
    "\n",
    "test_data_copy['Age_Premium_Mean'] = test_data_copy.groupby(by = ['Age'])[\"Annual_Premium\"].transform('mean')\n",
    "test_data_copy['Region_Premium_Mean'] = test_data_copy.groupby(by = ['Region_Code'])[\"Annual_Premium\"].transform('mean')\n",
    "test_data_copy['Policy_Sales_Premium_Mean'] = test_data_copy.groupby(by = ['Policy_Sales_Channel'])[\"Annual_Premium\"].transform('mean')"
   ]
  },
  {
   "cell_type": "code",
   "execution_count": 38,
   "metadata": {},
   "outputs": [],
   "source": [
    "train_data_copy['VehicleA&D_Premium_Mean'] = train_data_copy.groupby(by = ['Vehicle_Age', 'Vehicle_Damage'])[\"Annual_Premium\"].transform('mean')\n",
    "test_data_copy['VehicleA&D_Premium_Mean'] = test_data_copy.groupby(by = ['Vehicle_Age', 'Vehicle_Damage'])[\"Annual_Premium\"].transform('mean')"
   ]
  },
  {
   "cell_type": "code",
   "execution_count": 41,
   "metadata": {},
   "outputs": [],
   "source": [
    "train_data_copy['Age_Insured_Premium_Mean'] = train_data_copy.groupby(by = ['Age', 'Previously_Insured'])[\"Annual_Premium\"].transform('mean')\n",
    "test_data_copy['Age_Insured_Premium_Mean'] = test_data_copy.groupby(by = ['Age', 'Previously_Insured'])[\"Annual_Premium\"].transform('mean')"
   ]
  },
  {
   "cell_type": "markdown",
   "metadata": {},
   "source": [
    "\n",
    "### `STEP 4: FEATURE ENGINEERING`"
   ]
  },
  {
   "cell_type": "markdown",
   "metadata": {},
   "source": [
    "#### `GENDER - FEATURES`"
   ]
  },
  {
   "cell_type": "code",
   "execution_count": null,
   "metadata": {
    "scrolled": true
   },
   "outputs": [],
   "source": [
    "# Feature 1\n",
    "\n",
    "a = train_data_copy.groupby(by = ['Gender','Vehicle_Age']).size().reset_index()\n",
    "a.columns = ['Gender', 'Vehicle_Age', 'Gender_Vehicle_Age_count']\n",
    "train_data_copy = pd.merge(train_data_copy, a, on = ['Gender','Vehicle_Age'], how = 'left')\n",
    "\n",
    "\n",
    "b = test_data_copy.groupby(by = ['Gender','Vehicle_Age']).size().reset_index()\n",
    "b.columns = ['Gender', 'Vehicle_Age', 'Gender_Vehicle_Age_count']\n",
    "test_data_copy = pd.merge(test_data_copy, b, on = ['Gender','Vehicle_Age'], how = 'left')"
   ]
  },
  {
   "cell_type": "code",
   "execution_count": null,
   "metadata": {},
   "outputs": [],
   "source": [
    "# Feature 2\n",
    "\n",
    "a = train_data_copy.groupby(by = ['Gender', 'Vehicle_Damage']).size().reset_index()\n",
    "a.columns = ['Gender', 'Vehicle_Damage', 'Gender_Vehicle_Damage_count']\n",
    "train_data_copy = pd.merge(train_data_copy, a, on = ['Gender', 'Vehicle_Damage'], how = 'left')\n",
    "\n",
    "b = test_data_copy.groupby(by = ['Gender', 'Vehicle_Damage']).size().reset_index()\n",
    "b.columns = ['Gender', 'Vehicle_Damage', 'Gender_Vehicle_Damage_count']\n",
    "test_data_copy = pd.merge(test_data_copy, b, on = ['Gender', 'Vehicle_Damage'], how = 'left')"
   ]
  },
  {
   "cell_type": "code",
   "execution_count": null,
   "metadata": {},
   "outputs": [],
   "source": [
    "# Feature 3\n",
    "\n",
    "a = train_data_copy.groupby(by = ['Gender', 'Previously_Insured']).size().reset_index()\n",
    "a.columns = ['Gender', 'Previously_Insured', 'Gender_Insured_count']\n",
    "train_data_copy = pd.merge(train_data_copy, a, on = ['Gender', 'Previously_Insured'], how = 'left')\n",
    "\n",
    "b = test_data_copy.groupby(by = ['Gender', 'Previously_Insured']).size().reset_index()\n",
    "b.columns = ['Gender', 'Previously_Insured', 'Gender_Insured_count']\n",
    "test_data_copy = pd.merge(test_data_copy, b, on = ['Gender', 'Previously_Insured'], how = 'left')"
   ]
  },
  {
   "cell_type": "code",
   "execution_count": null,
   "metadata": {},
   "outputs": [],
   "source": [
    "# Feature 4\n",
    "\n",
    "a = train_data_copy.groupby(by = ['Gender', 'Policy_Sales_Channel']).size().reset_index()\n",
    "a.columns = ['Gender', 'Policy_Sales_Channel', 'Gender_Channel_count']\n",
    "train_data_copy = pd.merge(train_data_copy, a, on = ['Gender', 'Policy_Sales_Channel'], how = 'left')\n",
    "\n",
    "b = test_data_copy.groupby(by = ['Gender', 'Policy_Sales_Channel']).size().reset_index()\n",
    "b.columns = ['Gender', 'Policy_Sales_Channel', 'Gender_Channel_count']\n",
    "test_data_copy = pd.merge(test_data_copy, b, on = ['Gender', 'Policy_Sales_Channel'], how = 'left')"
   ]
  },
  {
   "cell_type": "code",
   "execution_count": null,
   "metadata": {},
   "outputs": [],
   "source": [
    "# Feature 5\n",
    "\n",
    "a = train_data_copy.groupby(by = ['Gender', 'Age']).size().reset_index()\n",
    "a.columns = ['Gender', 'Age', 'Gender_Age_count']\n",
    "train_data_copy = pd.merge(train_data_copy, a, on = ['Gender', 'Age'], how = 'left')\n",
    "\n",
    "b = test_data_copy.groupby(by = ['Gender', 'Age']).size().reset_index()\n",
    "b.columns = ['Gender', 'Age', 'Gender_Age_count']\n",
    "test_data_copy = pd.merge(test_data_copy, b, on = ['Gender', 'Age'], how = 'left')"
   ]
  },
  {
   "cell_type": "code",
   "execution_count": null,
   "metadata": {},
   "outputs": [],
   "source": [
    "plt.figure(figsize = (25,20))\n",
    "ax = sns.heatmap(train_data_copy.corr(method= 'pearson'), \n",
    "                 linewidths=5, \n",
    "                 annot=True, \n",
    "                 fmt='.2f',\n",
    "                 cmap='Blues',\n",
    "                 annot_kws={\"size\": 12}, \n",
    "                 cbar_kws={\"shrink\": .82},\n",
    "                 vmin=-1, \n",
    "                 vmax=1, \n",
    "                 center= 0,\n",
    "                 yticklabels=True)\n",
    "bottom, top = ax.get_ylim()\n",
    "ax.set_ylim(bottom + 0.5, top - 0.5)\n",
    "#plt.yticks(rotation = 0) "
   ]
  },
  {
   "cell_type": "code",
   "execution_count": null,
   "metadata": {},
   "outputs": [],
   "source": [
    "# We will drop gender variable as less correlated with features \n",
    "\n",
    "train_data_copy.drop(columns = 'Gender',\n",
    "                axis = 1,\n",
    "                inplace = True)\n",
    "\n",
    "test_data_copy.drop(columns = 'Gender',\n",
    "               axis = 1,\n",
    "               inplace = True)"
   ]
  },
  {
   "cell_type": "code",
   "execution_count": null,
   "metadata": {},
   "outputs": [],
   "source": [
    "plt.figure(figsize = (25,20))\n",
    "ax = sns.heatmap(train_data_copy.corr(method= 'pearson'), \n",
    "                 linewidths=5, \n",
    "                 annot=True, \n",
    "                 fmt='.2f',\n",
    "                 cmap='Blues',\n",
    "                 annot_kws={\"size\": 12}, \n",
    "                 cbar_kws={\"shrink\": .82},\n",
    "                 vmin=-1, \n",
    "                 vmax=1, \n",
    "                 center= 0,\n",
    "                 yticklabels=True)\n",
    "bottom, top = ax.get_ylim()\n",
    "ax.set_ylim(bottom + 0.5, top - 0.5)\n",
    "#plt.yticks(rotation = 0) "
   ]
  },
  {
   "cell_type": "code",
   "execution_count": null,
   "metadata": {},
   "outputs": [],
   "source": [
    "# Dropping Gender_Age_count\n",
    "\n",
    "train_data_copy.drop(columns = 'Gender_Vehicle_Age_count',\n",
    "                     axis = 1, inplace = True)\n",
    "\n",
    "test_data_copy.drop(columns = 'Gender_Vehicle_Age_count',\n",
    "                     axis = 1, inplace = True)"
   ]
  },
  {
   "cell_type": "code",
   "execution_count": null,
   "metadata": {},
   "outputs": [],
   "source": [
    "plt.figure(figsize = (25,20))\n",
    "ax = sns.heatmap(train_data_copy.corr(method= 'pearson'), \n",
    "                 linewidths=5, \n",
    "                 annot=True, \n",
    "                 fmt='.2f',\n",
    "                 cmap='Blues',\n",
    "                 annot_kws={\"size\": 12}, \n",
    "                 cbar_kws={\"shrink\": .82},\n",
    "                 vmin=-1, \n",
    "                 vmax=1, \n",
    "                 center= 0,\n",
    "                 yticklabels=True)\n",
    "bottom, top = ax.get_ylim()\n",
    "ax.set_ylim(bottom + 0.5, top - 0.5)\n",
    "#plt.yticks(rotation = 0) "
   ]
  },
  {
   "cell_type": "markdown",
   "metadata": {},
   "source": [
    "<br>"
   ]
  },
  {
   "cell_type": "markdown",
   "metadata": {},
   "source": [
    "#### `AGE - FEATURES`"
   ]
  },
  {
   "cell_type": "code",
   "execution_count": null,
   "metadata": {},
   "outputs": [],
   "source": [
    "# Feature 1\n",
    "\n",
    "a = train_data_copy.groupby(by = ['Age','Region_Code']).size().reset_index()\n",
    "a.columns = ['Age', 'Region_Code', 'Age_Region_Code_count']\n",
    "train_data_copy = pd.merge(train_data_copy, a, on = ['Age','Region_Code'], how = 'left')\n",
    "\n",
    "b = test_data_copy.groupby(by = ['Age','Region_Code']).size().reset_index()\n",
    "b.columns = ['Age', 'Region_Code', 'Age_Region_Code_count']\n",
    "test_data_copy = pd.merge(test_data_copy, b, on = ['Age','Region_Code'], how = 'left')"
   ]
  },
  {
   "cell_type": "code",
   "execution_count": null,
   "metadata": {},
   "outputs": [],
   "source": [
    "# Feature 2\n",
    "\n",
    "a = train_data_copy.groupby(by = ['Age', 'Previously_Insured']).size().reset_index()\n",
    "a.columns = ['Age', 'Previously_Insured', 'Age_Previously_Insured_count']\n",
    "train_data_copy = pd.merge(train_data_copy, a, on = ['Age', 'Previously_Insured'], how = 'left')\n",
    "\n",
    "b = test_data_copy.groupby(by = ['Age', 'Previously_Insured']).size().reset_index()\n",
    "b.columns = ['Age', 'Previously_Insured', 'Age_Previously_Insured_count']\n",
    "test_data_copy = pd.merge(test_data_copy, b, on = ['Age', 'Previously_Insured'], how = 'left')"
   ]
  },
  {
   "cell_type": "code",
   "execution_count": null,
   "metadata": {},
   "outputs": [],
   "source": [
    "# Feature 3\n",
    "\n",
    "a = train_data_copy.groupby(by = ['Age', 'Vehicle_Damage']).size().reset_index()\n",
    "a.columns = ['Age', 'Vehicle_Damage', 'Age_Vehicle_Damage_count']\n",
    "train_data_copy = pd.merge(train_data_copy, a, on = ['Age', 'Vehicle_Damage'], how = 'left')\n",
    "\n",
    "b = test_data_copy.groupby(by = ['Age', 'Vehicle_Damage']).size().reset_index()\n",
    "b.columns = ['Age', 'Vehicle_Damage', 'Age_Vehicle_Damage_count']\n",
    "test_data_copy = pd.merge(test_data_copy, b, on = ['Age', 'Vehicle_Damage'], how = 'left')"
   ]
  },
  {
   "cell_type": "code",
   "execution_count": null,
   "metadata": {},
   "outputs": [],
   "source": [
    "# Feature 4\n",
    "\n",
    "a = train_data_copy.groupby(by = ['Age', 'Policy_Sales_Channel']).size().reset_index()\n",
    "a.columns = ['Age', 'Policy_Sales_Channel', 'Age_Policy_Channel_count']\n",
    "train_data_copy = pd.merge(train_data_copy, a, on = ['Age', 'Policy_Sales_Channel'], how = 'left')\n",
    "\n",
    "b = test_data_copy.groupby(by = ['Age', 'Policy_Sales_Channel']).size().reset_index()\n",
    "b.columns = ['Age', 'Policy_Sales_Channel', 'Age_Policy_Channel_count']\n",
    "test_data_copy = pd.merge(test_data_copy, b, on = ['Age', 'Policy_Sales_Channel'], how = 'left')"
   ]
  },
  {
   "cell_type": "code",
   "execution_count": null,
   "metadata": {},
   "outputs": [],
   "source": [
    "# Feature 5\n",
    "\n",
    "train_data_copy['Age_Unique_Policy_Sales'] = train_data_copy.groupby(by = ['Age'])['Policy_Sales_Channel'].transform('nunique')\n",
    "test_data_copy['Age_Unique_Policy_Sales'] = test_data_copy.groupby(by = ['Age'])['Policy_Sales_Channel'].transform('nunique')"
   ]
  },
  {
   "cell_type": "code",
   "execution_count": null,
   "metadata": {},
   "outputs": [],
   "source": [
    "# Feature 6\n",
    "\n",
    "train_data_copy['Age_Unique_Region_Code'] = train_data_copy.groupby(by = ['Age'])['Region_Code'].transform('nunique')\n",
    "test_data_copy['Age_Unique_Region_Code']  = test_data_copy.groupby(by = ['Age'])['Region_Code'].transform('nunique')"
   ]
  },
  {
   "cell_type": "code",
   "execution_count": null,
   "metadata": {},
   "outputs": [],
   "source": [
    "plt.figure(figsize = (25,20))\n",
    "ax = sns.heatmap(train_data_copy.corr(method= 'pearson'), \n",
    "                 linewidths=5, \n",
    "                 annot=True, \n",
    "                 fmt='.2f',\n",
    "                 cmap='Blues',\n",
    "                 annot_kws={\"size\": 12}, \n",
    "                 cbar_kws={\"shrink\": .82},\n",
    "                 vmin=-1, \n",
    "                 vmax=1, \n",
    "                 center= 0,\n",
    "                 yticklabels=True)\n",
    "bottom, top = ax.get_ylim()\n",
    "ax.set_ylim(bottom + 0.5, top - 0.5)\n",
    "#plt.yticks(rotation = 0) "
   ]
  },
  {
   "cell_type": "code",
   "execution_count": null,
   "metadata": {},
   "outputs": [],
   "source": [
    "# Dropping irrelvant columns \n",
    "\n",
    "train_data_copy.drop(columns = ['Age_Region_Code_count', 'Age_Previously_Insured_count', 'Age_Vehicle_Damage_count',\n",
    "                               'Age_Policy_Channel_count' ], inplace = True)\n",
    "\n",
    "\n",
    "test_data_copy.drop(columns = ['Age_Region_Code_count', 'Age_Previously_Insured_count', 'Age_Vehicle_Damage_count',\n",
    "                               'Age_Policy_Channel_count' ], inplace = True)"
   ]
  },
  {
   "cell_type": "code",
   "execution_count": null,
   "metadata": {},
   "outputs": [],
   "source": [
    "plt.figure(figsize = (25,20))\n",
    "ax = sns.heatmap(train_data_copy.corr(method= 'pearson'), \n",
    "                 linewidths=5, \n",
    "                 annot=True, \n",
    "                 fmt='.2f',\n",
    "                 cmap='Blues',\n",
    "                 annot_kws={\"size\": 12}, \n",
    "                 cbar_kws={\"shrink\": .82},\n",
    "                 vmin=-1, \n",
    "                 vmax=1, \n",
    "                 center= 0,\n",
    "                 yticklabels=True)\n",
    "bottom, top = ax.get_ylim()\n",
    "ax.set_ylim(bottom + 0.5, top - 0.5)\n",
    "#plt.yticks(rotation = 0) "
   ]
  },
  {
   "cell_type": "markdown",
   "metadata": {},
   "source": [
    "<br>"
   ]
  },
  {
   "cell_type": "markdown",
   "metadata": {},
   "source": [
    "#### `REGION_CODE - FEATURES`"
   ]
  },
  {
   "cell_type": "code",
   "execution_count": null,
   "metadata": {},
   "outputs": [],
   "source": [
    "# Feature 1\n",
    "\n",
    "a = train_data_copy.groupby(by = ['Region_Code', 'Vehicle_Age']).size().reset_index()\n",
    "a.columns = ['Region_Code', 'Vehicle_Age', 'Region_Vehicleage_count']\n",
    "train_data_copy = pd.merge(train_data_copy, a, on = ['Region_Code', 'Vehicle_Age'], how = 'left')\n",
    "\n",
    "b = test_data_copy.groupby(by = ['Region_Code', 'Vehicle_Age']).size().reset_index()\n",
    "b.columns = ['Region_Code', 'Vehicle_Age', 'Region_Vehicleage_count']\n",
    "test_data_copy = pd.merge(test_data_copy, b, on = ['Region_Code', 'Vehicle_Age'], how = 'left')"
   ]
  },
  {
   "cell_type": "code",
   "execution_count": null,
   "metadata": {},
   "outputs": [],
   "source": [
    "# Feature 2\n",
    "\n",
    "a = train_data_copy.groupby(by = ['Region_Code', 'Vehicle_Damage']).size().reset_index()\n",
    "a.columns = ['Region_Code', 'Vehicle_Damage', 'Region_Vehicledamage_count']\n",
    "train_data_copy = pd.merge(train_data_copy, a, on = ['Region_Code', 'Vehicle_Damage'], how = 'left')\n",
    "\n",
    "b = test_data_copy.groupby(by = ['Region_Code', 'Vehicle_Damage']).size().reset_index()\n",
    "b.columns = ['Region_Code', 'Vehicle_Damage', 'Region_Vehicledamage_count']\n",
    "test_data_copy = pd.merge(test_data_copy, b, on = ['Region_Code', 'Vehicle_Damage'], how = 'left')"
   ]
  },
  {
   "cell_type": "code",
   "execution_count": null,
   "metadata": {},
   "outputs": [],
   "source": [
    "# Feature 3\n",
    "\n",
    "a = train_data.groupby(by = ['Region_Code','Previously_Insured']).size().reset_index()\n",
    "a.columns = ['Region_Code', 'Previously_Insured', 'Region_Insured_count']\n",
    "train_data_copy = pd.merge(train_data_copy, a, on = ['Region_Code','Previously_Insured'], how  = 'left')\n",
    "\n",
    "b = test_data.groupby(by = ['Region_Code','Previously_Insured']).size().reset_index()\n",
    "b.columns = ['Region_Code', 'Previously_Insured', 'Region_Insured_count']\n",
    "test_data_copy = pd.merge(test_data_copy, b, on = ['Region_Code','Previously_Insured'], how  = 'left')"
   ]
  },
  {
   "cell_type": "code",
   "execution_count": null,
   "metadata": {},
   "outputs": [],
   "source": [
    "# Feature 4\n",
    "\n",
    "train_data_copy['Region_Unique_Policy_Sales'] = train_data_copy.groupby(by = ['Region_Code'])['Policy_Sales_Channel'].transform('nunique')\n",
    "test_data_copy['Region_Unique_Policy_Sales'] = test_data_copy.groupby(by = ['Region_Code'])['Policy_Sales_Channel'].transform('nunique')"
   ]
  },
  {
   "cell_type": "code",
   "execution_count": null,
   "metadata": {},
   "outputs": [],
   "source": [
    "\n",
    "plt.figure(figsize = (25,20))\n",
    "ax = sns.heatmap(train_data_copy.corr(method= 'pearson'), \n",
    "                 linewidths=5, \n",
    "                 annot=True, \n",
    "                 fmt='.2f',\n",
    "                 cmap='Blues',\n",
    "                 annot_kws={\"size\": 12}, \n",
    "                 cbar_kws={\"shrink\": .82},\n",
    "                 vmin=-1, \n",
    "                 vmax=1, \n",
    "                 center= 0,\n",
    "                 yticklabels=True)\n",
    "bottom, top = ax.get_ylim()\n",
    "ax.set_ylim(bottom + 0.5, top - 0.5)\n",
    "#plt.yticks(rotation = 0) "
   ]
  },
  {
   "cell_type": "code",
   "execution_count": null,
   "metadata": {},
   "outputs": [],
   "source": [
    "# Dropping irrelavnt feature \n",
    "\n",
    "train_data_copy.drop(columns = ['Region_Vehicleage_count', 'Region_Unique_Policy_Sales'],\n",
    "                     axis = 1,\n",
    "                     inplace = True)\n",
    "\n",
    "test_data_copy.drop(columns = ['Region_Vehicleage_count', 'Region_Unique_Policy_Sales'],\n",
    "                    axis = 1,\n",
    "                    inplace = True)"
   ]
  },
  {
   "cell_type": "code",
   "execution_count": null,
   "metadata": {},
   "outputs": [],
   "source": [
    "plt.figure(figsize = (25,20))\n",
    "ax = sns.heatmap(train_data_copy.corr(method= 'pearson'), \n",
    "                 linewidths=5, \n",
    "                 annot=True, \n",
    "                 fmt='.2f',\n",
    "                 cmap='Blues',\n",
    "                 annot_kws={\"size\": 12}, \n",
    "                 cbar_kws={\"shrink\": .82},\n",
    "                 vmin=-1, \n",
    "                 vmax=1, \n",
    "                 center= 0,\n",
    "                 yticklabels=True)\n",
    "bottom, top = ax.get_ylim()\n",
    "ax.set_ylim(bottom + 0.5, top - 0.5)\n",
    "#plt.yticks(rotation = 0) "
   ]
  },
  {
   "cell_type": "code",
   "execution_count": null,
   "metadata": {},
   "outputs": [],
   "source": [
    "# Dropping Region_Insured_count\n",
    "\n",
    "train_data_copy.drop(columns  = ['Region_Insured_count'],\n",
    "                     axis = 1,\n",
    "                     inplace = True)\n",
    "\n",
    "\n",
    "test_data_copy.drop(columns  = ['Region_Insured_count'],\n",
    "                    axis = 1,\n",
    "                    inplace = True)"
   ]
  },
  {
   "cell_type": "code",
   "execution_count": null,
   "metadata": {},
   "outputs": [],
   "source": [
    "\n",
    "plt.figure(figsize = (25,20))\n",
    "ax = sns.heatmap(train_data_copy.corr(method= 'pearson'), \n",
    "                 linewidths=5, \n",
    "                 annot=True, \n",
    "                 fmt='.2f',\n",
    "                 cmap='Blues',\n",
    "                 annot_kws={\"size\": 12}, \n",
    "                 cbar_kws={\"shrink\": .82},\n",
    "                 vmin=-1, \n",
    "                 vmax=1, \n",
    "                 center= 0,\n",
    "                 yticklabels=True)\n",
    "bottom, top = ax.get_ylim()\n",
    "ax.set_ylim(bottom + 0.5, top - 0.5)\n",
    "#plt.yticks(rotation = 0) "
   ]
  },
  {
   "cell_type": "code",
   "execution_count": null,
   "metadata": {},
   "outputs": [],
   "source": [
    "# Dropping Gender_Vehicle_Damage_count -> Less correlated with Response\n",
    "\n",
    "train_data_copy.drop(columns = ['Gender_Vehicle_Damage_count'],\n",
    "                     axis = 1,\n",
    "                     inplace = True)\n",
    "\n",
    "test_data_copy.drop(columns = ['Gender_Vehicle_Damage_count'],\n",
    "                     axis = 1,\n",
    "                     inplace = True)"
   ]
  },
  {
   "cell_type": "code",
   "execution_count": null,
   "metadata": {},
   "outputs": [],
   "source": [
    "plt.figure(figsize = (25,20))\n",
    "ax = sns.heatmap(train_data_copy.corr(method= 'pearson'), \n",
    "                 linewidths=5, \n",
    "                 annot=True, \n",
    "                 fmt='.2f',\n",
    "                 cmap='Blues',\n",
    "                 annot_kws={\"size\": 12}, \n",
    "                 cbar_kws={\"shrink\": .82},\n",
    "                 vmin=-1, \n",
    "                 vmax=1, \n",
    "                 center= 0,\n",
    "                 yticklabels=True)\n",
    "bottom, top = ax.get_ylim()\n",
    "ax.set_ylim(bottom + 0.5, top - 0.5)\n",
    "#plt.yticks(rotation = 0) "
   ]
  },
  {
   "cell_type": "markdown",
   "metadata": {},
   "source": [
    "\n",
    "<br>"
   ]
  },
  {
   "cell_type": "markdown",
   "metadata": {},
   "source": [
    "#### `ANNUAL PREMIUM - FEATURES`"
   ]
  },
  {
   "cell_type": "code",
   "execution_count": null,
   "metadata": {},
   "outputs": [],
   "source": [
    "# Feature 1\n",
    "\n",
    "train_data_copy['Age_Premium_Mean'] = train_data_copy.groupby(by = ['Age'])['Annual_Premium'].transform('mean')\n",
    "test_data_copy['Age_Premium_Mean'] = test_data_copy.groupby(by = ['Age'])['Annual_Premium'].transform('mean')"
   ]
  },
  {
   "cell_type": "code",
   "execution_count": null,
   "metadata": {},
   "outputs": [],
   "source": [
    "# Feature 2\n",
    "\n",
    "train_data_copy['Region_Premium_Mean'] = train_data_copy.groupby(by = ['Region_Code'])['Annual_Premium'].transform('mean')\n",
    "test_data_copy['Region_Premium_Mean']  = test_data_copy.groupby(by = ['Region_Code'])['Annual_Premium'].transform('mean')"
   ]
  },
  {
   "cell_type": "code",
   "execution_count": null,
   "metadata": {},
   "outputs": [],
   "source": [
    "# Feature 3\n",
    "\n",
    "train_data_copy['Insured_VehicleA&D_Premium_Mean'] = train_data_copy.groupby(by = ['Previously_Insured', 'Vehicle_Age', 'Vehicle_Damage'])['Annual_Premium'].transform('mean')\n",
    "test_data_copy['Insured_VehicleA&D_Premium_Mean']  = test_data_copy.groupby(by = ['Previously_Insured', 'Vehicle_Age', 'Vehicle_Damage'])['Annual_Premium'].transform('mean')"
   ]
  },
  {
   "cell_type": "code",
   "execution_count": null,
   "metadata": {},
   "outputs": [],
   "source": [
    "# Feature 4\n",
    "\n",
    "train_data_copy['Sales_Premium_Mean'] = train_data_copy.groupby(by = ['Policy_Sales_Channel'])['Annual_Premium'].transform('mean')\n",
    "test_data_copy['Sales_Premium_Mean'] = test_data_copy.groupby(by = ['Policy_Sales_Channel'])['Annual_Premium'].transform('mean')"
   ]
  },
  {
   "cell_type": "code",
   "execution_count": null,
   "metadata": {},
   "outputs": [],
   "source": [
    "plt.figure(figsize = (25,20))\n",
    "ax = sns.heatmap(train_data_copy.corr(method= 'pearson'), \n",
    "                 linewidths=5, \n",
    "                 annot=True, \n",
    "                 fmt='.2f',\n",
    "                 cmap='Blues',\n",
    "                 annot_kws={\"size\": 12}, \n",
    "                 cbar_kws={\"shrink\": .82},\n",
    "                 vmin=-1, \n",
    "                 vmax=1, \n",
    "                 center= 0,\n",
    "                 yticklabels=True)\n",
    "bottom, top = ax.get_ylim()\n",
    "ax.set_ylim(bottom + 0.5, top - 0.5)\n",
    "#plt.yticks(rotation = 0) "
   ]
  },
  {
   "cell_type": "markdown",
   "metadata": {},
   "source": [
    "<br>"
   ]
  },
  {
   "cell_type": "code",
   "execution_count": null,
   "metadata": {},
   "outputs": [],
   "source": [
    "train_data_copy.shape, test_data_copy.shape"
   ]
  },
  {
   "cell_type": "markdown",
   "metadata": {},
   "source": [
    "<br>"
   ]
  },
  {
   "cell_type": "code",
   "execution_count": 43,
   "metadata": {},
   "outputs": [],
   "source": [
    "# Splitting Data - Independent & Dependent \n",
    "\n",
    "X = train_data_copy.drop(columns = ['Response', 'id'],\n",
    "                         axis = 1)\n",
    "\n",
    "y = train_data_copy['Response']"
   ]
  },
  {
   "cell_type": "code",
   "execution_count": 44,
   "metadata": {},
   "outputs": [],
   "source": [
    "test_data_copy.drop(columns = 'id',\n",
    "                    axis = 1,\n",
    "                    inplace = True)"
   ]
  },
  {
   "cell_type": "markdown",
   "metadata": {},
   "source": [
    "<br>"
   ]
  },
  {
   "cell_type": "code",
   "execution_count": 45,
   "metadata": {},
   "outputs": [
    {
     "data": {
      "text/plain": [
       "((381109, 14), (127037, 14))"
      ]
     },
     "execution_count": 45,
     "metadata": {},
     "output_type": "execute_result"
    }
   ],
   "source": [
    "X.shape, test_data_copy.shape"
   ]
  },
  {
   "cell_type": "code",
   "execution_count": null,
   "metadata": {},
   "outputs": [],
   "source": [
    "# Splitting Data  - Training and Test\n",
    "\n",
    "''''\n",
    "from sklearn.model_selection import train_test_split\n",
    "X_train, X_val, y_train, y_val = train_test_split(X, y, test_size = 0.2, random_state = 43)\n",
    "\n",
    "'''"
   ]
  },
  {
   "cell_type": "code",
   "execution_count": 46,
   "metadata": {},
   "outputs": [],
   "source": [
    "import lightgbm as lg\n",
    "from sklearn.metrics import roc_auc_score,roc_curve, auc"
   ]
  },
  {
   "cell_type": "markdown",
   "metadata": {},
   "source": [
    "<br>"
   ]
  },
  {
   "cell_type": "markdown",
   "metadata": {},
   "source": [
    "## `LIGHTGBM`"
   ]
  },
  {
   "cell_type": "markdown",
   "metadata": {},
   "source": [
    "####  `N_ESTIMATORS`"
   ]
  },
  {
   "cell_type": "code",
   "execution_count": null,
   "metadata": {},
   "outputs": [],
   "source": [
    "#n_estimators = np.linspace(100,5000).astype('int')\n",
    "#n_estimators"
   ]
  },
  {
   "cell_type": "code",
   "execution_count": null,
   "metadata": {},
   "outputs": [],
   "source": [
    "import time \n",
    "\n",
    "n_estimators = np.linspace(100,5000).astype('int')\n",
    "\n",
    "train_result = []\n",
    "\n",
    "test_result  = []\n",
    "\n",
    "start_time = time.time()\n",
    "\n",
    "for estimators in n_estimators:\n",
    "    clf = lg.LGBMClassifier(n_estimators = estimators,\n",
    "                            is_unbalance = True,\n",
    "                            n_jobs = -1,\n",
    "                            random_state = 43,\n",
    "                            objective = 'binary',\n",
    "                            metric = 'auc')\n",
    "    \n",
    "    clf.fit(X_train, y_train)\n",
    "    \n",
    "    train_pred = clf.predict(X_train)\n",
    "    \n",
    "    false_positive_rate, true_positive_rate, threshold = roc_curve(y_train, train_pred)\n",
    "    roc_auc = auc(false_positive_rate, true_positive_rate)\n",
    "    train_result.append(roc_auc)\n",
    "    \n",
    "    test_pred = clf.predict(X_val)\n",
    "    \n",
    "    false_positive_rate, true_positive_rate, threshold = roc_curve(y_val, test_pred)\n",
    "    roc_auc = auc(false_positive_rate, true_positive_rate)\n",
    "    test_result.append(roc_auc)\n",
    "    \n",
    "    \n",
    "print(\"Succussfully Completed\", \"\\n\")\n",
    "\n",
    "end_time = time.time()\n",
    "print(\"Execution Time : {}\".format(end_time - start_time))"
   ]
  },
  {
   "cell_type": "code",
   "execution_count": null,
   "metadata": {},
   "outputs": [],
   "source": [
    "import matplotlib.pyplot as plt\n",
    "\n",
    "line1 = plt.plot(n_estimators[0:10], train_result[0:10], 'b', label = 'Train')\n",
    "line2 = plt.plot(n_estimators[0:10], test_result[0:10],  'r', label = 'Test')\n",
    "plt.ylabel(\"AUC SCORE\")\n",
    "plt.xlabel(\"N_ESTIMATORS\")\n",
    "plt.legend(loc = 'upper left', bbox_to_anchor = (1,1))\n",
    "plt.show()"
   ]
  },
  {
   "cell_type": "markdown",
   "metadata": {},
   "source": [
    "Summary:\n",
    "    \n",
    "    - More nos of estimators results in overfitting."
   ]
  },
  {
   "cell_type": "code",
   "execution_count": null,
   "metadata": {},
   "outputs": [],
   "source": [
    "# Training the model between 100 - 200 estimators \n",
    "\n",
    "import time \n",
    "\n",
    "n_estimators = [100, 125, 150, 175, 200]\n",
    "\n",
    "train_result = []\n",
    "\n",
    "test_result  = []\n",
    "\n",
    "start_time = time.time()\n",
    "\n",
    "for estimators in n_estimators:\n",
    "    clf = lg.LGBMClassifier(n_estimators = estimators,\n",
    "                            is_unbalance = True,\n",
    "                            n_jobs = -1,\n",
    "                            random_state = 43,\n",
    "                            objective = 'binary',\n",
    "                            metric = 'auc')\n",
    "    \n",
    "    clf.fit(X_train, y_train)\n",
    "    \n",
    "    train_pred = clf.predict_proba(X_train)[:,1]\n",
    "    \n",
    "    false_positive_rate, true_positive_rate, threshold = roc_curve(y_train, train_pred)\n",
    "    roc_auc = auc(false_positive_rate, true_positive_rate)\n",
    "    train_result.append(roc_auc)\n",
    "    \n",
    "    test_pred = clf.predict_proba(X_val)[:,1]\n",
    "    \n",
    "    false_positive_rate, true_positive_rate, threshold = roc_curve(y_val, test_pred)\n",
    "    roc_auc = auc(false_positive_rate, true_positive_rate)\n",
    "    test_result.append(roc_auc)\n",
    "    \n",
    "    \n",
    "print(\"Succussfully Completed\", \"\\n\")\n",
    "\n",
    "end_time = time.time()\n",
    "print(\"Execution Time : {}\".format(end_time - start_time))"
   ]
  },
  {
   "cell_type": "code",
   "execution_count": null,
   "metadata": {},
   "outputs": [],
   "source": [
    "import matplotlib.pyplot as plt\n",
    "\n",
    "line1 = plt.plot(n_estimators, train_result, 'b', label = 'Train')\n",
    "line2 = plt.plot(n_estimators, test_result,  'r', label = 'Test')\n",
    "plt.ylabel(\"AUC SCORE\")\n",
    "plt.xlabel(\"N_ESTIMATORS\")\n",
    "plt.legend(loc = 'upper left', bbox_to_anchor = (1,1))\n",
    "plt.show()"
   ]
  },
  {
   "cell_type": "markdown",
   "metadata": {},
   "source": [
    "Summary:\n",
    "    \n",
    "    - We will finalize 150 as nos. of estimators for LIGHTGBM."
   ]
  },
  {
   "cell_type": "markdown",
   "metadata": {},
   "source": [
    "<br>"
   ]
  },
  {
   "cell_type": "markdown",
   "metadata": {},
   "source": [
    "#### `MAX_DEPTH`"
   ]
  },
  {
   "cell_type": "code",
   "execution_count": null,
   "metadata": {},
   "outputs": [],
   "source": [
    "import time \n",
    "\n",
    "max_depths =  np.linspace(1, 30, 30).astype('int')\n",
    "\n",
    "train_result = []\n",
    "test_result  = []\n",
    "\n",
    "start_time = time.time()\n",
    "\n",
    "for depth in max_depths:\n",
    "    clf = lg.LGBMClassifier(n_estimators = 150,\n",
    "                            max_depth = depth,\n",
    "                            is_unbalance = True,\n",
    "                            n_jobs = -1,\n",
    "                            random_state = 43,\n",
    "                            objective = 'binary',\n",
    "                            metric = 'auc')\n",
    "    \n",
    "    clf.fit(X_train, y_train)\n",
    "    \n",
    "    train_pred = clf.predict_proba(X_train)[:,1]\n",
    "    \n",
    "    false_positive_rate, true_positive_rate, threshold = roc_curve(y_train, train_pred)\n",
    "    roc_auc = auc(false_positive_rate, true_positive_rate)\n",
    "    train_result.append(roc_auc)\n",
    "    \n",
    "    test_pred = clf.predict_proba(X_val)[:,1]\n",
    "    \n",
    "    false_positive_rate, true_positive_rate, threshold = roc_curve(y_val, test_pred)\n",
    "    roc_auc = auc(false_positive_rate, true_positive_rate)\n",
    "    test_result.append(roc_auc)\n",
    "    \n",
    "    \n",
    "print(\"Succussfully Completed\", \"\\n\")\n",
    "\n",
    "end_time = time.time()\n",
    "print(\"Execution Time : {}\".format(end_time - start_time))"
   ]
  },
  {
   "cell_type": "code",
   "execution_count": null,
   "metadata": {},
   "outputs": [],
   "source": [
    "import matplotlib.pyplot as plt\n",
    "\n",
    "line1 = plt.plot(max_depths, train_result, 'b', label = 'Train')\n",
    "line2 = plt.plot(max_depths, test_result,  'r', label = 'Test')\n",
    "plt.ylabel(\"AUC SCORE\")\n",
    "plt.xlabel(\"MAX_DEPTHS\")\n",
    "plt.legend(loc = 'upper left', bbox_to_anchor = (1,1))\n",
    "plt.show()"
   ]
  },
  {
   "cell_type": "markdown",
   "metadata": {},
   "source": [
    "Summary:\n",
    "    \n",
    "    - We will finalize our max_depth as 5"
   ]
  },
  {
   "cell_type": "markdown",
   "metadata": {},
   "source": [
    "<br>"
   ]
  },
  {
   "cell_type": "markdown",
   "metadata": {},
   "source": [
    "#### `BOOSTING`"
   ]
  },
  {
   "cell_type": "code",
   "execution_count": null,
   "metadata": {},
   "outputs": [],
   "source": [
    "import time \n",
    "\n",
    "boosting =  ['gbdt', 'dart']\n",
    "\n",
    "train_result = []\n",
    "test_result  = []\n",
    "\n",
    "start_time = time.time()\n",
    "\n",
    "for boost in boosting:\n",
    "    clf = lg.LGBMClassifier(n_estimators = 150,\n",
    "                            max_depth = 5,\n",
    "                            boosting = boost,\n",
    "                            is_unbalance = True,\n",
    "                            n_jobs = -1,\n",
    "                            random_state = 43,\n",
    "                            objective = 'binary',\n",
    "                            metric = 'auc')\n",
    "    \n",
    "    clf.fit(X_train, y_train)\n",
    "    \n",
    "    train_pred = clf.predict_proba(X_train)[:,1]\n",
    "    \n",
    "    false_positive_rate, true_positive_rate, threshold = roc_curve(y_train, train_pred)\n",
    "    roc_auc = auc(false_positive_rate, true_positive_rate)\n",
    "    train_result.append(roc_auc)\n",
    "    \n",
    "    test_pred = clf.predict_proba(X_val)[:,1]\n",
    "    \n",
    "    false_positive_rate, true_positive_rate, threshold = roc_curve(y_val, test_pred)\n",
    "    roc_auc = auc(false_positive_rate, true_positive_rate)\n",
    "    test_result.append(roc_auc)\n",
    "    \n",
    "    \n",
    "print(\"Succussfully Completed\", \"\\n\")\n",
    "\n",
    "end_time = time.time()\n",
    "print(\"Execution Time : {}\".format(end_time - start_time))"
   ]
  },
  {
   "cell_type": "code",
   "execution_count": null,
   "metadata": {},
   "outputs": [],
   "source": [
    "import matplotlib.pyplot as plt\n",
    "\n",
    "line1 = plt.plot(boosting, train_result, 'b', label = 'Train')\n",
    "line2 = plt.plot(boosting, test_result,  'r', label = 'Test')\n",
    "plt.ylabel(\"AUC SCORE\")\n",
    "plt.xlabel(\"BOOSTING TYPE\")\n",
    "plt.legend(loc = 'upper left', bbox_to_anchor = (1,1))\n",
    "plt.show()"
   ]
  },
  {
   "cell_type": "markdown",
   "metadata": {},
   "source": [
    "Summary:\n",
    "\n",
    "    - We will choose GBDT as our boosting type."
   ]
  },
  {
   "cell_type": "markdown",
   "metadata": {},
   "source": [
    "<br>"
   ]
  },
  {
   "cell_type": "markdown",
   "metadata": {},
   "source": [
    "#### `LEARNING RATE`"
   ]
  },
  {
   "cell_type": "code",
   "execution_count": null,
   "metadata": {},
   "outputs": [],
   "source": [
    "import time \n",
    "\n",
    "learn_rate = [0.01, 0.02, 0.03, 0.04, 0.05, 0.06, 0.07, 0.08, 0.09, 0.1]\n",
    "\n",
    "train_result = []\n",
    "test_result  = []\n",
    "\n",
    "start_time = time.time()\n",
    "\n",
    "for rate in learn_rate:\n",
    "    clf = lg.LGBMClassifier(n_estimators = 150,\n",
    "                            max_depth = 5,\n",
    "                            boosting = 'gbdt',\n",
    "                            learning_rate = rate,\n",
    "                            is_unbalance = True,\n",
    "                            n_jobs = -1,\n",
    "                            random_state = 43,\n",
    "                            objective = 'binary',\n",
    "                            metric = 'auc')\n",
    "    \n",
    "    clf.fit(X_train, y_train)\n",
    "    \n",
    "    train_pred = clf.predict_proba(X_train)[:,1]\n",
    "    \n",
    "    false_positive_rate, true_positive_rate, threshold = roc_curve(y_train, train_pred)\n",
    "    roc_auc = auc(false_positive_rate, true_positive_rate)\n",
    "    train_result.append(roc_auc)\n",
    "    \n",
    "    test_pred = clf.predict_proba(X_val)[:,1]\n",
    "    \n",
    "    false_positive_rate, true_positive_rate, threshold = roc_curve(y_val, test_pred)\n",
    "    roc_auc = auc(false_positive_rate, true_positive_rate)\n",
    "    test_result.append(roc_auc)\n",
    "    \n",
    "    \n",
    "print(\"Succussfully Completed\", \"\\n\")\n",
    "\n",
    "end_time = time.time()\n",
    "print(\"Execution Time : {}\".format(end_time - start_time))"
   ]
  },
  {
   "cell_type": "code",
   "execution_count": null,
   "metadata": {},
   "outputs": [],
   "source": [
    "import matplotlib.pyplot as plt\n",
    "\n",
    "line1 = plt.plot(learn_rate, train_result, 'b', label = 'Train')\n",
    "line2 = plt.plot(learn_rate, test_result,  'r', label = 'Test')\n",
    "plt.ylabel(\"AUC SCORE\")\n",
    "plt.xlabel(\"LEARNING RATE\")\n",
    "plt.legend(loc = 'upper left', bbox_to_anchor = (1,1))\n",
    "plt.show()"
   ]
  },
  {
   "cell_type": "markdown",
   "metadata": {},
   "source": [
    "Summary\n",
    "\n",
    "    - We will finalize 0.04 as our learning_rate"
   ]
  },
  {
   "cell_type": "markdown",
   "metadata": {},
   "source": [
    "<br>"
   ]
  },
  {
   "cell_type": "markdown",
   "metadata": {},
   "source": [
    "#### `NUM_LEAVES`"
   ]
  },
  {
   "cell_type": "code",
   "execution_count": null,
   "metadata": {},
   "outputs": [],
   "source": [
    "import time \n",
    "\n",
    "num_leaves = [15,20,25,30,32]\n",
    "\n",
    "train_result = []\n",
    "test_result  = []\n",
    "\n",
    "start_time = time.time()\n",
    "\n",
    "for leaves in num_leaves:\n",
    "    clf = lg.LGBMClassifier(n_estimators = 150,\n",
    "                            max_depth = 5,\n",
    "                            num_leaves = leaves,\n",
    "                            boosting_type = 'gbdt',\n",
    "                            learning_rate = 0.04,\n",
    "                            is_unbalance = True,\n",
    "                            n_jobs = -1,\n",
    "                            random_state = 43,\n",
    "                            objective = 'binary',\n",
    "                            metric = 'auc')\n",
    "    \n",
    "    clf.fit(X_train, y_train)\n",
    "    \n",
    "    train_pred = clf.predict_proba(X_train)[:,1]\n",
    "    \n",
    "    false_positive_rate, true_positive_rate, threshold = roc_curve(y_train, train_pred)\n",
    "    roc_auc = auc(false_positive_rate, true_positive_rate)\n",
    "    train_result.append(roc_auc)\n",
    "    \n",
    "    test_pred = clf.predict_proba(X_val)[:,1]\n",
    "    \n",
    "    false_positive_rate, true_positive_rate, threshold = roc_curve(y_val, test_pred)\n",
    "    roc_auc = auc(false_positive_rate, true_positive_rate)\n",
    "    test_result.append(roc_auc)\n",
    "    \n",
    "    \n",
    "print(\"Succussfully Completed\", \"\\n\")\n",
    "\n",
    "end_time = time.time()\n",
    "print(\"Execution Time : {}\".format(end_time - start_time))"
   ]
  },
  {
   "cell_type": "code",
   "execution_count": null,
   "metadata": {},
   "outputs": [],
   "source": [
    "import matplotlib.pyplot as plt\n",
    "\n",
    "line1 = plt.plot(num_leaves, train_result, 'b', label = 'Train')\n",
    "line2 = plt.plot(num_leaves, test_result,  'r', label = 'Test')\n",
    "plt.ylabel(\"AUC SCORE\")\n",
    "plt.xlabel(\"NUM_LEAVES\")\n",
    "plt.legend(loc = 'upper left', bbox_to_anchor = (1,1))\n",
    "plt.show()"
   ]
  },
  {
   "cell_type": "markdown",
   "metadata": {},
   "source": [
    "Summary:\n",
    "    \n",
    "     - We will set num_leaves = 30"
   ]
  },
  {
   "cell_type": "markdown",
   "metadata": {},
   "source": [
    "<br>"
   ]
  },
  {
   "cell_type": "markdown",
   "metadata": {},
   "source": [
    "#### `SUBSAMPLE`"
   ]
  },
  {
   "cell_type": "code",
   "execution_count": null,
   "metadata": {},
   "outputs": [],
   "source": [
    "import time \n",
    "\n",
    "sub_sample = [0.6,0.7,0.8,0.9,1]\n",
    "\n",
    "train_result = []\n",
    "test_result  = []\n",
    "\n",
    "start_time = time.time()\n",
    "\n",
    "for sample in sub_sample:\n",
    "    clf = lg.LGBMClassifier(n_estimators = 150,\n",
    "                            max_depth = 5,\n",
    "                            num_leaves = 30,\n",
    "                            boosting_type = 'gbdt',\n",
    "                            learning_rate = 0.04,\n",
    "                            subsample = sample,\n",
    "                            is_unbalance = True,\n",
    "                            n_jobs = -1,\n",
    "                            random_state = 43,\n",
    "                            objective = 'binary',\n",
    "                            metric = 'auc')\n",
    "    \n",
    "    clf.fit(X_train, y_train)\n",
    "    \n",
    "    train_pred = clf.predict_proba(X_train)[:,1]\n",
    "    \n",
    "    false_positive_rate, true_positive_rate, threshold = roc_curve(y_train, train_pred)\n",
    "    roc_auc = auc(false_positive_rate, true_positive_rate)\n",
    "    train_result.append(roc_auc)\n",
    "    \n",
    "    test_pred = clf.predict_proba(X_val)[:,1]\n",
    "    \n",
    "    false_positive_rate, true_positive_rate, threshold = roc_curve(y_val, test_pred)\n",
    "    roc_auc = auc(false_positive_rate, true_positive_rate)\n",
    "    test_result.append(roc_auc)\n",
    "    \n",
    "    \n",
    "print(\"Succussfully Completed\", \"\\n\")\n",
    "\n",
    "end_time = time.time()\n",
    "print(\"Execution Time : {}\".format(end_time - start_time))"
   ]
  },
  {
   "cell_type": "code",
   "execution_count": null,
   "metadata": {},
   "outputs": [],
   "source": [
    "import matplotlib.pyplot as plt\n",
    "\n",
    "line1 = plt.plot(sub_sample, train_result, 'b', label = 'Train')\n",
    "line2 = plt.plot(sub_sample, test_result,  'r', label = 'Test')\n",
    "plt.ylabel(\"AUC SCORE\")\n",
    "plt.xlabel(\"SUB_SAMPLE\")\n",
    "plt.legend(loc = 'upper left', bbox_to_anchor = (1,1))\n",
    "plt.show()"
   ]
  },
  {
   "cell_type": "markdown",
   "metadata": {},
   "source": [
    "Summary : \n",
    "    \n",
    "    - No change in improvement is observed including this parameter."
   ]
  },
  {
   "cell_type": "markdown",
   "metadata": {},
   "source": [
    "#### `COLSAMPLE_BYTREE`"
   ]
  },
  {
   "cell_type": "code",
   "execution_count": null,
   "metadata": {},
   "outputs": [],
   "source": [
    "import time \n",
    "\n",
    "colsample_bytree = [0.6,0.7,0.8,0.9,1]\n",
    "\n",
    "train_result = []\n",
    "test_result  = []\n",
    "\n",
    "start_time = time.time()\n",
    "\n",
    "for sample in colsample_bytree:\n",
    "    clf = lg.LGBMClassifier(n_estimators = 150,\n",
    "                            max_depth = 5,\n",
    "                            num_leaves = 30,\n",
    "                            boosting_type = 'gbdt',\n",
    "                            learning_rate = 0.04,\n",
    "                            colsample_bytree = sample,\n",
    "                            is_unbalance = True,\n",
    "                            n_jobs = -1,\n",
    "                            random_state = 43,\n",
    "                            objective = 'binary',\n",
    "                            metric = 'auc')\n",
    "    \n",
    "    clf.fit(X_train, y_train)\n",
    "    \n",
    "    train_pred = clf.predict_proba(X_train)[:,1]\n",
    "    \n",
    "    false_positive_rate, true_positive_rate, threshold = roc_curve(y_train, train_pred)\n",
    "    roc_auc = auc(false_positive_rate, true_positive_rate)\n",
    "    train_result.append(roc_auc)\n",
    "    \n",
    "    test_pred = clf.predict_proba(X_val)[:,1]\n",
    "    \n",
    "    false_positive_rate, true_positive_rate, threshold = roc_curve(y_val, test_pred)\n",
    "    roc_auc = auc(false_positive_rate, true_positive_rate)\n",
    "    test_result.append(roc_auc)\n",
    "    \n",
    "    \n",
    "print(\"Succussfully Completed\", \"\\n\")\n",
    "\n",
    "end_time = time.time()\n",
    "print(\"Execution Time : {}\".format(end_time - start_time))"
   ]
  },
  {
   "cell_type": "code",
   "execution_count": null,
   "metadata": {},
   "outputs": [],
   "source": [
    "import matplotlib.pyplot as plt\n",
    "\n",
    "line1 = plt.plot(colsample_bytree, train_result, 'b', label = 'Train')\n",
    "line2 = plt.plot(colsample_bytree, test_result,  'r', label = 'Test')\n",
    "plt.ylabel(\"AUC SCORE\")\n",
    "plt.xlabel(\"COLSAMPLE\")\n",
    "plt.legend(loc = 'upper left', bbox_to_anchor = (1,1))\n",
    "plt.show()"
   ]
  },
  {
   "cell_type": "markdown",
   "metadata": {},
   "source": [
    "Summary: \n",
    "    \n",
    "    - We can set colsample_bytree as 0.6"
   ]
  },
  {
   "cell_type": "markdown",
   "metadata": {},
   "source": [
    "<br>"
   ]
  },
  {
   "cell_type": "markdown",
   "metadata": {},
   "source": [
    "### `LIGHTGBM - TUNED PARAMETER`"
   ]
  },
  {
   "cell_type": "code",
   "execution_count": 47,
   "metadata": {},
   "outputs": [
    {
     "name": "stdout",
     "output_type": "stream",
     "text": [
      "0.6351547907079215\n",
      "0.6351491685985414\n",
      "0.6349016169355253\n",
      "0.632816627471899\n",
      "0.6359762697136052\n",
      "Avg 0.6347996946854985\n"
     ]
    }
   ],
   "source": [
    "import lightgbm as lg\n",
    "\n",
    "from sklearn.metrics import roc_auc_score\n",
    "from sklearn.model_selection import train_test_split\n",
    "from sklearn.model_selection import StratifiedKFold\n",
    "\n",
    "kfold = StratifiedKFold(n_splits=5, shuffle = True, random_state = 43)\n",
    "scores   = []\n",
    "predicts = []\n",
    "\n",
    "for train_index, test_index in kfold.split(X, y):\n",
    "    X_train, X_val = X.iloc[train_index], X.iloc[test_index]\n",
    "    y_train, y_val = y.iloc[train_index], y.iloc[test_index]\n",
    "\n",
    "\n",
    "    # Initializing Model\n",
    "    clf = lg.LGBMClassifier(n_estimators = 500,\n",
    "                            max_depth = 5,\n",
    "                            num_leaves = 20,\n",
    "                            is_unbalance = True,\n",
    "                            boosting_type = 'gbdt',\n",
    "                            learning_rate = 0.05,\n",
    "                            colsample_bytree = 0.6,\n",
    "                            objective = 'binary',\n",
    "                            metric = 'auc',\n",
    "                            n_jobs =-1,\n",
    "                            random_state = 43)\n",
    "\n",
    "\n",
    "    # Training the Ensemble Classifier\n",
    "    clf.fit(X_train, y_train)\n",
    "\n",
    "    # Predictions on valid Data\n",
    "    y_pred = clf.predict(X_val)\n",
    "    score  = roc_auc_score(y_pred, y_val)\n",
    "    print(score)\n",
    "    scores.append(score)\n",
    "     \n",
    "    \n",
    "    predicts.append(clf.predict_proba(test_data_copy)[:,1])\n",
    "    \n",
    "print(\"Avg\", np.mean(scores))"
   ]
  },
  {
   "cell_type": "code",
   "execution_count": 48,
   "metadata": {},
   "outputs": [
    {
     "data": {
      "text/plain": [
       "<AxesSubplot:title={'center':'Feature importance'}, xlabel='Feature importance', ylabel='Features'>"
      ]
     },
     "execution_count": 48,
     "metadata": {},
     "output_type": "execute_result"
    },
    {
     "data": {
      "image/png": "[encoded data removed]",
      "text/plain": [
       "<Figure size 1800x1440 with 1 Axes>"
      ]
     },
     "metadata": {
      "needs_background": "light"
     },
     "output_type": "display_data"
    }
   ],
   "source": [
    "lg.plot_importance(booster = clf,\n",
    "                   title='Feature importance',\n",
    "                   xlabel='Feature importance',\n",
    "                   ylabel='Features',\n",
    "                   figsize = (25,20),\n",
    "                   )"
   ]
  },
  {
   "cell_type": "code",
   "execution_count": null,
   "metadata": {},
   "outputs": [],
   "source": [
    "train_data_copy.info()"
   ]
  },
  {
   "cell_type": "code",
   "execution_count": 49,
   "metadata": {},
   "outputs": [
    {
     "data": {
      "text/plain": [
       "array([0.00355552, 0.75359883, 0.7292487 , ..., 0.00199278, 0.00460005,\n",
       "       0.04312645])"
      ]
     },
     "execution_count": 49,
     "metadata": {},
     "output_type": "execute_result"
    }
   ],
   "source": [
    "predict1 = np.mean(predicts, 0)\n",
    "predict1"
   ]
  },
  {
   "cell_type": "code",
   "execution_count": 50,
   "metadata": {},
   "outputs": [],
   "source": [
    "#list = [np.argmax(x) for x in col]\n",
    "sample_submit = pd.read_csv('sample_submission.csv')\n",
    "sample_submit['Response'] = predict1\n",
    "sample_submit.to_csv('sample_submission_Gaurav.csv', index = False)"
   ]
  },
  {
   "cell_type": "markdown",
   "metadata": {},
   "source": [
    "Summary: \n",
    "    \n",
    "    - N_Estimators (200) -> 0.857006450798286\n",
    "    \n",
    "    - N_Estimators (500) -> 0.857683762037881\n",
    "    \n",
    "    - N-Estimators (1000)-> 0.857492632678324\n",
    "    \n",
    "    - We observe that after 500 estimators we observe slight decrease in th AUC_ROC for test data.\n",
    "    "
   ]
  },
  {
   "cell_type": "markdown",
   "metadata": {},
   "source": [
    "While giving new parameters we got very less `AUC_ROC - 0.8443007428700637`."
   ]
  },
  {
   "cell_type": "markdown",
   "metadata": {},
   "source": [
    "<br>"
   ]
  },
  {
   "cell_type": "markdown",
   "metadata": {},
   "source": [
    "## `CATBOOST`"
   ]
  },
  {
   "cell_type": "code",
   "execution_count": 51,
   "metadata": {},
   "outputs": [],
   "source": [
    "import catboost as cb"
   ]
  },
  {
   "cell_type": "code",
   "execution_count": null,
   "metadata": {},
   "outputs": [],
   "source": [
    "train_data = pd.read_csv('train.csv')\n",
    "\n",
    "test_data  = pd.read_csv('test.csv')\n",
    "\n",
    "print(\"Data Imported Successfully\")"
   ]
  },
  {
   "cell_type": "code",
   "execution_count": null,
   "metadata": {},
   "outputs": [],
   "source": [
    "categorical_col = ['Gender','Driving_License', 'Region_Code', 'Previously_Insured', 'Vehicle_Age', 'Vehicle_Damage','Policy_Sales_Channel']"
   ]
  },
  {
   "cell_type": "code",
   "execution_count": null,
   "metadata": {},
   "outputs": [],
   "source": [
    "train_data.info()"
   ]
  },
  {
   "cell_type": "code",
   "execution_count": null,
   "metadata": {},
   "outputs": [],
   "source": [
    "# Changing data type because cat_feature in catboost cannot be float\n",
    "\n",
    "#train_data['Driving_License'] = train_data['Driving_License'].astype('str')\n",
    "#test_data['Driving_License']  = test_data['Driving_License'].astype('str')\n",
    "\n",
    "train_data['Region_Code'] = train_data['Region_Code'].astype('int64')\n",
    "test_data['Region_Code']  = test_data['Region_Code'].astype('int64')\n",
    "\n",
    "#train_data['Previously_Insured'] = train_data['Previously_Insured'].astype('str')\n",
    "#test_data['Previously_Insured']  = test_data['Previously_Insured'].astype('str')\n",
    "\n",
    "train_data['Policy_Sales_Channel'] = train_data['Policy_Sales_Channel'].astype('int64')\n",
    "test_data['Policy_Sales_Channel']  = test_data['Policy_Sales_Channel'].astype('int64')"
   ]
  },
  {
   "cell_type": "code",
   "execution_count": null,
   "metadata": {},
   "outputs": [],
   "source": [
    "# Splitting Data - Independent & Dependent \n",
    "\n",
    "X = train_data.drop(columns = ['id', 'Response'],\n",
    "                    axis = 1)\n",
    "\n",
    "y = train_data['Response']"
   ]
  },
  {
   "cell_type": "code",
   "execution_count": null,
   "metadata": {},
   "outputs": [],
   "source": [
    "test_data.drop(columns = 'id',\n",
    "               axis = 1,\n",
    "               inplace = True)"
   ]
  },
  {
   "cell_type": "code",
   "execution_count": null,
   "metadata": {},
   "outputs": [],
   "source": [
    "# Splitting Data - Training & Validation\n",
    "\n",
    "from sklearn.model_selection import train_test_split\n",
    "X_train, X_val, y_train, y_val = train_test_split(X, y, test_size = 0.2,random_state = 43)"
   ]
  },
  {
   "cell_type": "markdown",
   "metadata": {},
   "source": [
    "<br>"
   ]
  },
  {
   "cell_type": "markdown",
   "metadata": {},
   "source": [
    "#### `N_ESTIMATORS`"
   ]
  },
  {
   "cell_type": "code",
   "execution_count": null,
   "metadata": {},
   "outputs": [],
   "source": [
    "import time \n",
    "\n",
    "n_estimators = np.linspace(100, 500, 5).astype('int')\n",
    "\n",
    "train_result = []\n",
    "test_result  = []\n",
    "\n",
    "start_time = time.time()\n",
    "\n",
    "for estimators in n_estimators:\n",
    "    clf = cb.CatBoostClassifier(n_estimators = estimators,\n",
    "                                random_state = 43,\n",
    "                                auto_class_weights = 'Balanced',\n",
    "                                cat_features = categorical_col)\n",
    "    \n",
    "    clf.fit(X_train, y_train)\n",
    "    \n",
    "    train_pred = clf.predict_proba(X_train)[:,1]\n",
    "    \n",
    "    false_positive_rate, true_positive_rate, threshold = roc_curve(y_train, train_pred)\n",
    "    roc_auc = auc(false_positive_rate, true_positive_rate)\n",
    "    train_result.append(roc_auc)\n",
    "    \n",
    "    test_pred = clf.predict_proba(X_val)[:,1]\n",
    "    \n",
    "    false_positive_rate, true_positive_rate, threshold = roc_curve(y_val, test_pred)\n",
    "    roc_auc = auc(false_positive_rate, true_positive_rate)\n",
    "    test_result.append(roc_auc)\n",
    "    \n",
    "    \n",
    "print(\"Succussfully Completed\", \"\\n\")\n",
    "\n",
    "end_time = time.time()\n",
    "print(\"Execution Time : {}\".format(end_time - start_time))"
   ]
  },
  {
   "cell_type": "code",
   "execution_count": null,
   "metadata": {},
   "outputs": [],
   "source": [
    "import matplotlib.pyplot as plt\n",
    "\n",
    "line1 = plt.plot(n_estimators, train_result, 'b', label = 'Train')\n",
    "line2 = plt.plot(n_estimators, test_result,  'r', label = 'Test')\n",
    "plt.ylabel(\"AUC SCORE\")\n",
    "plt.xlabel(\"N-ESTIMATORS\")\n",
    "plt.legend(loc = 'upper left', bbox_to_anchor = (1,1))\n",
    "plt.show()"
   ]
  },
  {
   "cell_type": "markdown",
   "metadata": {},
   "source": [
    "Summary: \n",
    "    \n",
    "    - We can finalize our n_estimators as 500"
   ]
  },
  {
   "cell_type": "markdown",
   "metadata": {},
   "source": [
    "<br>"
   ]
  },
  {
   "cell_type": "markdown",
   "metadata": {},
   "source": [
    "#### `MAX_DEPTH`"
   ]
  },
  {
   "cell_type": "code",
   "execution_count": null,
   "metadata": {},
   "outputs": [],
   "source": [
    "import time \n",
    "from sklearn.model_selection import StratifiedKFold\n",
    "\n",
    "max_depths =  [5, 7, 9, 11]\n",
    "\n",
    "train_result = []\n",
    "test_result  = []\n",
    "\n",
    "start_time = time.time()\n",
    "\n",
    "kfold = StratifiedKFold(n_splits=3, shuffle = True, random_state = 43)\n",
    "\n",
    "for depth in max_depths:\n",
    "    kfold = StratifiedKFold(n_splits=3, shuffle = True, random_state = 43)\n",
    "    train_scores   = []\n",
    "    test_scores    = []\n",
    "\n",
    "\n",
    "    for train_index, test_index in kfold.split(X, y):\n",
    "        x_tr, x_val = X.iloc[train_index], X.iloc[test_index]\n",
    "        y_tr, y_val = y.iloc[train_index], y.iloc[test_index]\n",
    "\n",
    "\n",
    "    # Initializing Model\n",
    "        clf = cb.CatBoostClassifier(n_estimators = 500,\n",
    "                                   max_depth = depth,\n",
    "                                   random_state = 43,\n",
    "                                   auto_class_weights = 'Balanced',\n",
    "                                   cat_features = categorical_col,\n",
    "                                   verbose = 0)\n",
    "\n",
    "\n",
    "        # Training the Ensemble Classifier\n",
    "        clf.fit(x_tr, y_tr)\n",
    "\n",
    "        \n",
    "        train_pred = clf.predict_proba(x_tr)[:,1]\n",
    "\n",
    "        false_positive_rate, true_positive_rate, threshold = roc_curve(y_tr, train_pred)\n",
    "        roc_auc = auc(false_positive_rate, true_positive_rate)\n",
    "        train_scores.append(roc_auc)\n",
    "\n",
    "        test_pred = clf.predict_proba(x_val)[:,1]\n",
    "\n",
    "        false_positive_rate, true_positive_rate, threshold = roc_curve(y_val, test_pred)\n",
    "        roc_auc = auc(false_positive_rate, true_positive_rate)\n",
    "        test_scores.append(roc_auc)\n",
    "        \n",
    "    train_result.append(np.mean(train_scores))\n",
    "    test_result.append(np.mean(test_scores))\n",
    "    \n",
    "    print(\"Avg\", np.mean(test_scores))\n",
    "    \n",
    "    \n",
    "    \n",
    "print(\"Succussfully Completed\", \"\\n\")\n",
    "\n",
    "end_time = time.time()\n",
    "print(\"Execution Time : {}\".format(end_time - start_time))"
   ]
  },
  {
   "cell_type": "code",
   "execution_count": null,
   "metadata": {},
   "outputs": [],
   "source": [
    "import matplotlib.pyplot as plt\n",
    "\n",
    "line1 = plt.plot(max_depths, train_result, 'b', label = 'Train')\n",
    "line2 = plt.plot(max_depths, test_result,  'r', label = 'Test')\n",
    "plt.ylabel(\"AUC SCORE\")\n",
    "plt.xlabel(\"MAX_DEPTH\")\n",
    "plt.legend(loc = 'upper left', bbox_to_anchor = (1,1))\n",
    "plt.show()"
   ]
  },
  {
   "cell_type": "markdown",
   "metadata": {},
   "source": [
    "Summary:\n",
    "    \n",
    "    - We would finalize max_depth as 5"
   ]
  },
  {
   "cell_type": "markdown",
   "metadata": {},
   "source": [
    "**NOTE**:\n",
    "\n",
    "    1) CATBOOST automatically assigns learning rate while training, so we will not tune that parameter.\n",
    "  \n",
    "    2) CATBOOST uses symmetric grow_policy so no setting of num_leaves is required."
   ]
  },
  {
   "cell_type": "markdown",
   "metadata": {},
   "source": [
    "<br>"
   ]
  },
  {
   "cell_type": "markdown",
   "metadata": {},
   "source": [
    "### `CATBOOST TUNED`"
   ]
  },
  {
   "cell_type": "code",
   "execution_count": 52,
   "metadata": {},
   "outputs": [
    {
     "name": "stdout",
     "output_type": "stream",
     "text": [
      "0.6354571703355796\n",
      "0.6346546517889132\n",
      "0.6353823534811965\n",
      "0.6330098948431635\n",
      "0.6354436495431436\n",
      "Avg 0.6347895439983994\n",
      "\n",
      "\n",
      "Execution Time : 221.45598816871643\n"
     ]
    }
   ],
   "source": [
    "import catboost as cb\n",
    "import time \n",
    "\n",
    "from sklearn.metrics import roc_auc_score\n",
    "from sklearn.model_selection import train_test_split\n",
    "from sklearn.model_selection import StratifiedKFold\n",
    "\n",
    "kfold = StratifiedKFold(n_splits=5, shuffle = True, random_state = 43)\n",
    "scores   = []\n",
    "predicts = []\n",
    "\n",
    "start_time = time.time()\n",
    "for train_index, test_index in kfold.split(X, y):\n",
    "    X_train, X_val = X.iloc[train_index], X.iloc[test_index]\n",
    "    y_train, y_val = y.iloc[train_index], y.iloc[test_index]\n",
    "\n",
    "\n",
    "    # Initializing Model\n",
    "    clf = cb.CatBoostClassifier(n_estimators = 500,\n",
    "                                max_depth = 5,\n",
    "                                random_state = 43,\n",
    "                                auto_class_weights = 'Balanced',\n",
    "                                #cat_features = categorical_col,\n",
    "                                verbose = 0)\n",
    "\n",
    "\n",
    "    # Training the Ensemble Classifier\n",
    "    clf.fit(X_train, y_train)\n",
    "\n",
    "    # Predictions on valid Data\n",
    "    y_pred = clf.predict(X_val)\n",
    "    score  = roc_auc_score(y_pred, y_val)\n",
    "    print(score)\n",
    "    scores.append(score)\n",
    "     \n",
    "    \n",
    "    predicts.append(clf.predict_proba(test_data_copy)[:,1])\n",
    "    \n",
    "print(\"Avg\", np.mean(scores))\n",
    "\n",
    "end_time = time.time()\n",
    "print(\"\\n\")\n",
    "print(\"Execution Time : {}\".format(end_time - start_time))"
   ]
  },
  {
   "cell_type": "code",
   "execution_count": 53,
   "metadata": {},
   "outputs": [
    {
     "data": {
      "text/plain": [
       "array([5.34987523e-03, 7.59233174e-01, 7.23504741e-01, ...,\n",
       "       1.53407575e-03, 6.45693706e-04, 1.38305471e-02])"
      ]
     },
     "execution_count": 53,
     "metadata": {},
     "output_type": "execute_result"
    }
   ],
   "source": [
    "predict2 = np.mean(predicts, 0)\n",
    "predict2"
   ]
  },
  {
   "cell_type": "code",
   "execution_count": 54,
   "metadata": {},
   "outputs": [],
   "source": [
    "#list = [np.argmax(x) for x in col]\n",
    "sample_submit = pd.read_csv('sample_submission.csv')\n",
    "sample_submit['Response'] = predict2\n",
    "sample_submit.to_csv('sample_submission_GAURAV_CAT.csv', index = False)"
   ]
  },
  {
   "cell_type": "markdown",
   "metadata": {},
   "source": [
    "Summary:\n",
    "    \n",
    "    - N-Estimators (500) -> 0.8581553164  (Took 25-30 mins)\n",
    "    \n",
    "    - N-Estimators (1000)-> 0.85815459740 (Took 45-50 mins)\n",
    "    \n",
    "    - Increasing the estimators did not gave us beteer performance."
   ]
  },
  {
   "cell_type": "markdown",
   "metadata": {},
   "source": [
    "<br>"
   ]
  },
  {
   "cell_type": "markdown",
   "metadata": {},
   "source": [
    "## `XGBOOST`"
   ]
  },
  {
   "cell_type": "code",
   "execution_count": 55,
   "metadata": {},
   "outputs": [],
   "source": [
    "import xgboost as xg"
   ]
  },
  {
   "cell_type": "code",
   "execution_count": null,
   "metadata": {},
   "outputs": [],
   "source": [
    "# Importing Dataset\n",
    "\n",
    "train_data = pd.read_csv('train.csv')\n",
    "\n",
    "test_data  = pd.read_csv('test.csv')\n",
    "\n",
    "print(\"Data Imported Successfully\")"
   ]
  },
  {
   "cell_type": "code",
   "execution_count": null,
   "metadata": {},
   "outputs": [],
   "source": [
    "# Gender\n",
    "train_data['Gender'].replace({\n",
    "    'Male'  : 1,\n",
    "    'Female': 0\n",
    "}, inplace = True)\n",
    "\n",
    "test_data['Gender'].replace({\n",
    "    'Male'  : 1,\n",
    "    'Female': 0\n",
    "}, inplace = True)\n",
    "\n",
    "\n",
    "# Vehicle Age\n",
    "train_data['Vehicle_Age'].replace({\n",
    "    '< 1 Year' : 0,\n",
    "    '1-2 Year' : 1,\n",
    "    '> 2 Years': 2\n",
    "}, inplace = True)\n",
    "\n",
    "test_data['Vehicle_Age'].replace({\n",
    "    '< 1 Year' : 0,\n",
    "    '1-2 Year' : 1,\n",
    "    '> 2 Years': 2\n",
    "}, inplace = True)\n",
    "\n",
    "\n",
    "# Vehicle Damage\n",
    "train_data['Vehicle_Damage'].replace({\n",
    "    'Yes' : 1,\n",
    "    'No'  : 0\n",
    "}, inplace = True)\n",
    "\n",
    "test_data['Vehicle_Damage'].replace({\n",
    "    'Yes' : 1,\n",
    "    'No'  : 0\n",
    "}, inplace = True)"
   ]
  },
  {
   "cell_type": "code",
   "execution_count": null,
   "metadata": {},
   "outputs": [],
   "source": [
    "# Splitting Data - Independent and Dependent \n",
    "\n",
    "X = train_data.drop(columns = ['id', 'Response'],\n",
    "                    axis = 1)\n",
    "\n",
    "y = train_data[\"Response\"]"
   ]
  },
  {
   "cell_type": "code",
   "execution_count": null,
   "metadata": {},
   "outputs": [],
   "source": [
    "# Splitting Data - Training and Validation\n",
    "\n",
    "from sklearn.model_selection import train_test_split\n",
    "X_train, X_valid, y_train, y_valid = train_test_split(X, y, test_size = 0.2, random_state = 43)"
   ]
  },
  {
   "cell_type": "code",
   "execution_count": null,
   "metadata": {},
   "outputs": [],
   "source": [
    "xg.XGBClassifier()"
   ]
  },
  {
   "cell_type": "markdown",
   "metadata": {},
   "source": [
    "<br>"
   ]
  },
  {
   "cell_type": "markdown",
   "metadata": {},
   "source": [
    "#### `N_ESTIMATORS`"
   ]
  },
  {
   "cell_type": "code",
   "execution_count": null,
   "metadata": {},
   "outputs": [],
   "source": [
    "import time \n",
    "from sklearn.metrics import roc_auc_score, auc, roc_curve\n",
    "\n",
    "n_estimators = [200,400,600]\n",
    "\n",
    "train_result = []\n",
    "test_result  = []\n",
    "\n",
    "start_time = time.time()\n",
    "\n",
    "for estimators in n_estimators:\n",
    "    clf = xg.XGBClassifier(n_estimators = estimators,\n",
    "                           n_jobs = -1,\n",
    "                           objective = 'binary:logistic',\n",
    "                           random_state = 43)\n",
    "    \n",
    "    clf.fit(X_train, y_train)\n",
    "    \n",
    "    train_pred = clf.predict_proba(X_train)[:,1]\n",
    "    \n",
    "    false_positive_rate, true_positive_rate, threshold = roc_curve(y_train, train_pred)\n",
    "    roc_auc = auc(false_positive_rate, true_positive_rate)\n",
    "    train_result.append(roc_auc)\n",
    "    \n",
    "    test_pred = clf.predict_proba(X_valid)[:,1]\n",
    "    \n",
    "    false_positive_rate, true_positive_rate, threshold = roc_curve(y_valid, test_pred)\n",
    "    roc_auc = auc(false_positive_rate, true_positive_rate)\n",
    "    test_result.append(roc_auc)\n",
    "    \n",
    "    \n",
    "print(\"Succussfully Completed\", \"\\n\")\n",
    "\n",
    "end_time = time.time()\n",
    "print(\"Execution Time : {}\".format(end_time - start_time))"
   ]
  },
  {
   "cell_type": "code",
   "execution_count": null,
   "metadata": {},
   "outputs": [],
   "source": [
    "import matplotlib.pyplot as plt\n",
    "\n",
    "line1 = plt.plot(n_estimators, train_result, 'b', label = 'Train')\n",
    "line2 = plt.plot(n_estimators, test_result,  'r', label = 'Test')\n",
    "plt.ylabel(\"AUC SCORE\")\n",
    "plt.xlabel(\"N-ESTIMATORS\")\n",
    "plt.legend(loc = 'upper left', bbox_to_anchor = (1,1))\n",
    "plt.show()"
   ]
  },
  {
   "cell_type": "markdown",
   "metadata": {},
   "source": [
    "Summary:\n",
    "    \n",
    "    - As we saw as nos of estimators increased perfomance decreased.\n",
    "    \n",
    "    - We can check for n_estimators between 100-200 "
   ]
  },
  {
   "cell_type": "code",
   "execution_count": null,
   "metadata": {},
   "outputs": [],
   "source": [
    "import time \n",
    "from sklearn.metrics import roc_auc_score, auc, roc_curve\n",
    "\n",
    "n_estimators = [100, 125, 150, 175, 200]\n",
    "\n",
    "train_result = []\n",
    "test_result  = []\n",
    "\n",
    "start_time = time.time()\n",
    "\n",
    "for estimators in n_estimators:\n",
    "    clf = xg.XGBClassifier(n_estimators = estimators,\n",
    "                           n_jobs = -1,\n",
    "                           objective = 'binary:logistic',\n",
    "                           random_state = 43)\n",
    "    \n",
    "    clf.fit(X_train, y_train)\n",
    "    \n",
    "    train_pred = clf.predict_proba(X_train)[:,1]\n",
    "    \n",
    "    false_positive_rate, true_positive_rate, threshold = roc_curve(y_train, train_pred)\n",
    "    roc_auc = auc(false_positive_rate, true_positive_rate)\n",
    "    train_result.append(roc_auc)\n",
    "    \n",
    "    test_pred = clf.predict_proba(X_valid)[:,1]\n",
    "    \n",
    "    false_positive_rate, true_positive_rate, threshold = roc_curve(y_valid, test_pred)\n",
    "    roc_auc = auc(false_positive_rate, true_positive_rate)\n",
    "    test_result.append(roc_auc)\n",
    "    \n",
    "    \n",
    "print(\"Succussfully Completed\", \"\\n\")\n",
    "\n",
    "end_time = time.time()\n",
    "print(\"Execution Time : {}\".format(end_time - start_time))\n",
    "\n",
    "line1 = plt.plot(n_estimators, train_result, 'b', label = 'Train')\n",
    "line2 = plt.plot(n_estimators, test_result,  'r', label = 'Test')\n",
    "plt.ylabel(\"AUC SCORE\")\n",
    "plt.xlabel(\"N-ESTIMATORS\")\n",
    "plt.legend(loc = 'upper left', bbox_to_anchor = (1,1))\n",
    "plt.show()"
   ]
  },
  {
   "cell_type": "markdown",
   "metadata": {},
   "source": [
    "Summary:\n",
    "    \n",
    "    - We will finalize our n_estimator value = 100 for now."
   ]
  },
  {
   "cell_type": "markdown",
   "metadata": {},
   "source": [
    "<br>"
   ]
  },
  {
   "cell_type": "markdown",
   "metadata": {},
   "source": [
    "#### `MAX_DEPTH - (default = 6)`"
   ]
  },
  {
   "cell_type": "markdown",
   "metadata": {},
   "source": [
    "##### **NOTE** : _Increaing this value will make our model more complex and consume more memory_."
   ]
  },
  {
   "cell_type": "code",
   "execution_count": null,
   "metadata": {},
   "outputs": [],
   "source": [
    "import time \n",
    "from sklearn.metrics import roc_auc_score, auc, roc_curve\n",
    "\n",
    "max_depth = [2,3,4,5,6]\n",
    "\n",
    "train_result = []\n",
    "test_result  = []\n",
    "\n",
    "start_time = time.time()\n",
    "\n",
    "for depth in max_depth:\n",
    "    clf = xg.XGBClassifier(n_estimators = 100,\n",
    "                           max_depth = depth,\n",
    "                           n_jobs = -1,\n",
    "                           objective = 'binary:logistic',\n",
    "                           random_state = 43)\n",
    "    \n",
    "    clf.fit(X_train, y_train)\n",
    "    \n",
    "    train_pred = clf.predict_proba(X_train)[:,1]\n",
    "    \n",
    "    false_positive_rate, true_positive_rate, threshold = roc_curve(y_train, train_pred)\n",
    "    roc_auc = auc(false_positive_rate, true_positive_rate)\n",
    "    train_result.append(roc_auc)\n",
    "    \n",
    "    test_pred = clf.predict_proba(X_valid)[:,1]\n",
    "    \n",
    "    false_positive_rate, true_positive_rate, threshold = roc_curve(y_valid, test_pred)\n",
    "    roc_auc = auc(false_positive_rate, true_positive_rate)\n",
    "    test_result.append(roc_auc)\n",
    "    \n",
    "    \n",
    "print(\"Succussfully Completed\", \"\\n\")\n",
    "\n",
    "end_time = time.time()\n",
    "print(\"Execution Time : {}\".format(end_time - start_time))\n",
    "\n",
    "line1 = plt.plot(max_depth, train_result, 'b', label = 'Train')\n",
    "line2 = plt.plot(max_depth, test_result,  'r', label = 'Test')\n",
    "plt.ylabel(\"AUC SCORE\")\n",
    "plt.xlabel(\"MAX_DEPTH\")\n",
    "plt.legend(loc = 'upper left', bbox_to_anchor = (1,1))\n",
    "plt.show()"
   ]
  },
  {
   "cell_type": "markdown",
   "metadata": {},
   "source": [
    "Summary : \n",
    "    \n",
    "    We will finalize max_depth = 4"
   ]
  },
  {
   "cell_type": "markdown",
   "metadata": {},
   "source": [
    "<br>"
   ]
  },
  {
   "cell_type": "markdown",
   "metadata": {},
   "source": [
    "#### `LEARNING_RATE - (default = 0.3)`"
   ]
  },
  {
   "cell_type": "code",
   "execution_count": null,
   "metadata": {},
   "outputs": [],
   "source": [
    "import time \n",
    "from sklearn.metrics import roc_auc_score, auc, roc_curve\n",
    "\n",
    "learning_rate = [0.2, 0.3, 0.4]\n",
    "\n",
    "train_result = []\n",
    "test_result  = []\n",
    "\n",
    "start_time = time.time()\n",
    "\n",
    "for rate in learning_rate:\n",
    "    clf = xg.XGBClassifier(n_estimators = 100,\n",
    "                           max_depth = 4,\n",
    "                           eta = rate,\n",
    "                           n_jobs = -1,\n",
    "                           objective = 'binary:logistic',\n",
    "                           random_state = 43)\n",
    "    \n",
    "    clf.fit(X_train, y_train)\n",
    "    \n",
    "    train_pred = clf.predict_proba(X_train)[:,1]\n",
    "    \n",
    "    false_positive_rate, true_positive_rate, threshold = roc_curve(y_train, train_pred)\n",
    "    roc_auc = auc(false_positive_rate, true_positive_rate)\n",
    "    train_result.append(roc_auc)\n",
    "    \n",
    "    test_pred = clf.predict_proba(X_valid)[:,1]\n",
    "    \n",
    "    false_positive_rate, true_positive_rate, threshold = roc_curve(y_valid, test_pred)\n",
    "    roc_auc = auc(false_positive_rate, true_positive_rate)\n",
    "    test_result.append(roc_auc)\n",
    "    \n",
    "    \n",
    "print(\"Succussfully Completed\", \"\\n\")\n",
    "\n",
    "end_time = time.time()\n",
    "print(\"Execution Time : {}\".format(end_time - start_time))\n",
    "\n",
    "line1 = plt.plot(learning_rate, train_result, 'b', label = 'Train')\n",
    "line2 = plt.plot(learning_rate, test_result,  'r', label = 'Test')\n",
    "plt.ylabel(\"AUC SCORE\")\n",
    "plt.xlabel(\"LEARNING_RATE\")\n",
    "plt.legend(loc = 'upper left', bbox_to_anchor = (1,1))\n",
    "plt.show()"
   ]
  },
  {
   "cell_type": "markdown",
   "metadata": {},
   "source": [
    "Summary :\n",
    "    \n",
    "    - We will finalize eta (learning_rate) = 0.3"
   ]
  },
  {
   "cell_type": "markdown",
   "metadata": {},
   "source": [
    "<br>"
   ]
  },
  {
   "cell_type": "markdown",
   "metadata": {},
   "source": [
    "#### `BOOSTING_TYPE`"
   ]
  },
  {
   "cell_type": "code",
   "execution_count": null,
   "metadata": {},
   "outputs": [],
   "source": [
    "import time \n",
    "from sklearn.metrics import roc_auc_score, auc, roc_curve\n",
    "\n",
    "boosting_type = ['gbtree', 'dart']\n",
    "\n",
    "train_result = []\n",
    "test_result  = []\n",
    "\n",
    "start_time = time.time()\n",
    "\n",
    "for boost_type in boosting_type:\n",
    "    clf = xg.XGBClassifier(n_estimators = 100,\n",
    "                           max_depth = 4,\n",
    "                           eta = 0.3,\n",
    "                           booster = boost_type,\n",
    "                           n_jobs = -1,\n",
    "                           objective = 'binary:logistic',\n",
    "                           random_state = 43)\n",
    "    \n",
    "    clf.fit(X_train, y_train)\n",
    "    \n",
    "    train_pred = clf.predict_proba(X_train)[:,1]\n",
    "    \n",
    "    false_positive_rate, true_positive_rate, threshold = roc_curve(y_train, train_pred)\n",
    "    roc_auc = auc(false_positive_rate, true_positive_rate)\n",
    "    train_result.append(roc_auc)\n",
    "    \n",
    "    test_pred = clf.predict_proba(X_valid)[:,1]\n",
    "    \n",
    "    false_positive_rate, true_positive_rate, threshold = roc_curve(y_valid, test_pred)\n",
    "    roc_auc = auc(false_positive_rate, true_positive_rate)\n",
    "    test_result.append(roc_auc)\n",
    "    \n",
    "    \n",
    "print(\"Succussfully Completed\", \"\\n\")\n",
    "\n",
    "end_time = time.time()\n",
    "print(\"Execution Time : {}\".format(end_time - start_time))\n",
    "\n",
    "line1 = plt.plot(boosting_type, train_result, 'b', label = 'Train')\n",
    "line2 = plt.plot(boosting_type, test_result,  'r', label = 'Test')\n",
    "plt.ylabel(\"AUC SCORE\")\n",
    "plt.xlabel(\"BOOSTING_TYPE\")\n",
    "plt.legend(loc = 'upper left', bbox_to_anchor = (1,1))\n",
    "plt.show()"
   ]
  },
  {
   "cell_type": "markdown",
   "metadata": {},
   "source": [
    "Summary : \n",
    "    \n",
    "    - We can use default = 'gbtree'"
   ]
  },
  {
   "cell_type": "markdown",
   "metadata": {},
   "source": [
    "<br>"
   ]
  },
  {
   "cell_type": "markdown",
   "metadata": {},
   "source": [
    "#### `SUBSAMPLE`"
   ]
  },
  {
   "cell_type": "code",
   "execution_count": null,
   "metadata": {},
   "outputs": [],
   "source": [
    "import time \n",
    "from sklearn.metrics import roc_auc_score, auc, roc_curve\n",
    "\n",
    "subsample = [0.5, 0.6, 0.7, 0.8, 0.9]\n",
    "\n",
    "train_result = []\n",
    "test_result  = []\n",
    "\n",
    "start_time = time.time()\n",
    "\n",
    "for sample in subsample:\n",
    "    clf = xg.XGBClassifier(n_estimators = 100,\n",
    "                           max_depth = 4,\n",
    "                           eta = 0.3,\n",
    "                           booster = 'gbtree',\n",
    "                           subsample = sample,\n",
    "                           n_jobs = -1,\n",
    "                           objective = 'binary:logistic',\n",
    "                           random_state = 43)\n",
    "    \n",
    "    clf.fit(X_train, y_train)\n",
    "    \n",
    "    train_pred = clf.predict_proba(X_train)[:,1]\n",
    "    \n",
    "    false_positive_rate, true_positive_rate, threshold = roc_curve(y_train, train_pred)\n",
    "    roc_auc = auc(false_positive_rate, true_positive_rate)\n",
    "    train_result.append(roc_auc)\n",
    "    \n",
    "    test_pred = clf.predict_proba(X_valid)[:,1]\n",
    "    \n",
    "    false_positive_rate, true_positive_rate, threshold = roc_curve(y_valid, test_pred)\n",
    "    roc_auc = auc(false_positive_rate, true_positive_rate)\n",
    "    test_result.append(roc_auc)\n",
    "    \n",
    "    \n",
    "print(\"Succussfully Completed\", \"\\n\")\n",
    "\n",
    "end_time = time.time()\n",
    "print(\"Execution Time : {}\".format(end_time - start_time))\n",
    "\n",
    "line1 = plt.plot(subsample, train_result, 'b', label = 'Train')\n",
    "line2 = plt.plot(subsample, test_result,  'r', label = 'Test')\n",
    "plt.ylabel(\"AUC SCORE\")\n",
    "plt.xlabel(\"SUBSAMPLE PERCENTAGE\")\n",
    "plt.legend(loc = 'upper left', bbox_to_anchor = (1,1))\n",
    "plt.show()"
   ]
  },
  {
   "cell_type": "markdown",
   "metadata": {},
   "source": [
    "Summary:\n",
    "    \n",
    "    - We can finalize subsample = 0.9"
   ]
  },
  {
   "cell_type": "markdown",
   "metadata": {},
   "source": [
    "<br>"
   ]
  },
  {
   "cell_type": "markdown",
   "metadata": {},
   "source": [
    "#### `SCALE_POS_WEIGHT`"
   ]
  },
  {
   "cell_type": "markdown",
   "metadata": {},
   "source": [
    "**REF** : https://machinelearningmastery.com/xgboost-for-imbalanced-classification/"
   ]
  },
  {
   "cell_type": "code",
   "execution_count": null,
   "metadata": {},
   "outputs": [],
   "source": [
    "y_train.value_counts(normalize = True)"
   ]
  },
  {
   "cell_type": "code",
   "execution_count": null,
   "metadata": {},
   "outputs": [],
   "source": [
    "import collections\n",
    "\n",
    "# count examples in each class\n",
    "counter = collections.Counter(y)\n",
    "\n",
    "# estimate scale_pos_weight value\n",
    "estimate = counter[0] / counter[1]\n",
    "print('Estimate: %.3f' % estimate)"
   ]
  },
  {
   "cell_type": "code",
   "execution_count": null,
   "metadata": {},
   "outputs": [],
   "source": [
    "import time \n",
    "from sklearn.metrics import roc_auc_score, auc, roc_curve\n",
    "\n",
    "scale_weigths = [7.159, 700.159, 7000.159, 70000.159, 700000.159]\n",
    "\n",
    "train_result = []\n",
    "test_result  = []\n",
    "\n",
    "start_time = time.time()\n",
    "\n",
    "for each in scale_weigths:\n",
    "    clf = xg.XGBClassifier(n_estimators = 100,\n",
    "                           max_depth = 4,\n",
    "                           eta = 0.3,\n",
    "                           booster = 'gbtree',\n",
    "                           subsample = 0.9,\n",
    "                           scale_pos_weight = each,\n",
    "                           n_jobs = -1,\n",
    "                           objective = 'binary:logistic',\n",
    "                           random_state = 43)\n",
    "    \n",
    "    clf.fit(X_train, y_train)\n",
    "    \n",
    "    train_pred = clf.predict_proba(X_train)[:,1]\n",
    "    \n",
    "    false_positive_rate, true_positive_rate, threshold = roc_curve(y_train, train_pred)\n",
    "    roc_auc = auc(false_positive_rate, true_positive_rate)\n",
    "    train_result.append(roc_auc)\n",
    "    \n",
    "    test_pred = clf.predict_proba(X_valid)[:,1]\n",
    "    \n",
    "    false_positive_rate, true_positive_rate, threshold = roc_curve(y_valid, test_pred)\n",
    "    roc_auc = auc(false_positive_rate, true_positive_rate)\n",
    "    test_result.append(roc_auc)\n",
    "    \n",
    "    \n",
    "print(\"Succussfully Completed\", \"\\n\")\n",
    "\n",
    "end_time = time.time()\n",
    "print(\"Execution Time : {}\".format(end_time - start_time))\n",
    "\n",
    "line1 = plt.plot(scale_pos_weight, train_result, 'b', label = 'Train')\n",
    "line2 = plt.plot(scale_pos_weight, test_result,  'r', label = 'Test')\n",
    "plt.ylabel(\"AUC SCORE\")\n",
    "plt.xlabel(\"SUBSAMPLE PERCENTAGE\")\n",
    "plt.legend(loc = 'upper left', bbox_to_anchor = (1,1))\n",
    "plt.show()"
   ]
  },
  {
   "cell_type": "markdown",
   "metadata": {},
   "source": [
    "Summary:\n",
    "    \n",
    "    - We can between 0-100000 there is a steep decline in the AUC.\n",
    "    \n",
    "    - We can analyze for lesser scale_pos_Weight"
   ]
  },
  {
   "cell_type": "code",
   "execution_count": null,
   "metadata": {},
   "outputs": [],
   "source": [
    "import time \n",
    "from sklearn.metrics import roc_auc_score, auc, roc_curve\n",
    "\n",
    "scale_weigths = [7, 10, 20, 30 , 40, 50, 60, 70, 80, 90, 100]\n",
    "\n",
    "train_result = []\n",
    "test_result  = []\n",
    "\n",
    "start_time = time.time()\n",
    "\n",
    "for each in scale_weigths:\n",
    "    clf = xg.XGBClassifier(n_estimators = 100,\n",
    "                           max_depth = 4,\n",
    "                           eta = 0.3,\n",
    "                           booster = 'gbtree',\n",
    "                           subsample = 0.9,\n",
    "                           scale_pos_weight = each,\n",
    "                           n_jobs = -1,\n",
    "                           objective = 'binary:logistic',\n",
    "                           random_state = 43)\n",
    "    \n",
    "    clf.fit(X_train, y_train)\n",
    "    \n",
    "    train_pred = clf.predict_proba(X_train)[:,1]\n",
    "    \n",
    "    false_positive_rate, true_positive_rate, threshold = roc_curve(y_train, train_pred)\n",
    "    roc_auc = auc(false_positive_rate, true_positive_rate)\n",
    "    train_result.append(roc_auc)\n",
    "    \n",
    "    test_pred = clf.predict_proba(X_valid)[:,1]\n",
    "    \n",
    "    false_positive_rate, true_positive_rate, threshold = roc_curve(y_valid, test_pred)\n",
    "    roc_auc = auc(false_positive_rate, true_positive_rate)\n",
    "    test_result.append(roc_auc)\n",
    "    \n",
    "    \n",
    "print(\"Succussfully Completed\", \"\\n\")\n",
    "\n",
    "end_time = time.time()\n",
    "print(\"Execution Time : {}\".format(end_time - start_time))\n",
    "\n",
    "line1 = plt.plot(scale_weigths, train_result, 'b', label = 'Train')\n",
    "line2 = plt.plot(scale_weigths, test_result,  'r', label = 'Test')\n",
    "plt.ylabel(\"AUC SCORE\")\n",
    "plt.xlabel(\"SUBSAMPLE PERCENTAGE\")\n",
    "plt.legend(loc = 'upper left', bbox_to_anchor = (1,1))\n",
    "plt.show()"
   ]
  },
  {
   "cell_type": "code",
   "execution_count": null,
   "metadata": {},
   "outputs": [],
   "source": [
    "import time \n",
    "from sklearn.metrics import roc_auc_score, auc, roc_curve\n",
    "\n",
    "scale_weigths = np.linspace(1,20,20).astype('int')\n",
    "\n",
    "train_result = []\n",
    "test_result  = []\n",
    "\n",
    "start_time = time.time()\n",
    "\n",
    "for each in scale_weigths:\n",
    "    clf = xg.XGBClassifier(n_estimators = 100,\n",
    "                           max_depth = 4,\n",
    "                           eta = 0.3,\n",
    "                           booster = 'gbtree',\n",
    "                           subsample = 0.9,\n",
    "                           scale_pos_weight = each,\n",
    "                           n_jobs = -1,\n",
    "                           objective = 'binary:logistic',\n",
    "                           random_state = 43)\n",
    "    \n",
    "    clf.fit(X_train, y_train)\n",
    "    \n",
    "    train_pred = clf.predict_proba(X_train)[:,1]\n",
    "    \n",
    "    false_positive_rate, true_positive_rate, threshold = roc_curve(y_train, train_pred)\n",
    "    roc_auc = auc(false_positive_rate, true_positive_rate)\n",
    "    train_result.append(roc_auc)\n",
    "    \n",
    "    test_pred = clf.predict_proba(X_valid)[:,1]\n",
    "    \n",
    "    false_positive_rate, true_positive_rate, threshold = roc_curve(y_valid, test_pred)\n",
    "    roc_auc = auc(false_positive_rate, true_positive_rate)\n",
    "    test_result.append(roc_auc)\n",
    "    \n",
    "    \n",
    "print(\"Succussfully Completed\", \"\\n\")\n",
    "\n",
    "end_time = time.time()\n",
    "print(\"Execution Time : {}\".format(end_time - start_time))\n",
    "\n",
    "line1 = plt.plot(scale_weigths, train_result, 'b', label = 'Train')\n",
    "line2 = plt.plot(scale_weigths, test_result,  'r', label = 'Test')\n",
    "plt.ylabel(\"AUC SCORE\")\n",
    "plt.xlabel(\"SUBSAMPLE PERCENTAGE\")\n",
    "plt.legend(loc = 'upper left', bbox_to_anchor = (1,1))\n",
    "plt.show()"
   ]
  },
  {
   "cell_type": "markdown",
   "metadata": {},
   "source": [
    "Summary:\n",
    "    \n",
    "    - We will finalize our scale_pos_weight = 5"
   ]
  },
  {
   "cell_type": "markdown",
   "metadata": {},
   "source": [
    "<br>"
   ]
  },
  {
   "cell_type": "markdown",
   "metadata": {},
   "source": [
    "### `XGBOOST TUNED`"
   ]
  },
  {
   "cell_type": "code",
   "execution_count": null,
   "metadata": {},
   "outputs": [],
   "source": [
    "test_data.drop(columns = 'id',\n",
    "               axis = 1,\n",
    "               inplace = True)"
   ]
  },
  {
   "cell_type": "code",
   "execution_count": 56,
   "metadata": {},
   "outputs": [
    {
     "name": "stdout",
     "output_type": "stream",
     "text": [
      "0.6406832810715111\n",
      "0.6386399156515985\n",
      "0.6403939470192573\n",
      "0.6377904213702199\n",
      "0.6408777177322444\n",
      "Avg 0.6396770565689662\n",
      "\n",
      "\n",
      "Execution Time : 114.45214629173279\n"
     ]
    }
   ],
   "source": [
    "import xgboost as xg\n",
    "import time \n",
    "\n",
    "from sklearn.metrics import roc_auc_score\n",
    "from sklearn.model_selection import train_test_split\n",
    "from sklearn.model_selection import StratifiedKFold\n",
    "\n",
    "kfold = StratifiedKFold(n_splits=5, shuffle = True, random_state = 43)\n",
    "scores   = []\n",
    "predicts = []\n",
    "\n",
    "start_time = time.time()\n",
    "for train_index, test_index in kfold.split(X, y):\n",
    "    X_train, X_val = X.iloc[train_index], X.iloc[test_index]\n",
    "    y_train, y_val = y.iloc[train_index], y.iloc[test_index]\n",
    "\n",
    "\n",
    "    # Initializing Model\n",
    "    clf = xg.XGBClassifier(n_estimators = 200,\n",
    "                           max_depth = 3,\n",
    "                           learning_rate = 0.3,\n",
    "                           booster = 'gbtree',\n",
    "                           subsample = 0.9,\n",
    "                           scale_pos_weight = 5)\n",
    "\n",
    "\n",
    "    # Training the Ensemble Classifier\n",
    "    clf.fit(X_train, y_train)\n",
    "\n",
    "    # Predictions on valid Data\n",
    "    y_pred = clf.predict(X_val)\n",
    "    score  = roc_auc_score(y_pred, y_val)\n",
    "    print(score)\n",
    "    scores.append(score)\n",
    "     \n",
    "    \n",
    "    predicts.append(clf.predict_proba(test_data_copy)[:,1])\n",
    "    \n",
    "print(\"Avg\", np.mean(scores))\n",
    "\n",
    "end_time = time.time()\n",
    "print(\"\\n\")\n",
    "print(\"Execution Time : {}\".format(end_time - start_time))"
   ]
  },
  {
   "cell_type": "code",
   "execution_count": 57,
   "metadata": {},
   "outputs": [
    {
     "data": {
      "text/plain": [
       "array([0.00665265, 0.7383076 , 0.6568235 , ..., 0.00158164, 0.00107561,\n",
       "       0.00957332], dtype=float32)"
      ]
     },
     "execution_count": 57,
     "metadata": {},
     "output_type": "execute_result"
    }
   ],
   "source": [
    "predict3 = np.mean(predicts, 0)\n",
    "predict3"
   ]
  },
  {
   "cell_type": "code",
   "execution_count": 58,
   "metadata": {},
   "outputs": [],
   "source": [
    "#list = [np.argmax(x) for x in col]\n",
    "sample_submit = pd.read_csv('sample_submission.csv')\n",
    "sample_submit['Response'] = predict3\n",
    "sample_submit.to_csv('sample_submission_GAURAV_XGBOOST.csv', index = False)"
   ]
  },
  {
   "cell_type": "markdown",
   "metadata": {},
   "source": [
    "Summary:\n",
    "    \n",
    "    - N_Estimators (100)  -> 0.857491901300129\n",
    "    \n",
    "    - N_Estimators (200)  -> 0.857708266757799\n",
    "    \n",
    "    - N_Estimators (500)  -> 0.856981177421187\n",
    "    \n",
    "    - We can conclude as the value of n_estimators goes high after 200 there is drop in AUC_ROC."
   ]
  },
  {
   "cell_type": "markdown",
   "metadata": {},
   "source": [
    "<br>"
   ]
  },
  {
   "cell_type": "markdown",
   "metadata": {},
   "source": [
    "## LGBM:\n",
    "\n",
    "Avg 0.6346705711610678, predict1\n"
   ]
  },
  {
   "cell_type": "markdown",
   "metadata": {},
   "source": [
    "## CATBOOST:\n",
    "\n",
    "Avg 0.6358417153089688, predict2"
   ]
  },
  {
   "cell_type": "markdown",
   "metadata": {},
   "source": [
    "## XGBOOST\n",
    "\n",
    "Avg 0.6395254094267087, predict3"
   ]
  },
  {
   "cell_type": "code",
   "execution_count": 63,
   "metadata": {},
   "outputs": [
    {
     "data": {
      "text/plain": [
       "array([0.00621266, 0.74192929, 0.67073416, ..., 0.001618  , 0.00138506,\n",
       "       0.01335436])"
      ]
     },
     "execution_count": 63,
     "metadata": {},
     "output_type": "execute_result"
    }
   ],
   "source": [
    "final_pred = (0.1*predict1 + 0.1*predict2 + 0.8*predict3)\n",
    "final_pred"
   ]
  },
  {
   "cell_type": "code",
   "execution_count": 64,
   "metadata": {},
   "outputs": [],
   "source": [
    "#list = [np.argmax(x) for x in col]\n",
    "sample_submit = pd.read_csv('sample_submission.csv')\n",
    "sample_submit['Response'] = final_pred\n",
    "sample_submit.to_csv('sample_submission_GAURAV_ENSEMBLE_2.csv', index = False)"
   ]
  },
  {
   "cell_type": "markdown",
   "metadata": {},
   "source": [
    "## `ENSEMBLE - CATBOOST,LIGHTGBM & XGBOOST`"
   ]
  },
  {
   "cell_type": "code",
   "execution_count": null,
   "metadata": {},
   "outputs": [],
   "source": [
    "train_data = pd.read_csv('train.csv')\n",
    "\n",
    "test_data  = pd.read_csv('test.csv')\n",
    "\n",
    "print(\"Data imported successfully\")"
   ]
  },
  {
   "cell_type": "code",
   "execution_count": null,
   "metadata": {},
   "outputs": [],
   "source": [
    "categorical_col = ['Gender','Driving_License', 'Region_Code', 'Previously_Insured', 'Vehicle_Age', 'Vehicle_Damage','Policy_Sales_Channel']"
   ]
  },
  {
   "cell_type": "code",
   "execution_count": null,
   "metadata": {},
   "outputs": [],
   "source": [
    "# Converting Flot - Int (CATBOOST)\n",
    "\n",
    "train_data['Region_Code'] = train_data['Region_Code'].astype('int64')\n",
    "test_data['Region_Code']  = test_data['Region_Code'].astype('int64')\n",
    "\n",
    "train_data['Policy_Sales_Channel'] = train_data['Region_Code'].astype('int64')\n",
    "test_data['Policy_Sales_Channel']  = test_data['Policy_Sales_Channel'].astype('int64')"
   ]
  },
  {
   "cell_type": "code",
   "execution_count": null,
   "metadata": {},
   "outputs": [],
   "source": [
    "# Gender\n",
    "train_data['Gender'].replace({\n",
    "    'Male'  : 1,\n",
    "    'Female': 0\n",
    "}, inplace = True)\n",
    "\n",
    "test_data['Gender'].replace({\n",
    "    'Male'  : 1,\n",
    "    'Female': 0\n",
    "}, inplace = True)\n",
    "\n",
    "\n",
    "# Vehicle Age\n",
    "train_data['Vehicle_Age'].replace({\n",
    "    '< 1 Year' : 0,\n",
    "    '1-2 Year' : 1,\n",
    "    '> 2 Years': 2\n",
    "}, inplace = True)\n",
    "\n",
    "test_data['Vehicle_Age'].replace({\n",
    "    '< 1 Year' : 0,\n",
    "    '1-2 Year' : 1,\n",
    "    '> 2 Years': 2\n",
    "}, inplace = True)\n",
    "\n",
    "\n",
    "# Vehicle Damage\n",
    "train_data['Vehicle_Damage'].replace({\n",
    "    'Yes' : 1,\n",
    "    'No'  : 0\n",
    "}, inplace = True)\n",
    "\n",
    "test_data['Vehicle_Damage'].replace({\n",
    "    'Yes' : 1,\n",
    "    'No'  : 0\n",
    "}, inplace = True)"
   ]
  },
  {
   "cell_type": "code",
   "execution_count": null,
   "metadata": {},
   "outputs": [],
   "source": [
    "# Splitting Data - Independent and Dependent\n",
    "\n",
    "X = train_data.drop(columns = ['id', 'Response'],\n",
    "                    axis = 1)\n",
    "\n",
    "y = train_data['Response']"
   ]
  },
  {
   "cell_type": "code",
   "execution_count": null,
   "metadata": {},
   "outputs": [],
   "source": [
    "test_data.drop(columns = ['id'],\n",
    "               axis = 1,\n",
    "               inplace = True)"
   ]
  },
  {
   "cell_type": "markdown",
   "metadata": {},
   "source": [
    "<br>"
   ]
  },
  {
   "cell_type": "code",
   "execution_count": null,
   "metadata": {
    "scrolled": true
   },
   "outputs": [],
   "source": [
    "import lightgbm as lg\n",
    "import catboost as cb\n",
    "import xgboost as xg\n",
    "import time\n",
    "from sklearn.ensemble import VotingClassifier\n",
    "from sklearn.metrics import roc_auc_score\n",
    "from sklearn.model_selection import train_test_split\n",
    "from sklearn.model_selection import StratifiedKFold\n",
    "\n",
    "kfold = StratifiedKFold(n_splits=10, shuffle = True, random_state = 43)\n",
    "scores   = []\n",
    "predicts = []\n",
    "\n",
    "start_time = time.time()\n",
    "for train_index, test_index in kfold.split(X, y):\n",
    "    X_train, X_val = X.iloc[train_index], X.iloc[test_index]\n",
    "    y_train, y_val = y.iloc[train_index], y.iloc[test_index]\n",
    "\n",
    "    i = 1\n",
    "    # Initializing Model\n",
    "    model1 = cb.CatBoostClassifier(n_estimators = 500,\n",
    "                                   max_depth = 5,\n",
    "                                   random_state = 43,\n",
    "                                   auto_class_weights = 'Balanced',\n",
    "                                   cat_features = categorical_col,\n",
    "                                   verbose = 0)\n",
    "\n",
    "    model2 = lg.LGBMClassifier(n_estimators = 500,\n",
    "                               max_depth = 5,\n",
    "                               num_leaves = 20,\n",
    "                               is_unbalance = True,\n",
    "                               boosting_type = 'gbdt',\n",
    "                               learning_rate = 0.05,\n",
    "                               colsample_bytree = 0.6,\n",
    "                               objective = 'binary',\n",
    "                               n_jobs =-1,\n",
    "                               random_state = 43)\n",
    "    \n",
    "    model3 = xg.XGBClassifier(n_estimators = 200,\n",
    "                              max_depth = 3,\n",
    "                              learning_rate = 0.3,\n",
    "                              booster = 'gbtree',\n",
    "                              subsample = 0.9,\n",
    "                              scale_pos_weight = 5)\n",
    "    \n",
    "    \n",
    "    clf = VotingClassifier(estimators = [('CATBOOST', model1), ('LIGHTGBM', model2), ('XGBOOST', model3)], \n",
    "                           voting='soft')\n",
    "\n",
    "\n",
    "    # Training the Ensemble Classifier\n",
    "    clf.fit(X_train, y_train)\n",
    "\n",
    "    # Predictions on valid Data\n",
    "    y_pred = clf.predict(X_val)\n",
    "    score  = roc_auc_score(y_pred, y_val)\n",
    "    print(score)\n",
    "    scores.append(score)\n",
    "     \n",
    "    \n",
    "    predicts.append(clf.predict_proba(test_data)[:,1])\n",
    "    \n",
    "print(\"Avg\", np.mean(scores))\n",
    "\n",
    "end_time = time.time()\n",
    "print(\"\\n\")\n",
    "print(\"Execution Time : {}\".format(end_time - start_time))"
   ]
  },
  {
   "cell_type": "code",
   "execution_count": null,
   "metadata": {},
   "outputs": [],
   "source": [
    "col = np.mean(predicts, 0)\n",
    "col"
   ]
  },
  {
   "cell_type": "code",
   "execution_count": null,
   "metadata": {},
   "outputs": [],
   "source": [
    "#list = [np.argmax(x) for x in col]\n",
    "sample_submit = pd.read_csv('sample_submission.csv')\n",
    "sample_submit['Response'] = col\n",
    "sample_submit.to_csv('sample_submission_ENSEMBLED.csv', index = False)"
   ]
  },
  {
   "cell_type": "markdown",
   "metadata": {},
   "source": [
    "Summary:\n",
    "    \n",
    "    - AUC_ROC acheived when combining CATBOOST & LIGHTGBM            -> 0.849251704601147, Avg 0.6328588218461132\n",
    "    \n",
    "    - AUC_ROC acheived when combining CATBOOST< LIGHTGBM and XGBOOST -> 0.850602279647608, Avg 0.6340135188069497\n",
    "    \n",
    "    - Looks like ENSEMBLE is not working for this compitition."
   ]
  },
  {
   "cell_type": "code",
   "execution_count": null,
   "metadata": {},
   "outputs": [],
   "source": [
    "'''\n",
    "from sklearn.model_selection import train_test_split\n",
    "X_train, X_tst, y_train, y_tst = train_test_split(X, y, test_size = 0.2,random_state = 43)\n",
    "'''"
   ]
  },
  {
   "cell_type": "code",
   "execution_count": null,
   "metadata": {},
   "outputs": [],
   "source": [
    "'''\n",
    "import time \n",
    "from sklearn.model_selection import StratifiedKFold\n",
    "\n",
    "max_depths =  np.linspace(1, 30, 10).astype('int')\n",
    "\n",
    "train_result = []\n",
    "test_result  = []\n",
    "test_result2 = []\n",
    "\n",
    "start_time = time.time()\n",
    "\n",
    "kfold = StratifiedKFold(n_splits=3, shuffle = True, random_state = 43)\n",
    "\n",
    "for depth in max_depths:\n",
    "    kfold = StratifiedKFold(n_splits=3, shuffle = True, random_state = 43)\n",
    "    train_scores   = []\n",
    "    test_scores    = []\n",
    "    test_scores2   = []\n",
    " \n",
    "    for train_index, test_index in kfold.split(X_train, y_train):\n",
    "        x_tr, x_val = X_train.iloc[train_index], X.iloc[test_index]\n",
    "        y_tr, y_val = y_train.iloc[train_index], y.iloc[test_index]\n",
    "\n",
    "\n",
    "    # Initializing Model\n",
    "        clf = cb.CatBoostClassifier(n_estimators = 500,\n",
    "                                   max_depth = depth,\n",
    "                                   random_state = 43,\n",
    "                                   auto_class_weights = 'Balanced',\n",
    "                                   cat_features = categorical_col,\n",
    "                                   verbose = 0)\n",
    "\n",
    "\n",
    "        # Training the Ensemble Classifier\n",
    "        clf.fit(x_tr, y_tr)\n",
    "\n",
    "        \n",
    "        train_pred = clf.predict_proba(x_tr)[:,1]\n",
    "\n",
    "        false_positive_rate, true_positive_rate, threshold = roc_curve(y_tr, train_pred)\n",
    "        roc_auc = auc(false_positive_rate, true_positive_rate)\n",
    "        train_scores.append(roc_auc)\n",
    "\n",
    "        test_pred = clf.predict_proba(x_val)[:,1]\n",
    "\n",
    "        false_positive_rate, true_positive_rate, threshold = roc_curve(y_val, test_pred)\n",
    "        roc_auc = auc(false_positive_rate, true_positive_rate)\n",
    "        test_scores.append(roc_auc)\n",
    "        \n",
    "        test_pred2 = clf.predict_proba(X_tst)[:,1]\n",
    "\n",
    "        false_positive_rate, true_positive_rate, threshold = roc_curve(y_tst, test_pred2)\n",
    "        roc_auc = auc(false_positive_rate, true_positive_rate)\n",
    "        test_scores2.append(roc_auc)\n",
    "            \n",
    "    train_result.append(np.mean(train_scores))\n",
    "    test_result.append(np.mean(test_scores))\n",
    "    test_result2.append(np.mean(test_scores2))\n",
    "    \n",
    "    print(\"Avg\", np.mean(test_scores))\n",
    "    \n",
    "    \n",
    "    \n",
    "print(\"Succussfully Completed\", \"\\n\")\n",
    "\n",
    "end_time = time.time()\n",
    "print(\"Execution Time : {}\".format(end_time - start_time))\n",
    "'''"
   ]
  },
  {
   "cell_type": "code",
   "execution_count": null,
   "metadata": {},
   "outputs": [],
   "source": [
    "'''\n",
    "from sklearn.utils import class_weight\n",
    "cw = class_weight.compute_class_weight('balanced',\n",
    "                                             np.unique(y),\n",
    "                                             y=y)\n",
    "cw\n",
    "'''"
   ]
  }
 ],
 "metadata": {
  "kernelspec": {
   "display_name": "Python 3",
   "language": "python",
   "name": "python3"
  },
  "language_info": {
   "codemirror_mode": {
    "name": "ipython",
    "version": 3
   },
   "file_extension": ".py",
   "mimetype": "text/x-python",
   "name": "python",
   "nbconvert_exporter": "python",
   "pygments_lexer": "ipython3",
   "version": "3.7.4"
  }
 },
 "nbformat": 4,
 "nbformat_minor": 2
}
