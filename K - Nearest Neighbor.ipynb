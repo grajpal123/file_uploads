{
 "cells": [
  {
   "cell_type": "markdown",
   "metadata": {},
   "source": [
    "## K - NEAREST NEIGHBOR  "
   ]
  },
  {
   "cell_type": "markdown",
   "metadata": {},
   "source": [
    "### __`STEP 1. IMPORT LIBRARIES`__"
   ]
  },
  {
   "cell_type": "code",
   "execution_count": 1,
   "metadata": {},
   "outputs": [],
   "source": [
    "import pandas as pd\n",
    "import numpy as np\n",
    "import matplotlib.pyplot as plt\n",
    "import seaborn as sns\n",
    "\n",
    "import warnings\n",
    "warnings.filterwarnings('ignore')\n",
    "\n",
    "%matplotlib inline"
   ]
  },
  {
   "cell_type": "markdown",
   "metadata": {},
   "source": [
    "<br>"
   ]
  },
  {
   "cell_type": "markdown",
   "metadata": {},
   "source": [
    "### __`STEP 2. IMPORT DATASET`__"
   ]
  },
  {
   "cell_type": "code",
   "execution_count": 2,
   "metadata": {},
   "outputs": [
    {
     "name": "stdout",
     "output_type": "stream",
     "text": [
      "Data Imported Successfully\n"
     ]
    }
   ],
   "source": [
    "data = pd.read_csv('train.csv')\n",
    "\n",
    "print(\"Data Imported Successfully\")"
   ]
  },
  {
   "cell_type": "code",
   "execution_count": 3,
   "metadata": {},
   "outputs": [
    {
     "data": {
      "text/plain": [
       "(891, 12)"
      ]
     },
     "execution_count": 3,
     "metadata": {},
     "output_type": "execute_result"
    }
   ],
   "source": [
    "# Checking Size/Dimension\n",
    "\n",
    "data.shape"
   ]
  },
  {
   "cell_type": "code",
   "execution_count": 4,
   "metadata": {},
   "outputs": [
    {
     "data": {
      "text/plain": [
       "Index(['PassengerId', 'Survived', 'Pclass', 'Name', 'Sex', 'Age', 'SibSp',\n",
       "       'Parch', 'Ticket', 'Fare', 'Cabin', 'Embarked'],\n",
       "      dtype='object')"
      ]
     },
     "execution_count": 4,
     "metadata": {},
     "output_type": "execute_result"
    }
   ],
   "source": [
    "# Checking columns\n",
    "\n",
    "data.keys()"
   ]
  },
  {
   "cell_type": "code",
   "execution_count": 5,
   "metadata": {},
   "outputs": [
    {
     "data": {
      "text/html": [
       "<div>\n",
       "<style scoped>\n",
       "    .dataframe tbody tr th:only-of-type {\n",
       "        vertical-align: middle;\n",
       "    }\n",
       "\n",
       "    .dataframe tbody tr th {\n",
       "        vertical-align: top;\n",
       "    }\n",
       "\n",
       "    .dataframe thead th {\n",
       "        text-align: right;\n",
       "    }\n",
       "</style>\n",
       "<table border=\"1\" class=\"dataframe\">\n",
       "  <thead>\n",
       "    <tr style=\"text-align: right;\">\n",
       "      <th></th>\n",
       "      <th>PassengerId</th>\n",
       "      <th>Survived</th>\n",
       "      <th>Pclass</th>\n",
       "      <th>Name</th>\n",
       "      <th>Sex</th>\n",
       "      <th>Age</th>\n",
       "      <th>SibSp</th>\n",
       "      <th>Parch</th>\n",
       "      <th>Ticket</th>\n",
       "      <th>Fare</th>\n",
       "      <th>Cabin</th>\n",
       "      <th>Embarked</th>\n",
       "    </tr>\n",
       "  </thead>\n",
       "  <tbody>\n",
       "    <tr>\n",
       "      <td>0</td>\n",
       "      <td>1</td>\n",
       "      <td>0</td>\n",
       "      <td>3</td>\n",
       "      <td>Braund, Mr. Owen Harris</td>\n",
       "      <td>male</td>\n",
       "      <td>22.0</td>\n",
       "      <td>1</td>\n",
       "      <td>0</td>\n",
       "      <td>A/5 21171</td>\n",
       "      <td>7.2500</td>\n",
       "      <td>NaN</td>\n",
       "      <td>S</td>\n",
       "    </tr>\n",
       "    <tr>\n",
       "      <td>1</td>\n",
       "      <td>2</td>\n",
       "      <td>1</td>\n",
       "      <td>1</td>\n",
       "      <td>Cumings, Mrs. John Bradley (Florence Briggs Th...</td>\n",
       "      <td>female</td>\n",
       "      <td>38.0</td>\n",
       "      <td>1</td>\n",
       "      <td>0</td>\n",
       "      <td>PC 17599</td>\n",
       "      <td>71.2833</td>\n",
       "      <td>C85</td>\n",
       "      <td>C</td>\n",
       "    </tr>\n",
       "    <tr>\n",
       "      <td>2</td>\n",
       "      <td>3</td>\n",
       "      <td>1</td>\n",
       "      <td>3</td>\n",
       "      <td>Heikkinen, Miss. Laina</td>\n",
       "      <td>female</td>\n",
       "      <td>26.0</td>\n",
       "      <td>0</td>\n",
       "      <td>0</td>\n",
       "      <td>STON/O2. 3101282</td>\n",
       "      <td>7.9250</td>\n",
       "      <td>NaN</td>\n",
       "      <td>S</td>\n",
       "    </tr>\n",
       "  </tbody>\n",
       "</table>\n",
       "</div>"
      ],
      "text/plain": [
       "   PassengerId  Survived  Pclass  \\\n",
       "0            1         0       3   \n",
       "1            2         1       1   \n",
       "2            3         1       3   \n",
       "\n",
       "                                                Name     Sex   Age  SibSp  \\\n",
       "0                            Braund, Mr. Owen Harris    male  22.0      1   \n",
       "1  Cumings, Mrs. John Bradley (Florence Briggs Th...  female  38.0      1   \n",
       "2                             Heikkinen, Miss. Laina  female  26.0      0   \n",
       "\n",
       "   Parch            Ticket     Fare Cabin Embarked  \n",
       "0      0         A/5 21171   7.2500   NaN        S  \n",
       "1      0          PC 17599  71.2833   C85        C  \n",
       "2      0  STON/O2. 3101282   7.9250   NaN        S  "
      ]
     },
     "execution_count": 5,
     "metadata": {},
     "output_type": "execute_result"
    }
   ],
   "source": [
    "# Checking first 3 records\n",
    "\n",
    "data.head(3)"
   ]
  },
  {
   "cell_type": "markdown",
   "metadata": {},
   "source": [
    "<br>"
   ]
  },
  {
   "cell_type": "markdown",
   "metadata": {},
   "source": [
    "### `STEP 3. EXPLORATORY DATA ANALYSIS (EDA) / DATA EXPLORATION`"
   ]
  },
  {
   "cell_type": "markdown",
   "metadata": {},
   "source": [
    "#### __` 1) VARIABLE IDENTIFICATION & TYPCASTING`__"
   ]
  },
  {
   "cell_type": "code",
   "execution_count": 6,
   "metadata": {},
   "outputs": [
    {
     "data": {
      "text/plain": [
       "PassengerId      int64\n",
       "Survived         int64\n",
       "Pclass           int64\n",
       "Name            object\n",
       "Sex             object\n",
       "Age            float64\n",
       "SibSp            int64\n",
       "Parch            int64\n",
       "Ticket          object\n",
       "Fare           float64\n",
       "Cabin           object\n",
       "Embarked        object\n",
       "dtype: object"
      ]
     },
     "execution_count": 6,
     "metadata": {},
     "output_type": "execute_result"
    }
   ],
   "source": [
    "data.dtypes"
   ]
  },
  {
   "cell_type": "markdown",
   "metadata": {},
   "source": [
    "> > __`TYCASTING`__"
   ]
  },
  {
   "cell_type": "markdown",
   "metadata": {},
   "source": [
    "-  `Passenger ID` is unique identifier and it can be drpped as it will have uniform distribution.\n",
    "\n",
    "\n",
    "-  `Survived` has two values 0 & 1. It needs to be tycasted into category or object \n",
    "\n",
    "\n",
    "-  `Pclass` has 3 variables 1, 2 & 3. It also needs to converted into category or object \n",
    "\n",
    "\n",
    "- `Sibsp`  and `Parch` can be an integer value."
   ]
  },
  {
   "cell_type": "code",
   "execution_count": 7,
   "metadata": {},
   "outputs": [],
   "source": [
    "data.drop(columns = ['PassengerId', 'Name', 'Ticket'],\n",
    "          axis = 1, \n",
    "          inplace = True)\n",
    "\n",
    "data['Survived'] = data['Survived'].astype('category')\n",
    "data['Pclass']   = data['Pclass'].astype('category')"
   ]
  },
  {
   "cell_type": "code",
   "execution_count": 8,
   "metadata": {},
   "outputs": [
    {
     "data": {
      "text/plain": [
       "Survived    category\n",
       "Pclass      category\n",
       "Sex           object\n",
       "Age          float64\n",
       "SibSp          int64\n",
       "Parch          int64\n",
       "Fare         float64\n",
       "Cabin         object\n",
       "Embarked      object\n",
       "dtype: object"
      ]
     },
     "execution_count": 8,
     "metadata": {},
     "output_type": "execute_result"
    }
   ],
   "source": [
    "data.dtypes"
   ]
  },
  {
   "cell_type": "markdown",
   "metadata": {},
   "source": [
    "<br>"
   ]
  },
  {
   "cell_type": "markdown",
   "metadata": {},
   "source": [
    "#### __`2) UNIVARAINT ANALYSIS`__"
   ]
  },
  {
   "cell_type": "markdown",
   "metadata": {},
   "source": [
    "> > __`SURVIVED`__"
   ]
  },
  {
   "cell_type": "code",
   "execution_count": 9,
   "metadata": {},
   "outputs": [
    {
     "name": "stdout",
     "output_type": "stream",
     "text": [
      "Nos of values :\n",
      "0    549\n",
      "1    342\n",
      "Name: Survived, dtype: int64\n"
     ]
    },
    {
     "data": {
      "image/png": "[encoded data removed]",
      "text/plain": [
       "<Figure size 720x432 with 1 Axes>"
      ]
     },
     "metadata": {
      "needs_background": "light"
     },
     "output_type": "display_data"
    }
   ],
   "source": [
    "print(\"Nos of values :\")\n",
    "print(data['Survived'].value_counts())\n",
    "\n",
    "plt.figure(figsize = (10,6))\n",
    "sns.countplot(x = 'Survived',\n",
    "              data = data,\n",
    "              palette = 'bone')\n",
    "plt.xlabel(\"Survived\")\n",
    "plt.ylabel(\"Frequency\")\n",
    "plt.title(\"Nos of observation - Survived\")\n",
    "\n",
    "plt.show()"
   ]
  },
  {
   "cell_type": "markdown",
   "metadata": {},
   "source": [
    "Summary : \n",
    "\n",
    " - Survival observation's are more than Death in our datatset.\n"
   ]
  },
  {
   "cell_type": "markdown",
   "metadata": {},
   "source": [
    "> > __`PASSENGER CLASS`__"
   ]
  },
  {
   "cell_type": "code",
   "execution_count": 10,
   "metadata": {},
   "outputs": [
    {
     "name": "stdout",
     "output_type": "stream",
     "text": [
      "Nos of values :\n",
      "3    491\n",
      "1    216\n",
      "2    184\n",
      "Name: Pclass, dtype: int64\n"
     ]
    },
    {
     "data": {
      "image/png": "[encoded data removed]",
      "text/plain": [
       "<Figure size 720x432 with 1 Axes>"
      ]
     },
     "metadata": {
      "needs_background": "light"
     },
     "output_type": "display_data"
    }
   ],
   "source": [
    "print(\"Nos of values :\")\n",
    "print(data['Pclass'].value_counts())\n",
    "\n",
    "plt.figure(figsize = (10,6))\n",
    "sns.countplot(x = 'Pclass',\n",
    "              data = data,\n",
    "              palette = 'bone')\n",
    "plt.xlabel(\"Pclass\")\n",
    "plt.ylabel(\"Frequency\")\n",
    "plt.title(\"Nos of observation - Passenger Class\")\n",
    "\n",
    "plt.show()"
   ]
  },
  {
   "cell_type": "markdown",
   "metadata": {},
   "source": [
    "Summary\n",
    "\n",
    " - Pclass 3 has more observation as compared to others.\n",
    " \n",
    " \n",
    " - We need to do further Bivariant Analysis and check which Pclass people survived also check with other parameters as well."
   ]
  },
  {
   "cell_type": "markdown",
   "metadata": {},
   "source": [
    "> > __`EMBARKED`__"
   ]
  },
  {
   "cell_type": "code",
   "execution_count": 11,
   "metadata": {},
   "outputs": [
    {
     "name": "stdout",
     "output_type": "stream",
     "text": [
      "Nos of values :\n",
      "S    644\n",
      "C    168\n",
      "Q     77\n",
      "Name: Embarked, dtype: int64\n"
     ]
    },
    {
     "data": {
      "image/png": "[encoded data removed]",
      "text/plain": [
       "<Figure size 720x432 with 1 Axes>"
      ]
     },
     "metadata": {
      "needs_background": "light"
     },
     "output_type": "display_data"
    }
   ],
   "source": [
    "print(\"Nos of values :\")\n",
    "print(data['Embarked'].value_counts())\n",
    "\n",
    "plt.figure(figsize = (10,6))\n",
    "sns.countplot(x = 'Embarked',\n",
    "              data = data,\n",
    "              palette = 'bone')\n",
    "plt.xlabel(\"Pclass\")\n",
    "plt.ylabel(\"Frequency\")\n",
    "plt.title(\"Nos of observation - Embarked\")\n",
    "\n",
    "plt.show()"
   ]
  },
  {
   "cell_type": "markdown",
   "metadata": {},
   "source": [
    "Summary :\n",
    "\n",
    " - We have C = Cherbourg, Q = Queenstown, S = Southampton port where people board.\n",
    " \n",
    " \n",
    " - As per above visualization we can see that people boarded Southampthon port in large number as comapred to others.\n",
    " \n",
    " \n",
    " - Further analysis needs to be done and check which category of the people boarded which port and chdck the survival. "
   ]
  },
  {
   "cell_type": "markdown",
   "metadata": {},
   "source": [
    "> > __`SIBLINGS / SPOUSE`__"
   ]
  },
  {
   "cell_type": "code",
   "execution_count": 12,
   "metadata": {},
   "outputs": [
    {
     "name": "stdout",
     "output_type": "stream",
     "text": [
      "Nos of values :\n",
      "0    608\n",
      "1    209\n",
      "2     28\n",
      "4     18\n",
      "3     16\n",
      "8      7\n",
      "5      5\n",
      "Name: SibSp, dtype: int64\n"
     ]
    },
    {
     "data": {
      "image/png": "[encoded data removed]",
      "text/plain": [
       "<Figure size 720x432 with 1 Axes>"
      ]
     },
     "metadata": {
      "needs_background": "light"
     },
     "output_type": "display_data"
    }
   ],
   "source": [
    "print(\"Nos of values :\")\n",
    "print(data['SibSp'].value_counts())\n",
    "\n",
    "plt.figure(figsize = (10,6))\n",
    "sns.countplot(x = 'SibSp',\n",
    "              data = data,\n",
    "              palette = 'bone')\n",
    "plt.xlabel(\"Siblings / Spouse\")\n",
    "plt.ylabel(\"Frequency\")\n",
    "plt.title(\"Nos of observation - Siblings / Spouse\")\n",
    "\n",
    "plt.show()"
   ]
  },
  {
   "cell_type": "markdown",
   "metadata": {},
   "source": [
    "Summary \n",
    "\n",
    " - As per visulaization we can see that most of siblings ranges from 0 to 8 siblings\n",
    "\n",
    "\n",
    " - Most of passengers as we can see are not having any siblings followed by the passengers who have only 1 siblings as the second highest types of passengers on board.\n",
    "\n",
    "\n",
    " -  We have only 7 passengers who have the highest nos of siblings or spouse.\n",
    " \n",
    " \n",
    " - Furthers analysis needs to be done and check whether Nos of siblings / Spouse was having any effect on Survival.\n",
    "\n",
    " "
   ]
  },
  {
   "cell_type": "markdown",
   "metadata": {},
   "source": [
    "> > __`PARENT / CHILD`__"
   ]
  },
  {
   "cell_type": "code",
   "execution_count": 13,
   "metadata": {},
   "outputs": [
    {
     "name": "stdout",
     "output_type": "stream",
     "text": [
      "Nos of values :\n",
      "0    678\n",
      "1    118\n",
      "2     80\n",
      "5      5\n",
      "3      5\n",
      "4      4\n",
      "6      1\n",
      "Name: Parch, dtype: int64\n"
     ]
    },
    {
     "data": {
      "image/png": "[encoded data removed]",
      "text/plain": [
       "<Figure size 720x432 with 1 Axes>"
      ]
     },
     "metadata": {
      "needs_background": "light"
     },
     "output_type": "display_data"
    }
   ],
   "source": [
    "print(\"Nos of values :\")\n",
    "print(data['Parch'].value_counts())\n",
    "\n",
    "plt.figure(figsize = (10,6))\n",
    "sns.countplot(x = 'Parch',\n",
    "              data = data,\n",
    "              palette = 'bone')\n",
    "plt.xlabel(\"Parent / Child\")\n",
    "plt.ylabel(\"Frequency\")\n",
    "plt.title(\"Nos of observation - Parent / Child\")\n",
    "\n",
    "plt.show()"
   ]
  },
  {
   "cell_type": "markdown",
   "metadata": {},
   "source": [
    "Summary:\n",
    "    \n",
    " - We can see that most of the childrens travel with their nanny / caretaker hence Parch = 0 observation are seen to be high (Index = 0 )\n",
    " \n",
    "\n",
    "- We can see that only 26% of the childrens travel with their parents.\n",
    "\n",
    "\n",
    " - We need to further analyze and check, was it having any impact on survival. "
   ]
  },
  {
   "cell_type": "markdown",
   "metadata": {},
   "source": [
    "> > __`GENDER`__"
   ]
  },
  {
   "cell_type": "code",
   "execution_count": 14,
   "metadata": {},
   "outputs": [],
   "source": [
    "data['Sex'].replace({\n",
    "    'male' : 'Male',\n",
    "    'female' : 'Female'\n",
    "}, inplace  = True)"
   ]
  },
  {
   "cell_type": "code",
   "execution_count": 15,
   "metadata": {},
   "outputs": [
    {
     "name": "stdout",
     "output_type": "stream",
     "text": [
      "Nos of values :\n",
      "Male      577\n",
      "Female    314\n",
      "Name: Sex, dtype: int64\n"
     ]
    },
    {
     "data": {
      "image/png": "[encoded data removed]",
      "text/plain": [
       "<Figure size 720x432 with 1 Axes>"
      ]
     },
     "metadata": {
      "needs_background": "light"
     },
     "output_type": "display_data"
    }
   ],
   "source": [
    "print(\"Nos of values :\")\n",
    "print(data['Sex'].value_counts())\n",
    "\n",
    "plt.figure(figsize = (10,6))\n",
    "sns.countplot(x = 'Sex',\n",
    "              data = data,\n",
    "              palette = 'bone')\n",
    "plt.xlabel(\"Gender\")\n",
    "plt.ylabel(\"Frequency\")\n",
    "plt.title(\"Nos of observation - Gender\")\n",
    "\n",
    "plt.show()"
   ]
  },
  {
   "cell_type": "markdown",
   "metadata": {},
   "source": [
    "Summary : \n",
    "    \n",
    " - As per observation we can see that there are more nos of males as compared to females.\n",
    " \n",
    " \n",
    " - We need to do further anlaysis and check if gender had any ipact on survival."
   ]
  },
  {
   "cell_type": "markdown",
   "metadata": {},
   "source": [
    "> > __`FARE`__"
   ]
  },
  {
   "cell_type": "code",
   "execution_count": 16,
   "metadata": {},
   "outputs": [
    {
     "data": {
      "text/plain": [
       "count    891.000000\n",
       "mean      32.204208\n",
       "std       49.693429\n",
       "min        0.000000\n",
       "25%        7.910400\n",
       "50%       14.454200\n",
       "75%       31.000000\n",
       "max      512.329200\n",
       "Name: Fare, dtype: float64"
      ]
     },
     "execution_count": 16,
     "metadata": {},
     "output_type": "execute_result"
    }
   ],
   "source": [
    "# 5 point summary\n",
    "\n",
    "data['Fare'].describe()"
   ]
  },
  {
   "cell_type": "code",
   "execution_count": 17,
   "metadata": {},
   "outputs": [
    {
     "name": "stdout",
     "output_type": "stream",
     "text": [
      "Percent of missing \"Fare\" records is 0.00%\n"
     ]
    }
   ],
   "source": [
    "print('Percent of missing \"Fare\" records is %.2f%%' %((data['Fare'].isnull().sum()/data.shape[0])*100))"
   ]
  },
  {
   "cell_type": "code",
   "execution_count": 18,
   "metadata": {},
   "outputs": [
    {
     "name": "stdout",
     "output_type": "stream",
     "text": [
      "Skewness : 4.787316519674893, Kurtosis : 33.39814088089868\n"
     ]
    },
    {
     "data": {
      "image/png": "[encoded data removed]",
      "text/plain": [
       "<Figure size 1440x360 with 3 Axes>"
      ]
     },
     "metadata": {
      "needs_background": "light"
     },
     "output_type": "display_data"
    }
   ],
   "source": [
    "plt.figure(figsize = (20,5))\n",
    "\n",
    "plt.subplot(1,3,1)\n",
    "sns.distplot(data['Fare'], kde = False)\n",
    "\n",
    "plt.subplot(1,3,2)\n",
    "sns.distplot(data['Fare'], hist = False)\n",
    "\n",
    "plt.subplot(1,3,3)\n",
    "sns.boxplot(data['Fare'], orient = 'horizontal')\n",
    "\n",
    "print(\"Skewness : {}, Kurtosis : {}\".format(data['Fare'].skew(), data['Fare'].kurtosis()))\n",
    "plt.show()"
   ]
  },
  {
   "cell_type": "markdown",
   "metadata": {},
   "source": [
    "Summary : \n",
    "\n",
    " - `Skew` value is greater than 0.5 which implies that it is Right Skewed.\n",
    " \n",
    " \n",
    " - `Kurtosis` value is greater than 0 (Platykurtic) which imples that there are high chances of outlier being present.\n",
    " \n",
    " \n",
    " - We will look into this in data preprocessing step."
   ]
  },
  {
   "cell_type": "markdown",
   "metadata": {},
   "source": [
    "> > __`AGE`__"
   ]
  },
  {
   "cell_type": "code",
   "execution_count": 19,
   "metadata": {},
   "outputs": [
    {
     "data": {
      "text/plain": [
       "count    714.000000\n",
       "mean      29.699118\n",
       "std       14.526497\n",
       "min        0.420000\n",
       "25%       20.125000\n",
       "50%       28.000000\n",
       "75%       38.000000\n",
       "max       80.000000\n",
       "Name: Age, dtype: float64"
      ]
     },
     "execution_count": 19,
     "metadata": {},
     "output_type": "execute_result"
    }
   ],
   "source": [
    "# 5 point summary \n",
    "\n",
    "data.Age.describe()"
   ]
  },
  {
   "cell_type": "code",
   "execution_count": 20,
   "metadata": {},
   "outputs": [
    {
     "name": "stdout",
     "output_type": "stream",
     "text": [
      "Percent of missing \"Age\" records is 19.87%\n"
     ]
    }
   ],
   "source": [
    "# Checking Missing values\n",
    "\n",
    "print('Percent of missing \"Age\" records is %.2f%%' %((data['Age'].isnull().sum()/data.shape[0])*100))"
   ]
  },
  {
   "cell_type": "code",
   "execution_count": 21,
   "metadata": {},
   "outputs": [
    {
     "name": "stdout",
     "output_type": "stream",
     "text": [
      "Skewness : 0.38910778230082704, Kurtosis : 0.17827415364210353\n"
     ]
    },
    {
     "data": {
      "image/png": "[encoded data removed]",
      "text/plain": [
       "<Figure size 1440x360 with 2 Axes>"
      ]
     },
     "metadata": {
      "needs_background": "light"
     },
     "output_type": "display_data"
    },
    {
     "data": {
      "text/plain": [
       "<Figure size 432x288 with 0 Axes>"
      ]
     },
     "metadata": {},
     "output_type": "display_data"
    }
   ],
   "source": [
    "plt.figure(figsize=(20,5))\n",
    "\n",
    "plt.subplot(1,2,1)\n",
    "sns.distplot(data.Age, hist = False)\n",
    "\n",
    "plt.subplot(1,2,2)\n",
    "sns.boxplot(data.Age, orient = 'horizontal')\n",
    "\n",
    "print(\"Skewness : {}, Kurtosis : {}\".format(data['Age'].skew(), data['Age'].kurtosis()))\n",
    "\n",
    "plt.show()\n",
    "plt.tight_layout()"
   ]
  },
  {
   "cell_type": "markdown",
   "metadata": {},
   "source": [
    "Summary : \n",
    "\n",
    "  - `Skewness` is between -0.5 and 0.5, so looks to be normal distribution.\n",
    "     \n",
    "     \n",
    "  - `Kurtosis` is less than 0.5 (Platykurtic), which implies very less distribution are to be seen across tails of distribution\n",
    "     \n",
    "     \n",
    "  - There are some outlier and missing values under the Age, which needs to be handled during Bivariant analysis and Data Preprocessing step."
   ]
  },
  {
   "cell_type": "code",
   "execution_count": 22,
   "metadata": {},
   "outputs": [
    {
     "data": {
      "text/plain": [
       "Survived      0\n",
       "Pclass        0\n",
       "Sex           0\n",
       "Age         177\n",
       "SibSp         0\n",
       "Parch         0\n",
       "Fare          0\n",
       "Cabin       687\n",
       "Embarked      2\n",
       "dtype: int64"
      ]
     },
     "execution_count": 22,
     "metadata": {},
     "output_type": "execute_result"
    }
   ],
   "source": [
    "# Checking missing values \n",
    "\n",
    "data.isnull().sum()"
   ]
  },
  {
   "cell_type": "markdown",
   "metadata": {},
   "source": [
    "#### `INFERENCES FROM UNIVARIANT ANALYSIS`"
   ]
  },
  {
   "cell_type": "markdown",
   "metadata": {},
   "source": [
    " - `Survived` observations where more as compared to `Death`.\n",
    "\n",
    "\n",
    " - `Pclass = 3` was observed highest number of bookings by passengers. We need to analyze further analyze teh Pclass and Survival.\n",
    "\n",
    "\n",
    " - Most of the people where boarded from `Southampton` port.\n",
    " \n",
    " \n",
    " - Most of the passengers where did not had any siblings.\n",
    " \n",
    " \n",
    " - Most of the childrens where seen to be travelling with their nanny or caretaker. Single parent (Husband or Wife) or 1 parent & 1 child total 2 passengers where also observed to some extent.\n",
    " \n",
    " \n",
    " - `Fare` and `Age` columns where having outlier's which needs to be handled in Data Preprocessing stage.\n",
    " "
   ]
  },
  {
   "cell_type": "markdown",
   "metadata": {},
   "source": [
    "<br>"
   ]
  },
  {
   "cell_type": "markdown",
   "metadata": {},
   "source": [
    "#### __`3) BIVARIANT ANALYSIS`__"
   ]
  },
  {
   "cell_type": "code",
   "execution_count": 23,
   "metadata": {},
   "outputs": [],
   "source": [
    "data['Survived'] = data['Survived'].astype('int')"
   ]
  },
  {
   "cell_type": "markdown",
   "metadata": {},
   "source": [
    "> >  __`PCLASS vs SURVIVAL`__"
   ]
  },
  {
   "cell_type": "code",
   "execution_count": 24,
   "metadata": {},
   "outputs": [
    {
     "data": {
      "image/png": "[encoded data removed]",
      "text/plain": [
       "<Figure size 720x432 with 1 Axes>"
      ]
     },
     "metadata": {
      "needs_background": "light"
     },
     "output_type": "display_data"
    }
   ],
   "source": [
    "plt.figure(figsize = (10,6))\n",
    "\n",
    "sns.barplot(x = 'Pclass',\n",
    "            y = 'Survived',\n",
    "            data = data,\n",
    "            color = 'darkturquoise')\n",
    "plt.xlabel('Passenger Class')\n",
    "plt.ylabel('Survival Probability')\n",
    "plt.title('Passenger Class vs Survival')\n",
    "\n",
    "plt.show()"
   ]
  },
  {
   "cell_type": "markdown",
   "metadata": {},
   "source": [
    "Summary:\n",
    "\n",
    "The graph talks about which class of passengers are more likely to survive.\n",
    "\n",
    "As per above visualization we can see that passengers belonging to 1st class where more likely to survive inspite of more booking of Pclass 3 as we observed in univariant analysis.\n",
    "\n"
   ]
  },
  {
   "cell_type": "markdown",
   "metadata": {},
   "source": [
    "> > __`GENDER vs SURVIVAL`__"
   ]
  },
  {
   "cell_type": "code",
   "execution_count": 25,
   "metadata": {},
   "outputs": [
    {
     "data": {
      "image/png": "[encoded data removed]",
      "text/plain": [
       "<Figure size 720x432 with 1 Axes>"
      ]
     },
     "metadata": {
      "needs_background": "light"
     },
     "output_type": "display_data"
    }
   ],
   "source": [
    "data['Sex'].replace({\n",
    "    'male'   : 'Male',\n",
    "    'female' : 'Female'\n",
    "}, inplace = True)\n",
    "\n",
    "plt.figure(figsize = (10,6))\n",
    "\n",
    "sns.barplot(x = 'Sex',\n",
    "            y = 'Survived',\n",
    "            data = data,\n",
    "            color = 'darkturquoise')\n",
    "plt.xlabel('Gender')\n",
    "plt.ylabel('Survival Probability')\n",
    "plt.title('Gender vs Survival')\n",
    "\n",
    "plt.show()"
   ]
  },
  {
   "cell_type": "markdown",
   "metadata": {},
   "source": [
    "Summary : \n",
    "    \n",
    "The graph talks about the chances of survival of males and females in our dataset.\n",
    "\n",
    "As per above visualization we can see that, survival rate of females where more as compared to male's inspite of more number of males to be observed during univariant analysis."
   ]
  },
  {
   "cell_type": "markdown",
   "metadata": {},
   "source": [
    "> > __`AGE vs SURVIVAL`__"
   ]
  },
  {
   "cell_type": "code",
   "execution_count": 26,
   "metadata": {},
   "outputs": [
    {
     "data": {
      "image/png": "[encoded data removed]",
      "text/plain": [
       "<Figure size 720x360 with 1 Axes>"
      ]
     },
     "metadata": {
      "needs_background": "light"
     },
     "output_type": "display_data"
    }
   ],
   "source": [
    "plt.figure(figsize = (10,5))\n",
    "\n",
    "sns.boxplot(x = 'Age',\n",
    "            y = 'Survived',\n",
    "            data = data,\n",
    "            palette = 'bone',\n",
    "            orient = 'horizontal')\n",
    "plt.title(\"Age Distribution vs Survival\")\n",
    "plt.show()"
   ]
  },
  {
   "cell_type": "code",
   "execution_count": 27,
   "metadata": {},
   "outputs": [
    {
     "data": {
      "text/html": [
       "<div>\n",
       "<style scoped>\n",
       "    .dataframe tbody tr th:only-of-type {\n",
       "        vertical-align: middle;\n",
       "    }\n",
       "\n",
       "    .dataframe tbody tr th {\n",
       "        vertical-align: top;\n",
       "    }\n",
       "\n",
       "    .dataframe thead th {\n",
       "        text-align: right;\n",
       "    }\n",
       "</style>\n",
       "<table border=\"1\" class=\"dataframe\">\n",
       "  <thead>\n",
       "    <tr style=\"text-align: right;\">\n",
       "      <th></th>\n",
       "      <th>Age</th>\n",
       "    </tr>\n",
       "  </thead>\n",
       "  <tbody>\n",
       "    <tr>\n",
       "      <td>count</td>\n",
       "      <td>424.000000</td>\n",
       "    </tr>\n",
       "    <tr>\n",
       "      <td>mean</td>\n",
       "      <td>30.626179</td>\n",
       "    </tr>\n",
       "    <tr>\n",
       "      <td>std</td>\n",
       "      <td>14.172110</td>\n",
       "    </tr>\n",
       "    <tr>\n",
       "      <td>min</td>\n",
       "      <td>1.000000</td>\n",
       "    </tr>\n",
       "    <tr>\n",
       "      <td>25%</td>\n",
       "      <td>21.000000</td>\n",
       "    </tr>\n",
       "    <tr>\n",
       "      <td>50%</td>\n",
       "      <td>28.000000</td>\n",
       "    </tr>\n",
       "    <tr>\n",
       "      <td>75%</td>\n",
       "      <td>39.000000</td>\n",
       "    </tr>\n",
       "    <tr>\n",
       "      <td>max</td>\n",
       "      <td>74.000000</td>\n",
       "    </tr>\n",
       "  </tbody>\n",
       "</table>\n",
       "</div>"
      ],
      "text/plain": [
       "              Age\n",
       "count  424.000000\n",
       "mean    30.626179\n",
       "std     14.172110\n",
       "min      1.000000\n",
       "25%     21.000000\n",
       "50%     28.000000\n",
       "75%     39.000000\n",
       "max     74.000000"
      ]
     },
     "execution_count": 27,
     "metadata": {},
     "output_type": "execute_result"
    }
   ],
   "source": [
    "data_age_0 = pd.DataFrame(data.Age[data.Survived == 0], columns = ['Age'])\n",
    "data_age_0.describe()"
   ]
  },
  {
   "cell_type": "code",
   "execution_count": 28,
   "metadata": {},
   "outputs": [
    {
     "data": {
      "text/html": [
       "<div>\n",
       "<style scoped>\n",
       "    .dataframe tbody tr th:only-of-type {\n",
       "        vertical-align: middle;\n",
       "    }\n",
       "\n",
       "    .dataframe tbody tr th {\n",
       "        vertical-align: top;\n",
       "    }\n",
       "\n",
       "    .dataframe thead th {\n",
       "        text-align: right;\n",
       "    }\n",
       "</style>\n",
       "<table border=\"1\" class=\"dataframe\">\n",
       "  <thead>\n",
       "    <tr style=\"text-align: right;\">\n",
       "      <th></th>\n",
       "      <th>Age</th>\n",
       "    </tr>\n",
       "  </thead>\n",
       "  <tbody>\n",
       "    <tr>\n",
       "      <td>count</td>\n",
       "      <td>290.000000</td>\n",
       "    </tr>\n",
       "    <tr>\n",
       "      <td>mean</td>\n",
       "      <td>28.343690</td>\n",
       "    </tr>\n",
       "    <tr>\n",
       "      <td>std</td>\n",
       "      <td>14.950952</td>\n",
       "    </tr>\n",
       "    <tr>\n",
       "      <td>min</td>\n",
       "      <td>0.420000</td>\n",
       "    </tr>\n",
       "    <tr>\n",
       "      <td>25%</td>\n",
       "      <td>19.000000</td>\n",
       "    </tr>\n",
       "    <tr>\n",
       "      <td>50%</td>\n",
       "      <td>28.000000</td>\n",
       "    </tr>\n",
       "    <tr>\n",
       "      <td>75%</td>\n",
       "      <td>36.000000</td>\n",
       "    </tr>\n",
       "    <tr>\n",
       "      <td>max</td>\n",
       "      <td>80.000000</td>\n",
       "    </tr>\n",
       "  </tbody>\n",
       "</table>\n",
       "</div>"
      ],
      "text/plain": [
       "              Age\n",
       "count  290.000000\n",
       "mean    28.343690\n",
       "std     14.950952\n",
       "min      0.420000\n",
       "25%     19.000000\n",
       "50%     28.000000\n",
       "75%     36.000000\n",
       "max     80.000000"
      ]
     },
     "execution_count": 28,
     "metadata": {},
     "output_type": "execute_result"
    }
   ],
   "source": [
    "data_age_1 = pd.DataFrame(data.Age[data.Survived == 1], columns = ['Age'])\n",
    "data_age_1.describe()"
   ]
  },
  {
   "cell_type": "markdown",
   "metadata": {},
   "source": [
    "Summary :\n",
    "\n",
    "The graph above shows the distribution of the age varibale with survival rate.\n",
    "\n",
    "\n",
    " - As per univariant analysis we could see that age was having somewhat normal distribution. The result can be seen in bivariant analysis that, there is not much any difference in mean and median is same when compared with survival variable.\n",
    " \n",
    " \n",
    " - People ranging in 20 - 40 years of age had high increase in death rate as compared to survival rate.\n",
    " \n",
    "\n",
    " - There where some outlier observed as well in both the cases.We will have to check further and remove the outliers as it can drastically affects the statistical significance."
   ]
  },
  {
   "cell_type": "markdown",
   "metadata": {},
   "source": [
    "> > __`FARE vs SURVIVAL`__"
   ]
  },
  {
   "cell_type": "code",
   "execution_count": 29,
   "metadata": {},
   "outputs": [
    {
     "data": {
      "text/plain": [
       "count    891.000000\n",
       "mean      32.204208\n",
       "std       49.693429\n",
       "min        0.000000\n",
       "25%        7.910400\n",
       "50%       14.454200\n",
       "75%       31.000000\n",
       "max      512.329200\n",
       "Name: Fare, dtype: float64"
      ]
     },
     "execution_count": 29,
     "metadata": {},
     "output_type": "execute_result"
    }
   ],
   "source": [
    "# 5 point Summary\n",
    "\n",
    "data['Fare'].describe()"
   ]
  },
  {
   "cell_type": "code",
   "execution_count": 30,
   "metadata": {},
   "outputs": [
    {
     "data": {
      "image/png": "[encoded data removed]",
      "text/plain": [
       "<Figure size 720x360 with 1 Axes>"
      ]
     },
     "metadata": {
      "needs_background": "light"
     },
     "output_type": "display_data"
    }
   ],
   "source": [
    "plt.figure(figsize = (10,5))\n",
    "\n",
    "sns.boxplot(x = 'Fare',\n",
    "            y = 'Survived',\n",
    "            data = data,\n",
    "            palette = 'bone',\n",
    "            orient = 'horizontal')\n",
    "plt.title(\"Fare Distribution vs Survival\")\n",
    "plt.xlim(0,300)\n",
    "plt.show()"
   ]
  },
  {
   "cell_type": "markdown",
   "metadata": {},
   "source": [
    "Summary:\n",
    "    \n",
    "The graph shows the distribution of Fare along with survival rate.\n",
    "\n",
    "  - As per previous visulaization - `Pclass vs Survival` we could conclude that person's belonging to `Pclass 1` had higher chances of survival which means that they where paying more fare as compared to other pclass category people which can also be seen in `Fare vs Survival` visualization.\n",
    "  \n",
    "\n",
    "  - Suprisingly people those who pay less (belonging majorily to Pclass 3) are less likely to be survived.\n",
    "  \n",
    "  \n",
    "  - There where some outlier observed in both the cases. We will have to check further and remove the outliers as it can drastically affects the statistical significance."
   ]
  },
  {
   "cell_type": "markdown",
   "metadata": {},
   "source": [
    "> > __`EMBARKED vs SURVIVAL`__"
   ]
  },
  {
   "cell_type": "code",
   "execution_count": 31,
   "metadata": {},
   "outputs": [
    {
     "data": {
      "image/png": "[encoded data removed]",
      "text/plain": [
       "<Figure size 720x432 with 1 Axes>"
      ]
     },
     "metadata": {
      "needs_background": "light"
     },
     "output_type": "display_data"
    }
   ],
   "source": [
    "plt.figure(figsize = (10,6))\n",
    "\n",
    "sns.barplot(x = 'Embarked',\n",
    "            y = 'Survived',\n",
    "            data = data,\n",
    "            color = 'darkturquoise')\n",
    "plt.xlabel('Embarked')\n",
    "plt.ylabel('Survival Probability')\n",
    "plt.title('Embarked vs Survival')\n",
    "\n",
    "plt.show()"
   ]
  },
  {
   "cell_type": "markdown",
   "metadata": {},
   "source": [
    "Summary : \n",
    "\n",
    "The graphs show the distribution of passenger's boarding at various port and their chnaces of survival.\n",
    "\n",
    " - As per univariant anlaysis we saw people boarded Southampton port in large number but when comparing it with Survial column it had lowest chances of survival rate.\n",
    " \n",
    " \n",
    " - Passengers who boarded in Cherbourg appear to have the highest survival rate. Passengers who boarded in Southhampton were marginally less likely to survive than those who boarded in Queenstown"
   ]
  },
  {
   "cell_type": "markdown",
   "metadata": {},
   "source": [
    "#### `ADDITIONAL VARIABLE - TRAVEL ALONE`"
   ]
  },
  {
   "cell_type": "code",
   "execution_count": 32,
   "metadata": {},
   "outputs": [
    {
     "data": {
      "text/html": [
       "<div>\n",
       "<style scoped>\n",
       "    .dataframe tbody tr th:only-of-type {\n",
       "        vertical-align: middle;\n",
       "    }\n",
       "\n",
       "    .dataframe tbody tr th {\n",
       "        vertical-align: top;\n",
       "    }\n",
       "\n",
       "    .dataframe thead th {\n",
       "        text-align: right;\n",
       "    }\n",
       "</style>\n",
       "<table border=\"1\" class=\"dataframe\">\n",
       "  <thead>\n",
       "    <tr style=\"text-align: right;\">\n",
       "      <th></th>\n",
       "      <th>Survived</th>\n",
       "      <th>Pclass</th>\n",
       "      <th>Sex</th>\n",
       "      <th>Age</th>\n",
       "      <th>SibSp</th>\n",
       "      <th>Parch</th>\n",
       "      <th>Fare</th>\n",
       "      <th>Cabin</th>\n",
       "      <th>Embarked</th>\n",
       "    </tr>\n",
       "  </thead>\n",
       "  <tbody>\n",
       "    <tr>\n",
       "      <td>0</td>\n",
       "      <td>0</td>\n",
       "      <td>3</td>\n",
       "      <td>Male</td>\n",
       "      <td>22.0</td>\n",
       "      <td>1</td>\n",
       "      <td>0</td>\n",
       "      <td>7.2500</td>\n",
       "      <td>NaN</td>\n",
       "      <td>S</td>\n",
       "    </tr>\n",
       "    <tr>\n",
       "      <td>1</td>\n",
       "      <td>1</td>\n",
       "      <td>1</td>\n",
       "      <td>Female</td>\n",
       "      <td>38.0</td>\n",
       "      <td>1</td>\n",
       "      <td>0</td>\n",
       "      <td>71.2833</td>\n",
       "      <td>C85</td>\n",
       "      <td>C</td>\n",
       "    </tr>\n",
       "    <tr>\n",
       "      <td>2</td>\n",
       "      <td>1</td>\n",
       "      <td>3</td>\n",
       "      <td>Female</td>\n",
       "      <td>26.0</td>\n",
       "      <td>0</td>\n",
       "      <td>0</td>\n",
       "      <td>7.9250</td>\n",
       "      <td>NaN</td>\n",
       "      <td>S</td>\n",
       "    </tr>\n",
       "  </tbody>\n",
       "</table>\n",
       "</div>"
      ],
      "text/plain": [
       "   Survived Pclass     Sex   Age  SibSp  Parch     Fare Cabin Embarked\n",
       "0         0      3    Male  22.0      1      0   7.2500   NaN        S\n",
       "1         1      1  Female  38.0      1      0  71.2833   C85        C\n",
       "2         1      3  Female  26.0      0      0   7.9250   NaN        S"
      ]
     },
     "execution_count": 32,
     "metadata": {},
     "output_type": "execute_result"
    }
   ],
   "source": [
    "data.head(3)"
   ]
  },
  {
   "cell_type": "markdown",
   "metadata": {},
   "source": [
    "> >  __`TRAVEL_ALONE vs SURVIVAL`__"
   ]
  },
  {
   "cell_type": "code",
   "execution_count": 33,
   "metadata": {},
   "outputs": [],
   "source": [
    "test1  = data[['SibSp','Parch']]\n",
    "\n",
    "travel_alone = []\n",
    "\n",
    "for i in test1.index:\n",
    "    if (test1['SibSp'][i] + test1['Parch'][i]) > 0:\n",
    "        travel_alone.append(0)\n",
    "    else:\n",
    "        travel_alone.append(1)\n",
    "\n",
    "test1['Travel_Alone'] = travel_alone\n",
    "\n",
    "data.drop(columns = ['SibSp','Parch'],\n",
    "          axis = 1,\n",
    "          inplace = True)\n",
    "\n",
    "data.insert(4, \"Travel_Alone\", travel_alone)"
   ]
  },
  {
   "cell_type": "code",
   "execution_count": 34,
   "metadata": {},
   "outputs": [
    {
     "data": {
      "text/html": [
       "<div>\n",
       "<style scoped>\n",
       "    .dataframe tbody tr th:only-of-type {\n",
       "        vertical-align: middle;\n",
       "    }\n",
       "\n",
       "    .dataframe tbody tr th {\n",
       "        vertical-align: top;\n",
       "    }\n",
       "\n",
       "    .dataframe thead th {\n",
       "        text-align: right;\n",
       "    }\n",
       "</style>\n",
       "<table border=\"1\" class=\"dataframe\">\n",
       "  <thead>\n",
       "    <tr style=\"text-align: right;\">\n",
       "      <th></th>\n",
       "      <th>SibSp</th>\n",
       "      <th>Parch</th>\n",
       "      <th>Travel_Alone</th>\n",
       "    </tr>\n",
       "  </thead>\n",
       "  <tbody>\n",
       "    <tr>\n",
       "      <td>0</td>\n",
       "      <td>1</td>\n",
       "      <td>0</td>\n",
       "      <td>0</td>\n",
       "    </tr>\n",
       "    <tr>\n",
       "      <td>1</td>\n",
       "      <td>1</td>\n",
       "      <td>0</td>\n",
       "      <td>0</td>\n",
       "    </tr>\n",
       "    <tr>\n",
       "      <td>2</td>\n",
       "      <td>0</td>\n",
       "      <td>0</td>\n",
       "      <td>1</td>\n",
       "    </tr>\n",
       "  </tbody>\n",
       "</table>\n",
       "</div>"
      ],
      "text/plain": [
       "   SibSp  Parch  Travel_Alone\n",
       "0      1      0             0\n",
       "1      1      0             0\n",
       "2      0      0             1"
      ]
     },
     "execution_count": 34,
     "metadata": {},
     "output_type": "execute_result"
    }
   ],
   "source": [
    "test1.head(3)"
   ]
  },
  {
   "cell_type": "code",
   "execution_count": 35,
   "metadata": {},
   "outputs": [
    {
     "data": {
      "text/html": [
       "<div>\n",
       "<style scoped>\n",
       "    .dataframe tbody tr th:only-of-type {\n",
       "        vertical-align: middle;\n",
       "    }\n",
       "\n",
       "    .dataframe tbody tr th {\n",
       "        vertical-align: top;\n",
       "    }\n",
       "\n",
       "    .dataframe thead th {\n",
       "        text-align: right;\n",
       "    }\n",
       "</style>\n",
       "<table border=\"1\" class=\"dataframe\">\n",
       "  <thead>\n",
       "    <tr style=\"text-align: right;\">\n",
       "      <th></th>\n",
       "      <th>Survived</th>\n",
       "      <th>Pclass</th>\n",
       "      <th>Sex</th>\n",
       "      <th>Age</th>\n",
       "      <th>Travel_Alone</th>\n",
       "      <th>Fare</th>\n",
       "      <th>Cabin</th>\n",
       "      <th>Embarked</th>\n",
       "    </tr>\n",
       "  </thead>\n",
       "  <tbody>\n",
       "    <tr>\n",
       "      <td>0</td>\n",
       "      <td>0</td>\n",
       "      <td>3</td>\n",
       "      <td>Male</td>\n",
       "      <td>22.0</td>\n",
       "      <td>0</td>\n",
       "      <td>7.2500</td>\n",
       "      <td>NaN</td>\n",
       "      <td>S</td>\n",
       "    </tr>\n",
       "    <tr>\n",
       "      <td>1</td>\n",
       "      <td>1</td>\n",
       "      <td>1</td>\n",
       "      <td>Female</td>\n",
       "      <td>38.0</td>\n",
       "      <td>0</td>\n",
       "      <td>71.2833</td>\n",
       "      <td>C85</td>\n",
       "      <td>C</td>\n",
       "    </tr>\n",
       "    <tr>\n",
       "      <td>2</td>\n",
       "      <td>1</td>\n",
       "      <td>3</td>\n",
       "      <td>Female</td>\n",
       "      <td>26.0</td>\n",
       "      <td>1</td>\n",
       "      <td>7.9250</td>\n",
       "      <td>NaN</td>\n",
       "      <td>S</td>\n",
       "    </tr>\n",
       "  </tbody>\n",
       "</table>\n",
       "</div>"
      ],
      "text/plain": [
       "   Survived Pclass     Sex   Age  Travel_Alone     Fare Cabin Embarked\n",
       "0         0      3    Male  22.0             0   7.2500   NaN        S\n",
       "1         1      1  Female  38.0             0  71.2833   C85        C\n",
       "2         1      3  Female  26.0             1   7.9250   NaN        S"
      ]
     },
     "execution_count": 35,
     "metadata": {},
     "output_type": "execute_result"
    }
   ],
   "source": [
    "data.head(3)"
   ]
  },
  {
   "cell_type": "code",
   "execution_count": 36,
   "metadata": {},
   "outputs": [
    {
     "data": {
      "image/png": "[encoded data removed]",
      "text/plain": [
       "<Figure size 720x432 with 1 Axes>"
      ]
     },
     "metadata": {
      "needs_background": "light"
     },
     "output_type": "display_data"
    }
   ],
   "source": [
    "plt.figure(figsize = (10,6))\n",
    "\n",
    "sns.barplot(x = 'Travel_Alone',\n",
    "            y = 'Survived',\n",
    "            data = data,\n",
    "            color = 'darkturquoise')\n",
    "plt.xlabel('Travel Alone')\n",
    "plt.ylabel('Survival Probability')\n",
    "plt.title('Tarvel_Alone vs Survival')\n",
    "\n",
    "plt.show()"
   ]
  },
  {
   "cell_type": "markdown",
   "metadata": {},
   "source": [
    "Summary:\n",
    "\n",
    "The graph shows the distribution between passengers travelling alone and their survival rate.\n",
    "\n",
    " - As per above visualization we can see that passengers travelling alone (1) have less chances of survival as compared to travelling with family (0).\n",
    " \n",
    " \n",
    " - We can further analyze and tell that which gender prefers travelling alone and what was it's survival rate."
   ]
  },
  {
   "cell_type": "markdown",
   "metadata": {},
   "source": [
    "#### `INFERENCES FROM BIVARIANT ANALYSIS`"
   ]
  },
  {
   "cell_type": "markdown",
   "metadata": {},
   "source": [
    " - Passenger's belonging to `Pclass1 (having more fare)` where more likely to be survived. No doubt the `Pclass3` type of people recorded highest observation but their chances of survival was minimum.\n",
    " \n",
    " \n",
    " - People between `20-40 years` if age had high increase in death rate as compare to survival rate.\n",
    " \n",
    " \n",
    " - Passengers who boarded in `Cherbourg` appear to have the highest survival rate. No doubt the passengers who boarded in `Southhampton` port where observed to be highest but they where less likely to survive than those who boarded in `Queenstown`.\n",
    " \n",
    " \n",
    " - Passenger's who travelled alone where less likely to survive compared to those who are travelling with parents.\n",
    " \n",
    " \n",
    " - `Multivariant Analysis` needs to be performed to get more insights from the data if present."
   ]
  },
  {
   "cell_type": "code",
   "execution_count": 37,
   "metadata": {},
   "outputs": [
    {
     "data": {
      "text/plain": [
       "Survived          0\n",
       "Pclass            0\n",
       "Sex               0\n",
       "Age             177\n",
       "Travel_Alone      0\n",
       "Fare              0\n",
       "Cabin           687\n",
       "Embarked          2\n",
       "dtype: int64"
      ]
     },
     "execution_count": 37,
     "metadata": {},
     "output_type": "execute_result"
    }
   ],
   "source": [
    "data.isnull().sum()"
   ]
  },
  {
   "cell_type": "markdown",
   "metadata": {},
   "source": [
    "<br>"
   ]
  },
  {
   "cell_type": "markdown",
   "metadata": {},
   "source": [
    "#### ` 4). MULTIVARIANT ANALYSIS`"
   ]
  },
  {
   "cell_type": "code",
   "execution_count": 38,
   "metadata": {},
   "outputs": [],
   "source": [
    "data['Survived'] = data['Survived'].astype('object')\n",
    "data['Pclass'] = data['Pclass'].astype('object')\n",
    "data['Travel_Alone'] = data['Travel_Alone'].astype('object')"
   ]
  },
  {
   "cell_type": "markdown",
   "metadata": {},
   "source": [
    "> > __`GENDER vs PCLASS vs SURVIVED`__"
   ]
  },
  {
   "cell_type": "code",
   "execution_count": 39,
   "metadata": {},
   "outputs": [
    {
     "data": {
      "text/html": [
       "<div>\n",
       "<style scoped>\n",
       "    .dataframe tbody tr th:only-of-type {\n",
       "        vertical-align: middle;\n",
       "    }\n",
       "\n",
       "    .dataframe tbody tr th {\n",
       "        vertical-align: top;\n",
       "    }\n",
       "\n",
       "    .dataframe thead tr th {\n",
       "        text-align: left;\n",
       "    }\n",
       "\n",
       "    .dataframe thead tr:last-of-type th {\n",
       "        text-align: right;\n",
       "    }\n",
       "</style>\n",
       "<table border=\"1\" class=\"dataframe\">\n",
       "  <thead>\n",
       "    <tr>\n",
       "      <th>Pclass</th>\n",
       "      <th colspan=\"2\" halign=\"left\">1</th>\n",
       "      <th colspan=\"2\" halign=\"left\">2</th>\n",
       "      <th colspan=\"2\" halign=\"left\">3</th>\n",
       "    </tr>\n",
       "    <tr>\n",
       "      <th>Sex</th>\n",
       "      <th>Female</th>\n",
       "      <th>Male</th>\n",
       "      <th>Female</th>\n",
       "      <th>Male</th>\n",
       "      <th>Female</th>\n",
       "      <th>Male</th>\n",
       "    </tr>\n",
       "    <tr>\n",
       "      <th>Survived</th>\n",
       "      <th></th>\n",
       "      <th></th>\n",
       "      <th></th>\n",
       "      <th></th>\n",
       "      <th></th>\n",
       "      <th></th>\n",
       "    </tr>\n",
       "  </thead>\n",
       "  <tbody>\n",
       "    <tr>\n",
       "      <td>0</td>\n",
       "      <td>3</td>\n",
       "      <td>77</td>\n",
       "      <td>6</td>\n",
       "      <td>91</td>\n",
       "      <td>72</td>\n",
       "      <td>300</td>\n",
       "    </tr>\n",
       "    <tr>\n",
       "      <td>1</td>\n",
       "      <td>91</td>\n",
       "      <td>45</td>\n",
       "      <td>70</td>\n",
       "      <td>17</td>\n",
       "      <td>72</td>\n",
       "      <td>47</td>\n",
       "    </tr>\n",
       "  </tbody>\n",
       "</table>\n",
       "</div>"
      ],
      "text/plain": [
       "Pclass        1           2           3     \n",
       "Sex      Female Male Female Male Female Male\n",
       "Survived                                    \n",
       "0             3   77      6   91     72  300\n",
       "1            91   45     70   17     72   47"
      ]
     },
     "execution_count": 39,
     "metadata": {},
     "output_type": "execute_result"
    }
   ],
   "source": [
    "pd.crosstab(index = data['Survived'], columns = [data['Pclass'], data['Sex']], )"
   ]
  },
  {
   "cell_type": "markdown",
   "metadata": {},
   "source": [
    "Summary:\n",
    "\n",
    " - Death Rate:\n",
    "       - Highest (Males   - Pclass3)\n",
    "       - Lowest  (Females - Pclass1)\n",
    "       \n",
    " - Survival Rate:\n",
    "       - Highest (Females - Pclass1)\n",
    "       - Lowest  (Males   - Pclass2)\n",
    "       \n",
    " \n",
    " - `Pclass vs Survival`  told us that Pclass1 had high survival rate. `Gender vs Survival` told us that females where more likely to survive than male. All this hold's true and can been seen from above data represented via crosstab."
   ]
  },
  {
   "cell_type": "markdown",
   "metadata": {},
   "source": [
    "> > __`TRAVEL_ALONE vs SURVIVED vs PCLASS vs GENDER`__"
   ]
  },
  {
   "cell_type": "code",
   "execution_count": 40,
   "metadata": {},
   "outputs": [
    {
     "data": {
      "text/plain": [
       "1    537\n",
       "0    354\n",
       "Name: Travel_Alone, dtype: int64"
      ]
     },
     "execution_count": 40,
     "metadata": {},
     "output_type": "execute_result"
    }
   ],
   "source": [
    "data.Travel_Alone.value_counts()"
   ]
  },
  {
   "cell_type": "code",
   "execution_count": 41,
   "metadata": {},
   "outputs": [
    {
     "data": {
      "text/html": [
       "<div>\n",
       "<style scoped>\n",
       "    .dataframe tbody tr th:only-of-type {\n",
       "        vertical-align: middle;\n",
       "    }\n",
       "\n",
       "    .dataframe tbody tr th {\n",
       "        vertical-align: top;\n",
       "    }\n",
       "\n",
       "    .dataframe thead tr th {\n",
       "        text-align: left;\n",
       "    }\n",
       "\n",
       "    .dataframe thead tr:last-of-type th {\n",
       "        text-align: right;\n",
       "    }\n",
       "</style>\n",
       "<table border=\"1\" class=\"dataframe\">\n",
       "  <thead>\n",
       "    <tr>\n",
       "      <th></th>\n",
       "      <th>Pclass</th>\n",
       "      <th colspan=\"2\" halign=\"left\">1</th>\n",
       "      <th colspan=\"2\" halign=\"left\">2</th>\n",
       "      <th colspan=\"2\" halign=\"left\">3</th>\n",
       "    </tr>\n",
       "    <tr>\n",
       "      <th></th>\n",
       "      <th>Sex</th>\n",
       "      <th>Female</th>\n",
       "      <th>Male</th>\n",
       "      <th>Female</th>\n",
       "      <th>Male</th>\n",
       "      <th>Female</th>\n",
       "      <th>Male</th>\n",
       "    </tr>\n",
       "    <tr>\n",
       "      <th>Survived</th>\n",
       "      <th>Travel_Alone</th>\n",
       "      <th></th>\n",
       "      <th></th>\n",
       "      <th></th>\n",
       "      <th></th>\n",
       "      <th></th>\n",
       "      <th></th>\n",
       "    </tr>\n",
       "  </thead>\n",
       "  <tbody>\n",
       "    <tr>\n",
       "      <td rowspan=\"2\" valign=\"top\">0</td>\n",
       "      <td>0</td>\n",
       "      <td>2</td>\n",
       "      <td>27</td>\n",
       "      <td>3</td>\n",
       "      <td>26</td>\n",
       "      <td>49</td>\n",
       "      <td>68</td>\n",
       "    </tr>\n",
       "    <tr>\n",
       "      <td>1</td>\n",
       "      <td>1</td>\n",
       "      <td>50</td>\n",
       "      <td>3</td>\n",
       "      <td>65</td>\n",
       "      <td>23</td>\n",
       "      <td>232</td>\n",
       "    </tr>\n",
       "    <tr>\n",
       "      <td rowspan=\"2\" valign=\"top\">1</td>\n",
       "      <td>0</td>\n",
       "      <td>58</td>\n",
       "      <td>20</td>\n",
       "      <td>41</td>\n",
       "      <td>10</td>\n",
       "      <td>35</td>\n",
       "      <td>15</td>\n",
       "    </tr>\n",
       "    <tr>\n",
       "      <td>1</td>\n",
       "      <td>33</td>\n",
       "      <td>25</td>\n",
       "      <td>29</td>\n",
       "      <td>7</td>\n",
       "      <td>37</td>\n",
       "      <td>32</td>\n",
       "    </tr>\n",
       "  </tbody>\n",
       "</table>\n",
       "</div>"
      ],
      "text/plain": [
       "Pclass                     1           2           3     \n",
       "Sex                   Female Male Female Male Female Male\n",
       "Survived Travel_Alone                                    \n",
       "0        0                 2   27      3   26     49   68\n",
       "         1                 1   50      3   65     23  232\n",
       "1        0                58   20     41   10     35   15\n",
       "         1                33   25     29    7     37   32"
      ]
     },
     "execution_count": 41,
     "metadata": {},
     "output_type": "execute_result"
    }
   ],
   "source": [
    "pd.crosstab(index = [data['Survived'],data['Travel_Alone']], columns = [data['Pclass'],data['Sex']])"
   ]
  },
  {
   "cell_type": "markdown",
   "metadata": {},
   "source": [
    "Q) `How many passengers liked to travel alone ?`\n",
    "\n",
    "      - Out of 891 observations there where 537 such passengers who liked to travel alone."
   ]
  },
  {
   "cell_type": "markdown",
   "metadata": {},
   "source": [
    "Q) `Which Pclass had the highest / lowest travelling alone passengers  OR Females or Males?`\n",
    "\n",
    "      - `Pclass3` recorded highest number of passengers travelling alone.\n",
    "      \n",
    "      - `Pclass2` recorded lowest number of passengers travelling alone."
   ]
  },
  {
   "cell_type": "markdown",
   "metadata": {},
   "source": [
    "Q) `How many travel alone passengers where survived ?`\n",
    "\n",
    "      -Out of 891 observations there where 163 such passengers who where travelling alone survived the pandemic. Highest was from Pclass3 and lowest was from Pclass2.\n",
    "     \n",
    "     "
   ]
  },
  {
   "cell_type": "markdown",
   "metadata": {},
   "source": [
    "<br>"
   ]
  },
  {
   "cell_type": "markdown",
   "metadata": {},
   "source": [
    "#### `CONCLUSION  - EXPLORATORY DATA ANALYSIS`"
   ]
  },
  {
   "cell_type": "markdown",
   "metadata": {},
   "source": [
    " - `Pclass1` had higher chances of survival. `Pclass3` recorded more death rate.\n",
    " \n",
    " \n",
    "  - Most of the `Age Group` or `Gender` preferred travelling in Pclass3.\n",
    " \n",
    "      \n",
    "  - 60% of our dataset liked travelling alone and out of those 60%, 30% survived and belong to Pclass3 where Females outraged Male and 30% could'nt survive the pandemic.\n",
    " \n",
    "      \n",
    "  - People who spend more on luxary hospitality services (More Fare and Pclass1) where seem to have high survival rate.\n",
    " \n",
    "      \n",
    "  - Passengers boarding `Cherbourg` recorded highest survival rate. Passengers who boarded in `Southhampton` were less likely to survive than those who boarded in `Queenstown`.\n",
    " \n",
    " \n",
    "  - There where `outliers` to be seen in our dataset for `Age` and `Fare` column. We also recorded `missing values`  for `Age`, `Cabin` an `Embarked`. This all needs to adressed in Data Preprocessing phase."
   ]
  },
  {
   "cell_type": "markdown",
   "metadata": {},
   "source": [
    "<Br>"
   ]
  },
  {
   "cell_type": "markdown",
   "metadata": {},
   "source": [
    "### `STEP 4. DATA PREPROCESSING`"
   ]
  },
  {
   "cell_type": "markdown",
   "metadata": {},
   "source": [
    "#### `1) MISSING VALUES`"
   ]
  },
  {
   "cell_type": "code",
   "execution_count": 42,
   "metadata": {},
   "outputs": [
    {
     "data": {
      "text/plain": [
       "Survived          0\n",
       "Pclass            0\n",
       "Sex               0\n",
       "Age             177\n",
       "Travel_Alone      0\n",
       "Fare              0\n",
       "Cabin           687\n",
       "Embarked          2\n",
       "dtype: int64"
      ]
     },
     "execution_count": 42,
     "metadata": {},
     "output_type": "execute_result"
    }
   ],
   "source": [
    "data.isnull().sum()"
   ]
  },
  {
   "cell_type": "markdown",
   "metadata": {},
   "source": [
    "> >  __`AGE`__"
   ]
  },
  {
   "cell_type": "code",
   "execution_count": 43,
   "metadata": {},
   "outputs": [
    {
     "name": "stdout",
     "output_type": "stream",
     "text": [
      "Percent of missing \"Age\" records is : 19.865319865319865\n"
     ]
    }
   ],
   "source": [
    "print('Percent of missing \"Age\" records is : {}'.format((data['Age'].isnull().sum()/data.shape[0])*100))"
   ]
  },
  {
   "cell_type": "code",
   "execution_count": 44,
   "metadata": {},
   "outputs": [
    {
     "name": "stdout",
     "output_type": "stream",
     "text": [
      "Passenger's avg age belonging to class 1 : 38.233440860215055\n",
      "Passenger's avg age belonging to class 2 : 29.87763005780347\n",
      "Passenger's avg age belonging to class 3 : 25.14061971830986\n"
     ]
    }
   ],
   "source": [
    "print(\"Passenger's avg age belonging to class 1 : {}\".format(data.Age[(data.Pclass == 1)].mean()))\n",
    "print(\"Passenger's avg age belonging to class 2 : {}\".format(data.Age[(data.Pclass == 2)].mean()))\n",
    "print(\"Passenger's avg age belonging to class 3 : {}\".format(data.Age[(data.Pclass == 3)].mean()))"
   ]
  },
  {
   "cell_type": "code",
   "execution_count": 45,
   "metadata": {},
   "outputs": [
    {
     "name": "stdout",
     "output_type": "stream",
     "text": [
      "Percent of missing \"Age\" records is : 19.865319865319865\n",
      "Percent of missing \"Age\" records is : 0.0\n"
     ]
    }
   ],
   "source": [
    "print('Percent of missing \"Age\" records is : {}'.format((data['Age'].isnull().sum()/data.shape[0])*100))\n",
    "\n",
    "test1 = data[['Pclass', 'Age']]\n",
    "\n",
    "test1['Age'].fillna(value = 0,\n",
    "                    inplace = True)\n",
    "\n",
    "for i in test1.index:\n",
    "    if test1['Age'][i] == 0 and test1['Pclass'][i] == 1:\n",
    "        test1['Age'][i] = 38\n",
    "    elif test1['Age'][i] == 0 and test1['Pclass'][i] == 2:\n",
    "        test1['Age'][i] = 30\n",
    "    elif test1['Age'][i] == 0 and test1['Pclass'][i] == 3:\n",
    "        test1['Age'][i] = 25\n",
    "    else:\n",
    "        test1['Age'][i] = test1['Age'][i]\n",
    "      \n",
    "\n",
    "list_age = test1['Age']\n",
    "\n",
    "data.drop(columns = ['Age'],\n",
    "          axis = 1,\n",
    "          inplace = True)\n",
    "\n",
    "data.insert(3, 'Age', list_age)\n",
    "\n",
    "\n",
    "print('Percent of missing \"Age\" records is : {}'.format((data['Age'].isnull().sum()/data.shape[0])*100))"
   ]
  },
  {
   "cell_type": "markdown",
   "metadata": {},
   "source": [
    "> > __`EMBARKED`__"
   ]
  },
  {
   "cell_type": "code",
   "execution_count": 46,
   "metadata": {},
   "outputs": [
    {
     "data": {
      "text/html": [
       "<div>\n",
       "<style scoped>\n",
       "    .dataframe tbody tr th:only-of-type {\n",
       "        vertical-align: middle;\n",
       "    }\n",
       "\n",
       "    .dataframe tbody tr th {\n",
       "        vertical-align: top;\n",
       "    }\n",
       "\n",
       "    .dataframe thead th {\n",
       "        text-align: right;\n",
       "    }\n",
       "</style>\n",
       "<table border=\"1\" class=\"dataframe\">\n",
       "  <thead>\n",
       "    <tr style=\"text-align: right;\">\n",
       "      <th></th>\n",
       "      <th>Survived</th>\n",
       "      <th>Pclass</th>\n",
       "      <th>Sex</th>\n",
       "      <th>Age</th>\n",
       "      <th>Travel_Alone</th>\n",
       "      <th>Fare</th>\n",
       "      <th>Cabin</th>\n",
       "      <th>Embarked</th>\n",
       "    </tr>\n",
       "  </thead>\n",
       "  <tbody>\n",
       "    <tr>\n",
       "      <td>61</td>\n",
       "      <td>1</td>\n",
       "      <td>1</td>\n",
       "      <td>Female</td>\n",
       "      <td>38.0</td>\n",
       "      <td>1</td>\n",
       "      <td>80.0</td>\n",
       "      <td>B28</td>\n",
       "      <td>NaN</td>\n",
       "    </tr>\n",
       "    <tr>\n",
       "      <td>829</td>\n",
       "      <td>1</td>\n",
       "      <td>1</td>\n",
       "      <td>Female</td>\n",
       "      <td>62.0</td>\n",
       "      <td>1</td>\n",
       "      <td>80.0</td>\n",
       "      <td>B28</td>\n",
       "      <td>NaN</td>\n",
       "    </tr>\n",
       "  </tbody>\n",
       "</table>\n",
       "</div>"
      ],
      "text/plain": [
       "    Survived Pclass     Sex   Age Travel_Alone  Fare Cabin Embarked\n",
       "61         1      1  Female  38.0            1  80.0   B28      NaN\n",
       "829        1      1  Female  62.0            1  80.0   B28      NaN"
      ]
     },
     "execution_count": 46,
     "metadata": {},
     "output_type": "execute_result"
    }
   ],
   "source": [
    "data[(data['Embarked'].isnull())]"
   ]
  },
  {
   "cell_type": "code",
   "execution_count": 47,
   "metadata": {},
   "outputs": [
    {
     "data": {
      "text/plain": [
       "'S'"
      ]
     },
     "execution_count": 47,
     "metadata": {},
     "output_type": "execute_result"
    }
   ],
   "source": [
    "data['Embarked'].value_counts().idxmax()"
   ]
  },
  {
   "cell_type": "code",
   "execution_count": 48,
   "metadata": {},
   "outputs": [
    {
     "name": "stdout",
     "output_type": "stream",
     "text": [
      "Percent of missing \"Embarked\" records is : 0.22446689113355783\n",
      "Percent of missing \"Embarked\" records is : 0.0\n"
     ]
    }
   ],
   "source": [
    "print('Percent of missing \"Embarked\" records is : {}'.format((data['Embarked'].isnull().sum()/data.shape[0])*100))\n",
    "data['Embarked'].fillna(value = data['Embarked'].value_counts().idxmax(), inplace = True)\n",
    "print('Percent of missing \"Embarked\" records is : {}'.format((data['Embarked'].isnull().sum()/data.shape[0])*100))"
   ]
  },
  {
   "cell_type": "markdown",
   "metadata": {},
   "source": [
    "> > __`CABIN (1 - No Cabin, 0 - Cabin)`__"
   ]
  },
  {
   "cell_type": "code",
   "execution_count": 49,
   "metadata": {},
   "outputs": [
    {
     "name": "stdout",
     "output_type": "stream",
     "text": [
      "Percent of missing \"Cabin\" records is : 77.10437710437711\n"
     ]
    }
   ],
   "source": [
    "print('Percent of missing \"Cabin\" records is : {}'.format((data['Cabin'].isnull().sum()/data.shape[0])*100))"
   ]
  },
  {
   "cell_type": "code",
   "execution_count": 50,
   "metadata": {},
   "outputs": [
    {
     "name": "stdout",
     "output_type": "stream",
     "text": [
      "Percent of missing \"Cabin\" records is : 77.10437710437711\n",
      "Percent of missing \"Cabin\" records is : 0.0\n"
     ]
    }
   ],
   "source": [
    "print('Percent of missing \"Cabin\" records is : {}'.format((data['Cabin'].isnull().sum()/data.shape[0])*100))\n",
    "\n",
    "test2 = data[['Cabin']]\n",
    "\n",
    "test2['Cabin'].fillna(value = 0,\n",
    "                      inplace = True)\n",
    "\n",
    "for i in test2.index:\n",
    "    if test2['Cabin'][i] == 0:\n",
    "        test2['Cabin'][i] = 1\n",
    "    else:\n",
    "        test2['Cabin'][i] = 0\n",
    "\n",
    "list_cabin = test2['Cabin']\n",
    "\n",
    "data.drop(columns = ['Cabin'],\n",
    "          axis = 1,\n",
    "          inplace = True)\n",
    "\n",
    "data.insert(6, \"Cabin\", list_cabin)\n",
    "\n",
    "print('Percent of missing \"Cabin\" records is : {}'.format((data['Cabin'].isnull().sum()/data.shape[0])*100))"
   ]
  },
  {
   "cell_type": "code",
   "execution_count": 51,
   "metadata": {},
   "outputs": [
    {
     "data": {
      "text/html": [
       "<div>\n",
       "<style scoped>\n",
       "    .dataframe tbody tr th:only-of-type {\n",
       "        vertical-align: middle;\n",
       "    }\n",
       "\n",
       "    .dataframe tbody tr th {\n",
       "        vertical-align: top;\n",
       "    }\n",
       "\n",
       "    .dataframe thead th {\n",
       "        text-align: right;\n",
       "    }\n",
       "</style>\n",
       "<table border=\"1\" class=\"dataframe\">\n",
       "  <thead>\n",
       "    <tr style=\"text-align: right;\">\n",
       "      <th></th>\n",
       "      <th>Pclass</th>\n",
       "      <th>1</th>\n",
       "      <th>2</th>\n",
       "      <th>3</th>\n",
       "    </tr>\n",
       "    <tr>\n",
       "      <th>Survived</th>\n",
       "      <th>Cabin</th>\n",
       "      <th></th>\n",
       "      <th></th>\n",
       "      <th></th>\n",
       "    </tr>\n",
       "  </thead>\n",
       "  <tbody>\n",
       "    <tr>\n",
       "      <td rowspan=\"2\" valign=\"top\">0</td>\n",
       "      <td>0</td>\n",
       "      <td>59</td>\n",
       "      <td>3</td>\n",
       "      <td>6</td>\n",
       "    </tr>\n",
       "    <tr>\n",
       "      <td>1</td>\n",
       "      <td>21</td>\n",
       "      <td>94</td>\n",
       "      <td>366</td>\n",
       "    </tr>\n",
       "    <tr>\n",
       "      <td rowspan=\"2\" valign=\"top\">1</td>\n",
       "      <td>0</td>\n",
       "      <td>117</td>\n",
       "      <td>13</td>\n",
       "      <td>6</td>\n",
       "    </tr>\n",
       "    <tr>\n",
       "      <td>1</td>\n",
       "      <td>19</td>\n",
       "      <td>74</td>\n",
       "      <td>113</td>\n",
       "    </tr>\n",
       "  </tbody>\n",
       "</table>\n",
       "</div>"
      ],
      "text/plain": [
       "Pclass            1   2    3\n",
       "Survived Cabin              \n",
       "0        0       59   3    6\n",
       "         1       21  94  366\n",
       "1        0      117  13    6\n",
       "         1       19  74  113"
      ]
     },
     "execution_count": 51,
     "metadata": {},
     "output_type": "execute_result"
    }
   ],
   "source": [
    "pd.crosstab(index = [data['Survived'], data['Cabin']], columns = data['Pclass'])"
   ]
  },
  {
   "cell_type": "code",
   "execution_count": 52,
   "metadata": {},
   "outputs": [
    {
     "data": {
      "text/plain": [
       "1    687\n",
       "0    204\n",
       "Name: Cabin, dtype: int64"
      ]
     },
     "execution_count": 52,
     "metadata": {},
     "output_type": "execute_result"
    }
   ],
   "source": [
    "data.Cabin.value_counts()"
   ]
  },
  {
   "cell_type": "markdown",
   "metadata": {},
   "source": [
    "Q) `How many passengers survived those who had a cabin ?`\n",
    "\n",
    "        - Out of 891 passengers, 204 passengers where having cabin. Out of 204, 136 passengers (117 + 13 + 6) survived. Also we can obsere that most of passengers from 136 belonged to Pclass1. There where hardly few passengers to be seen in Pclass2 and Pclass3 having Cabin."
   ]
  },
  {
   "cell_type": "markdown",
   "metadata": {},
   "source": [
    "<br>"
   ]
  },
  {
   "cell_type": "markdown",
   "metadata": {},
   "source": [
    "#### __`2) CATEGORICAL VALUE`__"
   ]
  },
  {
   "cell_type": "code",
   "execution_count": 53,
   "metadata": {},
   "outputs": [],
   "source": [
    "# Sex and Embarked column needs to be handled.\n",
    "\n",
    "data_copy = data.copy()\n",
    "\n",
    "data = pd.get_dummies(data, columns = ['Embarked', 'Sex'])"
   ]
  },
  {
   "cell_type": "code",
   "execution_count": 54,
   "metadata": {},
   "outputs": [
    {
     "data": {
      "text/plain": [
       "['Survived',\n",
       " 'Pclass',\n",
       " 'Age',\n",
       " 'Travel_Alone',\n",
       " 'Fare',\n",
       " 'Cabin',\n",
       " 'Embarked_C',\n",
       " 'Embarked_Q',\n",
       " 'Embarked_S',\n",
       " 'Sex_Female',\n",
       " 'Sex_Male']"
      ]
     },
     "execution_count": 54,
     "metadata": {},
     "output_type": "execute_result"
    }
   ],
   "source": [
    "col_list = data.columns.tolist()\n",
    "col_list"
   ]
  },
  {
   "cell_type": "code",
   "execution_count": 55,
   "metadata": {},
   "outputs": [
    {
     "data": {
      "text/html": [
       "<div>\n",
       "<style scoped>\n",
       "    .dataframe tbody tr th:only-of-type {\n",
       "        vertical-align: middle;\n",
       "    }\n",
       "\n",
       "    .dataframe tbody tr th {\n",
       "        vertical-align: top;\n",
       "    }\n",
       "\n",
       "    .dataframe thead th {\n",
       "        text-align: right;\n",
       "    }\n",
       "</style>\n",
       "<table border=\"1\" class=\"dataframe\">\n",
       "  <thead>\n",
       "    <tr style=\"text-align: right;\">\n",
       "      <th></th>\n",
       "      <th>Pclass</th>\n",
       "      <th>Age</th>\n",
       "      <th>Travel_Alone</th>\n",
       "      <th>Fare</th>\n",
       "      <th>Cabin</th>\n",
       "      <th>Embarked_C</th>\n",
       "      <th>Embarked_Q</th>\n",
       "      <th>Gender</th>\n",
       "      <th>Survived</th>\n",
       "    </tr>\n",
       "  </thead>\n",
       "  <tbody>\n",
       "    <tr>\n",
       "      <td>0</td>\n",
       "      <td>3</td>\n",
       "      <td>22.0</td>\n",
       "      <td>0</td>\n",
       "      <td>7.2500</td>\n",
       "      <td>1</td>\n",
       "      <td>0</td>\n",
       "      <td>0</td>\n",
       "      <td>1</td>\n",
       "      <td>0</td>\n",
       "    </tr>\n",
       "    <tr>\n",
       "      <td>1</td>\n",
       "      <td>1</td>\n",
       "      <td>38.0</td>\n",
       "      <td>0</td>\n",
       "      <td>71.2833</td>\n",
       "      <td>0</td>\n",
       "      <td>1</td>\n",
       "      <td>0</td>\n",
       "      <td>0</td>\n",
       "      <td>1</td>\n",
       "    </tr>\n",
       "    <tr>\n",
       "      <td>2</td>\n",
       "      <td>3</td>\n",
       "      <td>26.0</td>\n",
       "      <td>1</td>\n",
       "      <td>7.9250</td>\n",
       "      <td>1</td>\n",
       "      <td>0</td>\n",
       "      <td>0</td>\n",
       "      <td>0</td>\n",
       "      <td>1</td>\n",
       "    </tr>\n",
       "  </tbody>\n",
       "</table>\n",
       "</div>"
      ],
      "text/plain": [
       "  Pclass   Age Travel_Alone     Fare Cabin  Embarked_C  Embarked_Q  Gender  \\\n",
       "0      3  22.0            0   7.2500     1           0           0       1   \n",
       "1      1  38.0            0  71.2833     0           1           0       0   \n",
       "2      3  26.0            1   7.9250     1           0           0       0   \n",
       "\n",
       "  Survived  \n",
       "0        0  \n",
       "1        1  \n",
       "2        1  "
      ]
     },
     "execution_count": 55,
     "metadata": {},
     "output_type": "execute_result"
    }
   ],
   "source": [
    "# Avoiding dummy varibale trap. (Gender: 1 - Male, 0 - Female)\n",
    "\n",
    "col_list = data.columns.tolist()\n",
    "\n",
    "col_list = [ \n",
    " 'Pclass',\n",
    " 'Age',\n",
    " 'Travel_Alone',\n",
    " 'Fare',\n",
    " 'Cabin',\n",
    " 'Embarked_C',\n",
    " 'Embarked_Q',\n",
    " 'Embarked_S',\n",
    " 'Sex_Female',\n",
    " 'Sex_Male',\n",
    " 'Survived']\n",
    "\n",
    "data = data[col_list]\n",
    "\n",
    "data.drop(columns = ['Embarked_S','Sex_Female'],\n",
    "          axis = 1,\n",
    "          inplace = True)\n",
    "\n",
    "data.rename(columns = {\n",
    "    'Sex_Male' : 'Gender'\n",
    "}, inplace = True)\n",
    "\n",
    "data.head(3)"
   ]
  },
  {
   "cell_type": "markdown",
   "metadata": {},
   "source": [
    "<br>"
   ]
  },
  {
   "cell_type": "markdown",
   "metadata": {},
   "source": [
    "#### `3) OUTLIER VALUE `"
   ]
  },
  {
   "cell_type": "code",
   "execution_count": 56,
   "metadata": {},
   "outputs": [
    {
     "name": "stdout",
     "output_type": "stream",
     "text": [
      "......BEFORE......\n",
      "Data Shape: (891, 9)\n",
      "\n",
      "Skewness: 4.787316519674893, Kurtosis: 33.39814088089868\n",
      "\n",
      "\n",
      "......AFTER......\n",
      "Data Shape: (775, 9)\n",
      "\n",
      "Skewness: 1.4306715336945985, Kurtosis: 1.472671984866464\n"
     ]
    },
    {
     "data": {
      "image/png": "[encoded data removed]",
      "text/plain": [
       "<Figure size 2160x432 with 3 Axes>"
      ]
     },
     "metadata": {
      "needs_background": "light"
     },
     "output_type": "display_data"
    },
    {
     "data": {
      "text/plain": [
       "<Figure size 432x288 with 0 Axes>"
      ]
     },
     "metadata": {},
     "output_type": "display_data"
    }
   ],
   "source": [
    "plt.figure(figsize = (30,6))\n",
    "\n",
    "# Before Removing Outlier\n",
    "plt.subplot(1,3,1)\n",
    "plt.title('With Outlier')\n",
    "sns.boxplot(x=data['Fare'])\n",
    "\n",
    "# Identifying the quantile range \n",
    "Q1  = data['Fare'].quantile(0.25)\n",
    "Q3  = data['Fare'].quantile(0.75)\n",
    "IQR = Q3 - Q1\n",
    "\n",
    "# Removing the outlier range \n",
    "data1 = data[~((data['Fare'] < (Q1 - 1.5 * IQR)) |(data['Fare'] > (Q3 + 1.5 * IQR)))]\n",
    "\n",
    "# After removing the outlier\n",
    "plt.subplot(1,3,2)\n",
    "plt.title('Without Outlier')\n",
    "sns.boxplot(x=data1['Fare'])\n",
    "\n",
    "# Distribution  After\n",
    "plt.subplot(1,3,3)\n",
    "sns.distplot(data1['Fare']);\n",
    "\n",
    "print(\"......BEFORE......\")\n",
    "print(\"Data Shape: {}\".format(data.shape))\n",
    "print(\"\\nSkewness: {}, Kurtosis: {}\".format(data['Fare'].skew(), data['Fare'].kurtosis()))\n",
    "print(\"\\n\")\n",
    "print(\"......AFTER......\")\n",
    "print(\"Data Shape: {}\".format(data1.shape))\n",
    "print(\"\\nSkewness: {}, Kurtosis: {}\".format(data1['Fare'].skew(), data1['Fare'].kurtosis()))\n",
    "\n",
    "\n",
    "plt.show()\n",
    "plt.tight_layout()"
   ]
  },
  {
   "cell_type": "code",
   "execution_count": 57,
   "metadata": {},
   "outputs": [
    {
     "data": {
      "text/plain": [
       "count    891.000000\n",
       "mean      32.204208\n",
       "std       49.693429\n",
       "min        0.000000\n",
       "25%        7.910400\n",
       "50%       14.454200\n",
       "75%       31.000000\n",
       "max      512.329200\n",
       "Name: Fare, dtype: float64"
      ]
     },
     "execution_count": 57,
     "metadata": {},
     "output_type": "execute_result"
    }
   ],
   "source": [
    "data.Fare.describe()"
   ]
  },
  {
   "cell_type": "code",
   "execution_count": 58,
   "metadata": {},
   "outputs": [
    {
     "data": {
      "text/plain": [
       "count    775.000000\n",
       "mean      17.822091\n",
       "std       13.578085\n",
       "min        0.000000\n",
       "25%        7.895800\n",
       "50%       13.000000\n",
       "75%       26.000000\n",
       "max       65.000000\n",
       "Name: Fare, dtype: float64"
      ]
     },
     "execution_count": 58,
     "metadata": {},
     "output_type": "execute_result"
    }
   ],
   "source": [
    "data1.Fare.describe()"
   ]
  },
  {
   "cell_type": "markdown",
   "metadata": {},
   "source": [
    "Summary : \n",
    "\n",
    " - `Skewness` reduced from 4.7 to 1.4 making it look alike right skewed distribution.\n",
    " \n",
    " \n",
    " - `Kurtosis` reduced from 33 to 1.5 having less values distributed along the tails.\n",
    " \n",
    " \n",
    " - `Fare` varibale range, mean, median also reduced and was in compareable range.\n",
    " \n",
    " \n",
    " -  We could not completely remove the outlier but brought the data in comparable range."
   ]
  },
  {
   "cell_type": "markdown",
   "metadata": {},
   "source": [
    "<br>"
   ]
  },
  {
   "cell_type": "markdown",
   "metadata": {},
   "source": [
    "### `STEP 5. PREDICTIVE MODELLING / MODEL BUILDING` "
   ]
  },
  {
   "cell_type": "code",
   "execution_count": 59,
   "metadata": {},
   "outputs": [
    {
     "data": {
      "text/html": [
       "<div>\n",
       "<style scoped>\n",
       "    .dataframe tbody tr th:only-of-type {\n",
       "        vertical-align: middle;\n",
       "    }\n",
       "\n",
       "    .dataframe tbody tr th {\n",
       "        vertical-align: top;\n",
       "    }\n",
       "\n",
       "    .dataframe thead th {\n",
       "        text-align: right;\n",
       "    }\n",
       "</style>\n",
       "<table border=\"1\" class=\"dataframe\">\n",
       "  <thead>\n",
       "    <tr style=\"text-align: right;\">\n",
       "      <th></th>\n",
       "      <th>Pclass</th>\n",
       "      <th>Age</th>\n",
       "      <th>Travel_Alone</th>\n",
       "      <th>Fare</th>\n",
       "      <th>Cabin</th>\n",
       "      <th>Embarked_C</th>\n",
       "      <th>Embarked_Q</th>\n",
       "      <th>Gender</th>\n",
       "      <th>Survived</th>\n",
       "    </tr>\n",
       "  </thead>\n",
       "  <tbody>\n",
       "    <tr>\n",
       "      <td>0</td>\n",
       "      <td>3</td>\n",
       "      <td>22.0</td>\n",
       "      <td>0</td>\n",
       "      <td>7.250</td>\n",
       "      <td>1</td>\n",
       "      <td>0</td>\n",
       "      <td>0</td>\n",
       "      <td>1</td>\n",
       "      <td>0</td>\n",
       "    </tr>\n",
       "    <tr>\n",
       "      <td>2</td>\n",
       "      <td>3</td>\n",
       "      <td>26.0</td>\n",
       "      <td>1</td>\n",
       "      <td>7.925</td>\n",
       "      <td>1</td>\n",
       "      <td>0</td>\n",
       "      <td>0</td>\n",
       "      <td>0</td>\n",
       "      <td>1</td>\n",
       "    </tr>\n",
       "    <tr>\n",
       "      <td>3</td>\n",
       "      <td>1</td>\n",
       "      <td>35.0</td>\n",
       "      <td>0</td>\n",
       "      <td>53.100</td>\n",
       "      <td>0</td>\n",
       "      <td>0</td>\n",
       "      <td>0</td>\n",
       "      <td>0</td>\n",
       "      <td>1</td>\n",
       "    </tr>\n",
       "  </tbody>\n",
       "</table>\n",
       "</div>"
      ],
      "text/plain": [
       "  Pclass   Age Travel_Alone    Fare Cabin  Embarked_C  Embarked_Q  Gender  \\\n",
       "0      3  22.0            0   7.250     1           0           0       1   \n",
       "2      3  26.0            1   7.925     1           0           0       0   \n",
       "3      1  35.0            0  53.100     0           0           0       0   \n",
       "\n",
       "  Survived  \n",
       "0        0  \n",
       "2        1  \n",
       "3        1  "
      ]
     },
     "execution_count": 59,
     "metadata": {},
     "output_type": "execute_result"
    }
   ],
   "source": [
    "data1.head(3)"
   ]
  },
  {
   "cell_type": "code",
   "execution_count": 60,
   "metadata": {},
   "outputs": [
    {
     "data": {
      "text/plain": [
       "Pclass           object\n",
       "Age             float64\n",
       "Travel_Alone     object\n",
       "Fare            float64\n",
       "Cabin            object\n",
       "Embarked_C        uint8\n",
       "Embarked_Q        uint8\n",
       "Gender            uint8\n",
       "Survived         object\n",
       "dtype: object"
      ]
     },
     "execution_count": 60,
     "metadata": {},
     "output_type": "execute_result"
    }
   ],
   "source": [
    "data1.dtypes"
   ]
  },
  {
   "cell_type": "code",
   "execution_count": 61,
   "metadata": {},
   "outputs": [],
   "source": [
    "data1['Survived'] = data1['Survived'].astype('int')"
   ]
  },
  {
   "cell_type": "markdown",
   "metadata": {},
   "source": [
    "#### `SPLITTING DATA - INDEPENDENT & DEPENDENT VARIABLES`"
   ]
  },
  {
   "cell_type": "code",
   "execution_count": 62,
   "metadata": {},
   "outputs": [],
   "source": [
    "X = data1.iloc[:, 0:8].values\n",
    "y = data1.iloc[:, 8:9].values"
   ]
  },
  {
   "cell_type": "markdown",
   "metadata": {},
   "source": [
    "#### `SPLITTING DATA - TRAINING & TEST`"
   ]
  },
  {
   "cell_type": "code",
   "execution_count": 63,
   "metadata": {},
   "outputs": [],
   "source": [
    "from sklearn.model_selection import train_test_split\n",
    "X_train, X_test, y_train, y_test = train_test_split(X, y, test_size=0.2, random_state = 40, shuffle = True, stratify = y)"
   ]
  },
  {
   "cell_type": "markdown",
   "metadata": {},
   "source": [
    "#### `FEATURE SCALING`"
   ]
  },
  {
   "cell_type": "code",
   "execution_count": 64,
   "metadata": {},
   "outputs": [],
   "source": [
    "from sklearn.preprocessing import MinMaxScaler\n",
    "x_scaler = MinMaxScaler()\n",
    "X_train = x_scaler.fit_transform(X_train)\n",
    "X_test = x_scaler.transform(X_test)"
   ]
  },
  {
   "cell_type": "markdown",
   "metadata": {},
   "source": [
    "#### `BUILDING MODEL`"
   ]
  },
  {
   "cell_type": "code",
   "execution_count": 65,
   "metadata": {},
   "outputs": [
    {
     "data": {
      "text/plain": [
       "KNeighborsClassifier(algorithm='auto', leaf_size=30, metric='minkowski',\n",
       "                     metric_params=None, n_jobs=None, n_neighbors=5, p=2,\n",
       "                     weights='uniform')"
      ]
     },
     "execution_count": 65,
     "metadata": {},
     "output_type": "execute_result"
    }
   ],
   "source": [
    "# Importing the class from module \n",
    "from sklearn.neighbors import KNeighborsClassifier\n",
    "\n",
    "# Creating instance of class\n",
    "model = KNeighborsClassifier(n_neighbors=5)\n",
    "\n",
    "# Fitting model - train & test data.\n",
    "model.fit(X_train, y_train)"
   ]
  },
  {
   "cell_type": "markdown",
   "metadata": {},
   "source": [
    "#### `PREDICTING RESULTS & EVALUATING`"
   ]
  },
  {
   "cell_type": "code",
   "execution_count": 66,
   "metadata": {},
   "outputs": [
    {
     "name": "stdout",
     "output_type": "stream",
     "text": [
      "Accuracy of KNN model : 87.09677419354838 \n",
      "\n",
      "\t\t\tCLASSIFICATION REPORT:\n",
      "\n",
      "              precision    recall  f1-score   support\n",
      "\n",
      "           0       0.90      0.90      0.90       102\n",
      "           1       0.81      0.81      0.81        53\n",
      "\n",
      "    accuracy                           0.87       155\n",
      "   macro avg       0.86      0.86      0.86       155\n",
      "weighted avg       0.87      0.87      0.87       155\n",
      "\n"
     ]
    }
   ],
   "source": [
    "# Predicting results\n",
    "y_pred = model.predict(X_test)\n",
    "\n",
    "# Calculating accuracy & Classification Report\n",
    "from sklearn.metrics import accuracy_score,classification_report\n",
    "print(\"Accuracy of KNN model : {}\".format(accuracy_score(y_pred,y_test)*100), \"\\n\")\n",
    "\n",
    "print(\"\\t\\t\\tCLASSIFICATION REPORT:\\n\")\n",
    "print(classification_report(y_pred, y_test))"
   ]
  },
  {
   "cell_type": "markdown",
   "metadata": {},
   "source": [
    "<br>"
   ]
  },
  {
   "cell_type": "markdown",
   "metadata": {},
   "source": [
    "### `STEP 6. MODEL EVALUATION`"
   ]
  },
  {
   "cell_type": "markdown",
   "metadata": {},
   "source": [
    "#### `DEFINING K-VALUES`"
   ]
  },
  {
   "cell_type": "code",
   "execution_count": 67,
   "metadata": {},
   "outputs": [
    {
     "data": {
      "text/plain": [
       "Text(0, 0.5, 'Error Rate')"
      ]
     },
     "execution_count": 67,
     "metadata": {},
     "output_type": "execute_result"
    },
    {
     "data": {
      "image/png": "[encoded data removed]",
      "text/plain": [
       "<Figure size 720x432 with 1 Axes>"
      ]
     },
     "metadata": {
      "needs_background": "light"
     },
     "output_type": "display_data"
    }
   ],
   "source": [
    "error_rate = []\n",
    "for i in range(6,20,2):\n",
    "    knn = KNeighborsClassifier(n_neighbors=i)\n",
    "    knn.fit(X_train,y_train)\n",
    "    pred_i = knn.predict(X_test)\n",
    "    error_rate.append(np.mean(pred_i != y_test))\n",
    "    \n",
    "plt.figure(figsize=(10,6))\n",
    "plt.plot(range(6,20,2),error_rate,color='blue',linestyle='dashed', marker='o', markerfacecolor='red', markersize=5)\n",
    "plt.title('Error Rate vs. K Value')\n",
    "plt.xlabel('K Values')\n",
    "plt.ylabel('Error Rate')"
   ]
  },
  {
   "cell_type": "markdown",
   "metadata": {},
   "source": [
    "Reference : https://medium.com/@moussadoumbia_90919/elbow-method-in-supervised-learning-optimal-k-value-99d425f229e7#:~:text=Elbow%20Method%20in%20Supervised%20Machine%20Learning(Optimal%20K%20Value),-Moussa%20Doumbia&text=Elbow%20method%20helps%20data%20scientists,this%20optimal%20value%20of%20K. "
   ]
  },
  {
   "cell_type": "markdown",
   "metadata": {},
   "source": [
    "#### `VISULIZING UNDERFITTING / OVERFITTING`"
   ]
  },
  {
   "cell_type": "code",
   "execution_count": 68,
   "metadata": {},
   "outputs": [],
   "source": [
    "from sklearn.metrics import f1_score"
   ]
  },
  {
   "cell_type": "code",
   "execution_count": 69,
   "metadata": {},
   "outputs": [],
   "source": [
    "def F1score(K):\n",
    "    '''\n",
    "  Takes an input K consisting of a range of K values for KNN\n",
    "  Input:\n",
    "  K = list\n",
    "  \n",
    "  Returns: lists containing F1 corresponding to every value of K\n",
    "  train_f1 = list of train f1 score corresponding K\n",
    "  test_f1  = list of test f1 score corresponding to K\n",
    "    '''\n",
    "    # initiating empty list\n",
    "    train_f1 = []\n",
    "    test_f1  = []\n",
    "  \n",
    "    # training model for every value of K\n",
    "    for i in K:\n",
    "        \n",
    "        # Instance oh KNN\n",
    "        clf  =KNeighborsClassifier(n_neighbors = i)\n",
    "        clf.fit(X_train, y_train)\n",
    "        \n",
    "        # Appending F1 scores to empty list claculated using the predictions\n",
    "        tmp = clf.predict(X_train)\n",
    "        tmp = f1_score(tmp,y_train)\n",
    "        train_f1.append(tmp)\n",
    "    \n",
    "        tmp = clf.predict(X_test)\n",
    "        tmp = f1_score(tmp,y_test)\n",
    "        test_f1.append(tmp)\n",
    "    \n",
    "    return train_f1, test_f1"
   ]
  },
  {
   "cell_type": "code",
   "execution_count": 70,
   "metadata": {},
   "outputs": [],
   "source": [
    "# Defining range of K \n",
    "\n",
    "K = range(1,150)"
   ]
  },
  {
   "cell_type": "code",
   "execution_count": 71,
   "metadata": {},
   "outputs": [],
   "source": [
    "# Calculating F1score on Training & Test\n",
    "\n",
    "train_f1, test_f1 = F1score(K)"
   ]
  },
  {
   "cell_type": "code",
   "execution_count": 72,
   "metadata": {},
   "outputs": [
    {
     "data": {
      "text/plain": [
       "<matplotlib.legend.Legend at 0x1b41b08f488>"
      ]
     },
     "execution_count": 72,
     "metadata": {},
     "output_type": "execute_result"
    },
    {
     "data": {
      "image/png": "[encoded data removed]",
      "text/plain": [
       "<Figure size 720x432 with 1 Axes>"
      ]
     },
     "metadata": {
      "needs_background": "light"
     },
     "output_type": "display_data"
    }
   ],
   "source": [
    "# Plotting \n",
    "\n",
    "plt.figure(figsize=(10,6))\n",
    "plt.plot(K[0:60], test_f1[0:60], color = 'red' , label = 'test')\n",
    "plt.plot(K[0:60], train_f1[0:60], color = 'green', label = 'train')\n",
    "plt.xlabel('K Neighbors')\n",
    "plt.ylabel('F1 Score')\n",
    "plt.title('F1 Curve')\n",
    "plt.ylim(0.4,1)\n",
    "plt.legend(loc = 'upper_left', bbox_to_anchor = (1,1))"
   ]
  },
  {
   "cell_type": "markdown",
   "metadata": {},
   "source": [
    "Summary: \n",
    "    \n",
    "   - We can see that for lower value of K between 0-5 model performs wll on training data but has poor performance on test data which accounts for `Overfitting`.\n",
    "    \n",
    "    \n",
    "   - Values of K ranging from 5-12(approx) saw a better performance of test data over training data. We could say that error was minimum for teh values of K ranfging between 5-12.\n",
    "    \n",
    "    \n",
    "   - Large value of K observed `Underitting`. "
   ]
  },
  {
   "cell_type": "code",
   "execution_count": 73,
   "metadata": {},
   "outputs": [
    {
     "data": {
      "text/html": [
       "<div>\n",
       "<style scoped>\n",
       "    .dataframe tbody tr th:only-of-type {\n",
       "        vertical-align: middle;\n",
       "    }\n",
       "\n",
       "    .dataframe tbody tr th {\n",
       "        vertical-align: top;\n",
       "    }\n",
       "\n",
       "    .dataframe thead th {\n",
       "        text-align: right;\n",
       "    }\n",
       "</style>\n",
       "<table border=\"1\" class=\"dataframe\">\n",
       "  <thead>\n",
       "    <tr style=\"text-align: right;\">\n",
       "      <th></th>\n",
       "      <th>Pclass</th>\n",
       "      <th>Age</th>\n",
       "      <th>Travel_Alone</th>\n",
       "      <th>Fare</th>\n",
       "      <th>Cabin</th>\n",
       "      <th>Embarked_C</th>\n",
       "      <th>Embarked_Q</th>\n",
       "      <th>Gender</th>\n",
       "      <th>Survived</th>\n",
       "    </tr>\n",
       "  </thead>\n",
       "  <tbody>\n",
       "    <tr>\n",
       "      <td>0</td>\n",
       "      <td>3</td>\n",
       "      <td>22.0</td>\n",
       "      <td>0</td>\n",
       "      <td>7.2500</td>\n",
       "      <td>1</td>\n",
       "      <td>0</td>\n",
       "      <td>0</td>\n",
       "      <td>1</td>\n",
       "      <td>0</td>\n",
       "    </tr>\n",
       "    <tr>\n",
       "      <td>1</td>\n",
       "      <td>1</td>\n",
       "      <td>38.0</td>\n",
       "      <td>0</td>\n",
       "      <td>71.2833</td>\n",
       "      <td>0</td>\n",
       "      <td>1</td>\n",
       "      <td>0</td>\n",
       "      <td>0</td>\n",
       "      <td>1</td>\n",
       "    </tr>\n",
       "    <tr>\n",
       "      <td>2</td>\n",
       "      <td>3</td>\n",
       "      <td>26.0</td>\n",
       "      <td>1</td>\n",
       "      <td>7.9250</td>\n",
       "      <td>1</td>\n",
       "      <td>0</td>\n",
       "      <td>0</td>\n",
       "      <td>0</td>\n",
       "      <td>1</td>\n",
       "    </tr>\n",
       "    <tr>\n",
       "      <td>3</td>\n",
       "      <td>1</td>\n",
       "      <td>35.0</td>\n",
       "      <td>0</td>\n",
       "      <td>53.1000</td>\n",
       "      <td>0</td>\n",
       "      <td>0</td>\n",
       "      <td>0</td>\n",
       "      <td>0</td>\n",
       "      <td>1</td>\n",
       "    </tr>\n",
       "    <tr>\n",
       "      <td>4</td>\n",
       "      <td>3</td>\n",
       "      <td>35.0</td>\n",
       "      <td>1</td>\n",
       "      <td>8.0500</td>\n",
       "      <td>1</td>\n",
       "      <td>0</td>\n",
       "      <td>0</td>\n",
       "      <td>1</td>\n",
       "      <td>0</td>\n",
       "    </tr>\n",
       "  </tbody>\n",
       "</table>\n",
       "</div>"
      ],
      "text/plain": [
       "  Pclass   Age Travel_Alone     Fare Cabin  Embarked_C  Embarked_Q  Gender  \\\n",
       "0      3  22.0            0   7.2500     1           0           0       1   \n",
       "1      1  38.0            0  71.2833     0           1           0       0   \n",
       "2      3  26.0            1   7.9250     1           0           0       0   \n",
       "3      1  35.0            0  53.1000     0           0           0       0   \n",
       "4      3  35.0            1   8.0500     1           0           0       1   \n",
       "\n",
       "  Survived  \n",
       "0        0  \n",
       "1        1  \n",
       "2        1  \n",
       "3        1  \n",
       "4        0  "
      ]
     },
     "execution_count": 73,
     "metadata": {},
     "output_type": "execute_result"
    }
   ],
   "source": [
    "data.head()"
   ]
  },
  {
   "cell_type": "markdown",
   "metadata": {},
   "source": [
    "<br>"
   ]
  },
  {
   "cell_type": "markdown",
   "metadata": {},
   "source": [
    "### `STEP 7. MODEL TESTING`"
   ]
  },
  {
   "cell_type": "code",
   "execution_count": 74,
   "metadata": {},
   "outputs": [
    {
     "name": "stdout",
     "output_type": "stream",
     "text": [
      "[0]\n"
     ]
    }
   ],
   "source": [
    "# Prediction 1\n",
    "\n",
    "print(model.predict(x_scaler.transform([[3,22,0,7.25,1,0,0,1]])))"
   ]
  },
  {
   "cell_type": "code",
   "execution_count": 75,
   "metadata": {},
   "outputs": [
    {
     "name": "stdout",
     "output_type": "stream",
     "text": [
      "[1]\n"
     ]
    }
   ],
   "source": [
    " # Prediction 2\n",
    "\n",
    "print(model.predict(x_scaler.transform([[1,34,0,53,1,0,0,0]])))"
   ]
  },
  {
   "cell_type": "markdown",
   "metadata": {},
   "source": [
    "<br>"
   ]
  },
  {
   "cell_type": "markdown",
   "metadata": {},
   "source": [
    "### `CHECKING CONSISTENCY -  K Fold Cross Validation`"
   ]
  },
  {
   "cell_type": "markdown",
   "metadata": {},
   "source": [
    "- We where plotting F1 - scores against various values of K along the X axis. It performed well on training data and not that good on test data and based on this result we where just selecting the optimum value of K for our algorithm. \n",
    "\n",
    "\n",
    "- We where not evaluating our model based on unseen data. If we tried to did it, it may or may not give us the generalized result which can sometimes be dangerous.\n",
    "\n",
    "\n",
    "- We have the concept of validation data which is just another subset of training data and is used for optimizing the model instead of test data. Test data which is not seen at all by the model is just used for final evaluation purpose.\n",
    "\n",
    "\n",
    "- We have following methods for optimizing the model and creating validation set.\n",
    "\n",
    "        1) Hold Out Validation.\n",
    "        2) Stratified Hold Out Validation.\n",
    "        3) Leave One Out Validation.\n",
    "        4) K Fold Cross Validation.\n",
    "        \n",
    "        \n",
    " - `Hold Out Validation` randomly splits the data into training and validation set . There can be chances of class imbalance so to avoid class imbalance issue we have `Stratified Hold Out Validation` where we mention `stratify = y` parameter which divides the distribution in such a manner that training and validation data have equal proporation of class labels. But it requires a good amount of data to be kept aside for validation and training which cannot be acheived when dataset is small. So to address this issue we have `K Fold Cross Validation`.\n",
    " \n",
    " \n",
    " - Ideally the value of K should be between `5 < K < 10`. Value of K > 10 results in creating more model / groups. When we have K = number of observation (K = n) it belongs to `Leave One Out Validation`. For different values of K we compute score and at last we take mean of all values. Higher the means tells us that better is the model. Also for better consistency the score should not vary much so we calculate standard deviation as well."
   ]
  },
  {
   "cell_type": "code",
   "execution_count": 76,
   "metadata": {},
   "outputs": [
    {
     "name": "stdout",
     "output_type": "stream",
     "text": [
      "Mean : 78.06451612903224, Standard Deviation : 5.956833971812707\n"
     ]
    }
   ],
   "source": [
    "from sklearn.model_selection import cross_val_score\n",
    "\n",
    "score = cross_val_score(KNeighborsClassifier(n_neighbors = 5), X_train, y_train, cv=10)\n",
    "print(\"Mean : {}, Standard Deviation : {}\".format(score.mean()*100, score.std()*100))"
   ]
  },
  {
   "cell_type": "code",
   "execution_count": 77,
   "metadata": {},
   "outputs": [],
   "source": [
    "def Val_Score(n_neighbors):\n",
    "    \n",
    "    avg = []\n",
    "    std = []\n",
    "    \n",
    "    for i in n_neighbors:\n",
    "        \n",
    "        # 10 fold cross validation for every value of neighbors\n",
    "        score  = cross_val_score(KNeighborsClassifier(n_neighbors = i), X_train, y_train, cv = 10)\n",
    "        \n",
    "        # Calculating average\n",
    "        avg.append(score.mean())\n",
    "        \n",
    "        # Calucating Standard Deviation\n",
    "        std.append(score.std())\n",
    "        \n",
    "    return avg, std"
   ]
  },
  {
   "cell_type": "code",
   "execution_count": 80,
   "metadata": {},
   "outputs": [],
   "source": [
    "n_neighbors = range(1,50)\n",
    "\n",
    "avg, std = Val_Score(n_neighbors)"
   ]
  },
  {
   "cell_type": "code",
   "execution_count": 85,
   "metadata": {},
   "outputs": [
    {
     "data": {
      "image/png": "[encoded data removed]",
      "text/plain": [
       "<Figure size 1440x432 with 2 Axes>"
      ]
     },
     "metadata": {
      "needs_background": "light"
     },
     "output_type": "display_data"
    },
    {
     "data": {
      "text/plain": [
       "<Figure size 432x288 with 0 Axes>"
      ]
     },
     "metadata": {},
     "output_type": "display_data"
    }
   ],
   "source": [
    "# Plotting Mean \n",
    "\n",
    "plt.figure(figsize = (20,6))\n",
    "\n",
    "plt.subplot(1,2,1)\n",
    "plt.plot(n_neighbors, avg, label = 'avg', color='blue',linestyle='dashed', marker='o', markerfacecolor='red', markersize=5)\n",
    "plt.xlabel('n_neighbors')\n",
    "plt.ylabel('Mean Score')\n",
    "plt.title('Mean Validation score')\n",
    "\n",
    "plt.subplot(1,2,2)\n",
    "plt.plot(n_neighbors[5:12], avg[5:12], label = 'avg', color='blue',linestyle='dashed', marker='o', markerfacecolor='red', markersize=5)\n",
    "plt.xlabel('n_neighbors')\n",
    "plt.ylabel('Mean Score')\n",
    "plt.title('Mean Validation score')\n",
    "\n",
    "plt.show()\n",
    "plt.tight_layout()"
   ]
  },
  {
   "cell_type": "markdown",
   "metadata": {},
   "source": [
    "Summary:\n",
    "\n",
    "- As per above visualization we could observe high mean for the values ranging between 5-12.\n",
    "\n",
    "\n",
    "- On further analysis, we could observe `n_neigbours = 8` acheived high mean."
   ]
  },
  {
   "cell_type": "code",
   "execution_count": 90,
   "metadata": {},
   "outputs": [
    {
     "data": {
      "image/png": "[encoded data removed]",
      "text/plain": [
       "<Figure size 1440x432 with 2 Axes>"
      ]
     },
     "metadata": {
      "needs_background": "light"
     },
     "output_type": "display_data"
    },
    {
     "data": {
      "text/plain": [
       "<Figure size 432x288 with 0 Axes>"
      ]
     },
     "metadata": {},
     "output_type": "display_data"
    }
   ],
   "source": [
    "# Plotting Standard Deviation\n",
    "\n",
    "plt.figure(figsize = (20,6))\n",
    "\n",
    "plt.subplot(1,2,1)\n",
    "plt.plot(n_neighbors, std, label = 'std', color='blue',linestyle='dashed', marker='o', markerfacecolor='red', markersize=5)\n",
    "plt.xlabel('n_neighbors')\n",
    "plt.ylabel('Magnitude')\n",
    "plt.title('Standard Deviation - Validation Score')\n",
    "\n",
    "plt.subplot(1,2,2)\n",
    "plt.plot(n_neighbors[2:12], std[2:12], label = 'std', color='blue',linestyle='dashed', marker='o', markerfacecolor='red', markersize=5)\n",
    "plt.xlabel('n_neighbors')\n",
    "plt.ylabel('Magnitude')\n",
    "plt.title('Standard Deviation - Validation Score')\n",
    "\n",
    "plt.show()\n",
    "plt.tight_layout()"
   ]
  },
  {
   "cell_type": "markdown",
   "metadata": {},
   "source": [
    "Summary:\n",
    "\n",
    "- As per above visualization we can see that standard deviation of n_neighbour = 8 is low and mean was high which can make us to conclude that model generalized at n_neighbour = 8.\n",
    "\n",
    "\n",
    "- The mean for n_neighbour 10 and 12 was same but less than n_neighbour = 8. Model looks to be consistent and stable for n_neigbors = 12 but it's mean value for scores is not that good. So, if we are focusing on accuracy  choosing `n_neighbors = 8  will give better accuracy` but choosing `n_neighbors = 12 will give us consitent and stable model`."
   ]
  },
  {
   "cell_type": "code",
   "execution_count": 91,
   "metadata": {},
   "outputs": [
    {
     "name": "stdout",
     "output_type": "stream",
     "text": [
      "Mean : 79.19354838709677, Standard Deviation : 4.294686114740112\n"
     ]
    }
   ],
   "source": [
    "# N_Neighbors = 8 \n",
    "\n",
    "score = cross_val_score(KNeighborsClassifier(n_neighbors = 8), X_train, y_train, cv=10)\n",
    "print(\"Mean : {}, Standard Deviation : {}\".format(score.mean()*100, score.std()*100))"
   ]
  },
  {
   "cell_type": "code",
   "execution_count": 92,
   "metadata": {},
   "outputs": [
    {
     "name": "stdout",
     "output_type": "stream",
     "text": [
      "Mean : 77.41935483870968, Standard Deviation : 3.9507899077148037\n"
     ]
    }
   ],
   "source": [
    "# N_Neighbors = 12\n",
    "\n",
    "score = cross_val_score(KNeighborsClassifier(n_neighbors = 12), X_train, y_train, cv=10)\n",
    "print(\"Mean : {}, Standard Deviation : {}\".format(score.mean()*100, score.std()*100))"
   ]
  },
  {
   "cell_type": "markdown",
   "metadata": {},
   "source": [
    "So here we used `validation data` for choosing optimum value of K. Using the optimum value of K we built our model now and evaluate on Test test which our model has'nt seen."
   ]
  },
  {
   "cell_type": "markdown",
   "metadata": {},
   "source": [
    "#### `TESTING - (K = 8 & K = 12)`"
   ]
  },
  {
   "cell_type": "code",
   "execution_count": 94,
   "metadata": {},
   "outputs": [
    {
     "name": "stdout",
     "output_type": "stream",
     "text": [
      "Accuracy of KNN model : 81.93548387096774 \n",
      "\n"
     ]
    }
   ],
   "source": [
    "# N_Neigbours = 8\n",
    "\n",
    "model1 = KNeighborsClassifier(n_neighbors = 8)\n",
    "model1.fit(X_train, y_train)\n",
    "\n",
    "# Predicting Test Result\n",
    "y_pred1 = model1.predict(X_test)\n",
    "\n",
    "# Calculating Accuracy\n",
    "print(\"Accuracy of KNN model : {}\".format(accuracy_score(y_pred1,y_test)*100), \"\\n\")"
   ]
  },
  {
   "cell_type": "code",
   "execution_count": 95,
   "metadata": {},
   "outputs": [
    {
     "name": "stdout",
     "output_type": "stream",
     "text": [
      "Accuracy of KNN model : 79.35483870967742 \n",
      "\n"
     ]
    }
   ],
   "source": [
    "# N_Neigbours = 12\n",
    "\n",
    "model1 = KNeighborsClassifier(n_neighbors = 12)\n",
    "model1.fit(X_train, y_train)\n",
    "\n",
    "# Predicting Test Result\n",
    "y_pred1 = model1.predict(X_test)\n",
    "\n",
    "# Calculating Accuracy\n",
    "print(\"Accuracy of KNN model : {}\".format(accuracy_score(y_pred1,y_test)*100), \"\\n\")"
   ]
  },
  {
   "cell_type": "markdown",
   "metadata": {},
   "source": [
    "Summary:\n",
    "   \n",
    "We acheived an avg accuracy of `80.645 %` over test data for n_neigbours 8 and 12."
   ]
  }
 ],
 "metadata": {
  "kernelspec": {
   "display_name": "Python 3",
   "language": "python",
   "name": "python3"
  },
  "language_info": {
   "codemirror_mode": {
    "name": "ipython",
    "version": 3
   },
   "file_extension": ".py",
   "mimetype": "text/x-python",
   "name": "python",
   "nbconvert_exporter": "python",
   "pygments_lexer": "ipython3",
   "version": "3.7.4"
  }
 },
 "nbformat": 4,
 "nbformat_minor": 2
}
