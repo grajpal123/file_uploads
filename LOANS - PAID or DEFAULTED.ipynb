{
 "cells": [
  {
   "cell_type": "markdown",
   "metadata": {},
   "source": [
    "# CASE STUDY - LOAN PAID / UNPAID"
   ]
  },
  {
   "cell_type": "markdown",
   "metadata": {},
   "source": [
    "### STEP 1 - PROBLEM STATEMENT"
   ]
  },
  {
   "cell_type": "markdown",
   "metadata": {},
   "source": [
    "This dataset is about past loans. The `loan_train.csv` data set includes details of 346 customers whose loan are already paid off or defaulted. It includes following fields:\n",
    "\n",
    "| Field          | Description                                                                           |\n",
    "|----------------|---------------------------------------------------------------------------------------|\n",
    "| Loan_status    | Whether a loan is paid off on in collection                                           |\n",
    "| Principal      | Basic principal loan amount                                                           |\n",
    "| Terms          | Origination terms which can be weekly (7 days), biweekly, and monthly payoff schedule |\n",
    "| Effective_date | When the loan got originated and took effects                                         |\n",
    "| Due_date       | Since it’s one-time payoff schedule, each loan has one single due date                |\n",
    "| Age            | Age of applicant                                                                      |\n",
    "| Education      | Education of applicant                                                                |\n",
    "| Gender         | The gender of applicant                                                               |"
   ]
  },
  {
   "cell_type": "markdown",
   "metadata": {},
   "source": [
    "### STEP 2 - IMPORTING LIBRARIES"
   ]
  },
  {
   "cell_type": "code",
   "execution_count": 1,
   "metadata": {},
   "outputs": [],
   "source": [
    "import numpy as np\n",
    "import pandas as pd\n",
    "import matplotlib.pyplot as plt\n",
    "import seaborn as sns\n",
    "\n",
    "import warnings \n",
    "warnings.filterwarnings('ignore')"
   ]
  },
  {
   "cell_type": "markdown",
   "metadata": {},
   "source": [
    "### STEP 3 - IMPORTING DATASET  & DATA EXPLORATION"
   ]
  },
  {
   "cell_type": "code",
   "execution_count": 2,
   "metadata": {},
   "outputs": [
    {
     "name": "stdout",
     "output_type": "stream",
     "text": [
      "Data Imported Successfully\n"
     ]
    }
   ],
   "source": [
    "# Importing the datset \n",
    "\n",
    "df = pd.read_csv('loan_train.csv')\n",
    "print(\"Data Imported Successfully\")"
   ]
  },
  {
   "cell_type": "code",
   "execution_count": 3,
   "metadata": {},
   "outputs": [
    {
     "data": {
      "text/html": [
       "<div>\n",
       "<style scoped>\n",
       "    .dataframe tbody tr th:only-of-type {\n",
       "        vertical-align: middle;\n",
       "    }\n",
       "\n",
       "    .dataframe tbody tr th {\n",
       "        vertical-align: top;\n",
       "    }\n",
       "\n",
       "    .dataframe thead th {\n",
       "        text-align: right;\n",
       "    }\n",
       "</style>\n",
       "<table border=\"1\" class=\"dataframe\">\n",
       "  <thead>\n",
       "    <tr style=\"text-align: right;\">\n",
       "      <th></th>\n",
       "      <th>Unnamed: 0</th>\n",
       "      <th>Unnamed: 0.1</th>\n",
       "      <th>loan_status</th>\n",
       "      <th>Principal</th>\n",
       "      <th>terms</th>\n",
       "      <th>effective_date</th>\n",
       "      <th>due_date</th>\n",
       "      <th>age</th>\n",
       "      <th>education</th>\n",
       "      <th>Gender</th>\n",
       "    </tr>\n",
       "  </thead>\n",
       "  <tbody>\n",
       "    <tr>\n",
       "      <td>0</td>\n",
       "      <td>0</td>\n",
       "      <td>0</td>\n",
       "      <td>PAIDOFF</td>\n",
       "      <td>1000</td>\n",
       "      <td>30</td>\n",
       "      <td>9/8/2016</td>\n",
       "      <td>10/7/2016</td>\n",
       "      <td>45</td>\n",
       "      <td>High School or Below</td>\n",
       "      <td>male</td>\n",
       "    </tr>\n",
       "    <tr>\n",
       "      <td>1</td>\n",
       "      <td>2</td>\n",
       "      <td>2</td>\n",
       "      <td>PAIDOFF</td>\n",
       "      <td>1000</td>\n",
       "      <td>30</td>\n",
       "      <td>9/8/2016</td>\n",
       "      <td>10/7/2016</td>\n",
       "      <td>33</td>\n",
       "      <td>Bechalor</td>\n",
       "      <td>female</td>\n",
       "    </tr>\n",
       "    <tr>\n",
       "      <td>2</td>\n",
       "      <td>3</td>\n",
       "      <td>3</td>\n",
       "      <td>PAIDOFF</td>\n",
       "      <td>1000</td>\n",
       "      <td>15</td>\n",
       "      <td>9/8/2016</td>\n",
       "      <td>9/22/2016</td>\n",
       "      <td>27</td>\n",
       "      <td>college</td>\n",
       "      <td>male</td>\n",
       "    </tr>\n",
       "    <tr>\n",
       "      <td>3</td>\n",
       "      <td>4</td>\n",
       "      <td>4</td>\n",
       "      <td>PAIDOFF</td>\n",
       "      <td>1000</td>\n",
       "      <td>30</td>\n",
       "      <td>9/9/2016</td>\n",
       "      <td>10/8/2016</td>\n",
       "      <td>28</td>\n",
       "      <td>college</td>\n",
       "      <td>female</td>\n",
       "    </tr>\n",
       "    <tr>\n",
       "      <td>4</td>\n",
       "      <td>6</td>\n",
       "      <td>6</td>\n",
       "      <td>PAIDOFF</td>\n",
       "      <td>1000</td>\n",
       "      <td>30</td>\n",
       "      <td>9/9/2016</td>\n",
       "      <td>10/8/2016</td>\n",
       "      <td>29</td>\n",
       "      <td>college</td>\n",
       "      <td>male</td>\n",
       "    </tr>\n",
       "  </tbody>\n",
       "</table>\n",
       "</div>"
      ],
      "text/plain": [
       "   Unnamed: 0  Unnamed: 0.1 loan_status  Principal  terms effective_date  \\\n",
       "0           0             0     PAIDOFF       1000     30       9/8/2016   \n",
       "1           2             2     PAIDOFF       1000     30       9/8/2016   \n",
       "2           3             3     PAIDOFF       1000     15       9/8/2016   \n",
       "3           4             4     PAIDOFF       1000     30       9/9/2016   \n",
       "4           6             6     PAIDOFF       1000     30       9/9/2016   \n",
       "\n",
       "    due_date  age             education  Gender  \n",
       "0  10/7/2016   45  High School or Below    male  \n",
       "1  10/7/2016   33              Bechalor  female  \n",
       "2  9/22/2016   27               college    male  \n",
       "3  10/8/2016   28               college  female  \n",
       "4  10/8/2016   29               college    male  "
      ]
     },
     "execution_count": 3,
     "metadata": {},
     "output_type": "execute_result"
    }
   ],
   "source": [
    "# Checking top 5 records\n",
    "\n",
    "df.head()"
   ]
  },
  {
   "cell_type": "code",
   "execution_count": 4,
   "metadata": {},
   "outputs": [
    {
     "data": {
      "text/html": [
       "<div>\n",
       "<style scoped>\n",
       "    .dataframe tbody tr th:only-of-type {\n",
       "        vertical-align: middle;\n",
       "    }\n",
       "\n",
       "    .dataframe tbody tr th {\n",
       "        vertical-align: top;\n",
       "    }\n",
       "\n",
       "    .dataframe thead th {\n",
       "        text-align: right;\n",
       "    }\n",
       "</style>\n",
       "<table border=\"1\" class=\"dataframe\">\n",
       "  <thead>\n",
       "    <tr style=\"text-align: right;\">\n",
       "      <th></th>\n",
       "      <th>loan_status</th>\n",
       "      <th>Principal</th>\n",
       "      <th>terms</th>\n",
       "      <th>effective_date</th>\n",
       "      <th>due_date</th>\n",
       "      <th>age</th>\n",
       "      <th>education</th>\n",
       "      <th>Gender</th>\n",
       "    </tr>\n",
       "  </thead>\n",
       "  <tbody>\n",
       "    <tr>\n",
       "      <td>0</td>\n",
       "      <td>PAIDOFF</td>\n",
       "      <td>1000</td>\n",
       "      <td>30</td>\n",
       "      <td>9/8/2016</td>\n",
       "      <td>10/7/2016</td>\n",
       "      <td>45</td>\n",
       "      <td>High School or Below</td>\n",
       "      <td>male</td>\n",
       "    </tr>\n",
       "    <tr>\n",
       "      <td>1</td>\n",
       "      <td>PAIDOFF</td>\n",
       "      <td>1000</td>\n",
       "      <td>30</td>\n",
       "      <td>9/8/2016</td>\n",
       "      <td>10/7/2016</td>\n",
       "      <td>33</td>\n",
       "      <td>Bechalor</td>\n",
       "      <td>female</td>\n",
       "    </tr>\n",
       "    <tr>\n",
       "      <td>2</td>\n",
       "      <td>PAIDOFF</td>\n",
       "      <td>1000</td>\n",
       "      <td>15</td>\n",
       "      <td>9/8/2016</td>\n",
       "      <td>9/22/2016</td>\n",
       "      <td>27</td>\n",
       "      <td>college</td>\n",
       "      <td>male</td>\n",
       "    </tr>\n",
       "    <tr>\n",
       "      <td>3</td>\n",
       "      <td>PAIDOFF</td>\n",
       "      <td>1000</td>\n",
       "      <td>30</td>\n",
       "      <td>9/9/2016</td>\n",
       "      <td>10/8/2016</td>\n",
       "      <td>28</td>\n",
       "      <td>college</td>\n",
       "      <td>female</td>\n",
       "    </tr>\n",
       "    <tr>\n",
       "      <td>4</td>\n",
       "      <td>PAIDOFF</td>\n",
       "      <td>1000</td>\n",
       "      <td>30</td>\n",
       "      <td>9/9/2016</td>\n",
       "      <td>10/8/2016</td>\n",
       "      <td>29</td>\n",
       "      <td>college</td>\n",
       "      <td>male</td>\n",
       "    </tr>\n",
       "  </tbody>\n",
       "</table>\n",
       "</div>"
      ],
      "text/plain": [
       "  loan_status  Principal  terms effective_date   due_date  age  \\\n",
       "0     PAIDOFF       1000     30       9/8/2016  10/7/2016   45   \n",
       "1     PAIDOFF       1000     30       9/8/2016  10/7/2016   33   \n",
       "2     PAIDOFF       1000     15       9/8/2016  9/22/2016   27   \n",
       "3     PAIDOFF       1000     30       9/9/2016  10/8/2016   28   \n",
       "4     PAIDOFF       1000     30       9/9/2016  10/8/2016   29   \n",
       "\n",
       "              education  Gender  \n",
       "0  High School or Below    male  \n",
       "1              Bechalor  female  \n",
       "2               college    male  \n",
       "3               college  female  \n",
       "4               college    male  "
      ]
     },
     "execution_count": 4,
     "metadata": {},
     "output_type": "execute_result"
    }
   ],
   "source": [
    "# Dropping unwanted columns\n",
    "\n",
    "df.drop(columns = ['Unnamed: 0', 'Unnamed: 0.1'],\n",
    "        axis    = 1,\n",
    "        inplace = True)\n",
    "\n",
    "df.head()"
   ]
  },
  {
   "cell_type": "code",
   "execution_count": 5,
   "metadata": {},
   "outputs": [
    {
     "data": {
      "text/html": [
       "<div>\n",
       "<style scoped>\n",
       "    .dataframe tbody tr th:only-of-type {\n",
       "        vertical-align: middle;\n",
       "    }\n",
       "\n",
       "    .dataframe tbody tr th {\n",
       "        vertical-align: top;\n",
       "    }\n",
       "\n",
       "    .dataframe thead th {\n",
       "        text-align: right;\n",
       "    }\n",
       "</style>\n",
       "<table border=\"1\" class=\"dataframe\">\n",
       "  <thead>\n",
       "    <tr style=\"text-align: right;\">\n",
       "      <th></th>\n",
       "      <th>Loan_Status</th>\n",
       "      <th>Principal</th>\n",
       "      <th>Terms</th>\n",
       "      <th>Effective_Date</th>\n",
       "      <th>Due_Date</th>\n",
       "      <th>Age</th>\n",
       "      <th>Education</th>\n",
       "      <th>Gender</th>\n",
       "    </tr>\n",
       "  </thead>\n",
       "  <tbody>\n",
       "    <tr>\n",
       "      <td>0</td>\n",
       "      <td>PAIDOFF</td>\n",
       "      <td>1000</td>\n",
       "      <td>30</td>\n",
       "      <td>9/8/2016</td>\n",
       "      <td>10/7/2016</td>\n",
       "      <td>45</td>\n",
       "      <td>High School or Below</td>\n",
       "      <td>male</td>\n",
       "    </tr>\n",
       "    <tr>\n",
       "      <td>1</td>\n",
       "      <td>PAIDOFF</td>\n",
       "      <td>1000</td>\n",
       "      <td>30</td>\n",
       "      <td>9/8/2016</td>\n",
       "      <td>10/7/2016</td>\n",
       "      <td>33</td>\n",
       "      <td>Bechalor</td>\n",
       "      <td>female</td>\n",
       "    </tr>\n",
       "    <tr>\n",
       "      <td>2</td>\n",
       "      <td>PAIDOFF</td>\n",
       "      <td>1000</td>\n",
       "      <td>15</td>\n",
       "      <td>9/8/2016</td>\n",
       "      <td>9/22/2016</td>\n",
       "      <td>27</td>\n",
       "      <td>college</td>\n",
       "      <td>male</td>\n",
       "    </tr>\n",
       "    <tr>\n",
       "      <td>3</td>\n",
       "      <td>PAIDOFF</td>\n",
       "      <td>1000</td>\n",
       "      <td>30</td>\n",
       "      <td>9/9/2016</td>\n",
       "      <td>10/8/2016</td>\n",
       "      <td>28</td>\n",
       "      <td>college</td>\n",
       "      <td>female</td>\n",
       "    </tr>\n",
       "    <tr>\n",
       "      <td>4</td>\n",
       "      <td>PAIDOFF</td>\n",
       "      <td>1000</td>\n",
       "      <td>30</td>\n",
       "      <td>9/9/2016</td>\n",
       "      <td>10/8/2016</td>\n",
       "      <td>29</td>\n",
       "      <td>college</td>\n",
       "      <td>male</td>\n",
       "    </tr>\n",
       "  </tbody>\n",
       "</table>\n",
       "</div>"
      ],
      "text/plain": [
       "  Loan_Status  Principal  Terms Effective_Date   Due_Date  Age  \\\n",
       "0     PAIDOFF       1000     30       9/8/2016  10/7/2016   45   \n",
       "1     PAIDOFF       1000     30       9/8/2016  10/7/2016   33   \n",
       "2     PAIDOFF       1000     15       9/8/2016  9/22/2016   27   \n",
       "3     PAIDOFF       1000     30       9/9/2016  10/8/2016   28   \n",
       "4     PAIDOFF       1000     30       9/9/2016  10/8/2016   29   \n",
       "\n",
       "              Education  Gender  \n",
       "0  High School or Below    male  \n",
       "1              Bechalor  female  \n",
       "2               college    male  \n",
       "3               college  female  \n",
       "4               college    male  "
      ]
     },
     "execution_count": 5,
     "metadata": {},
     "output_type": "execute_result"
    }
   ],
   "source": [
    "# Renaming Columns\n",
    "\n",
    "df.rename(columns = {\n",
    "     'loan_status'    : 'Loan_Status',\n",
    "     'Principal'      : 'Principal',\n",
    "     'terms'          : 'Terms',\n",
    "     'effective_date' : 'Effective_Date',\n",
    "     'due_date'       : 'Due_Date',\n",
    "     'age'            : 'Age',\n",
    "     'education'      : 'Education',\n",
    "     'Gender'         : 'Gender'\n",
    "}, inplace = True)\n",
    "\n",
    "df.head()"
   ]
  },
  {
   "cell_type": "code",
   "execution_count": 6,
   "metadata": {},
   "outputs": [
    {
     "data": {
      "text/plain": [
       "['Loan_Status',\n",
       " 'Principal',\n",
       " 'Terms',\n",
       " 'Effective_Date',\n",
       " 'Due_Date',\n",
       " 'Age',\n",
       " 'Education',\n",
       " 'Gender']"
      ]
     },
     "execution_count": 6,
     "metadata": {},
     "output_type": "execute_result"
    }
   ],
   "source": [
    "# Rearraning target column position\n",
    "\n",
    "cols = df.columns.tolist()\n",
    "cols"
   ]
  },
  {
   "cell_type": "code",
   "execution_count": 7,
   "metadata": {},
   "outputs": [
    {
     "data": {
      "text/html": [
       "<div>\n",
       "<style scoped>\n",
       "    .dataframe tbody tr th:only-of-type {\n",
       "        vertical-align: middle;\n",
       "    }\n",
       "\n",
       "    .dataframe tbody tr th {\n",
       "        vertical-align: top;\n",
       "    }\n",
       "\n",
       "    .dataframe thead th {\n",
       "        text-align: right;\n",
       "    }\n",
       "</style>\n",
       "<table border=\"1\" class=\"dataframe\">\n",
       "  <thead>\n",
       "    <tr style=\"text-align: right;\">\n",
       "      <th></th>\n",
       "      <th>Principal</th>\n",
       "      <th>Terms</th>\n",
       "      <th>Effective_Date</th>\n",
       "      <th>Due_Date</th>\n",
       "      <th>Age</th>\n",
       "      <th>Education</th>\n",
       "      <th>Gender</th>\n",
       "      <th>Loan_Status</th>\n",
       "    </tr>\n",
       "  </thead>\n",
       "  <tbody>\n",
       "    <tr>\n",
       "      <td>0</td>\n",
       "      <td>1000</td>\n",
       "      <td>30</td>\n",
       "      <td>9/8/2016</td>\n",
       "      <td>10/7/2016</td>\n",
       "      <td>45</td>\n",
       "      <td>High School or Below</td>\n",
       "      <td>male</td>\n",
       "      <td>PAIDOFF</td>\n",
       "    </tr>\n",
       "    <tr>\n",
       "      <td>1</td>\n",
       "      <td>1000</td>\n",
       "      <td>30</td>\n",
       "      <td>9/8/2016</td>\n",
       "      <td>10/7/2016</td>\n",
       "      <td>33</td>\n",
       "      <td>Bechalor</td>\n",
       "      <td>female</td>\n",
       "      <td>PAIDOFF</td>\n",
       "    </tr>\n",
       "    <tr>\n",
       "      <td>2</td>\n",
       "      <td>1000</td>\n",
       "      <td>15</td>\n",
       "      <td>9/8/2016</td>\n",
       "      <td>9/22/2016</td>\n",
       "      <td>27</td>\n",
       "      <td>college</td>\n",
       "      <td>male</td>\n",
       "      <td>PAIDOFF</td>\n",
       "    </tr>\n",
       "    <tr>\n",
       "      <td>3</td>\n",
       "      <td>1000</td>\n",
       "      <td>30</td>\n",
       "      <td>9/9/2016</td>\n",
       "      <td>10/8/2016</td>\n",
       "      <td>28</td>\n",
       "      <td>college</td>\n",
       "      <td>female</td>\n",
       "      <td>PAIDOFF</td>\n",
       "    </tr>\n",
       "    <tr>\n",
       "      <td>4</td>\n",
       "      <td>1000</td>\n",
       "      <td>30</td>\n",
       "      <td>9/9/2016</td>\n",
       "      <td>10/8/2016</td>\n",
       "      <td>29</td>\n",
       "      <td>college</td>\n",
       "      <td>male</td>\n",
       "      <td>PAIDOFF</td>\n",
       "    </tr>\n",
       "  </tbody>\n",
       "</table>\n",
       "</div>"
      ],
      "text/plain": [
       "   Principal  Terms Effective_Date   Due_Date  Age             Education  \\\n",
       "0       1000     30       9/8/2016  10/7/2016   45  High School or Below   \n",
       "1       1000     30       9/8/2016  10/7/2016   33              Bechalor   \n",
       "2       1000     15       9/8/2016  9/22/2016   27               college   \n",
       "3       1000     30       9/9/2016  10/8/2016   28               college   \n",
       "4       1000     30       9/9/2016  10/8/2016   29               college   \n",
       "\n",
       "   Gender Loan_Status  \n",
       "0    male     PAIDOFF  \n",
       "1  female     PAIDOFF  \n",
       "2    male     PAIDOFF  \n",
       "3  female     PAIDOFF  \n",
       "4    male     PAIDOFF  "
      ]
     },
     "execution_count": 7,
     "metadata": {},
     "output_type": "execute_result"
    }
   ],
   "source": [
    "cols = ['Principal','Terms','Effective_Date','Due_Date','Age','Education','Gender','Loan_Status']\n",
    "\n",
    "df = df[cols]\n",
    "df.head()"
   ]
  },
  {
   "cell_type": "code",
   "execution_count": 8,
   "metadata": {},
   "outputs": [
    {
     "data": {
      "text/html": [
       "<div>\n",
       "<style scoped>\n",
       "    .dataframe tbody tr th:only-of-type {\n",
       "        vertical-align: middle;\n",
       "    }\n",
       "\n",
       "    .dataframe tbody tr th {\n",
       "        vertical-align: top;\n",
       "    }\n",
       "\n",
       "    .dataframe thead th {\n",
       "        text-align: right;\n",
       "    }\n",
       "</style>\n",
       "<table border=\"1\" class=\"dataframe\">\n",
       "  <thead>\n",
       "    <tr style=\"text-align: right;\">\n",
       "      <th></th>\n",
       "      <th>Principal</th>\n",
       "      <th>Terms</th>\n",
       "      <th>Effective_Date</th>\n",
       "      <th>Due_Date</th>\n",
       "      <th>Age</th>\n",
       "      <th>Education</th>\n",
       "      <th>Gender</th>\n",
       "      <th>Loan_Status</th>\n",
       "    </tr>\n",
       "  </thead>\n",
       "  <tbody>\n",
       "    <tr>\n",
       "      <td>0</td>\n",
       "      <td>1000</td>\n",
       "      <td>30</td>\n",
       "      <td>9/8/2016</td>\n",
       "      <td>10/7/2016</td>\n",
       "      <td>45</td>\n",
       "      <td>High School &amp; Below</td>\n",
       "      <td>Male</td>\n",
       "      <td>PAIDOFF</td>\n",
       "    </tr>\n",
       "    <tr>\n",
       "      <td>1</td>\n",
       "      <td>1000</td>\n",
       "      <td>30</td>\n",
       "      <td>9/8/2016</td>\n",
       "      <td>10/7/2016</td>\n",
       "      <td>33</td>\n",
       "      <td>Bachelor</td>\n",
       "      <td>Female</td>\n",
       "      <td>PAIDOFF</td>\n",
       "    </tr>\n",
       "    <tr>\n",
       "      <td>2</td>\n",
       "      <td>1000</td>\n",
       "      <td>15</td>\n",
       "      <td>9/8/2016</td>\n",
       "      <td>9/22/2016</td>\n",
       "      <td>27</td>\n",
       "      <td>College</td>\n",
       "      <td>Male</td>\n",
       "      <td>PAIDOFF</td>\n",
       "    </tr>\n",
       "    <tr>\n",
       "      <td>3</td>\n",
       "      <td>1000</td>\n",
       "      <td>30</td>\n",
       "      <td>9/9/2016</td>\n",
       "      <td>10/8/2016</td>\n",
       "      <td>28</td>\n",
       "      <td>College</td>\n",
       "      <td>Female</td>\n",
       "      <td>PAIDOFF</td>\n",
       "    </tr>\n",
       "    <tr>\n",
       "      <td>4</td>\n",
       "      <td>1000</td>\n",
       "      <td>30</td>\n",
       "      <td>9/9/2016</td>\n",
       "      <td>10/8/2016</td>\n",
       "      <td>29</td>\n",
       "      <td>College</td>\n",
       "      <td>Male</td>\n",
       "      <td>PAIDOFF</td>\n",
       "    </tr>\n",
       "  </tbody>\n",
       "</table>\n",
       "</div>"
      ],
      "text/plain": [
       "   Principal  Terms Effective_Date   Due_Date  Age            Education  \\\n",
       "0       1000     30       9/8/2016  10/7/2016   45  High School & Below   \n",
       "1       1000     30       9/8/2016  10/7/2016   33             Bachelor   \n",
       "2       1000     15       9/8/2016  9/22/2016   27              College   \n",
       "3       1000     30       9/9/2016  10/8/2016   28              College   \n",
       "4       1000     30       9/9/2016  10/8/2016   29              College   \n",
       "\n",
       "   Gender Loan_Status  \n",
       "0    Male     PAIDOFF  \n",
       "1  Female     PAIDOFF  \n",
       "2    Male     PAIDOFF  \n",
       "3  Female     PAIDOFF  \n",
       "4    Male     PAIDOFF  "
      ]
     },
     "execution_count": 8,
     "metadata": {},
     "output_type": "execute_result"
    }
   ],
   "source": [
    "# Replacing values under Education and Gender column\n",
    "\n",
    "df['Education'].replace({\n",
    "    'High School or Below' : 'High School & Below',\n",
    "    'Bechalor'             : 'Bachelor',\n",
    "    'college'              : 'College',\n",
    "    'Master or Above'      : 'Masters & Above'\n",
    "}, inplace = True)\n",
    "\n",
    "\n",
    "df['Gender'].replace({\n",
    "    'male'   : 'Male',\n",
    "    'female' : 'Female'\n",
    "}, inplace = True)\n",
    "\n",
    "df.head()"
   ]
  },
  {
   "cell_type": "code",
   "execution_count": 9,
   "metadata": {},
   "outputs": [
    {
     "name": "stdout",
     "output_type": "stream",
     "text": [
      "Unique values of Education Level :  ['High School & Below' 'Bachelor' 'College' 'Masters & Above']\n",
      "Unique values of Loan Status     :  ['PAIDOFF' 'COLLECTION']\n"
     ]
    }
   ],
   "source": [
    "# Checking unique values in dataset\n",
    "\n",
    "print(\"Unique values of Education Level : \", df['Education'].unique())\n",
    "\n",
    "print(\"Unique values of Loan Status     : \", df['Loan_Status'].unique())"
   ]
  },
  {
   "cell_type": "markdown",
   "metadata": {},
   "source": [
    "### STEP 4 - DATA VISUALIZATION & FEATURE SELECTION"
   ]
  },
  {
   "cell_type": "markdown",
   "metadata": {},
   "source": [
    "#####  Data Visualization"
   ]
  },
  {
   "cell_type": "markdown",
   "metadata": {},
   "source": [
    "> `Loan_Status`"
   ]
  },
  {
   "cell_type": "code",
   "execution_count": 10,
   "metadata": {},
   "outputs": [
    {
     "name": "stdout",
     "output_type": "stream",
     "text": [
      "Number of instances recorded :\n",
      "PAIDOFF       260\n",
      "COLLECTION     86\n",
      "Name: Loan_Status, dtype: int64\n"
     ]
    },
    {
     "data": {
      "image/png": "[encoded data removed]",
      "text/plain": [
       "<Figure size 720x432 with 1 Axes>"
      ]
     },
     "metadata": {
      "needs_background": "light"
     },
     "output_type": "display_data"
    }
   ],
   "source": [
    "print(\"Number of instances recorded :\")\n",
    "print(df['Loan_Status'].value_counts())\n",
    "\n",
    "plt.figure(figsize=(10,6))\n",
    "sns.countplot(x = 'Loan_Status', \n",
    "              data = df,\n",
    "              palette = 'bone')\n",
    "\n",
    "plt.show()"
   ]
  },
  {
   "cell_type": "markdown",
   "metadata": {},
   "source": [
    "> > > `Loan_Status VS Gender`"
   ]
  },
  {
   "cell_type": "code",
   "execution_count": 11,
   "metadata": {},
   "outputs": [
    {
     "data": {
      "image/png": "[encoded data removed]",
      "text/plain": [
       "<Figure size 720x432 with 1 Axes>"
      ]
     },
     "metadata": {
      "needs_background": "light"
     },
     "output_type": "display_data"
    }
   ],
   "source": [
    "plt.figure(figsize=(10,6))\n",
    "\n",
    "ax = sns.countplot(x = 'Loan_Status', \n",
    "                   data = df,\n",
    "                   palette = 'bone',\n",
    "                   hue = 'Gender')\n",
    "\n",
    "for i in ax.patches:\n",
    "    ax.text(i.get_x()+.15, i.get_height()+1.5, \\\n",
    "            str(round((i.get_height()), 2)), fontsize=11, color='dimgrey')\n",
    "        \n",
    "plt.legend(loc='upper left', \n",
    "           bbox_to_anchor = (1,1))\n",
    "\n",
    "plt.show()"
   ]
  },
  {
   "cell_type": "code",
   "execution_count": 12,
   "metadata": {},
   "outputs": [
    {
     "name": "stdout",
     "output_type": "stream",
     "text": [
      "\t\tLoan_Status - Males \n",
      "\n",
      "PAIDOFF       215\n",
      "COLLECTION     79\n",
      "Name: Loan_Status, dtype: int64\n",
      "\n",
      "\n",
      "\t\tLoan_Status - Females \n",
      "\n",
      "PAIDOFF       45\n",
      "COLLECTION     7\n",
      "Name: Loan_Status, dtype: int64\n"
     ]
    }
   ],
   "source": [
    "print(\"\\t\\tLoan_Status - Males \\n\")\n",
    "df_Male = df.Loan_Status[(df.Gender == 'Male') & ((df.Loan_Status == 'PAIDOFF') | (df.Loan_Status == 'COLLECTION'))]\n",
    "print(df_Male.value_counts())\n",
    "\n",
    "print(\"\\n\")\n",
    "\n",
    "print(\"\\t\\tLoan_Status - Females \\n\")\n",
    "df_Female = df.Loan_Status[(df.Gender == 'Female') & ((df.Loan_Status == 'PAIDOFF') | (df.Loan_Status == 'COLLECTION'))]\n",
    "print(df_Female.value_counts())"
   ]
  },
  {
   "cell_type": "markdown",
   "metadata": {},
   "source": [
    "> > > `Loan_Status VS Education`"
   ]
  },
  {
   "cell_type": "code",
   "execution_count": 13,
   "metadata": {},
   "outputs": [
    {
     "data": {
      "image/png": "[encoded data removed]",
      "text/plain": [
       "<Figure size 720x432 with 1 Axes>"
      ]
     },
     "metadata": {
      "needs_background": "light"
     },
     "output_type": "display_data"
    }
   ],
   "source": [
    "plt.figure(figsize=(10,6))\n",
    "\n",
    "ax = sns.countplot(x = 'Loan_Status', \n",
    "                   data = df,\n",
    "                   palette = 'bone',\n",
    "                   hue = 'Education')\n",
    "\n",
    "for i in ax.patches:\n",
    "    ax.text(i.get_x()+.06, i.get_height()+1.5, \\\n",
    "            str(round((i.get_height()), 2)), fontsize=11, color='dimgrey')\n",
    "        \n",
    "plt.legend(loc='upper left', \n",
    "           bbox_to_anchor = (1,1))\n",
    "\n",
    "plt.show()"
   ]
  },
  {
   "cell_type": "code",
   "execution_count": 14,
   "metadata": {},
   "outputs": [
    {
     "name": "stdout",
     "output_type": "stream",
     "text": [
      "\t\tEducation - PAIDOFF & COLLECTION\n",
      "\n",
      "PAIDOFF       260\n",
      "COLLECTION     86\n",
      "Name: Loan_Status, dtype: int64\n"
     ]
    }
   ],
   "source": [
    "df_EDU= df.Loan_Status[((df.Education == 'High School & Below') | \n",
    "                              (df.Education == 'Bachelor') | \n",
    "                              (df.Education == 'College') | \n",
    "                              (df.Education == 'Masters & Above')) & ((df.Loan_Status == 'PAIDOFF')| (df.Loan_Status == 'COLLECTION'))]\n",
    "\n",
    "print(\"\\t\\tEducation - PAIDOFF & COLLECTION\\n\")\n",
    "print(df_EDU.value_counts())"
   ]
  },
  {
   "cell_type": "markdown",
   "metadata": {},
   "source": [
    "> `AGE`"
   ]
  },
  {
   "cell_type": "code",
   "execution_count": 15,
   "metadata": {},
   "outputs": [
    {
     "data": {
      "image/png": "[encoded data removed]",
      "text/plain": [
       "<Figure size 1440x432 with 1 Axes>"
      ]
     },
     "metadata": {
      "needs_background": "light"
     },
     "output_type": "display_data"
    }
   ],
   "source": [
    "plt.figure (figsize = (20,6))\n",
    "\n",
    "ax = sns.countplot(df['Age'], \n",
    "                   palette = 'bone')\n",
    "\n",
    "for i in ax.patches:\n",
    "    ax.text(i.get_x()+.15, i.get_height()+.2, \\\n",
    "            str(round((i.get_height()), 2)), fontsize=11, color='dimgrey')\n",
    "    \n",
    "    \n",
    "plt.title('Distribution of Age')\n",
    "plt.show()"
   ]
  },
  {
   "cell_type": "markdown",
   "metadata": {},
   "source": [
    "> > > `Age Group - Distribution`"
   ]
  },
  {
   "cell_type": "code",
   "execution_count": 16,
   "metadata": {},
   "outputs": [
    {
     "name": "stdout",
     "output_type": "stream",
     "text": [
      "Nos of customers based on Age-Group \n",
      "\n",
      "Nos of customers between 15-30 : 188\n",
      "Nos of customers between 31-45 : 151\n",
      "Nos of customers between 45 >  : 7\n"
     ]
    },
    {
     "data": {
      "image/png": "[encoded data removed]",
      "text/plain": [
       "<Figure size 720x432 with 1 Axes>"
      ]
     },
     "metadata": {
      "needs_background": "light"
     },
     "output_type": "display_data"
    }
   ],
   "source": [
    "age15_30    = df.Age[(df.Age <= 30) & (df.Age >= 15)]\n",
    "age31_45    = df.Age[(df.Age <= 45) & (df.Age >= 31)]\n",
    "age46_above = df.Age[(df.Age >= 46)]\n",
    "\n",
    "print('Nos of customers based on Age-Group \\n')\n",
    "print('Nos of customers between 15-30 :', age15_30.value_counts().sum())\n",
    "print('Nos of customers between 31-45 :', age31_45.value_counts().sum())\n",
    "print('Nos of customers between 45 >  :', age46_above.value_counts().sum())\n",
    "\n",
    "X = [\"15-30\", \"31-45\", \"45 >\"]\n",
    "y = [len(age15_30.values), len(age31_45.values), len(age46_above.values)]\n",
    "\n",
    "plt.figure(figsize=(10,6))\n",
    "\n",
    "ax = sns.barplot(x=X, \n",
    "            y=y, \n",
    "            palette='bone')\n",
    "\n",
    "for i in ax.patches:\n",
    "    ax.text(i.get_x()+.33, i.get_height()+1.7, \\\n",
    "            str(round((i.get_height()), 2)), fontsize=11, color='dimgrey')\n",
    "\n",
    "plt.title(\"Number of Customer based on Age-Groups\")\n",
    "plt.xlabel(\"Age\")\n",
    "plt.ylabel(\"Number of Customer\")\n",
    "plt.show()"
   ]
  },
  {
   "cell_type": "markdown",
   "metadata": {},
   "source": [
    "> > > `Loan_Status VS Age`"
   ]
  },
  {
   "cell_type": "code",
   "execution_count": 17,
   "metadata": {},
   "outputs": [],
   "source": [
    "age_15_30    = df[(df.Age <= 30) & (df.Age >= 15)]\n",
    "age_31_45    = df[(df.Age <= 45) & (df.Age >= 31)]\n",
    "age_46_above = df[(df.Age >= 46)]"
   ]
  },
  {
   "cell_type": "code",
   "execution_count": 117,
   "metadata": {},
   "outputs": [
    {
     "data": {
      "image/png": "[encoded data removed]",
      "text/plain": [
       "<Figure size 720x432 with 1 Axes>"
      ]
     },
     "metadata": {
      "needs_background": "light"
     },
     "output_type": "display_data"
    }
   ],
   "source": [
    "plt.figure(figsize = (10,6))\n",
    "\n",
    "ax = sns.countplot(x = 'Loan_Status', \n",
    "              data = age_15_30,\n",
    "              palette='bone',\n",
    "              hue = 'Gender')\n",
    "\n",
    "\n",
    "    \n",
    "plt.legend(loc='upper left', \n",
    "           bbox_to_anchor = (1,1))\n",
    "\n",
    "plt.show()"
   ]
  },
  {
   "cell_type": "code",
   "execution_count": 19,
   "metadata": {},
   "outputs": [
    {
     "data": {
      "image/png": "[encoded data removed]",
      "text/plain": [
       "<Figure size 720x432 with 1 Axes>"
      ]
     },
     "metadata": {
      "needs_background": "light"
     },
     "output_type": "display_data"
    }
   ],
   "source": [
    "plt.figure(figsize = (10,6))\n",
    "\n",
    "sns.countplot(x = 'Loan_Status', \n",
    "              data = age_31_45,\n",
    "              palette='bone',\n",
    "              hue = 'Gender')\n",
    "\n",
    "plt.legend(loc='upper left', \n",
    "           bbox_to_anchor = (1,1))\n",
    "\n",
    "plt.show()"
   ]
  },
  {
   "cell_type": "code",
   "execution_count": 20,
   "metadata": {},
   "outputs": [
    {
     "data": {
      "image/png": "[encoded data removed]",
      "text/plain": [
       "<Figure size 720x432 with 1 Axes>"
      ]
     },
     "metadata": {
      "needs_background": "light"
     },
     "output_type": "display_data"
    }
   ],
   "source": [
    "plt.figure(figsize = (10,6))\n",
    "\n",
    "sns.countplot(x = 'Loan_Status', \n",
    "              data = age_46_above,\n",
    "              palette='bone',\n",
    "              hue = 'Gender')\n",
    "\n",
    "plt.legend(loc='upper left', \n",
    "           bbox_to_anchor = (1,1))\n",
    "\n",
    "plt.show()"
   ]
  },
  {
   "cell_type": "markdown",
   "metadata": {},
   "source": [
    "> `Pie Chart - Distribution`"
   ]
  },
  {
   "cell_type": "markdown",
   "metadata": {},
   "source": [
    "> > > `Gender`"
   ]
  },
  {
   "cell_type": "code",
   "execution_count": 21,
   "metadata": {},
   "outputs": [
    {
     "data": {
      "image/png": "[encoded data removed]",
      "text/plain": [
       "<Figure size 432x432 with 1 Axes>"
      ]
     },
     "metadata": {},
     "output_type": "display_data"
    }
   ],
   "source": [
    "labels  = ['Male', 'Female']\n",
    "size    = df['Gender'].value_counts()\n",
    "colors  = ['gainsboro', 'whitesmoke']\n",
    "explode = [0, 0.1]\n",
    "\n",
    "plt.figure(figsize=(6,6))\n",
    "plt.pie(size,\n",
    "        explode,\n",
    "        shadow  = True,\n",
    "        autopct = '%.2f%%',\n",
    "        colors  = colors)\n",
    "plt.axis('equal')\n",
    "plt.title('Distribution of Gender')\n",
    "plt.legend(labels, loc='upper left', bbox_to_anchor = (1,1))\n",
    "\n",
    "plt.show()"
   ]
  },
  {
   "cell_type": "markdown",
   "metadata": {},
   "source": [
    "##### Feature Selection"
   ]
  },
  {
   "cell_type": "code",
   "execution_count": 22,
   "metadata": {},
   "outputs": [
    {
     "data": {
      "text/html": [
       "<div>\n",
       "<style scoped>\n",
       "    .dataframe tbody tr th:only-of-type {\n",
       "        vertical-align: middle;\n",
       "    }\n",
       "\n",
       "    .dataframe tbody tr th {\n",
       "        vertical-align: top;\n",
       "    }\n",
       "\n",
       "    .dataframe thead th {\n",
       "        text-align: right;\n",
       "    }\n",
       "</style>\n",
       "<table border=\"1\" class=\"dataframe\">\n",
       "  <thead>\n",
       "    <tr style=\"text-align: right;\">\n",
       "      <th></th>\n",
       "      <th>Principal</th>\n",
       "      <th>Terms</th>\n",
       "      <th>Effective_Date</th>\n",
       "      <th>Due_Date</th>\n",
       "      <th>Age</th>\n",
       "      <th>Education</th>\n",
       "      <th>Gender</th>\n",
       "      <th>Loan_Status</th>\n",
       "    </tr>\n",
       "  </thead>\n",
       "  <tbody>\n",
       "    <tr>\n",
       "      <td>0</td>\n",
       "      <td>1000</td>\n",
       "      <td>30</td>\n",
       "      <td>9/8/2016</td>\n",
       "      <td>10/7/2016</td>\n",
       "      <td>45</td>\n",
       "      <td>High School &amp; Below</td>\n",
       "      <td>Male</td>\n",
       "      <td>PAIDOFF</td>\n",
       "    </tr>\n",
       "    <tr>\n",
       "      <td>1</td>\n",
       "      <td>1000</td>\n",
       "      <td>30</td>\n",
       "      <td>9/8/2016</td>\n",
       "      <td>10/7/2016</td>\n",
       "      <td>33</td>\n",
       "      <td>Bachelor</td>\n",
       "      <td>Female</td>\n",
       "      <td>PAIDOFF</td>\n",
       "    </tr>\n",
       "    <tr>\n",
       "      <td>2</td>\n",
       "      <td>1000</td>\n",
       "      <td>15</td>\n",
       "      <td>9/8/2016</td>\n",
       "      <td>9/22/2016</td>\n",
       "      <td>27</td>\n",
       "      <td>College</td>\n",
       "      <td>Male</td>\n",
       "      <td>PAIDOFF</td>\n",
       "    </tr>\n",
       "    <tr>\n",
       "      <td>3</td>\n",
       "      <td>1000</td>\n",
       "      <td>30</td>\n",
       "      <td>9/9/2016</td>\n",
       "      <td>10/8/2016</td>\n",
       "      <td>28</td>\n",
       "      <td>College</td>\n",
       "      <td>Female</td>\n",
       "      <td>PAIDOFF</td>\n",
       "    </tr>\n",
       "    <tr>\n",
       "      <td>4</td>\n",
       "      <td>1000</td>\n",
       "      <td>30</td>\n",
       "      <td>9/9/2016</td>\n",
       "      <td>10/8/2016</td>\n",
       "      <td>29</td>\n",
       "      <td>College</td>\n",
       "      <td>Male</td>\n",
       "      <td>PAIDOFF</td>\n",
       "    </tr>\n",
       "  </tbody>\n",
       "</table>\n",
       "</div>"
      ],
      "text/plain": [
       "   Principal  Terms Effective_Date   Due_Date  Age            Education  \\\n",
       "0       1000     30       9/8/2016  10/7/2016   45  High School & Below   \n",
       "1       1000     30       9/8/2016  10/7/2016   33             Bachelor   \n",
       "2       1000     15       9/8/2016  9/22/2016   27              College   \n",
       "3       1000     30       9/9/2016  10/8/2016   28              College   \n",
       "4       1000     30       9/9/2016  10/8/2016   29              College   \n",
       "\n",
       "   Gender Loan_Status  \n",
       "0    Male     PAIDOFF  \n",
       "1  Female     PAIDOFF  \n",
       "2    Male     PAIDOFF  \n",
       "3  Female     PAIDOFF  \n",
       "4    Male     PAIDOFF  "
      ]
     },
     "execution_count": 22,
     "metadata": {},
     "output_type": "execute_result"
    }
   ],
   "source": [
    "df.head()"
   ]
  },
  {
   "cell_type": "code",
   "execution_count": 23,
   "metadata": {},
   "outputs": [
    {
     "data": {
      "text/html": [
       "<div>\n",
       "<style scoped>\n",
       "    .dataframe tbody tr th:only-of-type {\n",
       "        vertical-align: middle;\n",
       "    }\n",
       "\n",
       "    .dataframe tbody tr th {\n",
       "        vertical-align: top;\n",
       "    }\n",
       "\n",
       "    .dataframe thead th {\n",
       "        text-align: right;\n",
       "    }\n",
       "</style>\n",
       "<table border=\"1\" class=\"dataframe\">\n",
       "  <thead>\n",
       "    <tr style=\"text-align: right;\">\n",
       "      <th></th>\n",
       "      <th>Principal</th>\n",
       "      <th>Terms</th>\n",
       "      <th>Effective_Date</th>\n",
       "      <th>Due_Date</th>\n",
       "      <th>Age</th>\n",
       "      <th>Education</th>\n",
       "      <th>Gender</th>\n",
       "      <th>Loan_Status</th>\n",
       "    </tr>\n",
       "  </thead>\n",
       "  <tbody>\n",
       "    <tr>\n",
       "      <td>0</td>\n",
       "      <td>1000</td>\n",
       "      <td>30</td>\n",
       "      <td>9/8/2016</td>\n",
       "      <td>10/7/2016</td>\n",
       "      <td>45</td>\n",
       "      <td>High School &amp; Below</td>\n",
       "      <td>Male</td>\n",
       "      <td>PAIDOFF</td>\n",
       "    </tr>\n",
       "    <tr>\n",
       "      <td>1</td>\n",
       "      <td>1000</td>\n",
       "      <td>30</td>\n",
       "      <td>9/8/2016</td>\n",
       "      <td>10/7/2016</td>\n",
       "      <td>33</td>\n",
       "      <td>Bachelor</td>\n",
       "      <td>Female</td>\n",
       "      <td>PAIDOFF</td>\n",
       "    </tr>\n",
       "    <tr>\n",
       "      <td>2</td>\n",
       "      <td>1000</td>\n",
       "      <td>15</td>\n",
       "      <td>9/8/2016</td>\n",
       "      <td>9/22/2016</td>\n",
       "      <td>27</td>\n",
       "      <td>College</td>\n",
       "      <td>Male</td>\n",
       "      <td>PAIDOFF</td>\n",
       "    </tr>\n",
       "    <tr>\n",
       "      <td>3</td>\n",
       "      <td>1000</td>\n",
       "      <td>30</td>\n",
       "      <td>9/9/2016</td>\n",
       "      <td>10/8/2016</td>\n",
       "      <td>28</td>\n",
       "      <td>College</td>\n",
       "      <td>Female</td>\n",
       "      <td>PAIDOFF</td>\n",
       "    </tr>\n",
       "    <tr>\n",
       "      <td>4</td>\n",
       "      <td>1000</td>\n",
       "      <td>30</td>\n",
       "      <td>9/9/2016</td>\n",
       "      <td>10/8/2016</td>\n",
       "      <td>29</td>\n",
       "      <td>College</td>\n",
       "      <td>Male</td>\n",
       "      <td>PAIDOFF</td>\n",
       "    </tr>\n",
       "  </tbody>\n",
       "</table>\n",
       "</div>"
      ],
      "text/plain": [
       "   Principal  Terms Effective_Date   Due_Date  Age            Education  \\\n",
       "0       1000     30       9/8/2016  10/7/2016   45  High School & Below   \n",
       "1       1000     30       9/8/2016  10/7/2016   33             Bachelor   \n",
       "2       1000     15       9/8/2016  9/22/2016   27              College   \n",
       "3       1000     30       9/9/2016  10/8/2016   28              College   \n",
       "4       1000     30       9/9/2016  10/8/2016   29              College   \n",
       "\n",
       "   Gender Loan_Status  \n",
       "0    Male     PAIDOFF  \n",
       "1  Female     PAIDOFF  \n",
       "2    Male     PAIDOFF  \n",
       "3  Female     PAIDOFF  \n",
       "4    Male     PAIDOFF  "
      ]
     },
     "execution_count": 23,
     "metadata": {},
     "output_type": "execute_result"
    }
   ],
   "source": [
    "df_copy = df\n",
    "df_copy.head()"
   ]
  },
  {
   "cell_type": "code",
   "execution_count": 24,
   "metadata": {},
   "outputs": [],
   "source": [
    "# Dropping Effective_Date and Due_Date columns\n",
    "\n",
    "df.drop(columns = ['Effective_Date','Due_Date'],\n",
    "        inplace = True)"
   ]
  },
  {
   "cell_type": "code",
   "execution_count": 25,
   "metadata": {},
   "outputs": [
    {
     "data": {
      "text/html": [
       "<div>\n",
       "<style scoped>\n",
       "    .dataframe tbody tr th:only-of-type {\n",
       "        vertical-align: middle;\n",
       "    }\n",
       "\n",
       "    .dataframe tbody tr th {\n",
       "        vertical-align: top;\n",
       "    }\n",
       "\n",
       "    .dataframe thead th {\n",
       "        text-align: right;\n",
       "    }\n",
       "</style>\n",
       "<table border=\"1\" class=\"dataframe\">\n",
       "  <thead>\n",
       "    <tr style=\"text-align: right;\">\n",
       "      <th></th>\n",
       "      <th>Principal</th>\n",
       "      <th>Terms</th>\n",
       "      <th>Age</th>\n",
       "      <th>Education_Bachelor</th>\n",
       "      <th>Education_College</th>\n",
       "      <th>Education_High School &amp; Below</th>\n",
       "      <th>Education_Masters &amp; Above</th>\n",
       "      <th>Gender_Female</th>\n",
       "      <th>Gender_Male</th>\n",
       "      <th>Loan_Status_COLLECTION</th>\n",
       "      <th>Loan_Status_PAIDOFF</th>\n",
       "    </tr>\n",
       "  </thead>\n",
       "  <tbody>\n",
       "    <tr>\n",
       "      <td>0</td>\n",
       "      <td>1000</td>\n",
       "      <td>30</td>\n",
       "      <td>45</td>\n",
       "      <td>0</td>\n",
       "      <td>0</td>\n",
       "      <td>1</td>\n",
       "      <td>0</td>\n",
       "      <td>0</td>\n",
       "      <td>1</td>\n",
       "      <td>0</td>\n",
       "      <td>1</td>\n",
       "    </tr>\n",
       "    <tr>\n",
       "      <td>1</td>\n",
       "      <td>1000</td>\n",
       "      <td>30</td>\n",
       "      <td>33</td>\n",
       "      <td>1</td>\n",
       "      <td>0</td>\n",
       "      <td>0</td>\n",
       "      <td>0</td>\n",
       "      <td>1</td>\n",
       "      <td>0</td>\n",
       "      <td>0</td>\n",
       "      <td>1</td>\n",
       "    </tr>\n",
       "    <tr>\n",
       "      <td>2</td>\n",
       "      <td>1000</td>\n",
       "      <td>15</td>\n",
       "      <td>27</td>\n",
       "      <td>0</td>\n",
       "      <td>1</td>\n",
       "      <td>0</td>\n",
       "      <td>0</td>\n",
       "      <td>0</td>\n",
       "      <td>1</td>\n",
       "      <td>0</td>\n",
       "      <td>1</td>\n",
       "    </tr>\n",
       "    <tr>\n",
       "      <td>3</td>\n",
       "      <td>1000</td>\n",
       "      <td>30</td>\n",
       "      <td>28</td>\n",
       "      <td>0</td>\n",
       "      <td>1</td>\n",
       "      <td>0</td>\n",
       "      <td>0</td>\n",
       "      <td>1</td>\n",
       "      <td>0</td>\n",
       "      <td>0</td>\n",
       "      <td>1</td>\n",
       "    </tr>\n",
       "    <tr>\n",
       "      <td>4</td>\n",
       "      <td>1000</td>\n",
       "      <td>30</td>\n",
       "      <td>29</td>\n",
       "      <td>0</td>\n",
       "      <td>1</td>\n",
       "      <td>0</td>\n",
       "      <td>0</td>\n",
       "      <td>0</td>\n",
       "      <td>1</td>\n",
       "      <td>0</td>\n",
       "      <td>1</td>\n",
       "    </tr>\n",
       "  </tbody>\n",
       "</table>\n",
       "</div>"
      ],
      "text/plain": [
       "   Principal  Terms  Age  Education_Bachelor  Education_College  \\\n",
       "0       1000     30   45                   0                  0   \n",
       "1       1000     30   33                   1                  0   \n",
       "2       1000     15   27                   0                  1   \n",
       "3       1000     30   28                   0                  1   \n",
       "4       1000     30   29                   0                  1   \n",
       "\n",
       "   Education_High School & Below  Education_Masters & Above  Gender_Female  \\\n",
       "0                              1                          0              0   \n",
       "1                              0                          0              1   \n",
       "2                              0                          0              0   \n",
       "3                              0                          0              1   \n",
       "4                              0                          0              0   \n",
       "\n",
       "   Gender_Male  Loan_Status_COLLECTION  Loan_Status_PAIDOFF  \n",
       "0            1                       0                    1  \n",
       "1            0                       0                    1  \n",
       "2            1                       0                    1  \n",
       "3            0                       0                    1  \n",
       "4            1                       0                    1  "
      ]
     },
     "execution_count": 25,
     "metadata": {},
     "output_type": "execute_result"
    }
   ],
   "source": [
    "# Handling Categorical Values\n",
    "\n",
    "df = pd.get_dummies(df)\n",
    "df.head()"
   ]
  },
  {
   "cell_type": "code",
   "execution_count": 26,
   "metadata": {},
   "outputs": [
    {
     "data": {
      "text/html": [
       "<div>\n",
       "<style scoped>\n",
       "    .dataframe tbody tr th:only-of-type {\n",
       "        vertical-align: middle;\n",
       "    }\n",
       "\n",
       "    .dataframe tbody tr th {\n",
       "        vertical-align: top;\n",
       "    }\n",
       "\n",
       "    .dataframe thead th {\n",
       "        text-align: right;\n",
       "    }\n",
       "</style>\n",
       "<table border=\"1\" class=\"dataframe\">\n",
       "  <thead>\n",
       "    <tr style=\"text-align: right;\">\n",
       "      <th></th>\n",
       "      <th>Principal</th>\n",
       "      <th>Terms</th>\n",
       "      <th>Age</th>\n",
       "      <th>Education_Bachelor</th>\n",
       "      <th>Education_College</th>\n",
       "      <th>Education_High School &amp; Below</th>\n",
       "      <th>Gender_Male</th>\n",
       "      <th>Loan_Status_PAIDOFF</th>\n",
       "    </tr>\n",
       "  </thead>\n",
       "  <tbody>\n",
       "    <tr>\n",
       "      <td>0</td>\n",
       "      <td>1000</td>\n",
       "      <td>30</td>\n",
       "      <td>45</td>\n",
       "      <td>0</td>\n",
       "      <td>0</td>\n",
       "      <td>1</td>\n",
       "      <td>1</td>\n",
       "      <td>1</td>\n",
       "    </tr>\n",
       "    <tr>\n",
       "      <td>1</td>\n",
       "      <td>1000</td>\n",
       "      <td>30</td>\n",
       "      <td>33</td>\n",
       "      <td>1</td>\n",
       "      <td>0</td>\n",
       "      <td>0</td>\n",
       "      <td>0</td>\n",
       "      <td>1</td>\n",
       "    </tr>\n",
       "    <tr>\n",
       "      <td>2</td>\n",
       "      <td>1000</td>\n",
       "      <td>15</td>\n",
       "      <td>27</td>\n",
       "      <td>0</td>\n",
       "      <td>1</td>\n",
       "      <td>0</td>\n",
       "      <td>1</td>\n",
       "      <td>1</td>\n",
       "    </tr>\n",
       "    <tr>\n",
       "      <td>3</td>\n",
       "      <td>1000</td>\n",
       "      <td>30</td>\n",
       "      <td>28</td>\n",
       "      <td>0</td>\n",
       "      <td>1</td>\n",
       "      <td>0</td>\n",
       "      <td>0</td>\n",
       "      <td>1</td>\n",
       "    </tr>\n",
       "    <tr>\n",
       "      <td>4</td>\n",
       "      <td>1000</td>\n",
       "      <td>30</td>\n",
       "      <td>29</td>\n",
       "      <td>0</td>\n",
       "      <td>1</td>\n",
       "      <td>0</td>\n",
       "      <td>1</td>\n",
       "      <td>1</td>\n",
       "    </tr>\n",
       "  </tbody>\n",
       "</table>\n",
       "</div>"
      ],
      "text/plain": [
       "   Principal  Terms  Age  Education_Bachelor  Education_College  \\\n",
       "0       1000     30   45                   0                  0   \n",
       "1       1000     30   33                   1                  0   \n",
       "2       1000     15   27                   0                  1   \n",
       "3       1000     30   28                   0                  1   \n",
       "4       1000     30   29                   0                  1   \n",
       "\n",
       "   Education_High School & Below  Gender_Male  Loan_Status_PAIDOFF  \n",
       "0                              1            1                    1  \n",
       "1                              0            0                    1  \n",
       "2                              0            1                    1  \n",
       "3                              0            0                    1  \n",
       "4                              0            1                    1  "
      ]
     },
     "execution_count": 26,
     "metadata": {},
     "output_type": "execute_result"
    }
   ],
   "source": [
    "# Dropping redundant columns\n",
    "\n",
    "df.drop(columns = ['Education_Masters & Above', 'Gender_Female', 'Loan_Status_COLLECTION'],\n",
    "        inplace = True)\n",
    "\n",
    "df.head()"
   ]
  },
  {
   "cell_type": "code",
   "execution_count": 27,
   "metadata": {},
   "outputs": [
    {
     "data": {
      "text/html": [
       "<div>\n",
       "<style scoped>\n",
       "    .dataframe tbody tr th:only-of-type {\n",
       "        vertical-align: middle;\n",
       "    }\n",
       "\n",
       "    .dataframe tbody tr th {\n",
       "        vertical-align: top;\n",
       "    }\n",
       "\n",
       "    .dataframe thead th {\n",
       "        text-align: right;\n",
       "    }\n",
       "</style>\n",
       "<table border=\"1\" class=\"dataframe\">\n",
       "  <thead>\n",
       "    <tr style=\"text-align: right;\">\n",
       "      <th></th>\n",
       "      <th>Principal</th>\n",
       "      <th>Terms</th>\n",
       "      <th>Age</th>\n",
       "      <th>Edu_Bachelor</th>\n",
       "      <th>Edu_College</th>\n",
       "      <th>Edu_High_School</th>\n",
       "      <th>Gender</th>\n",
       "      <th>Loan_Status</th>\n",
       "    </tr>\n",
       "  </thead>\n",
       "  <tbody>\n",
       "    <tr>\n",
       "      <td>0</td>\n",
       "      <td>1000</td>\n",
       "      <td>30</td>\n",
       "      <td>45</td>\n",
       "      <td>0</td>\n",
       "      <td>0</td>\n",
       "      <td>1</td>\n",
       "      <td>1</td>\n",
       "      <td>1</td>\n",
       "    </tr>\n",
       "    <tr>\n",
       "      <td>1</td>\n",
       "      <td>1000</td>\n",
       "      <td>30</td>\n",
       "      <td>33</td>\n",
       "      <td>1</td>\n",
       "      <td>0</td>\n",
       "      <td>0</td>\n",
       "      <td>0</td>\n",
       "      <td>1</td>\n",
       "    </tr>\n",
       "    <tr>\n",
       "      <td>2</td>\n",
       "      <td>1000</td>\n",
       "      <td>15</td>\n",
       "      <td>27</td>\n",
       "      <td>0</td>\n",
       "      <td>1</td>\n",
       "      <td>0</td>\n",
       "      <td>1</td>\n",
       "      <td>1</td>\n",
       "    </tr>\n",
       "    <tr>\n",
       "      <td>3</td>\n",
       "      <td>1000</td>\n",
       "      <td>30</td>\n",
       "      <td>28</td>\n",
       "      <td>0</td>\n",
       "      <td>1</td>\n",
       "      <td>0</td>\n",
       "      <td>0</td>\n",
       "      <td>1</td>\n",
       "    </tr>\n",
       "    <tr>\n",
       "      <td>4</td>\n",
       "      <td>1000</td>\n",
       "      <td>30</td>\n",
       "      <td>29</td>\n",
       "      <td>0</td>\n",
       "      <td>1</td>\n",
       "      <td>0</td>\n",
       "      <td>1</td>\n",
       "      <td>1</td>\n",
       "    </tr>\n",
       "  </tbody>\n",
       "</table>\n",
       "</div>"
      ],
      "text/plain": [
       "   Principal  Terms  Age  Edu_Bachelor  Edu_College  Edu_High_School  Gender  \\\n",
       "0       1000     30   45             0            0                1       1   \n",
       "1       1000     30   33             1            0                0       0   \n",
       "2       1000     15   27             0            1                0       1   \n",
       "3       1000     30   28             0            1                0       0   \n",
       "4       1000     30   29             0            1                0       1   \n",
       "\n",
       "   Loan_Status  \n",
       "0            1  \n",
       "1            1  \n",
       "2            1  \n",
       "3            1  \n",
       "4            1  "
      ]
     },
     "execution_count": 27,
     "metadata": {},
     "output_type": "execute_result"
    }
   ],
   "source": [
    "# Renaming columns\n",
    "\n",
    "df.rename(columns = {\n",
    "    'Education_Bachelor'            : 'Edu_Bachelor',\n",
    "    'Education_College'             : 'Edu_College',\n",
    "    'Education_High School & Below' : 'Edu_High_School',\n",
    "    'Gender_Male'                   : 'Gender',\n",
    "    'Loan_Status_PAIDOFF'           : 'Loan_Status'\n",
    "}, inplace = True)\n",
    "\n",
    "df.head()"
   ]
  },
  {
   "cell_type": "markdown",
   "metadata": {},
   "source": [
    "- Gender\n",
    "   > 1 - Male \n",
    "   \n",
    "   > 0 - Female\n",
    "   \n",
    "   \n",
    "- Loan_Status\n",
    "   > 1 - Paidoff\n",
    "   \n",
    "   > 0 - Collection"
   ]
  },
  {
   "cell_type": "code",
   "execution_count": 28,
   "metadata": {},
   "outputs": [
    {
     "data": {
      "text/plain": [
       "(8.5, -0.5)"
      ]
     },
     "execution_count": 28,
     "metadata": {},
     "output_type": "execute_result"
    },
    {
     "data": {
      "image/png": "[encoded data removed]",
      "text/plain": [
       "<Figure size 1440x720 with 2 Axes>"
      ]
     },
     "metadata": {
      "needs_background": "light"
     },
     "output_type": "display_data"
    }
   ],
   "source": [
    "plt.figure(figsize=(20,10))\n",
    "ax = sns.heatmap(data=df.corr(), linewidths=5, annot=True)\n",
    "bottom, top = ax.get_ylim()\n",
    "ax.set_ylim(bottom + 0.5, top - 0.5)"
   ]
  },
  {
   "cell_type": "markdown",
   "metadata": {},
   "source": [
    "From above heatmap we see that there is no colinearity observed between the columns of the dataset. So for now all features can be considered for training the model."
   ]
  },
  {
   "cell_type": "markdown",
   "metadata": {},
   "source": [
    "### STEP 5 - MODEL TRAINING & EVALUATION"
   ]
  },
  {
   "cell_type": "code",
   "execution_count": 29,
   "metadata": {},
   "outputs": [
    {
     "data": {
      "text/html": [
       "<div>\n",
       "<style scoped>\n",
       "    .dataframe tbody tr th:only-of-type {\n",
       "        vertical-align: middle;\n",
       "    }\n",
       "\n",
       "    .dataframe tbody tr th {\n",
       "        vertical-align: top;\n",
       "    }\n",
       "\n",
       "    .dataframe thead th {\n",
       "        text-align: right;\n",
       "    }\n",
       "</style>\n",
       "<table border=\"1\" class=\"dataframe\">\n",
       "  <thead>\n",
       "    <tr style=\"text-align: right;\">\n",
       "      <th></th>\n",
       "      <th>Principal</th>\n",
       "      <th>Terms</th>\n",
       "      <th>Age</th>\n",
       "      <th>Edu_Bachelor</th>\n",
       "      <th>Edu_College</th>\n",
       "      <th>Edu_High_School</th>\n",
       "      <th>Gender</th>\n",
       "      <th>Loan_Status</th>\n",
       "    </tr>\n",
       "  </thead>\n",
       "  <tbody>\n",
       "    <tr>\n",
       "      <td>0</td>\n",
       "      <td>1000</td>\n",
       "      <td>30</td>\n",
       "      <td>45</td>\n",
       "      <td>0</td>\n",
       "      <td>0</td>\n",
       "      <td>1</td>\n",
       "      <td>1</td>\n",
       "      <td>1</td>\n",
       "    </tr>\n",
       "    <tr>\n",
       "      <td>1</td>\n",
       "      <td>1000</td>\n",
       "      <td>30</td>\n",
       "      <td>33</td>\n",
       "      <td>1</td>\n",
       "      <td>0</td>\n",
       "      <td>0</td>\n",
       "      <td>0</td>\n",
       "      <td>1</td>\n",
       "    </tr>\n",
       "    <tr>\n",
       "      <td>2</td>\n",
       "      <td>1000</td>\n",
       "      <td>15</td>\n",
       "      <td>27</td>\n",
       "      <td>0</td>\n",
       "      <td>1</td>\n",
       "      <td>0</td>\n",
       "      <td>1</td>\n",
       "      <td>1</td>\n",
       "    </tr>\n",
       "    <tr>\n",
       "      <td>3</td>\n",
       "      <td>1000</td>\n",
       "      <td>30</td>\n",
       "      <td>28</td>\n",
       "      <td>0</td>\n",
       "      <td>1</td>\n",
       "      <td>0</td>\n",
       "      <td>0</td>\n",
       "      <td>1</td>\n",
       "    </tr>\n",
       "    <tr>\n",
       "      <td>4</td>\n",
       "      <td>1000</td>\n",
       "      <td>30</td>\n",
       "      <td>29</td>\n",
       "      <td>0</td>\n",
       "      <td>1</td>\n",
       "      <td>0</td>\n",
       "      <td>1</td>\n",
       "      <td>1</td>\n",
       "    </tr>\n",
       "  </tbody>\n",
       "</table>\n",
       "</div>"
      ],
      "text/plain": [
       "   Principal  Terms  Age  Edu_Bachelor  Edu_College  Edu_High_School  Gender  \\\n",
       "0       1000     30   45             0            0                1       1   \n",
       "1       1000     30   33             1            0                0       0   \n",
       "2       1000     15   27             0            1                0       1   \n",
       "3       1000     30   28             0            1                0       0   \n",
       "4       1000     30   29             0            1                0       1   \n",
       "\n",
       "   Loan_Status  \n",
       "0            1  \n",
       "1            1  \n",
       "2            1  \n",
       "3            1  \n",
       "4            1  "
      ]
     },
     "execution_count": 29,
     "metadata": {},
     "output_type": "execute_result"
    }
   ],
   "source": [
    "df.head()"
   ]
  },
  {
   "cell_type": "markdown",
   "metadata": {},
   "source": [
    "##### Splitting Data - Independent & Dependent Variables"
   ]
  },
  {
   "cell_type": "code",
   "execution_count": 30,
   "metadata": {},
   "outputs": [
    {
     "name": "stdout",
     "output_type": "stream",
     "text": [
      "Data Seperated Successfully\n"
     ]
    }
   ],
   "source": [
    "X = df.iloc[:, 0:7].values\n",
    "y = df.iloc[:, 7:8].values\n",
    "\n",
    "print(\"Data Seperated Successfully\")"
   ]
  },
  {
   "cell_type": "markdown",
   "metadata": {},
   "source": [
    "##### Splitting Data - Training & Test Set"
   ]
  },
  {
   "cell_type": "code",
   "execution_count": 31,
   "metadata": {},
   "outputs": [
    {
     "name": "stdout",
     "output_type": "stream",
     "text": [
      "Data Seperated Successfully\n"
     ]
    }
   ],
   "source": [
    "from sklearn.model_selection import train_test_split\n",
    "X_train, X_test, y_train, y_test = train_test_split(X, y, test_size = 0.2, random_state = 0)\n",
    "\n",
    "print(\"Data Seperated Successfully\")"
   ]
  },
  {
   "cell_type": "markdown",
   "metadata": {},
   "source": [
    "##### Feature Scaling"
   ]
  },
  {
   "cell_type": "code",
   "execution_count": 32,
   "metadata": {},
   "outputs": [],
   "source": [
    "from sklearn.preprocessing import StandardScaler\n",
    "sc_X = StandardScaler()\n",
    "X_train = sc_X.fit_transform(X_train)\n",
    "X_test = sc_X.transform(X_test)"
   ]
  },
  {
   "cell_type": "markdown",
   "metadata": {},
   "source": [
    "##### Building Model"
   ]
  },
  {
   "cell_type": "markdown",
   "metadata": {},
   "source": [
    "> > > K - Nearest Neighbour"
   ]
  },
  {
   "cell_type": "code",
   "execution_count": 33,
   "metadata": {},
   "outputs": [
    {
     "name": "stdout",
     "output_type": "stream",
     "text": [
      "Train Set Accuracy : 0.7753623188405797\n",
      "Tests Set Accuracy : 0.7428571428571429\n"
     ]
    },
    {
     "data": {
      "text/html": [
       "<div>\n",
       "<style scoped>\n",
       "    .dataframe tbody tr th:only-of-type {\n",
       "        vertical-align: middle;\n",
       "    }\n",
       "\n",
       "    .dataframe tbody tr th {\n",
       "        vertical-align: top;\n",
       "    }\n",
       "\n",
       "    .dataframe thead th {\n",
       "        text-align: right;\n",
       "    }\n",
       "</style>\n",
       "<table border=\"1\" class=\"dataframe\">\n",
       "  <thead>\n",
       "    <tr style=\"text-align: right;\">\n",
       "      <th>Predicted Class</th>\n",
       "      <th>0</th>\n",
       "      <th>1</th>\n",
       "    </tr>\n",
       "    <tr>\n",
       "      <th>Actual Class</th>\n",
       "      <th></th>\n",
       "      <th></th>\n",
       "    </tr>\n",
       "  </thead>\n",
       "  <tbody>\n",
       "    <tr>\n",
       "      <td>0</td>\n",
       "      <td>1</td>\n",
       "      <td>11</td>\n",
       "    </tr>\n",
       "    <tr>\n",
       "      <td>1</td>\n",
       "      <td>7</td>\n",
       "      <td>51</td>\n",
       "    </tr>\n",
       "  </tbody>\n",
       "</table>\n",
       "</div>"
      ],
      "text/plain": [
       "Predicted Class  0   1\n",
       "Actual Class          \n",
       "0                1  11\n",
       "1                7  51"
      ]
     },
     "execution_count": 33,
     "metadata": {},
     "output_type": "execute_result"
    }
   ],
   "source": [
    "#Building Model\n",
    "from sklearn.neighbors import KNeighborsClassifier\n",
    "model_KNN = KNeighborsClassifier(n_neighbors = 3)\n",
    "model_KNN.fit(X_train, y_train)\n",
    "\n",
    "#Predictions\n",
    "y_pred1 = model_KNN.predict(X_test)\n",
    "\n",
    "#Accuracy\n",
    "from sklearn import metrics\n",
    "print(\"Train Set Accuracy :\", metrics.accuracy_score(y_train, model_KNN.predict(X_train)))\n",
    "print(\"Tests Set Accuracy :\", metrics.accuracy_score(y_test, y_pred1))\n",
    "\n",
    "pd.crosstab(y_test.flatten(), y_pred1, rownames=['Actual Class'], colnames = ['Predicted Class'])"
   ]
  },
  {
   "cell_type": "code",
   "execution_count": 34,
   "metadata": {},
   "outputs": [
    {
     "name": "stdout",
     "output_type": "stream",
     "text": [
      "Accuracy at k = 1 is 0.6857142857142857\n",
      "Accuracy at k = 2 is 0.6142857142857143\n",
      "Accuracy at k = 3 is 0.7428571428571429\n",
      "Accuracy at k = 4 is 0.6285714285714286\n",
      "Accuracy at k = 5 is 0.8428571428571429\n",
      "Accuracy at k = 6 is 0.7714285714285715\n",
      "Accuracy at k = 7 is 0.8428571428571429\n",
      "Accuracy at k = 8 is 0.7857142857142857\n",
      "Accuracy at k = 9 is 0.8285714285714286\n"
     ]
    }
   ],
   "source": [
    "#Calculating accuaracy for different values of K's\n",
    "\n",
    "Ks = 10\n",
    "mean_acc = np.zeros(Ks-1)\n",
    "for n in range(1,Ks):\n",
    "    \n",
    "    #Train Model and Predict  \n",
    "    model_KNN = KNeighborsClassifier(n_neighbors = n).fit(X_train,y_train)\n",
    "    y_pred1=model_KNN.predict(X_test)\n",
    "    mean_acc[n-1] = metrics.accuracy_score(y_test, y_pred1)\n",
    "    print('Accuracy at k =', n, 'is', mean_acc[n-1])"
   ]
  },
  {
   "cell_type": "code",
   "execution_count": 47,
   "metadata": {},
   "outputs": [
    {
     "name": "stdout",
     "output_type": "stream",
     "text": [
      "Train Set Accuracy : 74.63768115942028\n",
      "Tests Set Accuracy : 84.28571428571429\n",
      "\n",
      "\n",
      "Predicted Class  0   1\n",
      "Actual Class          \n",
      "0                4   8\n",
      "1                3  55\n"
     ]
    }
   ],
   "source": [
    "# Giving K = 5 & 7 yields same accuracy so we are re-building the model and getting confusion matrix\n",
    "\n",
    "from sklearn.neighbors import KNeighborsClassifier\n",
    "model_KNN = KNeighborsClassifier(n_neighbors = 5)\n",
    "model_KNN.fit(X_train, y_train)\n",
    "\n",
    "#Predictions\n",
    "y_pred1 = model_KNN.predict(X_test)\n",
    "\n",
    "#Accuracy\n",
    "from sklearn import metrics\n",
    "print(\"Train Set Accuracy :\", metrics.accuracy_score(y_train, model_KNN.predict(X_train)) * 100)\n",
    "print(\"Tests Set Accuracy :\", metrics.accuracy_score(y_test, y_pred1) * 100 )\n",
    "print(\"\\n\")\n",
    "\n",
    "print(pd.crosstab(y_test.flatten(), y_pred1, rownames=['Actual Class'], colnames = ['Predicted Class']))"
   ]
  },
  {
   "cell_type": "markdown",
   "metadata": {},
   "source": [
    "> > > Decision Tree"
   ]
  },
  {
   "cell_type": "code",
   "execution_count": 45,
   "metadata": {},
   "outputs": [
    {
     "name": "stdout",
     "output_type": "stream",
     "text": [
      "Train Set Accuracy : 73.55072463768117\n",
      "Tests Set Accuracy : 82.85714285714286\n",
      "\n",
      "\n",
      "Predicted Class   1\n",
      "Actual Class       \n",
      "0                12\n",
      "1                58\n"
     ]
    }
   ],
   "source": [
    "#Building Model\n",
    "from sklearn.tree import DecisionTreeClassifier\n",
    "model_DT = DecisionTreeClassifier(criterion=\"entropy\", max_depth = 4)\n",
    "model_DT.fit(X_train, y_train)\n",
    "\n",
    "#Prediction\n",
    "y_pred2 = model_DT.predict(X_test)\n",
    "\n",
    "#Accuracy\n",
    "from sklearn import metrics\n",
    "print(\"Train Set Accuracy :\", metrics.accuracy_score(y_train, model_DT.predict(X_train)) * 100)\n",
    "print(\"Tests Set Accuracy :\", metrics.accuracy_score(y_test, y_pred2) * 100)\n",
    "print(\"\\n\")\n",
    "\n",
    "print(pd.crosstab(y_test.flatten(), y_pred2, rownames=['Actual Class'], colnames = ['Predicted Class']))"
   ]
  },
  {
   "cell_type": "markdown",
   "metadata": {},
   "source": [
    "> > > Support Vector Machine"
   ]
  },
  {
   "cell_type": "code",
   "execution_count": 44,
   "metadata": {},
   "outputs": [
    {
     "name": "stdout",
     "output_type": "stream",
     "text": [
      "Train Set Accuracy : 73.18840579710145\n",
      "Tests Set Accuracy : 82.85714285714286\n",
      "\n",
      "\n",
      "Predicted Class   1\n",
      "Actual Class       \n",
      "0                12\n",
      "1                58\n"
     ]
    }
   ],
   "source": [
    "# Building Model\n",
    "from sklearn import svm\n",
    "model_SVM = svm.SVC(kernel='rbf')\n",
    "model_SVM.fit(X_train, y_train)\n",
    "\n",
    "#Prediction\n",
    "y_pred3 = model_SVM.predict(X_test)\n",
    "\n",
    "#Accuracy \n",
    "from sklearn import metrics\n",
    "print(\"Train Set Accuracy :\", metrics.accuracy_score(y_train, model_SVM.predict(X_train)) * 100)\n",
    "print(\"Tests Set Accuracy :\", metrics.accuracy_score(y_test, y_pred3) * 100)\n",
    "print(\"\\n\")\n",
    "\n",
    "print(pd.crosstab(y_test.flatten(), y_pred3, rownames=['Actual Class'], colnames = ['Predicted Class']))"
   ]
  },
  {
   "cell_type": "markdown",
   "metadata": {},
   "source": [
    "> > > Logistic Regression\n"
   ]
  },
  {
   "cell_type": "code",
   "execution_count": 48,
   "metadata": {},
   "outputs": [
    {
     "name": "stdout",
     "output_type": "stream",
     "text": [
      "Train Set Accuracy : 73.18840579710145\n",
      "Tests Set Accuracy : 82.85714285714286\n",
      "\n",
      "\n",
      "Predicted Species   1\n",
      "Actual Species       \n",
      "0                  12\n",
      "1                  58\n"
     ]
    }
   ],
   "source": [
    "#Building Model\n",
    "from sklearn.linear_model import LogisticRegression\n",
    "model_LR = LogisticRegression(C = 0.1, solver = 'liblinear', random_state=0)\n",
    "model_LR.fit(X_train, y_train)\n",
    "\n",
    "#Prediction\n",
    "y_pred4 = model_LR.predict(X_test)\n",
    "\n",
    "#Accuracy\n",
    "from sklearn import metrics\n",
    "print(\"Train Set Accuracy :\", metrics.accuracy_score(y_train, model_LR.predict(X_train)) * 100)\n",
    "print(\"Tests Set Accuracy :\", metrics.accuracy_score(y_test, y_pred4) * 100)\n",
    "print(\"\\n\")\n",
    "\n",
    "print(pd.crosstab(y_test.flatten(), y_pred4, rownames=['Actual Species'], colnames = ['Predicted Species']))"
   ]
  },
  {
   "cell_type": "markdown",
   "metadata": {},
   "source": [
    "### STEP 6  - MODEL TESTING "
   ]
  },
  {
   "cell_type": "code",
   "execution_count": 75,
   "metadata": {},
   "outputs": [
    {
     "name": "stdout",
     "output_type": "stream",
     "text": [
      "Data Imported Successfully\n"
     ]
    }
   ],
   "source": [
    "test_data = pd.read_csv('loan_test.csv')\n",
    "print(\"Data Imported Successfully\")"
   ]
  },
  {
   "cell_type": "code",
   "execution_count": 77,
   "metadata": {},
   "outputs": [
    {
     "data": {
      "text/html": [
       "<div>\n",
       "<style scoped>\n",
       "    .dataframe tbody tr th:only-of-type {\n",
       "        vertical-align: middle;\n",
       "    }\n",
       "\n",
       "    .dataframe tbody tr th {\n",
       "        vertical-align: top;\n",
       "    }\n",
       "\n",
       "    .dataframe thead th {\n",
       "        text-align: right;\n",
       "    }\n",
       "</style>\n",
       "<table border=\"1\" class=\"dataframe\">\n",
       "  <thead>\n",
       "    <tr style=\"text-align: right;\">\n",
       "      <th></th>\n",
       "      <th>loan_status</th>\n",
       "      <th>Principal</th>\n",
       "      <th>terms</th>\n",
       "      <th>effective_date</th>\n",
       "      <th>due_date</th>\n",
       "      <th>age</th>\n",
       "      <th>education</th>\n",
       "      <th>Gender</th>\n",
       "    </tr>\n",
       "  </thead>\n",
       "  <tbody>\n",
       "    <tr>\n",
       "      <td>0</td>\n",
       "      <td>PAIDOFF</td>\n",
       "      <td>1000</td>\n",
       "      <td>30</td>\n",
       "      <td>9/8/2016</td>\n",
       "      <td>10/7/2016</td>\n",
       "      <td>50</td>\n",
       "      <td>Bechalor</td>\n",
       "      <td>female</td>\n",
       "    </tr>\n",
       "    <tr>\n",
       "      <td>1</td>\n",
       "      <td>PAIDOFF</td>\n",
       "      <td>300</td>\n",
       "      <td>7</td>\n",
       "      <td>9/9/2016</td>\n",
       "      <td>9/15/2016</td>\n",
       "      <td>35</td>\n",
       "      <td>Master or Above</td>\n",
       "      <td>male</td>\n",
       "    </tr>\n",
       "    <tr>\n",
       "      <td>2</td>\n",
       "      <td>PAIDOFF</td>\n",
       "      <td>1000</td>\n",
       "      <td>30</td>\n",
       "      <td>9/10/2016</td>\n",
       "      <td>10/9/2016</td>\n",
       "      <td>43</td>\n",
       "      <td>High School or Below</td>\n",
       "      <td>female</td>\n",
       "    </tr>\n",
       "    <tr>\n",
       "      <td>3</td>\n",
       "      <td>PAIDOFF</td>\n",
       "      <td>1000</td>\n",
       "      <td>30</td>\n",
       "      <td>9/10/2016</td>\n",
       "      <td>10/9/2016</td>\n",
       "      <td>26</td>\n",
       "      <td>college</td>\n",
       "      <td>male</td>\n",
       "    </tr>\n",
       "    <tr>\n",
       "      <td>4</td>\n",
       "      <td>PAIDOFF</td>\n",
       "      <td>800</td>\n",
       "      <td>15</td>\n",
       "      <td>9/11/2016</td>\n",
       "      <td>9/25/2016</td>\n",
       "      <td>29</td>\n",
       "      <td>Bechalor</td>\n",
       "      <td>male</td>\n",
       "    </tr>\n",
       "  </tbody>\n",
       "</table>\n",
       "</div>"
      ],
      "text/plain": [
       "  loan_status  Principal  terms effective_date   due_date  age  \\\n",
       "0     PAIDOFF       1000     30       9/8/2016  10/7/2016   50   \n",
       "1     PAIDOFF        300      7       9/9/2016  9/15/2016   35   \n",
       "2     PAIDOFF       1000     30      9/10/2016  10/9/2016   43   \n",
       "3     PAIDOFF       1000     30      9/10/2016  10/9/2016   26   \n",
       "4     PAIDOFF        800     15      9/11/2016  9/25/2016   29   \n",
       "\n",
       "              education  Gender  \n",
       "0              Bechalor  female  \n",
       "1       Master or Above    male  \n",
       "2  High School or Below  female  \n",
       "3               college    male  \n",
       "4              Bechalor    male  "
      ]
     },
     "execution_count": 77,
     "metadata": {},
     "output_type": "execute_result"
    }
   ],
   "source": [
    "test_data.drop(columns = ['Unnamed: 0', 'Unnamed: 0.1'], inplace=True)\n",
    "test_data.head()"
   ]
  },
  {
   "cell_type": "code",
   "execution_count": 78,
   "metadata": {},
   "outputs": [
    {
     "data": {
      "text/html": [
       "<div>\n",
       "<style scoped>\n",
       "    .dataframe tbody tr th:only-of-type {\n",
       "        vertical-align: middle;\n",
       "    }\n",
       "\n",
       "    .dataframe tbody tr th {\n",
       "        vertical-align: top;\n",
       "    }\n",
       "\n",
       "    .dataframe thead th {\n",
       "        text-align: right;\n",
       "    }\n",
       "</style>\n",
       "<table border=\"1\" class=\"dataframe\">\n",
       "  <thead>\n",
       "    <tr style=\"text-align: right;\">\n",
       "      <th></th>\n",
       "      <th>loan_status</th>\n",
       "      <th>Principal</th>\n",
       "      <th>terms</th>\n",
       "      <th>effective_date</th>\n",
       "      <th>due_date</th>\n",
       "      <th>age</th>\n",
       "      <th>education</th>\n",
       "      <th>Gender</th>\n",
       "    </tr>\n",
       "  </thead>\n",
       "  <tbody>\n",
       "    <tr>\n",
       "      <td>49</td>\n",
       "      <td>COLLECTION</td>\n",
       "      <td>1000</td>\n",
       "      <td>30</td>\n",
       "      <td>9/11/2016</td>\n",
       "      <td>10/10/2016</td>\n",
       "      <td>32</td>\n",
       "      <td>High School or Below</td>\n",
       "      <td>male</td>\n",
       "    </tr>\n",
       "    <tr>\n",
       "      <td>50</td>\n",
       "      <td>COLLECTION</td>\n",
       "      <td>800</td>\n",
       "      <td>15</td>\n",
       "      <td>9/11/2016</td>\n",
       "      <td>9/25/2016</td>\n",
       "      <td>29</td>\n",
       "      <td>college</td>\n",
       "      <td>male</td>\n",
       "    </tr>\n",
       "    <tr>\n",
       "      <td>51</td>\n",
       "      <td>COLLECTION</td>\n",
       "      <td>1000</td>\n",
       "      <td>30</td>\n",
       "      <td>9/11/2016</td>\n",
       "      <td>10/10/2016</td>\n",
       "      <td>37</td>\n",
       "      <td>High School or Below</td>\n",
       "      <td>male</td>\n",
       "    </tr>\n",
       "    <tr>\n",
       "      <td>52</td>\n",
       "      <td>COLLECTION</td>\n",
       "      <td>800</td>\n",
       "      <td>15</td>\n",
       "      <td>9/11/2016</td>\n",
       "      <td>9/25/2016</td>\n",
       "      <td>36</td>\n",
       "      <td>High School or Below</td>\n",
       "      <td>male</td>\n",
       "    </tr>\n",
       "    <tr>\n",
       "      <td>53</td>\n",
       "      <td>COLLECTION</td>\n",
       "      <td>1000</td>\n",
       "      <td>30</td>\n",
       "      <td>9/12/2016</td>\n",
       "      <td>10/11/2016</td>\n",
       "      <td>33</td>\n",
       "      <td>High School or Below</td>\n",
       "      <td>male</td>\n",
       "    </tr>\n",
       "  </tbody>\n",
       "</table>\n",
       "</div>"
      ],
      "text/plain": [
       "   loan_status  Principal  terms effective_date    due_date  age  \\\n",
       "49  COLLECTION       1000     30      9/11/2016  10/10/2016   32   \n",
       "50  COLLECTION        800     15      9/11/2016   9/25/2016   29   \n",
       "51  COLLECTION       1000     30      9/11/2016  10/10/2016   37   \n",
       "52  COLLECTION        800     15      9/11/2016   9/25/2016   36   \n",
       "53  COLLECTION       1000     30      9/12/2016  10/11/2016   33   \n",
       "\n",
       "               education Gender  \n",
       "49  High School or Below   male  \n",
       "50               college   male  \n",
       "51  High School or Below   male  \n",
       "52  High School or Below   male  \n",
       "53  High School or Below   male  "
      ]
     },
     "execution_count": 78,
     "metadata": {},
     "output_type": "execute_result"
    }
   ],
   "source": [
    "test_data.tail()"
   ]
  },
  {
   "cell_type": "code",
   "execution_count": 82,
   "metadata": {},
   "outputs": [
    {
     "name": "stdout",
     "output_type": "stream",
     "text": [
      "Data Modified Succeffully\n"
     ]
    }
   ],
   "source": [
    "# Making test data as train data \n",
    "test_data.rename(columns = {\n",
    "     'loan_status'    : 'Loan_Status',\n",
    "     'Principal'      : 'Principal',\n",
    "     'terms'          : 'Terms',\n",
    "     'effective_date' : 'Effective_Date',\n",
    "     'due_date'       : 'Due_Date',\n",
    "     'age'            : 'Age',\n",
    "     'education'      : 'Education',\n",
    "     'Gender'         : 'Gender'\n",
    "}, inplace = True)\n",
    "\n",
    "\n",
    "# Rearranging coloumns\n",
    "cols = test_data.columns.tolist()\n",
    "cols = ['Principal','Terms','Effective_Date','Due_Date','Age','Education','Gender','Loan_Status']\n",
    "test_data = test_data[cols]\n",
    "\n",
    "\n",
    "# Replacing values under Education and Gender column\n",
    "test_data['Education'].replace({\n",
    "    'High School or Below' : 'High School & Below',\n",
    "    'Bechalor'             : 'Bachelor',\n",
    "    'college'              : 'College',\n",
    "    'Master or Above'      : 'Masters & Above'\n",
    "}, inplace = True)\n",
    "\n",
    "\n",
    "test_data['Gender'].replace({\n",
    "    'male'   : 'Male',\n",
    "    'female' : 'Female'\n",
    "}, inplace = True)\n",
    "\n",
    "\n",
    "# Dropping Effective_Date and Due_Date columns\n",
    "test_data.drop(columns = ['Effective_Date','Due_Date'], inplace = True)\n",
    "\n",
    "\n",
    "# Handling Categorical Values\n",
    "test_data = pd.get_dummies(test_data)\n",
    "\n",
    "\n",
    "# Dropping redundant columns\n",
    "test_data.drop(columns = ['Education_Masters & Above', 'Gender_Female', 'Loan_Status_COLLECTION'], inplace = True)\n",
    "\n",
    "# Renaming columns\n",
    "test_data.rename(columns = {\n",
    "    'Education_Bachelor'            : 'Edu_Bachelor',\n",
    "    'Education_College'             : 'Edu_College',\n",
    "    'Education_High School & Below' : 'Edu_High_School',\n",
    "    'Gender_Male'                   : 'Gender',\n",
    "    'Loan_Status_PAIDOFF'           : 'Loan_Status'\n",
    "}, inplace = True)\n",
    "\n",
    "print(\"Data Modified Succeffully\")"
   ]
  },
  {
   "cell_type": "code",
   "execution_count": 83,
   "metadata": {},
   "outputs": [
    {
     "data": {
      "text/html": [
       "<div>\n",
       "<style scoped>\n",
       "    .dataframe tbody tr th:only-of-type {\n",
       "        vertical-align: middle;\n",
       "    }\n",
       "\n",
       "    .dataframe tbody tr th {\n",
       "        vertical-align: top;\n",
       "    }\n",
       "\n",
       "    .dataframe thead th {\n",
       "        text-align: right;\n",
       "    }\n",
       "</style>\n",
       "<table border=\"1\" class=\"dataframe\">\n",
       "  <thead>\n",
       "    <tr style=\"text-align: right;\">\n",
       "      <th></th>\n",
       "      <th>Principal</th>\n",
       "      <th>Terms</th>\n",
       "      <th>Age</th>\n",
       "      <th>Edu_Bachelor</th>\n",
       "      <th>Edu_College</th>\n",
       "      <th>Edu_High_School</th>\n",
       "      <th>Gender</th>\n",
       "      <th>Loan_Status</th>\n",
       "    </tr>\n",
       "  </thead>\n",
       "  <tbody>\n",
       "    <tr>\n",
       "      <td>0</td>\n",
       "      <td>1000</td>\n",
       "      <td>30</td>\n",
       "      <td>50</td>\n",
       "      <td>1</td>\n",
       "      <td>0</td>\n",
       "      <td>0</td>\n",
       "      <td>0</td>\n",
       "      <td>1</td>\n",
       "    </tr>\n",
       "    <tr>\n",
       "      <td>1</td>\n",
       "      <td>300</td>\n",
       "      <td>7</td>\n",
       "      <td>35</td>\n",
       "      <td>0</td>\n",
       "      <td>0</td>\n",
       "      <td>0</td>\n",
       "      <td>1</td>\n",
       "      <td>1</td>\n",
       "    </tr>\n",
       "    <tr>\n",
       "      <td>2</td>\n",
       "      <td>1000</td>\n",
       "      <td>30</td>\n",
       "      <td>43</td>\n",
       "      <td>0</td>\n",
       "      <td>0</td>\n",
       "      <td>1</td>\n",
       "      <td>0</td>\n",
       "      <td>1</td>\n",
       "    </tr>\n",
       "    <tr>\n",
       "      <td>3</td>\n",
       "      <td>1000</td>\n",
       "      <td>30</td>\n",
       "      <td>26</td>\n",
       "      <td>0</td>\n",
       "      <td>1</td>\n",
       "      <td>0</td>\n",
       "      <td>1</td>\n",
       "      <td>1</td>\n",
       "    </tr>\n",
       "    <tr>\n",
       "      <td>4</td>\n",
       "      <td>800</td>\n",
       "      <td>15</td>\n",
       "      <td>29</td>\n",
       "      <td>1</td>\n",
       "      <td>0</td>\n",
       "      <td>0</td>\n",
       "      <td>1</td>\n",
       "      <td>1</td>\n",
       "    </tr>\n",
       "  </tbody>\n",
       "</table>\n",
       "</div>"
      ],
      "text/plain": [
       "   Principal  Terms  Age  Edu_Bachelor  Edu_College  Edu_High_School  Gender  \\\n",
       "0       1000     30   50             1            0                0       0   \n",
       "1        300      7   35             0            0                0       1   \n",
       "2       1000     30   43             0            0                1       0   \n",
       "3       1000     30   26             0            1                0       1   \n",
       "4        800     15   29             1            0                0       1   \n",
       "\n",
       "   Loan_Status  \n",
       "0            1  \n",
       "1            1  \n",
       "2            1  \n",
       "3            1  \n",
       "4            1  "
      ]
     },
     "execution_count": 83,
     "metadata": {},
     "output_type": "execute_result"
    }
   ],
   "source": [
    "test_data.head()"
   ]
  },
  {
   "cell_type": "code",
   "execution_count": 84,
   "metadata": {},
   "outputs": [
    {
     "data": {
      "text/html": [
       "<div>\n",
       "<style scoped>\n",
       "    .dataframe tbody tr th:only-of-type {\n",
       "        vertical-align: middle;\n",
       "    }\n",
       "\n",
       "    .dataframe tbody tr th {\n",
       "        vertical-align: top;\n",
       "    }\n",
       "\n",
       "    .dataframe thead th {\n",
       "        text-align: right;\n",
       "    }\n",
       "</style>\n",
       "<table border=\"1\" class=\"dataframe\">\n",
       "  <thead>\n",
       "    <tr style=\"text-align: right;\">\n",
       "      <th></th>\n",
       "      <th>Principal</th>\n",
       "      <th>Terms</th>\n",
       "      <th>Age</th>\n",
       "      <th>Edu_Bachelor</th>\n",
       "      <th>Edu_College</th>\n",
       "      <th>Edu_High_School</th>\n",
       "      <th>Gender</th>\n",
       "      <th>Loan_Status</th>\n",
       "    </tr>\n",
       "  </thead>\n",
       "  <tbody>\n",
       "    <tr>\n",
       "      <td>49</td>\n",
       "      <td>1000</td>\n",
       "      <td>30</td>\n",
       "      <td>32</td>\n",
       "      <td>0</td>\n",
       "      <td>0</td>\n",
       "      <td>1</td>\n",
       "      <td>1</td>\n",
       "      <td>0</td>\n",
       "    </tr>\n",
       "    <tr>\n",
       "      <td>50</td>\n",
       "      <td>800</td>\n",
       "      <td>15</td>\n",
       "      <td>29</td>\n",
       "      <td>0</td>\n",
       "      <td>1</td>\n",
       "      <td>0</td>\n",
       "      <td>1</td>\n",
       "      <td>0</td>\n",
       "    </tr>\n",
       "    <tr>\n",
       "      <td>51</td>\n",
       "      <td>1000</td>\n",
       "      <td>30</td>\n",
       "      <td>37</td>\n",
       "      <td>0</td>\n",
       "      <td>0</td>\n",
       "      <td>1</td>\n",
       "      <td>1</td>\n",
       "      <td>0</td>\n",
       "    </tr>\n",
       "    <tr>\n",
       "      <td>52</td>\n",
       "      <td>800</td>\n",
       "      <td>15</td>\n",
       "      <td>36</td>\n",
       "      <td>0</td>\n",
       "      <td>0</td>\n",
       "      <td>1</td>\n",
       "      <td>1</td>\n",
       "      <td>0</td>\n",
       "    </tr>\n",
       "    <tr>\n",
       "      <td>53</td>\n",
       "      <td>1000</td>\n",
       "      <td>30</td>\n",
       "      <td>33</td>\n",
       "      <td>0</td>\n",
       "      <td>0</td>\n",
       "      <td>1</td>\n",
       "      <td>1</td>\n",
       "      <td>0</td>\n",
       "    </tr>\n",
       "  </tbody>\n",
       "</table>\n",
       "</div>"
      ],
      "text/plain": [
       "    Principal  Terms  Age  Edu_Bachelor  Edu_College  Edu_High_School  Gender  \\\n",
       "49       1000     30   32             0            0                1       1   \n",
       "50        800     15   29             0            1                0       1   \n",
       "51       1000     30   37             0            0                1       1   \n",
       "52        800     15   36             0            0                1       1   \n",
       "53       1000     30   33             0            0                1       1   \n",
       "\n",
       "    Loan_Status  \n",
       "49            0  \n",
       "50            0  \n",
       "51            0  \n",
       "52            0  \n",
       "53            0  "
      ]
     },
     "execution_count": 84,
     "metadata": {},
     "output_type": "execute_result"
    }
   ],
   "source": [
    "test_data.tail()"
   ]
  },
  {
   "cell_type": "code",
   "execution_count": 102,
   "metadata": {},
   "outputs": [
    {
     "data": {
      "text/html": [
       "<div>\n",
       "<style scoped>\n",
       "    .dataframe tbody tr th:only-of-type {\n",
       "        vertical-align: middle;\n",
       "    }\n",
       "\n",
       "    .dataframe tbody tr th {\n",
       "        vertical-align: top;\n",
       "    }\n",
       "\n",
       "    .dataframe thead th {\n",
       "        text-align: right;\n",
       "    }\n",
       "</style>\n",
       "<table border=\"1\" class=\"dataframe\">\n",
       "  <thead>\n",
       "    <tr style=\"text-align: right;\">\n",
       "      <th></th>\n",
       "      <th>Principal</th>\n",
       "      <th>Terms</th>\n",
       "      <th>Age</th>\n",
       "      <th>Edu_Bachelor</th>\n",
       "      <th>Edu_College</th>\n",
       "      <th>Edu_High_School</th>\n",
       "      <th>Gender</th>\n",
       "      <th>Loan_Status</th>\n",
       "    </tr>\n",
       "  </thead>\n",
       "  <tbody>\n",
       "    <tr>\n",
       "      <td>0</td>\n",
       "      <td>1000</td>\n",
       "      <td>30</td>\n",
       "      <td>50</td>\n",
       "      <td>1</td>\n",
       "      <td>0</td>\n",
       "      <td>0</td>\n",
       "      <td>0</td>\n",
       "      <td>1</td>\n",
       "    </tr>\n",
       "  </tbody>\n",
       "</table>\n",
       "</div>"
      ],
      "text/plain": [
       "   Principal  Terms  Age  Edu_Bachelor  Edu_College  Edu_High_School  Gender  \\\n",
       "0       1000     30   50             1            0                0       0   \n",
       "\n",
       "   Loan_Status  \n",
       "0            1  "
      ]
     },
     "execution_count": 102,
     "metadata": {},
     "output_type": "execute_result"
    }
   ],
   "source": [
    "# TEST 1 - PAIDOFF\n",
    "\n",
    "test_data.iloc[0:1]"
   ]
  },
  {
   "cell_type": "code",
   "execution_count": 101,
   "metadata": {},
   "outputs": [
    {
     "data": {
      "text/html": [
       "<div>\n",
       "<style scoped>\n",
       "    .dataframe tbody tr th:only-of-type {\n",
       "        vertical-align: middle;\n",
       "    }\n",
       "\n",
       "    .dataframe tbody tr th {\n",
       "        vertical-align: top;\n",
       "    }\n",
       "\n",
       "    .dataframe thead th {\n",
       "        text-align: right;\n",
       "    }\n",
       "</style>\n",
       "<table border=\"1\" class=\"dataframe\">\n",
       "  <thead>\n",
       "    <tr style=\"text-align: right;\">\n",
       "      <th></th>\n",
       "      <th>Principal</th>\n",
       "      <th>Terms</th>\n",
       "      <th>Age</th>\n",
       "      <th>Edu_Bachelor</th>\n",
       "      <th>Edu_College</th>\n",
       "      <th>Edu_High_School</th>\n",
       "      <th>Gender</th>\n",
       "      <th>Loan_Status</th>\n",
       "    </tr>\n",
       "  </thead>\n",
       "  <tbody>\n",
       "    <tr>\n",
       "      <td>53</td>\n",
       "      <td>1000</td>\n",
       "      <td>30</td>\n",
       "      <td>33</td>\n",
       "      <td>0</td>\n",
       "      <td>0</td>\n",
       "      <td>1</td>\n",
       "      <td>1</td>\n",
       "      <td>0</td>\n",
       "    </tr>\n",
       "  </tbody>\n",
       "</table>\n",
       "</div>"
      ],
      "text/plain": [
       "    Principal  Terms  Age  Edu_Bachelor  Edu_College  Edu_High_School  Gender  \\\n",
       "53       1000     30   33             0            0                1       1   \n",
       "\n",
       "    Loan_Status  \n",
       "53            0  "
      ]
     },
     "execution_count": 101,
     "metadata": {},
     "output_type": "execute_result"
    }
   ],
   "source": [
    "# TEST 2 - COLLECTION \n",
    "\n",
    "test_data.iloc[53:54]"
   ]
  },
  {
   "cell_type": "code",
   "execution_count": 94,
   "metadata": {},
   "outputs": [
    {
     "name": "stdout",
     "output_type": "stream",
     "text": [
      "K-Nearest Neigbour Result     : [1] \n",
      "\n",
      "Decision Tree Result          : [1] \n",
      "\n",
      "Support Vector Machine Result : [1] \n",
      "\n",
      "Logistic Regression Result    : [0] \n",
      "\n"
     ]
    }
   ],
   "source": [
    "# TEST 1\n",
    "\n",
    "test_1 = [[1000, 30, 50, 1, 0, 0, 0]]\n",
    "\n",
    "#K-Nearest Neigbour\n",
    "y_pred1_test1 = model_KNN.predict(test_1)\n",
    "\n",
    "#Decision Tree\n",
    "y_pred2_test1 = model_DT.predict(test_1)\n",
    "\n",
    "#Support Vector Machine\n",
    "y_pred3_test1 = model_SVM.predict(test_1)\n",
    "\n",
    "#Logistic Regression\n",
    "y_pred4_test1 = model_LR.predict(test_1)\n",
    "\n",
    "\n",
    "print(\"K-Nearest Neigbour Result     :\", y_pred1_test1, \"\\n\")\n",
    "print(\"Decision Tree Result          :\", y_pred2_test1, \"\\n\")\n",
    "print(\"Support Vector Machine Result :\", y_pred3_test1, \"\\n\")\n",
    "print(\"Logistic Regression Result    :\", y_pred4_test1, \"\\n\")"
   ]
  },
  {
   "cell_type": "code",
   "execution_count": 108,
   "metadata": {},
   "outputs": [
    {
     "name": "stdout",
     "output_type": "stream",
     "text": [
      "K-Nearest Neigbour Result     : [1] \n",
      "\n",
      "Decision Tree Result          : [1] \n",
      "\n",
      "Support Vector Machine Result : [1] \n",
      "\n",
      "Logistic Regression Result    : [0] \n",
      "\n"
     ]
    }
   ],
   "source": [
    "# TEST 2 \n",
    "\n",
    "test_2 = [[1000, 30, 33, 0, 0, 1, 1]]\n",
    "\n",
    "#K-Nearest Neigbour\n",
    "y_pred1_test2 = model_KNN.predict(test_2)\n",
    "\n",
    "#Decision Tree\n",
    "y_pred2_test2 = model_DT.predict(test_2)\n",
    "\n",
    "#Support Vector Machine\n",
    "y_pred3_test2 = model_SVM.predict(test_2)\n",
    "\n",
    "#Logistic Regression\n",
    "y_pred4_test2 = model_LR.predict(test_2)\n",
    "\n",
    "\n",
    "print(\"K-Nearest Neigbour Result     :\", y_pred1_test2, \"\\n\")\n",
    "print(\"Decision Tree Result          :\", y_pred2_test2, \"\\n\")\n",
    "print(\"Support Vector Machine Result :\", y_pred3_test2, \"\\n\")\n",
    "print(\"Logistic Regression Result    :\", y_pred4_test2, \"\\n\")"
   ]
  },
  {
   "cell_type": "markdown",
   "metadata": {},
   "source": [
    "### STEP 7 - REPORT "
   ]
  },
  {
   "cell_type": "code",
   "execution_count": 62,
   "metadata": {},
   "outputs": [],
   "source": [
    "import warnings\n",
    "warnings.filterwarnings('ignore')\n",
    "\n",
    "from sklearn.metrics import jaccard_similarity_score\n",
    "from sklearn.metrics import f1_score\n",
    "from sklearn.metrics import log_loss"
   ]
  },
  {
   "cell_type": "markdown",
   "metadata": {},
   "source": [
    "> > > K - Nearest Neigbour"
   ]
  },
  {
   "cell_type": "code",
   "execution_count": 68,
   "metadata": {},
   "outputs": [
    {
     "name": "stdout",
     "output_type": "stream",
     "text": [
      "\t\tJACCARD DISTANCE:\n",
      "\n",
      "84.28571428571429 \n",
      "\n",
      "\t\tF1 SCORE:\n",
      "\n",
      "90.9090909090909 \n",
      "\n"
     ]
    }
   ],
   "source": [
    "print(\"\\t\\tJACCARD DISTANCE:\\n\")\n",
    "print(jaccard_similarity_score(y_test, y_pred1) * 100, \"\\n\")\n",
    "\n",
    "print(\"\\t\\tF1 SCORE:\\n\")\n",
    "print(f1_score(y_test, y_pred1) * 100, \"\\n\")"
   ]
  },
  {
   "cell_type": "markdown",
   "metadata": {},
   "source": [
    "> > > Decision Trees"
   ]
  },
  {
   "cell_type": "code",
   "execution_count": 69,
   "metadata": {},
   "outputs": [
    {
     "name": "stdout",
     "output_type": "stream",
     "text": [
      "\t\tJACCARD DISTANCE:\n",
      "\n",
      "82.85714285714286 \n",
      "\n",
      "\t\tF1 SCORE:\n",
      "\n",
      "90.625 \n",
      "\n"
     ]
    }
   ],
   "source": [
    "print(\"\\t\\tJACCARD DISTANCE:\\n\")\n",
    "print(jaccard_similarity_score(y_test, y_pred2) * 100, \"\\n\")\n",
    "\n",
    "print(\"\\t\\tF1 SCORE:\\n\")\n",
    "print(f1_score(y_test, y_pred2) * 100, \"\\n\")"
   ]
  },
  {
   "cell_type": "markdown",
   "metadata": {},
   "source": [
    "> > > Support Vector Machine"
   ]
  },
  {
   "cell_type": "code",
   "execution_count": 70,
   "metadata": {},
   "outputs": [
    {
     "name": "stdout",
     "output_type": "stream",
     "text": [
      "\t\tJACCARD DISTANCE:\n",
      "\n",
      "82.85714285714286 \n",
      "\n",
      "\t\tF1 SCORE:\n",
      "\n",
      "90.625 \n",
      "\n"
     ]
    }
   ],
   "source": [
    "print(\"\\t\\tJACCARD DISTANCE:\\n\")\n",
    "print(jaccard_similarity_score(y_test, y_pred3) * 100, \"\\n\")\n",
    "\n",
    "print(\"\\t\\tF1 SCORE:\\n\")\n",
    "print(f1_score(y_test, y_pred3) * 100, \"\\n\")"
   ]
  },
  {
   "cell_type": "markdown",
   "metadata": {},
   "source": [
    "> > > Logistic Regression \n"
   ]
  },
  {
   "cell_type": "code",
   "execution_count": 71,
   "metadata": {},
   "outputs": [
    {
     "name": "stdout",
     "output_type": "stream",
     "text": [
      "\t\tJACCARD DISTANCE:\n",
      "\n",
      "82.85714285714286 \n",
      "\n",
      "\t\tF1 SCORE:\n",
      "\n",
      "90.625 \n",
      "\n"
     ]
    }
   ],
   "source": [
    "print(\"\\t\\tJACCARD DISTANCE:\\n\")\n",
    "print(jaccard_similarity_score(y_test, y_pred4) * 100, \"\\n\")\n",
    "\n",
    "print(\"\\t\\tF1 SCORE:\\n\")\n",
    "print(f1_score(y_test, y_pred4) * 100, \"\\n\")"
   ]
  },
  {
   "cell_type": "markdown",
   "metadata": {},
   "source": [
    "| Algorithm          | Jaccard | F1-score | Accuracy|\n",
    "|--------------------|---------|----------|---------|\n",
    "| KNN                | 84.28   | 90.90    | 84.28   |\n",
    "| Decision Tree      | 82.85   | 90.62    | 82.85   |\n",
    "| SVM                | 82.85   | 90.62    | 82.85   |\n",
    "| LogisticRegression | 82.85   | 90.62    | 82.85   |"
   ]
  },
  {
   "cell_type": "markdown",
   "metadata": {},
   "source": [
    "### STEP 8 - CONCLUSION"
   ]
  },
  {
   "cell_type": "markdown",
   "metadata": {},
   "source": [
    "- We saw that while providing the test data for `PAIDOFF` KNN, Decision-Tree, SVM could predict it correctly but Logistisctic regression failed to predict it. Logistic Regression misclassified as it as `COLLECTION` \n",
    "\n",
    "\n",
    "- Also, when we provided the test data for `COLLECTION` the result's observed where to be opposite of `PAIDOFF`. KNN, Decision Tree, Support Vector Machine  misclassified it wrongly where as Logistic Regression classified it correctly.\n",
    "\n",
    "\n",
    "- The accuracy of Decision Tree, Support Vector Machine, Logistic Regression was found to be same i.e. 82.85%\n",
    "\n",
    "\n",
    "- If we compare accuracy wise K-Nearest Neighbour gave better accuracy i.e. 84%\n",
    "\n",
    "\n",
    "- Coming to performance wise/evaluation on test data all algorithm where not up to the mark. There where misclassification observed. One reason could be the amount of the data was minimal which lead to misclassification. \n",
    "\n",
    "\n",
    "- When we compare `Age-Group Distribution` with `Loan_Status` and `Gender` acting as a legend we could see there where more number of Males as compared to Females under both the target. Also more than 50% of various age-group where under `PAIDOFF` category which could also be the cause of missclassification of the test sample."
   ]
  }
 ],
 "metadata": {
  "kernelspec": {
   "display_name": "Python 3",
   "language": "python",
   "name": "python3"
  },
  "language_info": {
   "codemirror_mode": {
    "name": "ipython",
    "version": 3
   },
   "file_extension": ".py",
   "mimetype": "text/x-python",
   "name": "python",
   "nbconvert_exporter": "python",
   "pygments_lexer": "ipython3",
   "version": "3.7.4"
  }
 },
 "nbformat": 4,
 "nbformat_minor": 2
}
