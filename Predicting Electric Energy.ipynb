{
 "cells": [
  {
   "cell_type": "markdown",
   "metadata": {},
   "source": [
    "# CASE STUDY - PREDICTING ELECTRIC ENERGY"
   ]
  },
  {
   "cell_type": "markdown",
   "metadata": {},
   "source": [
    "### STEP 1 : PROBLEM STATEMENT"
   ]
  },
  {
   "cell_type": "markdown",
   "metadata": {},
   "source": [
    " - We will build an ANN Regression model to predict the electrical energy output of a Combined Cycle Power Plant.\n",
    "\n",
    "\n",
    " - The dataset contains 47,871 data points collected from a Combined Cycle Power Plant over 6 years (2014-2020), when the power plant was set to work with full load.\n",
    " \n",
    " \n",
    " - Features consist of hourly average ambient variables\n",
    "     - Temperature (T) in the range 1.81°C and 37.11°C,\n",
    "     \n",
    "     - Ambient Pressure (AP) in the range 992.89-1033.30 milibar,\n",
    "     \n",
    "     - Relative Humidity (RH) in the range 25.56% to 100.16%\n",
    "     \n",
    "     - Exhaust Vacuum (V) in teh range 25.36-81.56 cm Hg\n",
    "     \n",
    "     - Net hourly electrical energy output (EP) 420.26-495.76 MW"
   ]
  },
  {
   "cell_type": "markdown",
   "metadata": {},
   "source": [
    "### STEP 2 : IMPORTING LIBRARIES"
   ]
  },
  {
   "cell_type": "code",
   "execution_count": 1,
   "metadata": {},
   "outputs": [],
   "source": [
    "import numpy as np\n",
    "import pandas as pd\n",
    "import matplotlib.pyplot as plt\n",
    "import seaborn as sns\n",
    "\n",
    "import warnings \n",
    "warnings.filterwarnings('ignore')"
   ]
  },
  {
   "cell_type": "markdown",
   "metadata": {},
   "source": [
    "### STEP 3 : IMPORTING DATSET"
   ]
  },
  {
   "cell_type": "code",
   "execution_count": 2,
   "metadata": {},
   "outputs": [
    {
     "name": "stdout",
     "output_type": "stream",
     "text": [
      "Data Imported Successfully\n"
     ]
    }
   ],
   "source": [
    "df = pd.read_excel(\"Electrical_Energy.xlsx\")\n",
    "print(\"Data Imported Successfully\")"
   ]
  },
  {
   "cell_type": "markdown",
   "metadata": {},
   "source": [
    "###  STEP 4 : EXPLORATORY DATA ANALYSIS / DATA PREPROCESSING / DATA WRANGLING"
   ]
  },
  {
   "cell_type": "code",
   "execution_count": 3,
   "metadata": {},
   "outputs": [
    {
     "data": {
      "text/plain": [
       "(47840, 5)"
      ]
     },
     "execution_count": 3,
     "metadata": {},
     "output_type": "execute_result"
    }
   ],
   "source": [
    "# Checking shape of the data.\n",
    "\n",
    "df.shape"
   ]
  },
  {
   "cell_type": "code",
   "execution_count": 4,
   "metadata": {},
   "outputs": [
    {
     "data": {
      "text/plain": [
       "Index(['AT', 'V', 'AP', 'RH', 'PE'], dtype='object')"
      ]
     },
     "execution_count": 4,
     "metadata": {},
     "output_type": "execute_result"
    }
   ],
   "source": [
    "# Nos of columns in the data \n",
    "\n",
    "df.keys()"
   ]
  },
  {
   "cell_type": "code",
   "execution_count": 5,
   "metadata": {},
   "outputs": [
    {
     "data": {
      "text/html": [
       "<div>\n",
       "<style scoped>\n",
       "    .dataframe tbody tr th:only-of-type {\n",
       "        vertical-align: middle;\n",
       "    }\n",
       "\n",
       "    .dataframe tbody tr th {\n",
       "        vertical-align: top;\n",
       "    }\n",
       "\n",
       "    .dataframe thead th {\n",
       "        text-align: right;\n",
       "    }\n",
       "</style>\n",
       "<table border=\"1\" class=\"dataframe\">\n",
       "  <thead>\n",
       "    <tr style=\"text-align: right;\">\n",
       "      <th></th>\n",
       "      <th>AT</th>\n",
       "      <th>V</th>\n",
       "      <th>AP</th>\n",
       "      <th>RH</th>\n",
       "      <th>PE</th>\n",
       "    </tr>\n",
       "  </thead>\n",
       "  <tbody>\n",
       "    <tr>\n",
       "      <td>0</td>\n",
       "      <td>14.96</td>\n",
       "      <td>41.76</td>\n",
       "      <td>1024.07</td>\n",
       "      <td>73.17</td>\n",
       "      <td>463.26</td>\n",
       "    </tr>\n",
       "    <tr>\n",
       "      <td>1</td>\n",
       "      <td>25.18</td>\n",
       "      <td>62.96</td>\n",
       "      <td>1020.04</td>\n",
       "      <td>59.08</td>\n",
       "      <td>444.37</td>\n",
       "    </tr>\n",
       "    <tr>\n",
       "      <td>2</td>\n",
       "      <td>5.11</td>\n",
       "      <td>39.40</td>\n",
       "      <td>1012.16</td>\n",
       "      <td>92.14</td>\n",
       "      <td>488.56</td>\n",
       "    </tr>\n",
       "    <tr>\n",
       "      <td>3</td>\n",
       "      <td>20.86</td>\n",
       "      <td>57.32</td>\n",
       "      <td>1010.24</td>\n",
       "      <td>76.64</td>\n",
       "      <td>446.48</td>\n",
       "    </tr>\n",
       "    <tr>\n",
       "      <td>4</td>\n",
       "      <td>10.82</td>\n",
       "      <td>37.50</td>\n",
       "      <td>1009.23</td>\n",
       "      <td>96.62</td>\n",
       "      <td>473.90</td>\n",
       "    </tr>\n",
       "  </tbody>\n",
       "</table>\n",
       "</div>"
      ],
      "text/plain": [
       "      AT      V       AP     RH      PE\n",
       "0  14.96  41.76  1024.07  73.17  463.26\n",
       "1  25.18  62.96  1020.04  59.08  444.37\n",
       "2   5.11  39.40  1012.16  92.14  488.56\n",
       "3  20.86  57.32  1010.24  76.64  446.48\n",
       "4  10.82  37.50  1009.23  96.62  473.90"
      ]
     },
     "execution_count": 5,
     "metadata": {},
     "output_type": "execute_result"
    }
   ],
   "source": [
    "# Checking top 5 records\n",
    "\n",
    "df.head()"
   ]
  },
  {
   "cell_type": "code",
   "execution_count": 6,
   "metadata": {},
   "outputs": [
    {
     "name": "stdout",
     "output_type": "stream",
     "text": [
      "<class 'pandas.core.frame.DataFrame'>\n",
      "RangeIndex: 47840 entries, 0 to 47839\n",
      "Data columns (total 5 columns):\n",
      "AT    47840 non-null float64\n",
      "V     47840 non-null float64\n",
      "AP    47840 non-null float64\n",
      "RH    47840 non-null float64\n",
      "PE    47840 non-null float64\n",
      "dtypes: float64(5)\n",
      "memory usage: 1.8 MB\n"
     ]
    }
   ],
   "source": [
    "# Checking info\n",
    "\n",
    "df.info()"
   ]
  },
  {
   "cell_type": "code",
   "execution_count": 7,
   "metadata": {},
   "outputs": [
    {
     "data": {
      "text/plain": [
       "AT    0\n",
       "V     0\n",
       "AP    0\n",
       "RH    0\n",
       "PE    0\n",
       "dtype: int64"
      ]
     },
     "execution_count": 7,
     "metadata": {},
     "output_type": "execute_result"
    }
   ],
   "source": [
    "# Checking null values\n",
    "\n",
    "df.isnull().sum()"
   ]
  },
  {
   "cell_type": "code",
   "execution_count": 8,
   "metadata": {},
   "outputs": [
    {
     "data": {
      "text/html": [
       "<div>\n",
       "<style scoped>\n",
       "    .dataframe tbody tr th:only-of-type {\n",
       "        vertical-align: middle;\n",
       "    }\n",
       "\n",
       "    .dataframe tbody tr th {\n",
       "        vertical-align: top;\n",
       "    }\n",
       "\n",
       "    .dataframe thead th {\n",
       "        text-align: right;\n",
       "    }\n",
       "</style>\n",
       "<table border=\"1\" class=\"dataframe\">\n",
       "  <thead>\n",
       "    <tr style=\"text-align: right;\">\n",
       "      <th></th>\n",
       "      <th>AT</th>\n",
       "      <th>V</th>\n",
       "      <th>AP</th>\n",
       "      <th>RH</th>\n",
       "      <th>PE</th>\n",
       "    </tr>\n",
       "  </thead>\n",
       "  <tbody>\n",
       "    <tr>\n",
       "      <td>count</td>\n",
       "      <td>47840.000000</td>\n",
       "      <td>47840.000000</td>\n",
       "      <td>47840.000000</td>\n",
       "      <td>47840.000000</td>\n",
       "      <td>47840.000000</td>\n",
       "    </tr>\n",
       "    <tr>\n",
       "      <td>mean</td>\n",
       "      <td>19.651240</td>\n",
       "      <td>54.305804</td>\n",
       "      <td>1013.259078</td>\n",
       "      <td>73.308978</td>\n",
       "      <td>454.365009</td>\n",
       "    </tr>\n",
       "    <tr>\n",
       "      <td>std</td>\n",
       "      <td>7.452166</td>\n",
       "      <td>12.707362</td>\n",
       "      <td>5.938535</td>\n",
       "      <td>14.599658</td>\n",
       "      <td>17.066281</td>\n",
       "    </tr>\n",
       "    <tr>\n",
       "      <td>min</td>\n",
       "      <td>1.810000</td>\n",
       "      <td>25.360000</td>\n",
       "      <td>992.890000</td>\n",
       "      <td>25.560000</td>\n",
       "      <td>420.260000</td>\n",
       "    </tr>\n",
       "    <tr>\n",
       "      <td>25%</td>\n",
       "      <td>13.510000</td>\n",
       "      <td>41.740000</td>\n",
       "      <td>1009.100000</td>\n",
       "      <td>63.327500</td>\n",
       "      <td>439.750000</td>\n",
       "    </tr>\n",
       "    <tr>\n",
       "      <td>50%</td>\n",
       "      <td>20.345000</td>\n",
       "      <td>52.080000</td>\n",
       "      <td>1012.940000</td>\n",
       "      <td>74.975000</td>\n",
       "      <td>451.550000</td>\n",
       "    </tr>\n",
       "    <tr>\n",
       "      <td>75%</td>\n",
       "      <td>25.720000</td>\n",
       "      <td>66.540000</td>\n",
       "      <td>1017.260000</td>\n",
       "      <td>84.830000</td>\n",
       "      <td>468.430000</td>\n",
       "    </tr>\n",
       "    <tr>\n",
       "      <td>max</td>\n",
       "      <td>37.110000</td>\n",
       "      <td>81.560000</td>\n",
       "      <td>1033.300000</td>\n",
       "      <td>100.160000</td>\n",
       "      <td>495.760000</td>\n",
       "    </tr>\n",
       "  </tbody>\n",
       "</table>\n",
       "</div>"
      ],
      "text/plain": [
       "                 AT             V            AP            RH            PE\n",
       "count  47840.000000  47840.000000  47840.000000  47840.000000  47840.000000\n",
       "mean      19.651240     54.305804   1013.259078     73.308978    454.365009\n",
       "std        7.452166     12.707362      5.938535     14.599658     17.066281\n",
       "min        1.810000     25.360000    992.890000     25.560000    420.260000\n",
       "25%       13.510000     41.740000   1009.100000     63.327500    439.750000\n",
       "50%       20.345000     52.080000   1012.940000     74.975000    451.550000\n",
       "75%       25.720000     66.540000   1017.260000     84.830000    468.430000\n",
       "max       37.110000     81.560000   1033.300000    100.160000    495.760000"
      ]
     },
     "execution_count": 8,
     "metadata": {},
     "output_type": "execute_result"
    }
   ],
   "source": [
    "# Checking Summary\n",
    "\n",
    "df.describe()"
   ]
  },
  {
   "cell_type": "code",
   "execution_count": 9,
   "metadata": {},
   "outputs": [
    {
     "data": {
      "text/html": [
       "<div>\n",
       "<style scoped>\n",
       "    .dataframe tbody tr th:only-of-type {\n",
       "        vertical-align: middle;\n",
       "    }\n",
       "\n",
       "    .dataframe tbody tr th {\n",
       "        vertical-align: top;\n",
       "    }\n",
       "\n",
       "    .dataframe thead th {\n",
       "        text-align: right;\n",
       "    }\n",
       "</style>\n",
       "<table border=\"1\" class=\"dataframe\">\n",
       "  <thead>\n",
       "    <tr style=\"text-align: right;\">\n",
       "      <th></th>\n",
       "      <th>Temperature</th>\n",
       "      <th>Vacuum</th>\n",
       "      <th>Pressure</th>\n",
       "      <th>Humidity</th>\n",
       "      <th>Electrical Power</th>\n",
       "    </tr>\n",
       "  </thead>\n",
       "  <tbody>\n",
       "    <tr>\n",
       "      <td>0</td>\n",
       "      <td>14.96</td>\n",
       "      <td>41.76</td>\n",
       "      <td>1024.07</td>\n",
       "      <td>73.17</td>\n",
       "      <td>463.26</td>\n",
       "    </tr>\n",
       "    <tr>\n",
       "      <td>1</td>\n",
       "      <td>25.18</td>\n",
       "      <td>62.96</td>\n",
       "      <td>1020.04</td>\n",
       "      <td>59.08</td>\n",
       "      <td>444.37</td>\n",
       "    </tr>\n",
       "    <tr>\n",
       "      <td>2</td>\n",
       "      <td>5.11</td>\n",
       "      <td>39.40</td>\n",
       "      <td>1012.16</td>\n",
       "      <td>92.14</td>\n",
       "      <td>488.56</td>\n",
       "    </tr>\n",
       "    <tr>\n",
       "      <td>3</td>\n",
       "      <td>20.86</td>\n",
       "      <td>57.32</td>\n",
       "      <td>1010.24</td>\n",
       "      <td>76.64</td>\n",
       "      <td>446.48</td>\n",
       "    </tr>\n",
       "    <tr>\n",
       "      <td>4</td>\n",
       "      <td>10.82</td>\n",
       "      <td>37.50</td>\n",
       "      <td>1009.23</td>\n",
       "      <td>96.62</td>\n",
       "      <td>473.90</td>\n",
       "    </tr>\n",
       "  </tbody>\n",
       "</table>\n",
       "</div>"
      ],
      "text/plain": [
       "   Temperature  Vacuum  Pressure  Humidity  Electrical Power\n",
       "0        14.96   41.76   1024.07     73.17            463.26\n",
       "1        25.18   62.96   1020.04     59.08            444.37\n",
       "2         5.11   39.40   1012.16     92.14            488.56\n",
       "3        20.86   57.32   1010.24     76.64            446.48\n",
       "4        10.82   37.50   1009.23     96.62            473.90"
      ]
     },
     "execution_count": 9,
     "metadata": {},
     "output_type": "execute_result"
    }
   ],
   "source": [
    "# Renaming columns\n",
    "\n",
    "df.rename(columns = {\n",
    "    'AT' : 'Temperature',\n",
    "    'AP' : 'Pressure',\n",
    "    'RH' : 'Humidity',\n",
    "    'V'  : 'Vacuum',\n",
    "    'PE' : 'Electrical Power'\n",
    "}, inplace = True)\n",
    "\n",
    "df.head()"
   ]
  },
  {
   "cell_type": "markdown",
   "metadata": {},
   "source": [
    "No need of following things to apply as dataset is already clean.\n",
    "\n",
    " - No null values to handle \n",
    "\n",
    "\n",
    " - No categorical values to handle \n",
    "\n",
    "\n",
    " - No repositioning of columns to be done.\n",
    "\n",
    "\n",
    " - No data renaming within the columns are required.\n"
   ]
  },
  {
   "cell_type": "markdown",
   "metadata": {},
   "source": [
    "#### EDA - Continous Values Visualization"
   ]
  },
  {
   "cell_type": "markdown",
   "metadata": {},
   "source": [
    "> > `Temperature`"
   ]
  },
  {
   "cell_type": "code",
   "execution_count": 10,
   "metadata": {},
   "outputs": [
    {
     "data": {
      "text/plain": [
       "count    47840.000000\n",
       "mean        19.651240\n",
       "std          7.452166\n",
       "min          1.810000\n",
       "25%         13.510000\n",
       "50%         20.345000\n",
       "75%         25.720000\n",
       "max         37.110000\n",
       "Name: Temperature, dtype: float64"
      ]
     },
     "execution_count": 10,
     "metadata": {},
     "output_type": "execute_result"
    }
   ],
   "source": [
    "# 5 point summary\n",
    "\n",
    "df['Temperature'].describe()"
   ]
  },
  {
   "cell_type": "code",
   "execution_count": 11,
   "metadata": {},
   "outputs": [
    {
     "data": {
      "image/png": "[encoded data removed]",
      "text/plain": [
       "<Figure size 1440x360 with 3 Axes>"
      ]
     },
     "metadata": {
      "needs_background": "light"
     },
     "output_type": "display_data"
    }
   ],
   "source": [
    "plt.figure(figsize=(20,5))\n",
    "\n",
    "plt.subplot(1,3,1)\n",
    "sns.distplot(df['Temperature'], kde = False , bins = 10)\n",
    "\n",
    "plt.subplot(1,3,2)\n",
    "sns.distplot(df['Temperature'] , hist = False )\n",
    "\n",
    "plt.subplot(1,3,3)\n",
    "plt.boxplot(x = df['Temperature'],\n",
    "            vert = False,\n",
    "            meanline= True,\n",
    "            showmeans= True)\n",
    "\n",
    "plt.show()"
   ]
  },
  {
   "cell_type": "markdown",
   "metadata": {},
   "source": [
    "- Above graphs are conveying the same message but in different way.\n",
    "\n",
    "\n",
    "- With the help of box-plot we could predict that `mean < median`, so it is left skewed where the majority of the observation are on the high end on the scale."
   ]
  },
  {
   "cell_type": "markdown",
   "metadata": {},
   "source": [
    "> > `Vacuum`"
   ]
  },
  {
   "cell_type": "code",
   "execution_count": 12,
   "metadata": {},
   "outputs": [
    {
     "data": {
      "text/plain": [
       "count    47840.000000\n",
       "mean        54.305804\n",
       "std         12.707362\n",
       "min         25.360000\n",
       "25%         41.740000\n",
       "50%         52.080000\n",
       "75%         66.540000\n",
       "max         81.560000\n",
       "Name: Vacuum, dtype: float64"
      ]
     },
     "execution_count": 12,
     "metadata": {},
     "output_type": "execute_result"
    }
   ],
   "source": [
    "# 5 point summary \n",
    "\n",
    "df['Vacuum'].describe()"
   ]
  },
  {
   "cell_type": "code",
   "execution_count": 13,
   "metadata": {},
   "outputs": [
    {
     "data": {
      "image/png": "[encoded data removed]",
      "text/plain": [
       "<Figure size 1440x360 with 3 Axes>"
      ]
     },
     "metadata": {
      "needs_background": "light"
     },
     "output_type": "display_data"
    }
   ],
   "source": [
    "plt.figure(figsize = (20,5))\n",
    "\n",
    "plt.subplot(1,3,1)\n",
    "sns.distplot(df['Vacuum'], kde=False, bins=10)\n",
    "\n",
    "plt.subplot(1,3,2)\n",
    "sns.distplot(df['Vacuum'], hist=False)\n",
    "\n",
    "plt.subplot(1,3,3)\n",
    "plt.boxplot(x = df['Vacuum'],\n",
    "            vert = False,\n",
    "            meanline = True,\n",
    "            showmeans = True)\n",
    "\n",
    "plt.show()"
   ]
  },
  {
   "cell_type": "markdown",
   "metadata": {},
   "source": [
    "- Above graphs are conveying the same message but in different way.\n",
    "\n",
    "\n",
    "- With the help of box-plot we could predict that 'mean > median' (Median is close to Q1) so it is right skewed."
   ]
  },
  {
   "cell_type": "markdown",
   "metadata": {},
   "source": [
    "> > `Pressure`"
   ]
  },
  {
   "cell_type": "code",
   "execution_count": 14,
   "metadata": {},
   "outputs": [
    {
     "data": {
      "text/plain": [
       "count    47840.000000\n",
       "mean      1013.259078\n",
       "std          5.938535\n",
       "min        992.890000\n",
       "25%       1009.100000\n",
       "50%       1012.940000\n",
       "75%       1017.260000\n",
       "max       1033.300000\n",
       "Name: Pressure, dtype: float64"
      ]
     },
     "execution_count": 14,
     "metadata": {},
     "output_type": "execute_result"
    }
   ],
   "source": [
    "# 5 point summary\n",
    "\n",
    "df['Pressure'].describe()"
   ]
  },
  {
   "cell_type": "code",
   "execution_count": 15,
   "metadata": {},
   "outputs": [
    {
     "data": {
      "image/png": "[encoded data removed]",
      "text/plain": [
       "<Figure size 1440x360 with 3 Axes>"
      ]
     },
     "metadata": {
      "needs_background": "light"
     },
     "output_type": "display_data"
    }
   ],
   "source": [
    "plt.figure(figsize = (20,5))\n",
    "\n",
    "plt.subplot(1,3,1)\n",
    "sns.distplot(df['Pressure'], kde=False, bins=10)\n",
    "\n",
    "plt.subplot(1,3,2)\n",
    "sns.distplot(df['Pressure'], hist=False)\n",
    "\n",
    "plt.subplot(1,3,3)\n",
    "plt.boxplot(x = df['Pressure'],\n",
    "            vert = False,\n",
    "            meanline = True,\n",
    "            showmeans = True)\n",
    "\n",
    "plt.show()"
   ]
  },
  {
   "cell_type": "markdown",
   "metadata": {},
   "source": [
    " - Above graphs are conveying the same message but in different way.\n",
    " \n",
    " \n",
    " - Large amount of variability can be seen from the box plot outside the upper and lower quartiles.\n",
    " \n",
    " \n",
    " - The graph looks to be symmetric where there is very minute difference between mean and median."
   ]
  },
  {
   "cell_type": "markdown",
   "metadata": {},
   "source": [
    "> > `Humidity`"
   ]
  },
  {
   "cell_type": "code",
   "execution_count": 16,
   "metadata": {},
   "outputs": [
    {
     "data": {
      "text/plain": [
       "count    47840.000000\n",
       "mean        73.308978\n",
       "std         14.599658\n",
       "min         25.560000\n",
       "25%         63.327500\n",
       "50%         74.975000\n",
       "75%         84.830000\n",
       "max        100.160000\n",
       "Name: Humidity, dtype: float64"
      ]
     },
     "execution_count": 16,
     "metadata": {},
     "output_type": "execute_result"
    }
   ],
   "source": [
    "# 5 point summary \n",
    "\n",
    "df['Humidity'].describe()"
   ]
  },
  {
   "cell_type": "code",
   "execution_count": 17,
   "metadata": {},
   "outputs": [
    {
     "data": {
      "image/png": "[encoded data removed]",
      "text/plain": [
       "<Figure size 1440x432 with 3 Axes>"
      ]
     },
     "metadata": {
      "needs_background": "light"
     },
     "output_type": "display_data"
    }
   ],
   "source": [
    "plt.figure(figsize = (20,6))\n",
    "\n",
    "plt.subplot(1,3,1)\n",
    "sns.distplot(df['Humidity'], kde=False, bins=10)\n",
    "\n",
    "plt.subplot(1,3,2)\n",
    "sns.distplot(df['Humidity'], hist=False)\n",
    "\n",
    "plt.subplot(1,3,3)\n",
    "plt.boxplot(x = df['Humidity'],\n",
    "            vert = False,\n",
    "            meanline = True,\n",
    "            showmeans = True)\n",
    "\n",
    "plt.show()"
   ]
  },
  {
   "cell_type": "markdown",
   "metadata": {},
   "source": [
    " - Above graphs are conveying the same message but in differnt way.\n",
    " \n",
    " \n",
    " - We can see that attribute `humidity` is left skewed (negative) which implies that majority of the observation are lying on the high end scale.\n",
    " \n",
    " \n",
    " - Also we can observe variablity in the data towards lower quartile side."
   ]
  },
  {
   "cell_type": "markdown",
   "metadata": {},
   "source": [
    "> > `Electrical Power`"
   ]
  },
  {
   "cell_type": "code",
   "execution_count": 18,
   "metadata": {},
   "outputs": [
    {
     "data": {
      "text/plain": [
       "count    47840.000000\n",
       "mean       454.365009\n",
       "std         17.066281\n",
       "min        420.260000\n",
       "25%        439.750000\n",
       "50%        451.550000\n",
       "75%        468.430000\n",
       "max        495.760000\n",
       "Name: Electrical Power, dtype: float64"
      ]
     },
     "execution_count": 18,
     "metadata": {},
     "output_type": "execute_result"
    }
   ],
   "source": [
    "# 5 point summary\n",
    "\n",
    "df['Electrical Power'].describe()"
   ]
  },
  {
   "cell_type": "code",
   "execution_count": 19,
   "metadata": {},
   "outputs": [
    {
     "data": {
      "image/png": "[encoded data removed]",
      "text/plain": [
       "<Figure size 1440x432 with 3 Axes>"
      ]
     },
     "metadata": {
      "needs_background": "light"
     },
     "output_type": "display_data"
    }
   ],
   "source": [
    "plt.figure(figsize = (20,6))\n",
    "\n",
    "plt.subplot(1,3,1)\n",
    "sns.distplot(df['Electrical Power'], kde=False, bins=10)\n",
    "\n",
    "plt.subplot(1,3,2)\n",
    "sns.distplot(df['Electrical Power'], hist=False)\n",
    "\n",
    "plt.subplot(1,3,3)\n",
    "plt.boxplot(x = df['Electrical Power'],\n",
    "            vert = False,\n",
    "            meanline = True,\n",
    "            showmeans = True)\n",
    "\n",
    "plt.show()"
   ]
  },
  {
   "cell_type": "markdown",
   "metadata": {},
   "source": [
    "- Above graphs are conveying the same message but in different way \n",
    "\n",
    "\n",
    "- We can see that attribute `ELectrical Power` is positivly right skewed where most of the observation are lying on th high end of the scale.\n",
    "\n",
    "\n",
    "- We can also observe that the `mean > median` which results in postive skewness of the graph"
   ]
  },
  {
   "cell_type": "markdown",
   "metadata": {},
   "source": [
    "### STEP 5 : FEATURE SELECTION / DIMENSIONALITY REDUCTION / MULTICOLLINEARITY"
   ]
  },
  {
   "cell_type": "markdown",
   "metadata": {},
   "source": [
    "#### VIF Calculation"
   ]
  },
  {
   "cell_type": "code",
   "execution_count": 29,
   "metadata": {},
   "outputs": [
    {
     "data": {
      "text/html": [
       "<div>\n",
       "<style scoped>\n",
       "    .dataframe tbody tr th:only-of-type {\n",
       "        vertical-align: middle;\n",
       "    }\n",
       "\n",
       "    .dataframe tbody tr th {\n",
       "        vertical-align: top;\n",
       "    }\n",
       "\n",
       "    .dataframe thead th {\n",
       "        text-align: right;\n",
       "    }\n",
       "</style>\n",
       "<table border=\"1\" class=\"dataframe\">\n",
       "  <thead>\n",
       "    <tr style=\"text-align: right;\">\n",
       "      <th></th>\n",
       "      <th>VIF Factor</th>\n",
       "      <th>features</th>\n",
       "    </tr>\n",
       "  </thead>\n",
       "  <tbody>\n",
       "    <tr>\n",
       "      <td>0</td>\n",
       "      <td>39.157997</td>\n",
       "      <td>Temperature</td>\n",
       "    </tr>\n",
       "    <tr>\n",
       "      <td>1</td>\n",
       "      <td>74.969732</td>\n",
       "      <td>Vacuum</td>\n",
       "    </tr>\n",
       "    <tr>\n",
       "      <td>2</td>\n",
       "      <td>66.618569</td>\n",
       "      <td>Pressure</td>\n",
       "    </tr>\n",
       "    <tr>\n",
       "      <td>3</td>\n",
       "      <td>40.704801</td>\n",
       "      <td>Humidity</td>\n",
       "    </tr>\n",
       "  </tbody>\n",
       "</table>\n",
       "</div>"
      ],
      "text/plain": [
       "   VIF Factor     features\n",
       "0   39.157997  Temperature\n",
       "1   74.969732       Vacuum\n",
       "2   66.618569     Pressure\n",
       "3   40.704801     Humidity"
      ]
     },
     "execution_count": 29,
     "metadata": {},
     "output_type": "execute_result"
    }
   ],
   "source": [
    "numeric_df = df[['Temperature', 'Vacuum', 'Pressure', 'Humidity', 'Electrical Power']]\n",
    "\n",
    "x_vif = numeric_df.drop(['Electrical Power'] , axis = 1)\n",
    "y_vif = numeric_df[['Electrical Power']]\n",
    "\n",
    "from statsmodels.stats.outliers_influence import variance_inflation_factor\n",
    "vif = pd.DataFrame()\n",
    "vif[\"VIF Factor\"] = [variance_inflation_factor(x_vif.values, i) for i in range(x_vif.shape[1])]\n",
    "vif[\"features\"] = x_vif.columns\n",
    "vif"
   ]
  },
  {
   "cell_type": "markdown",
   "metadata": {},
   "source": [
    "#### Correlation Map - Heat Map"
   ]
  },
  {
   "cell_type": "code",
   "execution_count": 31,
   "metadata": {},
   "outputs": [
    {
     "data": {
      "text/plain": [
       "(5.0, 0.0)"
      ]
     },
     "execution_count": 31,
     "metadata": {},
     "output_type": "execute_result"
    },
    {
     "data": {
      "image/png": "[encoded data removed]",
      "text/plain": [
       "<Figure size 1440x720 with 2 Axes>"
      ]
     },
     "metadata": {
      "needs_background": "light"
     },
     "output_type": "display_data"
    }
   ],
   "source": [
    "plt.figure(figsize=(20,10))\n",
    "matrix = np.triu(df.corr())\n",
    "ax = sns.heatmap(data=df.corr(), linewidths=5, annot=True, mask=matrix)\n",
    "bottom, top = ax.get_ylim()\n",
    "ax.set_ylim(bottom + 0.5, top - 0.5)"
   ]
  },
  {
   "cell_type": "markdown",
   "metadata": {},
   "source": [
    "When VIF is greater than 5, there is an indication that multicollinearity may be present. However when VIF is greater than 10, there is high multicollinearity. \n",
    "\n",
    "In the above case we can see that there is high multicollinearity between all the 4 variables and we are going for Artifial Neural Network implementation so removing the columns won't be applicable, as in this case  we already have very less predictors / targets followed by huge amount of data."
   ]
  },
  {
   "cell_type": "markdown",
   "metadata": {},
   "source": [
    "### STEP 6 : MODEL BUILDING"
   ]
  },
  {
   "attachments": {
    "architecture.PNG": {
     "image/png": "[encoded data removed]"
    }
   },
   "cell_type": "markdown",
   "metadata": {},
   "source": [
    "![architecture.PNG](attachment:architecture.PNG)"
   ]
  },
  {
   "cell_type": "markdown",
   "metadata": {},
   "source": [
    "#### Splitting Data - Independent & Dependent "
   ]
  },
  {
   "cell_type": "code",
   "execution_count": 90,
   "metadata": {},
   "outputs": [],
   "source": [
    "X = df.iloc[:, 0:4].values\n",
    "y = df.iloc[:, 4:5].values"
   ]
  },
  {
   "cell_type": "markdown",
   "metadata": {},
   "source": [
    "#### Splitting Data - Training & Test"
   ]
  },
  {
   "cell_type": "code",
   "execution_count": 91,
   "metadata": {},
   "outputs": [],
   "source": [
    "from sklearn.model_selection import train_test_split\n",
    "X_train, X_test, y_train, y_test = train_test_split(X, y, test_size = 0.2, random_state = 0)"
   ]
  },
  {
   "cell_type": "markdown",
   "metadata": {},
   "source": [
    "#### Feature Scaling "
   ]
  },
  {
   "cell_type": "code",
   "execution_count": 92,
   "metadata": {},
   "outputs": [],
   "source": [
    "from sklearn.preprocessing import StandardScaler\n",
    "sc_X = StandardScaler()\n",
    "X_train = sc_X.fit_transform(X_train)\n",
    "X_test = sc_X.transform(X_test)"
   ]
  },
  {
   "cell_type": "markdown",
   "metadata": {},
   "source": [
    "#### Building Artificial Neural Network"
   ]
  },
  {
   "cell_type": "code",
   "execution_count": 93,
   "metadata": {},
   "outputs": [],
   "source": [
    "import tensorflow as tf\n",
    "\n",
    "import warnings\n",
    "warnings.filterwarnings('ignore')"
   ]
  },
  {
   "cell_type": "markdown",
   "metadata": {},
   "source": [
    "> `Step 1` : Initialization"
   ]
  },
  {
   "cell_type": "markdown",
   "metadata": {},
   "source": [
    "We will create a variable called artifical neural network itself. this variable will be created as an object of certain class and that certain class is the `Sequential Class` which allow us to build the artificial neural network as a sequence of layers and it is taken from models modules which belongs to keras library and indeed it belongs to tensorflow."
   ]
  },
  {
   "cell_type": "code",
   "execution_count": 56,
   "metadata": {},
   "outputs": [],
   "source": [
    "ann = tf.keras.models.Sequential()"
   ]
  },
  {
   "cell_type": "markdown",
   "metadata": {},
   "source": [
    "> `Step 2` : Adding input layer and first hidden layer"
   ]
  },
  {
   "cell_type": "markdown",
   "metadata": {},
   "source": [
    "Here we will be using the `Dense Class` to add the input layer and first hidden layer. We would be using artificial neural object i.e. ann of Sequential Class from which we will call one of the method `add` which will be acting as an instance of another class called `Dense Class`. It helps to add fully connected layers and automatically adds input layers neurons when we are providing matrix of features X during trianing ANN"
   ]
  },
  {
   "cell_type": "code",
   "execution_count": 57,
   "metadata": {},
   "outputs": [],
   "source": [
    "ann.add(tf.keras.layers.Dense(units = 6, activation='relu'))"
   ]
  },
  {
   "cell_type": "markdown",
   "metadata": {},
   "source": [
    "> `Step 3` : Adding second hidden layer"
   ]
  },
  {
   "cell_type": "markdown",
   "metadata": {},
   "source": [
    "Here we will be using same command which we used to add input layer and 1st hidden layer."
   ]
  },
  {
   "cell_type": "code",
   "execution_count": 58,
   "metadata": {},
   "outputs": [],
   "source": [
    "ann.add(tf.keras.layers.Dense(units = 6, activation = 'relu'))"
   ]
  },
  {
   "cell_type": "markdown",
   "metadata": {},
   "source": [
    "> `Step 4` : Adding output layer "
   ]
  },
  {
   "cell_type": "markdown",
   "metadata": {},
   "source": [
    "We will be using `units=1` as we require only 1 neuron in our output layer. Also we wont provide any activation function as we are doing regression type of problem."
   ]
  },
  {
   "cell_type": "code",
   "execution_count": 59,
   "metadata": {},
   "outputs": [],
   "source": [
    "ann.add(tf.keras.layers.Dense(units = 1))"
   ]
  },
  {
   "cell_type": "markdown",
   "metadata": {},
   "source": [
    "#### Training Artificial Neural Network"
   ]
  },
  {
   "cell_type": "markdown",
   "metadata": {},
   "source": [
    "> `Step 1` : Compiling ANN"
   ]
  },
  {
   "cell_type": "markdown",
   "metadata": {},
   "source": [
    "We would be using same artificial neural object and this time we will be calling a new method - `compile` which will take 2 parameters.\n",
    "\n",
    "- `optimizer` = adam (Most commonly used as it can performs Stochastic Gradient Descent which will update the weights and reduce your loss error between predicted and actual result)\n",
    "\n",
    "\n",
    "- `loss` =  binary_crossentrophy or categorical_crossentrophy if using classification else we use mean_squared_error for regression (depending upon our output neuron)"
   ]
  },
  {
   "cell_type": "code",
   "execution_count": 63,
   "metadata": {},
   "outputs": [],
   "source": [
    "ann.compile(optimizer = 'adam', loss = 'mean_squared_error')"
   ]
  },
  {
   "cell_type": "markdown",
   "metadata": {},
   "source": [
    "> `Step 2` : Trianing ANN"
   ]
  },
  {
   "cell_type": "markdown",
   "metadata": {},
   "source": [
    "We will be using same artificial neural object and this time we will be calling a new method - `fit` which will take following parameters.\n",
    "\n",
    "  - `X_train & y_train` = data needed for training our ANN\n",
    "  \n",
    "  \n",
    "  - `batch_size` = batch learning is indeed more efficient and performant when training the artifical neural network.\n",
    "  \n",
    "  \n",
    "  - `epochs` = neural network is trained on certain amount of epochs to improve the accuracy over the time. "
   ]
  },
  {
   "cell_type": "code",
   "execution_count": 94,
   "metadata": {},
   "outputs": [
    {
     "name": "stdout",
     "output_type": "stream",
     "text": [
      "Train on 36358 samples, validate on 1914 samples\n",
      "Epoch 1/100\n",
      "36358/36358 [==============================] - 2s 55us/sample - loss: 134479.0630 - val_loss: 59643.7289\n",
      "Epoch 2/100\n",
      "36358/36358 [==============================] - 2s 55us/sample - loss: 31989.8653 - val_loss: 14209.4812\n",
      "Epoch 3/100\n",
      "36358/36358 [==============================] - 2s 46us/sample - loss: 7375.0320 - val_loss: 3334.6816\n",
      "Epoch 4/100\n",
      "36358/36358 [==============================] - 2s 61us/sample - loss: 2003.7472 - val_loss: 1140.1943\n",
      "Epoch 5/100\n",
      "36358/36358 [==============================] - 2s 59us/sample - loss: 785.5617 - val_loss: 477.0309\n",
      "Epoch 6/100\n",
      "36358/36358 [==============================] - 2s 56us/sample - loss: 334.1834 - val_loss: 201.3019\n",
      "Epoch 7/100\n",
      "36358/36358 [==============================] - 2s 57us/sample - loss: 143.1305 - val_loss: 92.6663\n",
      "Epoch 8/100\n",
      "36358/36358 [==============================] - 2s 54us/sample - loss: 68.5611 - val_loss: 50.0864\n",
      "Epoch 9/100\n",
      "36358/36358 [==============================] - 2s 58us/sample - loss: 39.4579 - val_loss: 32.5010\n",
      "Epoch 10/100\n",
      "36358/36358 [==============================] - 2s 50us/sample - loss: 27.7762 - val_loss: 24.9405\n",
      "Epoch 11/100\n",
      "36358/36358 [==============================] - 2s 58us/sample - loss: 23.1725 - val_loss: 22.1115\n",
      "Epoch 12/100\n",
      "36358/36358 [==============================] - 2s 57us/sample - loss: 21.5420 - val_loss: 21.0718\n",
      "Epoch 13/100\n",
      "36358/36358 [==============================] - 2s 61us/sample - loss: 20.9570 - val_loss: 20.6628\n",
      "Epoch 14/100\n",
      "36358/36358 [==============================] - 2s 61us/sample - loss: 20.6400 - val_loss: 21.5348\n",
      "Epoch 15/100\n",
      "36358/36358 [==============================] - 2s 47us/sample - loss: 20.5078 - val_loss: 20.4163\n",
      "Epoch 16/100\n",
      "36358/36358 [==============================] - 2s 59us/sample - loss: 20.3116 - val_loss: 20.1532\n",
      "Epoch 17/100\n",
      "36358/36358 [==============================] - 2s 61us/sample - loss: 20.0715 - val_loss: 20.9408\n",
      "Epoch 18/100\n",
      "36358/36358 [==============================] - 2s 46us/sample - loss: 19.9299 - val_loss: 20.4414\n",
      "Epoch 19/100\n",
      "36358/36358 [==============================] - 2s 54us/sample - loss: 19.7826 - val_loss: 20.1371\n",
      "Epoch 20/100\n",
      "36358/36358 [==============================] - 2s 57us/sample - loss: 19.6378 - val_loss: 19.7028\n",
      "Epoch 21/100\n",
      "36358/36358 [==============================] - 2s 57us/sample - loss: 19.5148 - val_loss: 19.7335\n",
      "Epoch 22/100\n",
      "36358/36358 [==============================] - 2s 56us/sample - loss: 19.3471 - val_loss: 19.5078\n",
      "Epoch 23/100\n",
      "36358/36358 [==============================] - 2s 57us/sample - loss: 19.2558 - val_loss: 19.4113\n",
      "Epoch 24/100\n",
      "36358/36358 [==============================] - 2s 54us/sample - loss: 19.1817 - val_loss: 19.2289\n",
      "Epoch 25/100\n",
      "36358/36358 [==============================] - 2s 58us/sample - loss: 19.0741 - val_loss: 19.2914\n",
      "Epoch 26/100\n",
      "36358/36358 [==============================] - 2s 52us/sample - loss: 19.0016 - val_loss: 19.6944\n",
      "Epoch 27/100\n",
      "36358/36358 [==============================] - 2s 57us/sample - loss: 18.9231 - val_loss: 19.0026\n",
      "Epoch 28/100\n",
      "36358/36358 [==============================] - 2s 57us/sample - loss: 18.8455 - val_loss: 19.0741\n",
      "Epoch 29/100\n",
      "36358/36358 [==============================] - 2s 63us/sample - loss: 18.8216 - val_loss: 19.0877\n",
      "Epoch 30/100\n",
      "36358/36358 [==============================] - 2s 58us/sample - loss: 18.7790 - val_loss: 20.1208\n",
      "Epoch 31/100\n",
      "36358/36358 [==============================] - 2s 53us/sample - loss: 18.7639 - val_loss: 18.8414\n",
      "Epoch 32/100\n",
      "36358/36358 [==============================] - 2s 54us/sample - loss: 18.7265 - val_loss: 19.0202\n",
      "Epoch 33/100\n",
      "36358/36358 [==============================] - 2s 58us/sample - loss: 18.7393 - val_loss: 19.2934\n",
      "Epoch 34/100\n",
      "36358/36358 [==============================] - 1s 39us/sample - loss: 18.7106 - val_loss: 18.9020\n",
      "Epoch 35/100\n",
      "36358/36358 [==============================] - 2s 56us/sample - loss: 18.6755 - val_loss: 18.6917\n",
      "Epoch 36/100\n",
      "36358/36358 [==============================] - 2s 57us/sample - loss: 18.6608 - val_loss: 18.7577\n",
      "Epoch 37/100\n",
      "36358/36358 [==============================] - 2s 56us/sample - loss: 18.5994 - val_loss: 18.8297\n",
      "Epoch 38/100\n",
      "36358/36358 [==============================] - 2s 57us/sample - loss: 18.6159 - val_loss: 18.7862\n",
      "Epoch 39/100\n",
      "36358/36358 [==============================] - 2s 55us/sample - loss: 18.6069 - val_loss: 18.5891\n",
      "Epoch 40/100\n",
      "36358/36358 [==============================] - 2s 56us/sample - loss: 18.5534 - val_loss: 18.7685\n",
      "Epoch 41/100\n",
      "36358/36358 [==============================] - 2s 58us/sample - loss: 18.5513 - val_loss: 19.7454\n",
      "Epoch 42/100\n",
      "36358/36358 [==============================] - 2s 50us/sample - loss: 18.5485 - val_loss: 18.9569\n",
      "Epoch 43/100\n",
      "36358/36358 [==============================] - 2s 58us/sample - loss: 18.5330 - val_loss: 18.6192\n",
      "Epoch 44/100\n",
      "36358/36358 [==============================] - 2s 59us/sample - loss: 18.5231 - val_loss: 18.6277\n",
      "Epoch 45/100\n",
      "36358/36358 [==============================] - 2s 58us/sample - loss: 18.5322 - val_loss: 18.6960\n",
      "Epoch 46/100\n",
      "36358/36358 [==============================] - 2s 58us/sample - loss: 18.5160 - val_loss: 18.7683\n",
      "Epoch 47/100\n",
      "36358/36358 [==============================] - 2s 54us/sample - loss: 18.4992 - val_loss: 18.8367\n",
      "Epoch 48/100\n",
      "36358/36358 [==============================] - 2s 58us/sample - loss: 18.4513 - val_loss: 18.7504\n",
      "Epoch 49/100\n",
      "36358/36358 [==============================] - 2s 59us/sample - loss: 18.4699 - val_loss: 18.7297\n",
      "Epoch 50/100\n",
      "36358/36358 [==============================] - 2s 44us/sample - loss: 18.4576 - val_loss: 18.5122\n",
      "Epoch 51/100\n",
      "36358/36358 [==============================] - 2s 57us/sample - loss: 18.4598 - val_loss: 18.7153\n",
      "Epoch 52/100\n",
      "36358/36358 [==============================] - 2s 59us/sample - loss: 18.4309 - val_loss: 18.5264\n",
      "Epoch 53/100\n",
      "36358/36358 [==============================] - 2s 58us/sample - loss: 18.4637 - val_loss: 18.6396\n",
      "Epoch 54/100\n",
      "36358/36358 [==============================] - 2s 58us/sample - loss: 18.4296 - val_loss: 18.9618\n",
      "Epoch 55/100\n",
      "36358/36358 [==============================] - 2s 46us/sample - loss: 18.4048 - val_loss: 18.5603\n",
      "Epoch 56/100\n",
      "36358/36358 [==============================] - 2s 57us/sample - loss: 18.3951 - val_loss: 18.5331\n",
      "Epoch 57/100\n",
      "36358/36358 [==============================] - 2s 60us/sample - loss: 18.3969 - val_loss: 18.9359\n",
      "Epoch 58/100\n",
      "36358/36358 [==============================] - 2s 51us/sample - loss: 18.3913 - val_loss: 18.9350\n",
      "Epoch 59/100\n",
      "36358/36358 [==============================] - 2s 58us/sample - loss: 18.4283 - val_loss: 18.7105\n",
      "Epoch 60/100\n",
      "36358/36358 [==============================] - 2s 57us/sample - loss: 18.3641 - val_loss: 19.1449\n",
      "Epoch 61/100\n",
      "36358/36358 [==============================] - 2s 58us/sample - loss: 18.4111 - val_loss: 18.6002\n",
      "Epoch 62/100\n",
      "36358/36358 [==============================] - 2s 62us/sample - loss: 18.4001 - val_loss: 18.4687\n",
      "Epoch 63/100\n",
      "36358/36358 [==============================] - 2s 57us/sample - loss: 18.3689 - val_loss: 18.4934\n",
      "Epoch 64/100\n",
      "36358/36358 [==============================] - 2s 57us/sample - loss: 18.3759 - val_loss: 18.7796\n",
      "Epoch 65/100\n",
      "36358/36358 [==============================] - 2s 55us/sample - loss: 18.4181 - val_loss: 18.4396\n",
      "Epoch 66/100\n",
      "36358/36358 [==============================] - 1s 41us/sample - loss: 18.3538 - val_loss: 18.5407\n",
      "Epoch 67/100\n",
      "36358/36358 [==============================] - 2s 59us/sample - loss: 18.3634 - val_loss: 18.5388\n",
      "Epoch 68/100\n",
      "36358/36358 [==============================] - 2s 60us/sample - loss: 18.3825 - val_loss: 18.4681\n",
      "Epoch 69/100\n",
      "36358/36358 [==============================] - 2s 58us/sample - loss: 18.3656 - val_loss: 19.2438\n",
      "Epoch 70/100\n",
      "36358/36358 [==============================] - 2s 57us/sample - loss: 18.3705 - val_loss: 18.8237\n",
      "Epoch 71/100\n",
      "36358/36358 [==============================] - 2s 53us/sample - loss: 18.4339 - val_loss: 18.9186\n",
      "Epoch 72/100\n",
      "36358/36358 [==============================] - 2s 57us/sample - loss: 18.4330 - val_loss: 18.9466\n",
      "Epoch 73/100\n",
      "36358/36358 [==============================] - 2s 54us/sample - loss: 18.3825 - val_loss: 18.6223\n",
      "Epoch 74/100\n"
     ]
    },
    {
     "name": "stdout",
     "output_type": "stream",
     "text": [
      "36358/36358 [==============================] - 2s 59us/sample - loss: 18.3180 - val_loss: 18.5967\n",
      "Epoch 75/100\n",
      "36358/36358 [==============================] - 2s 57us/sample - loss: 18.4106 - val_loss: 18.5185\n",
      "Epoch 76/100\n",
      "36358/36358 [==============================] - 2s 56us/sample - loss: 18.3518 - val_loss: 18.7593\n",
      "Epoch 77/100\n",
      "36358/36358 [==============================] - 2s 57us/sample - loss: 18.3834 - val_loss: 18.7533\n",
      "Epoch 78/100\n",
      "36358/36358 [==============================] - 2s 56us/sample - loss: 18.3910 - val_loss: 18.3799\n",
      "Epoch 79/100\n",
      "36358/36358 [==============================] - 2s 55us/sample - loss: 18.3755 - val_loss: 18.5144\n",
      "Epoch 80/100\n",
      "36358/36358 [==============================] - 2s 56us/sample - loss: 18.4076 - val_loss: 18.7925\n",
      "Epoch 81/100\n",
      "36358/36358 [==============================] - 2s 50us/sample - loss: 18.3811 - val_loss: 18.5656\n",
      "Epoch 82/100\n",
      "36358/36358 [==============================] - 2s 55us/sample - loss: 18.3884 - val_loss: 18.4920\n",
      "Epoch 83/100\n",
      "36358/36358 [==============================] - 2s 58us/sample - loss: 18.4193 - val_loss: 18.6920\n",
      "Epoch 84/100\n",
      "36358/36358 [==============================] - 2s 55us/sample - loss: 18.3771 - val_loss: 18.6057\n",
      "Epoch 85/100\n",
      "36358/36358 [==============================] - 2s 56us/sample - loss: 18.4112 - val_loss: 18.6247\n",
      "Epoch 86/100\n",
      "36358/36358 [==============================] - 2s 52us/sample - loss: 18.3766 - val_loss: 18.5733\n",
      "Epoch 87/100\n",
      "36358/36358 [==============================] - 2s 56us/sample - loss: 18.3859 - val_loss: 18.4415\n",
      "Epoch 88/100\n",
      "36358/36358 [==============================] - ETA: 0s - loss: 18.35 - 2s 55us/sample - loss: 18.3557 - val_loss: 18.6780\n",
      "Epoch 89/100\n",
      "36358/36358 [==============================] - 2s 52us/sample - loss: 18.4007 - val_loss: 18.4907\n",
      "Epoch 90/100\n",
      "36358/36358 [==============================] - 2s 46us/sample - loss: 18.4029 - val_loss: 18.5892\n",
      "Epoch 91/100\n",
      "36358/36358 [==============================] - 2s 55us/sample - loss: 18.3779 - val_loss: 18.5125\n",
      "Epoch 92/100\n",
      "36358/36358 [==============================] - 2s 56us/sample - loss: 18.3445 - val_loss: 18.4870\n",
      "Epoch 93/100\n",
      "36358/36358 [==============================] - 2s 55us/sample - loss: 18.3772 - val_loss: 18.5776\n",
      "Epoch 94/100\n",
      "36358/36358 [==============================] - 2s 56us/sample - loss: 18.3657 - val_loss: 18.7555\n",
      "Epoch 95/100\n",
      "36358/36358 [==============================] - 2s 53us/sample - loss: 18.3675 - val_loss: 18.4144\n",
      "Epoch 96/100\n",
      "36358/36358 [==============================] - 2s 58us/sample - loss: 18.3679 - val_loss: 18.6615\n",
      "Epoch 97/100\n",
      "36358/36358 [==============================] - 2s 54us/sample - loss: 18.3574 - val_loss: 18.9860\n",
      "Epoch 98/100\n",
      "36358/36358 [==============================] - 2s 57us/sample - loss: 18.4339 - val_loss: 18.7466\n",
      "Epoch 99/100\n",
      "36358/36358 [==============================] - 2s 56us/sample - loss: 18.3941 - val_loss: 19.8387\n",
      "Epoch 100/100\n",
      "36358/36358 [==============================] - 2s 56us/sample - loss: 18.3598 - val_loss: 18.8195\n"
     ]
    },
    {
     "data": {
      "text/plain": [
       "<tensorflow.python.keras.callbacks.History at 0x1e540185e48>"
      ]
     },
     "execution_count": 94,
     "metadata": {},
     "output_type": "execute_result"
    }
   ],
   "source": [
    "ann.fit(x = X_train, \n",
    "        y = y_train, \n",
    "        batch_size = 32, \n",
    "        epochs = 100, \n",
    "        shuffle = 1,\n",
    "        validation_split = 0.05)"
   ]
  },
  {
   "cell_type": "markdown",
   "metadata": {},
   "source": [
    "### STEP 7 : MODEL EVALUATION"
   ]
  },
  {
   "cell_type": "markdown",
   "metadata": {},
   "source": [
    "We will be using same artificial neural network object and this time we will be calling `predict` method which accepts inputs as a 2D array. Also values need to be scaled as ANN was trained on scaled values."
   ]
  },
  {
   "cell_type": "markdown",
   "metadata": {},
   "source": [
    "#### Actual v/s Predicted"
   ]
  },
  {
   "cell_type": "code",
   "execution_count": 96,
   "metadata": {},
   "outputs": [
    {
     "data": {
      "text/html": [
       "<div>\n",
       "<style scoped>\n",
       "    .dataframe tbody tr th:only-of-type {\n",
       "        vertical-align: middle;\n",
       "    }\n",
       "\n",
       "    .dataframe tbody tr th {\n",
       "        vertical-align: top;\n",
       "    }\n",
       "\n",
       "    .dataframe thead th {\n",
       "        text-align: right;\n",
       "    }\n",
       "</style>\n",
       "<table border=\"1\" class=\"dataframe\">\n",
       "  <thead>\n",
       "    <tr style=\"text-align: right;\">\n",
       "      <th></th>\n",
       "      <th>Actual Values</th>\n",
       "      <th>Predicted Values</th>\n",
       "    </tr>\n",
       "  </thead>\n",
       "  <tbody>\n",
       "    <tr>\n",
       "      <td>0</td>\n",
       "      <td>436.29</td>\n",
       "      <td>438.265442</td>\n",
       "    </tr>\n",
       "    <tr>\n",
       "      <td>1</td>\n",
       "      <td>438.08</td>\n",
       "      <td>443.251862</td>\n",
       "    </tr>\n",
       "    <tr>\n",
       "      <td>2</td>\n",
       "      <td>476.12</td>\n",
       "      <td>473.638916</td>\n",
       "    </tr>\n",
       "    <tr>\n",
       "      <td>3</td>\n",
       "      <td>485.78</td>\n",
       "      <td>491.066986</td>\n",
       "    </tr>\n",
       "    <tr>\n",
       "      <td>4</td>\n",
       "      <td>436.08</td>\n",
       "      <td>435.122406</td>\n",
       "    </tr>\n",
       "  </tbody>\n",
       "</table>\n",
       "</div>"
      ],
      "text/plain": [
       "   Actual Values  Predicted Values\n",
       "0         436.29        438.265442\n",
       "1         438.08        443.251862\n",
       "2         476.12        473.638916\n",
       "3         485.78        491.066986\n",
       "4         436.08        435.122406"
      ]
     },
     "execution_count": 96,
     "metadata": {},
     "output_type": "execute_result"
    }
   ],
   "source": [
    "y_pred = ann.predict(X_test)\n",
    "\n",
    "df_test = pd.DataFrame({\n",
    "    'Actual Values'    : y_test.flatten(),\n",
    "    'Predicted Values' : y_pred.flatten()\n",
    "    })\n",
    "\n",
    "df_test.head()"
   ]
  },
  {
   "cell_type": "markdown",
   "metadata": {},
   "source": [
    "#### R2 - Score / Mean Squared Error"
   ]
  },
  {
   "cell_type": "code",
   "execution_count": 105,
   "metadata": {},
   "outputs": [
    {
     "name": "stdout",
     "output_type": "stream",
     "text": [
      "Accuracy           : 93.73129059591002\n",
      "Mean Squared Error : 18.008838070523318\n"
     ]
    }
   ],
   "source": [
    "from sklearn.metrics import r2_score\n",
    "from sklearn.metrics import mean_squared_error\n",
    "\n",
    "print(\"Accuracy           :\", (r2_score(y_test,y_pred)*100))\n",
    "print(\"Mean Squared Error :\", mean_squared_error(y_test, y_pred))"
   ]
  },
  {
   "cell_type": "markdown",
   "metadata": {},
   "source": [
    "### STEP 8 : MODEL EVALUATION / HYPER PARAMETER TUNING"
   ]
  },
  {
   "cell_type": "markdown",
   "metadata": {},
   "source": [
    "> `CASE 1` : More Hidden Layers"
   ]
  },
  {
   "cell_type": "code",
   "execution_count": 107,
   "metadata": {},
   "outputs": [
    {
     "name": "stdout",
     "output_type": "stream",
     "text": [
      "Epoch 1/100\n",
      "38272/38272 [==============================] - 3s 84us/sample - loss: 58594.0531\n",
      "Epoch 2/100\n",
      "38272/38272 [==============================] - 3s 70us/sample - loss: 1314.8652\n",
      "Epoch 3/100\n",
      "38272/38272 [==============================] - 2s 62us/sample - loss: 157.8312\n",
      "Epoch 4/100\n",
      "38272/38272 [==============================] - 3s 70us/sample - loss: 43.0079\n",
      "Epoch 5/100\n",
      "38272/38272 [==============================] - 3s 71us/sample - loss: 25.8131\n",
      "Epoch 6/100\n",
      "38272/38272 [==============================] - 3s 71us/sample - loss: 22.6114\n",
      "Epoch 7/100\n",
      "38272/38272 [==============================] - 3s 68us/sample - loss: 21.9183\n",
      "Epoch 8/100\n",
      "38272/38272 [==============================] - 3s 72us/sample - loss: 21.8331\n",
      "Epoch 9/100\n",
      "38272/38272 [==============================] - 2s 57us/sample - loss: 21.6639\n",
      "Epoch 10/100\n",
      "38272/38272 [==============================] - 3s 70us/sample - loss: 21.6386\n",
      "Epoch 11/100\n",
      "38272/38272 [==============================] - 3s 69us/sample - loss: 21.7741\n",
      "Epoch 12/100\n",
      "38272/38272 [==============================] - 3s 69us/sample - loss: 21.7286\n",
      "Epoch 13/100\n",
      "38272/38272 [==============================] - 2s 64us/sample - loss: 21.5836\n",
      "Epoch 14/100\n",
      "38272/38272 [==============================] - 3s 68us/sample - loss: 21.4188\n",
      "Epoch 15/100\n",
      "38272/38272 [==============================] - 2s 63us/sample - loss: 21.3222\n",
      "Epoch 16/100\n",
      "38272/38272 [==============================] - 3s 70us/sample - loss: 21.1126\n",
      "Epoch 17/100\n",
      "38272/38272 [==============================] - 3s 69us/sample - loss: 20.8653\n",
      "Epoch 18/100\n",
      "38272/38272 [==============================] - 3s 67us/sample - loss: 20.8754\n",
      "Epoch 19/100\n",
      "38272/38272 [==============================] - 3s 66us/sample - loss: 20.7261\n",
      "Epoch 20/100\n",
      "38272/38272 [==============================] - 3s 71us/sample - loss: 20.8489\n",
      "Epoch 21/100\n",
      "38272/38272 [==============================] - 2s 62us/sample - loss: 20.5905\n",
      "Epoch 22/100\n",
      "38272/38272 [==============================] - 2s 65us/sample - loss: 20.5260\n",
      "Epoch 23/100\n",
      "38272/38272 [==============================] - 3s 69us/sample - loss: 20.6209\n",
      "Epoch 24/100\n",
      "38272/38272 [==============================] - 3s 69us/sample - loss: 20.6204\n",
      "Epoch 25/100\n",
      "38272/38272 [==============================] - 3s 69us/sample - loss: 20.5204\n",
      "Epoch 26/100\n",
      "38272/38272 [==============================] - 3s 66us/sample - loss: 20.6912\n",
      "Epoch 27/100\n",
      "38272/38272 [==============================] - 3s 66us/sample - loss: 20.5619\n",
      "Epoch 28/100\n",
      "38272/38272 [==============================] - 3s 68us/sample - loss: 20.3439\n",
      "Epoch 29/100\n",
      "38272/38272 [==============================] - 3s 70us/sample - loss: 20.5315\n",
      "Epoch 30/100\n",
      "38272/38272 [==============================] - 3s 68us/sample - loss: 20.5565\n",
      "Epoch 31/100\n",
      "38272/38272 [==============================] - 2s 65us/sample - loss: 20.4328\n",
      "Epoch 32/100\n",
      "38272/38272 [==============================] - 1s 34us/sample - loss: 20.4857\n",
      "Epoch 33/100\n",
      "38272/38272 [==============================] - 2s 51us/sample - loss: 20.3282\n",
      "Epoch 34/100\n",
      "38272/38272 [==============================] - 3s 68us/sample - loss: 20.3835\n",
      "Epoch 35/100\n",
      "38272/38272 [==============================] - 2s 57us/sample - loss: 20.3678\n",
      "Epoch 36/100\n",
      "38272/38272 [==============================] - 3s 67us/sample - loss: 20.3269\n",
      "Epoch 37/100\n",
      "38272/38272 [==============================] - 3s 70us/sample - loss: 20.1773\n",
      "Epoch 38/100\n",
      "38272/38272 [==============================] - 3s 72us/sample - loss: 20.3551\n",
      "Epoch 39/100\n",
      "38272/38272 [==============================] - 2s 63us/sample - loss: 20.3584\n",
      "Epoch 40/100\n",
      "38272/38272 [==============================] - 3s 71us/sample - loss: 20.2481\n",
      "Epoch 41/100\n",
      "38272/38272 [==============================] - 2s 62us/sample - loss: 20.3009\n",
      "Epoch 42/100\n",
      "38272/38272 [==============================] - 3s 69us/sample - loss: 20.4593\n",
      "Epoch 43/100\n",
      "38272/38272 [==============================] - 3s 70us/sample - loss: 20.1594\n",
      "Epoch 44/100\n",
      "38272/38272 [==============================] - 3s 69us/sample - loss: 20.2370\n",
      "Epoch 45/100\n",
      "38272/38272 [==============================] - 3s 67us/sample - loss: 20.1563\n",
      "Epoch 46/100\n",
      "38272/38272 [==============================] - 3s 71us/sample - loss: 20.2679\n",
      "Epoch 47/100\n",
      "38272/38272 [==============================] - 2s 53us/sample - loss: 20.1440\n",
      "Epoch 48/100\n",
      "38272/38272 [==============================] - 3s 69us/sample - loss: 20.1382\n",
      "Epoch 49/100\n",
      "38272/38272 [==============================] - 2s 58us/sample - loss: 20.0984\n",
      "Epoch 50/100\n",
      "38272/38272 [==============================] - 2s 54us/sample - loss: 20.1014\n",
      "Epoch 51/100\n",
      "38272/38272 [==============================] - 3s 75us/sample - loss: 19.9709\n",
      "Epoch 52/100\n",
      "38272/38272 [==============================] - 3s 68us/sample - loss: 20.1108\n",
      "Epoch 53/100\n",
      "38272/38272 [==============================] - 3s 67us/sample - loss: 19.9699\n",
      "Epoch 54/100\n",
      "38272/38272 [==============================] - 3s 76us/sample - loss: 19.9574\n",
      "Epoch 55/100\n",
      "38272/38272 [==============================] - 3s 78us/sample - loss: 19.9169\n",
      "Epoch 56/100\n",
      "38272/38272 [==============================] - 3s 78us/sample - loss: 19.9360\n",
      "Epoch 57/100\n",
      "38272/38272 [==============================] - 3s 70us/sample - loss: 19.8454\n",
      "Epoch 58/100\n",
      "38272/38272 [==============================] - 3s 76us/sample - loss: 19.9005\n",
      "Epoch 59/100\n",
      "38272/38272 [==============================] - 2s 58us/sample - loss: 19.8238\n",
      "Epoch 60/100\n",
      "38272/38272 [==============================] - 3s 75us/sample - loss: 19.8258\n",
      "Epoch 61/100\n",
      "38272/38272 [==============================] - 3s 74us/sample - loss: 19.7588\n",
      "Epoch 62/100\n",
      "38272/38272 [==============================] - 3s 75us/sample - loss: 19.8329\n",
      "Epoch 63/100\n",
      "38272/38272 [==============================] - 3s 71us/sample - loss: 19.8313\n",
      "Epoch 64/100\n",
      "38272/38272 [==============================] - 3s 74us/sample - loss: 19.7694\n",
      "Epoch 65/100\n",
      "38272/38272 [==============================] - 2s 65us/sample - loss: 19.8209\n",
      "Epoch 66/100\n",
      "38272/38272 [==============================] - 3s 75us/sample - loss: 19.7262\n",
      "Epoch 67/100\n",
      "38272/38272 [==============================] - 3s 76us/sample - loss: 19.7733\n",
      "Epoch 68/100\n",
      "38272/38272 [==============================] - 3s 75us/sample - loss: 19.7902\n",
      "Epoch 69/100\n",
      "38272/38272 [==============================] - 3s 71us/sample - loss: 19.6997\n",
      "Epoch 70/100\n",
      "38272/38272 [==============================] - 3s 76us/sample - loss: 19.6411\n",
      "Epoch 71/100\n",
      "38272/38272 [==============================] - 2s 58us/sample - loss: 19.5664\n",
      "Epoch 72/100\n",
      "38272/38272 [==============================] - 3s 74us/sample - loss: 19.6488\n",
      "Epoch 73/100\n",
      "38272/38272 [==============================] - 3s 73us/sample - loss: 19.5966\n",
      "Epoch 74/100\n",
      "38272/38272 [==============================] - 3s 76us/sample - loss: 19.5727\n",
      "Epoch 75/100\n",
      "38272/38272 [==============================] - 2s 52us/sample - loss: 19.5246\n",
      "Epoch 76/100\n",
      "38272/38272 [==============================] - 3s 71us/sample - loss: 19.4331\n",
      "Epoch 77/100\n",
      "38272/38272 [==============================] - 2s 60us/sample - loss: 19.5057\n",
      "Epoch 78/100\n",
      "38272/38272 [==============================] - 3s 75us/sample - loss: 19.5014\n",
      "Epoch 79/100\n",
      "38272/38272 [==============================] - 3s 74us/sample - loss: 19.5988\n",
      "Epoch 80/100\n",
      "38272/38272 [==============================] - 3s 71us/sample - loss: 19.3758\n",
      "Epoch 81/100\n",
      "38272/38272 [==============================] - 3s 66us/sample - loss: 19.6883\n",
      "Epoch 82/100\n",
      "38272/38272 [==============================] - 3s 72us/sample - loss: 19.4225\n",
      "Epoch 83/100\n",
      "38272/38272 [==============================] - 2s 48us/sample - loss: 19.5196\n",
      "Epoch 84/100\n",
      "38272/38272 [==============================] - 3s 73us/sample - loss: 19.4120\n",
      "Epoch 85/100\n",
      "38272/38272 [==============================] - 3s 71us/sample - loss: 19.4129\n",
      "Epoch 86/100\n",
      "38272/38272 [==============================] - 3s 75us/sample - loss: 19.5187\n",
      "Epoch 87/100\n",
      "38272/38272 [==============================] - 3s 70us/sample - loss: 19.3901\n",
      "Epoch 88/100\n",
      "38272/38272 [==============================] - 3s 74us/sample - loss: 19.3670\n",
      "Epoch 89/100\n",
      "38272/38272 [==============================] - 2s 59us/sample - loss: 19.2836\n",
      "Epoch 90/100\n",
      "38272/38272 [==============================] - 3s 68us/sample - loss: 19.3941\n",
      "Epoch 91/100\n"
     ]
    },
    {
     "name": "stdout",
     "output_type": "stream",
     "text": [
      "38272/38272 [==============================] - 3s 68us/sample - loss: 19.5313\n",
      "Epoch 92/100\n",
      "38272/38272 [==============================] - 3s 69us/sample - loss: 19.3287\n",
      "Epoch 93/100\n",
      "38272/38272 [==============================] - 3s 67us/sample - loss: 19.3607\n",
      "Epoch 94/100\n",
      "38272/38272 [==============================] - 2s 64us/sample - loss: 19.4292\n",
      "Epoch 95/100\n",
      "38272/38272 [==============================] - 2s 60us/sample - loss: 19.4405\n",
      "Epoch 96/100\n",
      "38272/38272 [==============================] - 2s 60us/sample - loss: 19.2473\n",
      "Epoch 97/100\n",
      "38272/38272 [==============================] - 3s 68us/sample - loss: 19.3288\n",
      "Epoch 98/100\n",
      "38272/38272 [==============================] - 3s 69us/sample - loss: 19.3880\n",
      "Epoch 99/100\n",
      "38272/38272 [==============================] - 2s 65us/sample - loss: 19.4577\n",
      "Epoch 100/100\n",
      "38272/38272 [==============================] - 2s 57us/sample - loss: 19.3225\n"
     ]
    },
    {
     "data": {
      "text/plain": [
       "<tensorflow.python.keras.callbacks.History at 0x1e542e6fcc8>"
      ]
     },
     "execution_count": 107,
     "metadata": {},
     "output_type": "execute_result"
    }
   ],
   "source": [
    "#Initialize Neural Network\n",
    "ann1 = tf.keras.models.Sequential()\n",
    "\n",
    "#Addition of layers\n",
    "ann1.add(tf.keras.layers.Dense(units = 6, activation = 'relu'))\n",
    "ann1.add(tf.keras.layers.Dense(units = 6, activation = 'relu'))\n",
    "ann1.add(tf.keras.layers.Dense(units = 6, activation = 'relu'))\n",
    "ann1.add(tf.keras.layers.Dense(units = 6, activation = 'relu'))\n",
    "\n",
    "#Addition of Outpur layer\n",
    "ann1.add(tf.keras.layers.Dense(units = 1))\n",
    "\n",
    "#Compiling ANN\n",
    "ann1.compile(optimizer = 'adam', loss = 'mean_squared_error')\n",
    "\n",
    "#Fitting training data\n",
    "ann1.fit(X_train, y_train, batch_size = 32, epochs = 100)"
   ]
  },
  {
   "cell_type": "code",
   "execution_count": 108,
   "metadata": {},
   "outputs": [
    {
     "data": {
      "text/html": [
       "<div>\n",
       "<style scoped>\n",
       "    .dataframe tbody tr th:only-of-type {\n",
       "        vertical-align: middle;\n",
       "    }\n",
       "\n",
       "    .dataframe tbody tr th {\n",
       "        vertical-align: top;\n",
       "    }\n",
       "\n",
       "    .dataframe thead th {\n",
       "        text-align: right;\n",
       "    }\n",
       "</style>\n",
       "<table border=\"1\" class=\"dataframe\">\n",
       "  <thead>\n",
       "    <tr style=\"text-align: right;\">\n",
       "      <th></th>\n",
       "      <th>Actual Values</th>\n",
       "      <th>Predicted Values</th>\n",
       "    </tr>\n",
       "  </thead>\n",
       "  <tbody>\n",
       "    <tr>\n",
       "      <td>0</td>\n",
       "      <td>436.29</td>\n",
       "      <td>437.072174</td>\n",
       "    </tr>\n",
       "    <tr>\n",
       "      <td>1</td>\n",
       "      <td>438.08</td>\n",
       "      <td>441.339172</td>\n",
       "    </tr>\n",
       "    <tr>\n",
       "      <td>2</td>\n",
       "      <td>476.12</td>\n",
       "      <td>472.429474</td>\n",
       "    </tr>\n",
       "    <tr>\n",
       "      <td>3</td>\n",
       "      <td>485.78</td>\n",
       "      <td>491.137268</td>\n",
       "    </tr>\n",
       "    <tr>\n",
       "      <td>4</td>\n",
       "      <td>436.08</td>\n",
       "      <td>433.495117</td>\n",
       "    </tr>\n",
       "  </tbody>\n",
       "</table>\n",
       "</div>"
      ],
      "text/plain": [
       "   Actual Values  Predicted Values\n",
       "0         436.29        437.072174\n",
       "1         438.08        441.339172\n",
       "2         476.12        472.429474\n",
       "3         485.78        491.137268\n",
       "4         436.08        433.495117"
      ]
     },
     "execution_count": 108,
     "metadata": {},
     "output_type": "execute_result"
    }
   ],
   "source": [
    "#Actual vs Predicted \n",
    "\n",
    "y_pred1 = ann1.predict(X_test)\n",
    "\n",
    "df_test1 = pd.DataFrame({\n",
    "    'Actual Values'    : y_test.flatten(),\n",
    "    'Predicted Values' : y_pred1.flatten()\n",
    "    })\n",
    "\n",
    "df_test1.head()"
   ]
  },
  {
   "cell_type": "code",
   "execution_count": 110,
   "metadata": {},
   "outputs": [
    {
     "name": "stdout",
     "output_type": "stream",
     "text": [
      "Accuracy           : 93.53414913067354\n",
      "Mean Squared Error : 18.57518889261009\n"
     ]
    }
   ],
   "source": [
    "#R2-Score / Mean Squared Error\n",
    "\n",
    "from sklearn.metrics import r2_score\n",
    "from sklearn.metrics import mean_squared_error\n",
    "\n",
    "print(\"Accuracy           :\", (r2_score(y_test,y_pred1)*100))\n",
    "print(\"Mean Squared Error :\", mean_squared_error(y_test, y_pred1))"
   ]
  },
  {
   "cell_type": "markdown",
   "metadata": {},
   "source": [
    "---"
   ]
  },
  {
   "cell_type": "markdown",
   "metadata": {},
   "source": [
    "> `CASE 2` : More Epochs"
   ]
  },
  {
   "cell_type": "code",
   "execution_count": 111,
   "metadata": {},
   "outputs": [
    {
     "name": "stdout",
     "output_type": "stream",
     "text": [
      "Epoch 1/150\n",
      "38272/38272 [==============================] - 3s 74us/sample - loss: 133687.6297\n",
      "Epoch 2/150\n",
      "38272/38272 [==============================] - 2s 56us/sample - loss: 14918.9672\n",
      "Epoch 3/150\n",
      "38272/38272 [==============================] - 2s 58us/sample - loss: 3015.2573\n",
      "Epoch 4/150\n",
      "38272/38272 [==============================] - 2s 58us/sample - loss: 298.9330\n",
      "Epoch 5/150\n",
      "38272/38272 [==============================] - 2s 52us/sample - loss: 56.4771\n",
      "Epoch 6/150\n",
      "38272/38272 [==============================] - 2s 57us/sample - loss: 28.5019\n",
      "Epoch 7/150\n",
      "38272/38272 [==============================] - 2s 57us/sample - loss: 23.5012\n",
      "Epoch 8/150\n",
      "38272/38272 [==============================] - 2s 60us/sample - loss: 22.0336\n",
      "Epoch 9/150\n",
      "38272/38272 [==============================] - 2s 59us/sample - loss: 21.5960\n",
      "Epoch 10/150\n",
      "38272/38272 [==============================] - 2s 62us/sample - loss: 21.4300\n",
      "Epoch 11/150\n",
      "38272/38272 [==============================] - 2s 64us/sample - loss: 21.3070\n",
      "Epoch 12/150\n",
      "38272/38272 [==============================] - 2s 45us/sample - loss: 21.2592\n",
      "Epoch 13/150\n",
      "38272/38272 [==============================] - 2s 40us/sample - loss: 21.2054\n",
      "Epoch 14/150\n",
      "38272/38272 [==============================] - 2s 62us/sample - loss: 21.1874\n",
      "Epoch 15/150\n",
      "38272/38272 [==============================] - 2s 62us/sample - loss: 21.0949\n",
      "Epoch 16/150\n",
      "38272/38272 [==============================] - 2s 58us/sample - loss: 21.0936\n",
      "Epoch 17/150\n",
      "38272/38272 [==============================] - 2s 53us/sample - loss: 21.0603\n",
      "Epoch 18/150\n",
      "38272/38272 [==============================] - 2s 57us/sample - loss: 21.0291\n",
      "Epoch 19/150\n",
      "38272/38272 [==============================] - 2s 60us/sample - loss: 20.9857\n",
      "Epoch 20/150\n",
      "38272/38272 [==============================] - 2s 50us/sample - loss: 20.9707\n",
      "Epoch 21/150\n",
      "38272/38272 [==============================] - 2s 58us/sample - loss: 20.9216\n",
      "Epoch 22/150\n",
      "38272/38272 [==============================] - 2s 58us/sample - loss: 20.9811\n",
      "Epoch 23/150\n",
      "38272/38272 [==============================] - 2s 57us/sample - loss: 20.8363\n",
      "Epoch 24/150\n",
      "38272/38272 [==============================] - 2s 56us/sample - loss: 20.8003\n",
      "Epoch 25/150\n",
      "38272/38272 [==============================] - 2s 53us/sample - loss: 20.8633\n",
      "Epoch 26/150\n",
      "38272/38272 [==============================] - 2s 59us/sample - loss: 20.8275\n",
      "Epoch 27/150\n",
      "38272/38272 [==============================] - 2s 48us/sample - loss: 20.7345\n",
      "Epoch 28/150\n",
      "38272/38272 [==============================] - 2s 53us/sample - loss: 20.7524\n",
      "Epoch 29/150\n",
      "38272/38272 [==============================] - 2s 57us/sample - loss: 20.8160\n",
      "Epoch 30/150\n",
      "38272/38272 [==============================] - 2s 59us/sample - loss: 20.7992\n",
      "Epoch 31/150\n",
      "38272/38272 [==============================] - 2s 53us/sample - loss: 20.7903\n",
      "Epoch 32/150\n",
      "38272/38272 [==============================] - 2s 54us/sample - loss: 20.7351\n",
      "Epoch 33/150\n",
      "38272/38272 [==============================] - 2s 56us/sample - loss: 20.7604\n",
      "Epoch 34/150\n",
      "38272/38272 [==============================] - 2s 60us/sample - loss: 20.6945\n",
      "Epoch 35/150\n",
      "38272/38272 [==============================] - 2s 55us/sample - loss: 20.7766\n",
      "Epoch 36/150\n",
      "38272/38272 [==============================] - 2s 65us/sample - loss: 20.7475\n",
      "Epoch 37/150\n",
      "38272/38272 [==============================] - 2s 63us/sample - loss: 20.7845\n",
      "Epoch 38/150\n",
      "38272/38272 [==============================] - 2s 63us/sample - loss: 20.7359\n",
      "Epoch 39/150\n",
      "38272/38272 [==============================] - 2s 58us/sample - loss: 20.7102\n",
      "Epoch 40/150\n",
      "38272/38272 [==============================] - 2s 59us/sample - loss: 20.6836\n",
      "Epoch 41/150\n",
      "38272/38272 [==============================] - 2s 59us/sample - loss: 20.6770\n",
      "Epoch 42/150\n",
      "38272/38272 [==============================] - 2s 40us/sample - loss: 20.7057\n",
      "Epoch 43/150\n",
      "38272/38272 [==============================] - 2s 57us/sample - loss: 20.6824\n",
      "Epoch 44/150\n",
      "38272/38272 [==============================] - 2s 57us/sample - loss: 20.6301\n",
      "Epoch 45/150\n",
      "38272/38272 [==============================] - 2s 57us/sample - loss: 20.7446\n",
      "Epoch 46/150\n",
      "38272/38272 [==============================] - 2s 58us/sample - loss: 20.6480\n",
      "Epoch 47/150\n",
      "38272/38272 [==============================] - 2s 54us/sample - loss: 20.6607\n",
      "Epoch 48/150\n",
      "38272/38272 [==============================] - 2s 58us/sample - loss: 20.6978\n",
      "Epoch 49/150\n",
      "38272/38272 [==============================] - 2s 51us/sample - loss: 20.6664\n",
      "Epoch 50/150\n",
      "38272/38272 [==============================] - 2s 57us/sample - loss: 20.6752\n",
      "Epoch 51/150\n",
      "38272/38272 [==============================] - 2s 57us/sample - loss: 20.6515\n",
      "Epoch 52/150\n",
      "38272/38272 [==============================] - 2s 58us/sample - loss: 20.6398\n",
      "Epoch 53/150\n",
      "38272/38272 [==============================] - 2s 63us/sample - loss: 20.6936\n",
      "Epoch 54/150\n",
      "38272/38272 [==============================] - 2s 57us/sample - loss: 20.6281\n",
      "Epoch 55/150\n",
      "38272/38272 [==============================] - 2s 57us/sample - loss: 20.6547\n",
      "Epoch 56/150\n",
      "38272/38272 [==============================] - 2s 61us/sample - loss: 20.6386\n",
      "Epoch 57/150\n",
      "38272/38272 [==============================] - 1s 39us/sample - loss: 20.6698\n",
      "Epoch 58/150\n",
      "38272/38272 [==============================] - 2s 57us/sample - loss: 20.6305\n",
      "Epoch 59/150\n",
      "38272/38272 [==============================] - 2s 57us/sample - loss: 20.6786\n",
      "Epoch 60/150\n",
      "38272/38272 [==============================] - 2s 56us/sample - loss: 20.5758\n",
      "Epoch 61/150\n",
      "38272/38272 [==============================] - 2s 57us/sample - loss: 20.6426\n",
      "Epoch 62/150\n",
      "38272/38272 [==============================] - 2s 53us/sample - loss: 20.6268\n",
      "Epoch 63/150\n",
      "38272/38272 [==============================] - 2s 57us/sample - loss: 20.5625\n",
      "Epoch 64/150\n",
      "38272/38272 [==============================] - 2s 53us/sample - loss: 20.5711\n",
      "Epoch 65/150\n",
      "38272/38272 [==============================] - 2s 57us/sample - loss: 20.5624\n",
      "Epoch 66/150\n",
      "38272/38272 [==============================] - 2s 57us/sample - loss: 20.5809\n",
      "Epoch 67/150\n",
      "38272/38272 [==============================] - 2s 57us/sample - loss: 20.5786\n",
      "Epoch 68/150\n",
      "38272/38272 [==============================] - 2s 57us/sample - loss: 20.6252\n",
      "Epoch 69/150\n",
      "38272/38272 [==============================] - 2s 53us/sample - loss: 20.4788\n",
      "Epoch 70/150\n",
      "38272/38272 [==============================] - 2s 57us/sample - loss: 20.6183\n",
      "Epoch 71/150\n",
      "38272/38272 [==============================] - 2s 60us/sample - loss: 20.5714\n",
      "Epoch 72/150\n",
      "38272/38272 [==============================] - 2s 44us/sample - loss: 20.5688\n",
      "Epoch 73/150\n",
      "38272/38272 [==============================] - 2s 58us/sample - loss: 20.5384\n",
      "Epoch 74/150\n",
      "38272/38272 [==============================] - 2s 57us/sample - loss: 20.5202\n",
      "Epoch 75/150\n",
      "38272/38272 [==============================] - 2s 57us/sample - loss: 20.5325\n",
      "Epoch 76/150\n",
      "38272/38272 [==============================] - 2s 62us/sample - loss: 20.5550\n",
      "Epoch 77/150\n",
      "38272/38272 [==============================] - 2s 58us/sample - loss: 20.5498\n",
      "Epoch 78/150\n",
      "38272/38272 [==============================] - 2s 58us/sample - loss: 20.5018\n",
      "Epoch 79/150\n",
      "38272/38272 [==============================] - 2s 53us/sample - loss: 20.5203\n",
      "Epoch 80/150\n",
      "38272/38272 [==============================] - 2s 57us/sample - loss: 20.4570\n",
      "Epoch 81/150\n",
      "38272/38272 [==============================] - 2s 58us/sample - loss: 20.5625\n",
      "Epoch 82/150\n",
      "38272/38272 [==============================] - 2s 57us/sample - loss: 20.5216\n",
      "Epoch 83/150\n",
      "38272/38272 [==============================] - 2s 57us/sample - loss: 20.4526\n",
      "Epoch 84/150\n",
      "38272/38272 [==============================] - 2s 54us/sample - loss: 20.4042\n",
      "Epoch 85/150\n",
      "38272/38272 [==============================] - 2s 57us/sample - loss: 20.5618\n",
      "Epoch 86/150\n",
      "38272/38272 [==============================] - 2s 60us/sample - loss: 20.4317\n",
      "Epoch 87/150\n",
      "38272/38272 [==============================] - 2s 39us/sample - loss: 20.5485\n",
      "Epoch 88/150\n",
      "38272/38272 [==============================] - 2s 57us/sample - loss: 20.4721\n",
      "Epoch 89/150\n",
      "38272/38272 [==============================] - 2s 57us/sample - loss: 20.4477\n",
      "Epoch 90/150\n",
      "38272/38272 [==============================] - 2s 58us/sample - loss: 20.4161\n",
      "Epoch 91/150\n"
     ]
    },
    {
     "name": "stdout",
     "output_type": "stream",
     "text": [
      "38272/38272 [==============================] - 2s 62us/sample - loss: 20.4599\n",
      "Epoch 92/150\n",
      "38272/38272 [==============================] - 2s 58us/sample - loss: 20.3756\n",
      "Epoch 93/150\n",
      "38272/38272 [==============================] - 2s 59us/sample - loss: 20.4831\n",
      "Epoch 94/150\n",
      "38272/38272 [==============================] - 2s 52us/sample - loss: 20.3986\n",
      "Epoch 95/150\n",
      "38272/38272 [==============================] - 2s 57us/sample - loss: 20.4062\n",
      "Epoch 96/150\n",
      "38272/38272 [==============================] - 2s 58us/sample - loss: 20.4194\n",
      "Epoch 97/150\n",
      "38272/38272 [==============================] - 2s 58us/sample - loss: 20.4381\n",
      "Epoch 98/150\n",
      "38272/38272 [==============================] - 2s 57us/sample - loss: 20.4029\n",
      "Epoch 99/150\n",
      "38272/38272 [==============================] - 2s 52us/sample - loss: 20.4212\n",
      "Epoch 100/150\n",
      "38272/38272 [==============================] - 2s 57us/sample - loss: 20.4589\n",
      "Epoch 101/150\n",
      "38272/38272 [==============================] - 2s 60us/sample - loss: 20.3776\n",
      "Epoch 102/150\n",
      "38272/38272 [==============================] - 2s 41us/sample - loss: 20.3411\n",
      "Epoch 103/150\n",
      "38272/38272 [==============================] - 1s 38us/sample - loss: 20.3974\n",
      "Epoch 104/150\n",
      "38272/38272 [==============================] - 2s 59us/sample - loss: 20.3698\n",
      "Epoch 105/150\n",
      "38272/38272 [==============================] - 2s 43us/sample - loss: 20.3873\n",
      "Epoch 106/150\n",
      "38272/38272 [==============================] - 2s 64us/sample - loss: 20.3379\n",
      "Epoch 107/150\n",
      "38272/38272 [==============================] - 2s 60us/sample - loss: 20.3672\n",
      "Epoch 108/150\n",
      "38272/38272 [==============================] - 2s 64us/sample - loss: 20.3201\n",
      "Epoch 109/150\n",
      "38272/38272 [==============================] - 2s 50us/sample - loss: 20.3592\n",
      "Epoch 110/150\n",
      "38272/38272 [==============================] - 2s 57us/sample - loss: 20.3796\n",
      "Epoch 111/150\n",
      "38272/38272 [==============================] - 2s 58us/sample - loss: 20.3313\n",
      "Epoch 112/150\n",
      "38272/38272 [==============================] - 2s 57us/sample - loss: 20.3130\n",
      "Epoch 113/150\n",
      "38272/38272 [==============================] - 2s 58us/sample - loss: 20.3455\n",
      "Epoch 114/150\n",
      "38272/38272 [==============================] - 2s 56us/sample - loss: 20.3194\n",
      "Epoch 115/150\n",
      "38272/38272 [==============================] - 2s 57us/sample - loss: 20.2971\n",
      "Epoch 116/150\n",
      "38272/38272 [==============================] - 2s 60us/sample - loss: 20.3230\n",
      "Epoch 117/150\n",
      "38272/38272 [==============================] - 2s 41us/sample - loss: 20.3400\n",
      "Epoch 118/150\n",
      "38272/38272 [==============================] - 2s 57us/sample - loss: 20.2684\n",
      "Epoch 119/150\n",
      "38272/38272 [==============================] - 2s 57us/sample - loss: 20.2449\n",
      "Epoch 120/150\n",
      "38272/38272 [==============================] - 2s 60us/sample - loss: 20.2608\n",
      "Epoch 121/150\n",
      "38272/38272 [==============================] - 2s 56us/sample - loss: 20.2791\n",
      "Epoch 122/150\n",
      "38272/38272 [==============================] - 3s 67us/sample - loss: 20.2119\n",
      "Epoch 123/150\n",
      "38272/38272 [==============================] - 2s 61us/sample - loss: 20.2846\n",
      "Epoch 124/150\n",
      "38272/38272 [==============================] - 2s 56us/sample - loss: 20.2325\n",
      "Epoch 125/150\n",
      "38272/38272 [==============================] - 2s 65us/sample - loss: 20.2673\n",
      "Epoch 126/150\n",
      "38272/38272 [==============================] - 2s 62us/sample - loss: 20.2414\n",
      "Epoch 127/150\n",
      "38272/38272 [==============================] - 2s 62us/sample - loss: 20.2151\n",
      "Epoch 128/150\n",
      "38272/38272 [==============================] - 2s 61us/sample - loss: 20.1969\n",
      "Epoch 129/150\n",
      "38272/38272 [==============================] - 2s 63us/sample - loss: 20.1935\n",
      "Epoch 130/150\n",
      "38272/38272 [==============================] - 2s 64us/sample - loss: 20.1789\n",
      "Epoch 131/150\n",
      "38272/38272 [==============================] - 2s 47us/sample - loss: 20.1977\n",
      "Epoch 132/150\n",
      "38272/38272 [==============================] - 2s 63us/sample - loss: 20.1827\n",
      "Epoch 133/150\n",
      "38272/38272 [==============================] - 2s 63us/sample - loss: 20.1661\n",
      "Epoch 134/150\n",
      "38272/38272 [==============================] - 2s 62us/sample - loss: 20.1591\n",
      "Epoch 135/150\n",
      "38272/38272 [==============================] - 2s 61us/sample - loss: 20.1417\n",
      "Epoch 136/150\n",
      "38272/38272 [==============================] - 2s 58us/sample - loss: 20.1695\n",
      "Epoch 137/150\n",
      "38272/38272 [==============================] - 2s 64us/sample - loss: 20.1307\n",
      "Epoch 138/150\n",
      "38272/38272 [==============================] - 2s 51us/sample - loss: 20.1265\n",
      "Epoch 139/150\n",
      "38272/38272 [==============================] - 2s 64us/sample - loss: 20.1101\n",
      "Epoch 140/150\n",
      "38272/38272 [==============================] - 2s 64us/sample - loss: 20.1012\n",
      "Epoch 141/150\n",
      "38272/38272 [==============================] - 2s 61us/sample - loss: 20.1406\n",
      "Epoch 142/150\n",
      "38272/38272 [==============================] - 2s 57us/sample - loss: 20.0710s\n",
      "Epoch 143/150\n",
      "38272/38272 [==============================] - 2s 44us/sample - loss: 20.0417\n",
      "Epoch 144/150\n",
      "38272/38272 [==============================] - 2s 57us/sample - loss: 20.0006\n",
      "Epoch 145/150\n",
      "38272/38272 [==============================] - 2s 48us/sample - loss: 20.0353\n",
      "Epoch 146/150\n",
      "38272/38272 [==============================] - 2s 61us/sample - loss: 19.9950\n",
      "Epoch 147/150\n",
      "38272/38272 [==============================] - 2s 61us/sample - loss: 20.0043\n",
      "Epoch 148/150\n",
      "38272/38272 [==============================] - 2s 59us/sample - loss: 19.9939\n",
      "Epoch 149/150\n",
      "38272/38272 [==============================] - 2s 65us/sample - loss: 20.0769\n",
      "Epoch 150/150\n",
      "38272/38272 [==============================] - 2s 52us/sample - loss: 20.0272\n"
     ]
    },
    {
     "data": {
      "text/plain": [
       "<tensorflow.python.keras.callbacks.History at 0x1e5446d8088>"
      ]
     },
     "execution_count": 111,
     "metadata": {},
     "output_type": "execute_result"
    }
   ],
   "source": [
    "#Initialize Neural Network\n",
    "ann2 = tf.keras.models.Sequential()\n",
    "\n",
    "#Addition of layers\n",
    "ann2.add(tf.keras.layers.Dense(units = 6, activation = 'relu'))\n",
    "ann2.add(tf.keras.layers.Dense(units = 6, activation = 'relu'))\n",
    "\n",
    "#Addition of Outpur layer\n",
    "ann2.add(tf.keras.layers.Dense(units = 1))\n",
    "\n",
    "#Compiling ANN\n",
    "ann2.compile(optimizer = 'adam', loss = 'mean_squared_error')\n",
    "\n",
    "#Fitting training data\n",
    "ann2.fit(X_train, y_train, batch_size = 32, epochs = 150)"
   ]
  },
  {
   "cell_type": "code",
   "execution_count": 113,
   "metadata": {},
   "outputs": [
    {
     "data": {
      "text/html": [
       "<div>\n",
       "<style scoped>\n",
       "    .dataframe tbody tr th:only-of-type {\n",
       "        vertical-align: middle;\n",
       "    }\n",
       "\n",
       "    .dataframe tbody tr th {\n",
       "        vertical-align: top;\n",
       "    }\n",
       "\n",
       "    .dataframe thead th {\n",
       "        text-align: right;\n",
       "    }\n",
       "</style>\n",
       "<table border=\"1\" class=\"dataframe\">\n",
       "  <thead>\n",
       "    <tr style=\"text-align: right;\">\n",
       "      <th></th>\n",
       "      <th>Actual Values</th>\n",
       "      <th>Predicted Values</th>\n",
       "    </tr>\n",
       "  </thead>\n",
       "  <tbody>\n",
       "    <tr>\n",
       "      <td>0</td>\n",
       "      <td>436.29</td>\n",
       "      <td>435.889801</td>\n",
       "    </tr>\n",
       "    <tr>\n",
       "      <td>1</td>\n",
       "      <td>438.08</td>\n",
       "      <td>444.152863</td>\n",
       "    </tr>\n",
       "    <tr>\n",
       "      <td>2</td>\n",
       "      <td>476.12</td>\n",
       "      <td>470.752289</td>\n",
       "    </tr>\n",
       "    <tr>\n",
       "      <td>3</td>\n",
       "      <td>485.78</td>\n",
       "      <td>486.945679</td>\n",
       "    </tr>\n",
       "    <tr>\n",
       "      <td>4</td>\n",
       "      <td>436.08</td>\n",
       "      <td>433.621124</td>\n",
       "    </tr>\n",
       "  </tbody>\n",
       "</table>\n",
       "</div>"
      ],
      "text/plain": [
       "   Actual Values  Predicted Values\n",
       "0         436.29        435.889801\n",
       "1         438.08        444.152863\n",
       "2         476.12        470.752289\n",
       "3         485.78        486.945679\n",
       "4         436.08        433.621124"
      ]
     },
     "execution_count": 113,
     "metadata": {},
     "output_type": "execute_result"
    }
   ],
   "source": [
    "#Actual vs Predicted\n",
    "\n",
    "y_pred2 = ann2.predict(X_test)\n",
    "\n",
    "df_test2 = pd.DataFrame({\n",
    "    'Actual Values'    : y_test.flatten(),\n",
    "    'Predicted Values' : y_pred2.flatten()\n",
    "    })\n",
    "\n",
    "df_test2.head()"
   ]
  },
  {
   "cell_type": "code",
   "execution_count": 114,
   "metadata": {},
   "outputs": [
    {
     "name": "stdout",
     "output_type": "stream",
     "text": [
      "Accuracy           : 93.31404854643532\n",
      "Mean Squared Error : 19.20749700027061\n"
     ]
    }
   ],
   "source": [
    "#R2-Score / Mean Squared Error\n",
    "\n",
    "from sklearn.metrics import r2_score\n",
    "from sklearn.metrics import mean_squared_error\n",
    "\n",
    "print(\"Accuracy           :\", (r2_score(y_test,y_pred2)*100))\n",
    "print(\"Mean Squared Error :\", mean_squared_error(y_test, y_pred2))"
   ]
  },
  {
   "cell_type": "markdown",
   "metadata": {},
   "source": [
    "### STEP 9 : CONCLUSION"
   ]
  },
  {
   "cell_type": "markdown",
   "metadata": {},
   "source": [
    " - Using data science life cycle we could successfully build artificila neural network for regression\n",
    " \n",
    " \n",
    " - R2 score acheived was 94 % over 48000 observation.\n",
    " \n",
    " \n",
    " - We tried various combination like having 2 hidden layers, having 4 hidden layers and more number of epochs. In the combination tried we could observed MSE for cobination more epochs was more as compared to others where as R2 score for all was nearly same.\n",
    " \n",
    " \n",
    " - We tried removing multicollinearity using VIF method but as the predictors where very less having just 4 columns and we where going for Deep Learning - Artifical Neural Network method we did not care much about it."
   ]
  }
 ],
 "metadata": {
  "kernelspec": {
   "display_name": "Python 3",
   "language": "python",
   "name": "python3"
  },
  "language_info": {
   "codemirror_mode": {
    "name": "ipython",
    "version": 3
   },
   "file_extension": ".py",
   "mimetype": "text/x-python",
   "name": "python",
   "nbconvert_exporter": "python",
   "pygments_lexer": "ipython3",
   "version": "3.7.4"
  }
 },
 "nbformat": 4,
 "nbformat_minor": 2
}
