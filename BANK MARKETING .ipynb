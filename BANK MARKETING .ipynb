{
 "cells": [
  {
   "cell_type": "markdown",
   "metadata": {},
   "source": [
    "## BANK MARKETING \n",
    "\n",
    "There has been a revenue decline for a Portuguese bank and they would like to know what actions to take. After investigation, they found out that the root cause is that their clients are not depositing as frequently as before. Knowing that term deposits allow banks to hold onto a deposit for a specific amount of time, so banks can invest in higher gain financial products to make a profit. In addition, banks also hold better chance to persuade term deposit clients into buying other products such as funds or insurance to further increase their revenues. \n",
    "\n",
    "As a result, the Portuguese bank would like to identify existing clients that have higher chance to subscribe for a term deposit and focus marketing efforts on such clients.\n",
    "\n",
    "\n",
    "Evaulation Metric Used  = __`RECALL`__"
   ]
  },
  {
   "cell_type": "markdown",
   "metadata": {},
   "source": [
    "### `STEP 1: IMPORT LIBRARIES`"
   ]
  },
  {
   "cell_type": "code",
   "execution_count": 1,
   "metadata": {},
   "outputs": [],
   "source": [
    "import numpy as np\n",
    "import pandas as pd\n",
    "import matplotlib.pyplot as plt\n",
    "import seaborn as sns\n",
    "\n",
    "import warnings\n",
    "warnings.filterwarnings('ignore')"
   ]
  },
  {
   "cell_type": "markdown",
   "metadata": {},
   "source": [
    "### `STEP 2: IMPORT DATASET`"
   ]
  },
  {
   "cell_type": "code",
   "execution_count": 2,
   "metadata": {},
   "outputs": [
    {
     "name": "stdout",
     "output_type": "stream",
     "text": [
      "Data Imported Successfully\n"
     ]
    }
   ],
   "source": [
    "train_data = pd.read_csv('new_train.csv')\n",
    "\n",
    "test_data  = pd.read_csv('new_test.csv')\n",
    "\n",
    "print(\"Data Imported Successfully\")"
   ]
  },
  {
   "cell_type": "markdown",
   "metadata": {},
   "source": [
    "### `STEP 3: EXPLORATORY DATA ANALYSIS / DATA CLEANING / DATA WRANGLING `"
   ]
  },
  {
   "cell_type": "markdown",
   "metadata": {},
   "source": [
    "__`INDEPENDENT VARIABLE`__\n",
    "\n",
    "|Feature|Feature_Type|Description|\n",
    "|-----|-----|-----|\n",
    "|age|numeric|age of a person|  \n",
    "|job |categorical,nominal|type of job ('admin.','blue-collar','entrepreneur','housemaid','management','retired','self-employed','services','student','technician','unemployed','unknown')|  \n",
    "|marital|categorical,nominal|marital status ('divorced','married','single','unknown'; note: 'divorced' means divorced or widowed)|  \n",
    "|education|categorical,nominal| ('basic.4y','basic.6y','basic.9y','high.school','illiterate','professional.course','university.degree','unknown') | \n",
    "|default|categorical,nominal| has credit in default? ('no','yes','unknown')|  \n",
    "|housing|categorical,nominal| has housing loan? ('no','yes','unknown')|  \n",
    "|loan|categorical,nominal| has personal loan? ('no','yes','unknown')|  \n",
    "|contact|categorical,nominal| contact communication type ('cellular','telephone')|  \n",
    "|month|categorical,ordinal| last contact month of year ('jan', 'feb', 'mar', ..., 'nov', 'dec')| \n",
    "|day_of_week|categorical,ordinal| last contact day of the week ('mon','tue','wed','thu','fri')|  \n",
    "|duration|numeric| last contact duration, in seconds . Important note: this attribute highly affects the output target (e.g., if duration=0 then y='no')|\n",
    "|campaign|numeric|number of contacts performed during this campaign and for this client (includes last contact)|  \n",
    "|pdays|numeric| number of days that passed by after the client was last contacted from a previous campaign (999 means client was not previously contacted)|  \n",
    "|previous|numeric| number of contacts performed before this campaign and for this client|  \n",
    "|poutcome|categorical,nominal| outcome of the previous marketing campaign ('failure','nonexistent','success')|  \n",
    "\n",
    "__`TARGET VARIABLE (desired output):`__  \n",
    "\n",
    "|Feature|Feature_Type|Description|\n",
    "|-----|-----|-----|\n",
    "|y|binary|has the client subscribed a term deposit? ('yes','no')|"
   ]
  },
  {
   "cell_type": "code",
   "execution_count": 3,
   "metadata": {},
   "outputs": [
    {
     "data": {
      "text/plain": [
       "age             int64\n",
       "job            object\n",
       "marital        object\n",
       "education      object\n",
       "default        object\n",
       "housing        object\n",
       "loan           object\n",
       "contact        object\n",
       "month          object\n",
       "day_of_week    object\n",
       "duration        int64\n",
       "campaign        int64\n",
       "pdays           int64\n",
       "previous        int64\n",
       "poutcome       object\n",
       "y              object\n",
       "dtype: object"
      ]
     },
     "execution_count": 3,
     "metadata": {},
     "output_type": "execute_result"
    }
   ],
   "source": [
    "train_data.dtypes"
   ]
  },
  {
   "cell_type": "markdown",
   "metadata": {},
   "source": [
    "    -  We can see there 2 format of data types:\n",
    "        \n",
    "        1) Object : It represents categoricals values. We have following independent variable as object type:\n",
    "            - Job, \n",
    "            - Marital, \n",
    "            - Education, \n",
    "            - Default, \n",
    "            - Housing, \n",
    "            - Loan, \n",
    "            - Contact, \n",
    "            - Month,\n",
    "            - Day_Of_Week,\n",
    "            - POutcome\n",
    "            \n",
    "        2) Int64  : It represent integer value. We have following indepenedt variable as integer type:\n",
    "            - Age,\n",
    "            - Duration,\n",
    "            - Campaign,\n",
    "            - Pdays,\n",
    "            - Previous\n",
    "        "
   ]
  },
  {
   "cell_type": "code",
   "execution_count": 4,
   "metadata": {},
   "outputs": [
    {
     "data": {
      "text/plain": [
       "((32950, 16), (8238, 13))"
      ]
     },
     "execution_count": 4,
     "metadata": {},
     "output_type": "execute_result"
    }
   ],
   "source": [
    "# Checking Shape \n",
    "\n",
    "train_data.shape, test_data.shape"
   ]
  },
  {
   "cell_type": "code",
   "execution_count": 5,
   "metadata": {},
   "outputs": [
    {
     "data": {
      "text/plain": [
       "age            0\n",
       "job            0\n",
       "marital        0\n",
       "education      0\n",
       "default        0\n",
       "housing        0\n",
       "loan           0\n",
       "contact        0\n",
       "month          0\n",
       "day_of_week    0\n",
       "duration       0\n",
       "campaign       0\n",
       "pdays          0\n",
       "previous       0\n",
       "poutcome       0\n",
       "y              0\n",
       "dtype: int64"
      ]
     },
     "execution_count": 5,
     "metadata": {},
     "output_type": "execute_result"
    }
   ],
   "source": [
    "# Checking Null values\n",
    "\n",
    "train_data.isnull().sum()"
   ]
  },
  {
   "cell_type": "markdown",
   "metadata": {},
   "source": [
    "> > __`UNIVARIANT ANALYSIS`__"
   ]
  },
  {
   "cell_type": "code",
   "execution_count": 6,
   "metadata": {},
   "outputs": [],
   "source": [
    "def categorical_univariant_plot(column_name):\n",
    "    print(column_name.upper() + \" DISTRIBUTION\")\n",
    "    print(train_data[column_name].value_counts())\n",
    "\n",
    "    plt.figure(figsize = (20,6))\n",
    "    sns.countplot(x = column_name,\n",
    "                  data = train_data,\n",
    "                  palette = 'bone')\n",
    "    plt.show()\n",
    "    \n",
    "    \n",
    "def numerical_univariant_plot(column_name):\n",
    "    plt.figure(figsize = (20,5))\n",
    "\n",
    "    plt.subplot(1,3,1)\n",
    "    sns.kdeplot(data=train_data[column_name], shade = True)\n",
    "\n",
    "    plt.subplot(1,3,2)\n",
    "    sns.distplot(train_data[column_name])\n",
    "\n",
    "    plt.subplot(1,3,3)\n",
    "    sns.boxplot(data = train_data[column_name], orient = 'horizontal')\n",
    "\n",
    "    print(train_data[column_name].describe(), \"\\n\")\n",
    "\n",
    "    print(\"Skewness : {}, Kurtosis : {}\".format(train_data[column_name].skew(), train_data[column_name].kurtosis()))"
   ]
  },
  {
   "cell_type": "markdown",
   "metadata": {},
   "source": [
    "#### `GENERATION - AGE`"
   ]
  },
  {
   "cell_type": "code",
   "execution_count": 7,
   "metadata": {},
   "outputs": [
    {
     "data": {
      "image/png": "[encoded data removed]",
      "text/plain": [
       "<Figure size 1440x432 with 1 Axes>"
      ]
     },
     "metadata": {
      "needs_background": "light"
     },
     "output_type": "display_data"
    }
   ],
   "source": [
    "plt.figure(figsize = (20,6))\n",
    "\n",
    "sns.countplot(train_data['age'], palette = 'hsv')\n",
    "plt.title('Distribution of Age')\n",
    "plt.show()"
   ]
  },
  {
   "cell_type": "markdown",
   "metadata": {},
   "source": [
    "    - We see that people ranging 20 - 60 years of age are more in our dataset.\n",
    "  \n",
    "    - Min age = 17, Max age = 98\n",
    " \n",
    "    - Distribution seems to be right skewed."
   ]
  },
  {
   "cell_type": "code",
   "execution_count": 8,
   "metadata": {},
   "outputs": [
    {
     "name": "stdout",
     "output_type": "stream",
     "text": [
      "count    32950.000000\n",
      "mean        40.014112\n",
      "std         10.403636\n",
      "min         17.000000\n",
      "25%         32.000000\n",
      "50%         38.000000\n",
      "75%         47.000000\n",
      "max         98.000000\n",
      "Name: age, dtype: float64 \n",
      "\n",
      "Skewness : 0.7608189130246199, Kurtosis : 0.6722763104190985\n"
     ]
    },
    {
     "data": {
      "image/png": "[encoded data removed]",
      "text/plain": [
       "<Figure size 1440x360 with 3 Axes>"
      ]
     },
     "metadata": {
      "needs_background": "light"
     },
     "output_type": "display_data"
    }
   ],
   "source": [
    "numerical_univariant_plot('age')"
   ]
  },
  {
   "cell_type": "markdown",
   "metadata": {},
   "source": [
    "    -  We see there are some outier but they may be realistic value.\n",
    "   \n",
    "    -  Skewness > 0.5 -> Right Skewed, Kurtosis > 0 (Leptokurtic)"
   ]
  },
  {
   "cell_type": "markdown",
   "metadata": {},
   "source": [
    "#### __`JOB POSITION`__"
   ]
  },
  {
   "cell_type": "code",
   "execution_count": 9,
   "metadata": {},
   "outputs": [
    {
     "name": "stdout",
     "output_type": "stream",
     "text": [
      "JOB DISTRIBUTION\n",
      "admin.           8314\n",
      "blue-collar      7441\n",
      "technician       5400\n",
      "services         3196\n",
      "management       2345\n",
      "retired          1366\n",
      "entrepreneur     1160\n",
      "self-employed    1099\n",
      "housemaid         855\n",
      "unemployed        798\n",
      "student           711\n",
      "unknown           265\n",
      "Name: job, dtype: int64\n"
     ]
    },
    {
     "data": {
      "image/png": "[encoded data removed]",
      "text/plain": [
       "<Figure size 1440x432 with 1 Axes>"
      ]
     },
     "metadata": {
      "needs_background": "light"
     },
     "output_type": "display_data"
    }
   ],
   "source": [
    "categorical_univariant_plot('job')"
   ]
  },
  {
   "cell_type": "markdown",
   "metadata": {},
   "source": [
    "    -  We see that Admin, Blue_Color, and Technician type of persons are recorded more in our dataset. \n",
    "    \n",
    "    -  Max = Admin, Min = Unknown category type of people. May be they did not disclosed their job type.\n",
    "    "
   ]
  },
  {
   "cell_type": "markdown",
   "metadata": {},
   "source": [
    "####  __`MARITAL STATUS`__"
   ]
  },
  {
   "cell_type": "code",
   "execution_count": 10,
   "metadata": {},
   "outputs": [
    {
     "name": "stdout",
     "output_type": "stream",
     "text": [
      "MARITAL DISTRIBUTION\n",
      "married     19953\n",
      "single       9257\n",
      "divorced     3675\n",
      "unknown        65\n",
      "Name: marital, dtype: int64\n"
     ]
    },
    {
     "data": {
      "image/png": "[encoded data removed]",
      "text/plain": [
       "<Figure size 1440x432 with 1 Axes>"
      ]
     },
     "metadata": {
      "needs_background": "light"
     },
     "output_type": "display_data"
    }
   ],
   "source": [
    "categorical_univariant_plot('marital')"
   ]
  },
  {
   "cell_type": "markdown",
   "metadata": {},
   "source": [
    "    - We see that married people are more in number as compared to single or divorced."
   ]
  },
  {
   "cell_type": "markdown",
   "metadata": {},
   "source": [
    "#### `DEFAULT CREDIT`"
   ]
  },
  {
   "cell_type": "code",
   "execution_count": 11,
   "metadata": {},
   "outputs": [
    {
     "name": "stdout",
     "output_type": "stream",
     "text": [
      "DEFAULT DISTRIBUTION\n",
      "no         26007\n",
      "unknown     6940\n",
      "yes            3\n",
      "Name: default, dtype: int64\n"
     ]
    },
    {
     "data": {
      "image/png": "[encoded data removed]",
      "text/plain": [
       "<Figure size 1440x432 with 1 Axes>"
      ]
     },
     "metadata": {
      "needs_background": "light"
     },
     "output_type": "display_data"
    }
   ],
   "source": [
    "categorical_univariant_plot('default')"
   ]
  },
  {
   "cell_type": "markdown",
   "metadata": {},
   "source": [
    "    - More than 70% of our data set comprises of the customers who did not took credit from teh bank.\n",
    "    \n",
    "    - It can also implies that they may have taken the credit and repayed so we say huge number records containing No."
   ]
  },
  {
   "cell_type": "markdown",
   "metadata": {},
   "source": [
    "__`HOUSING LOAN`__"
   ]
  },
  {
   "cell_type": "code",
   "execution_count": 12,
   "metadata": {},
   "outputs": [
    {
     "name": "stdout",
     "output_type": "stream",
     "text": [
      "HOUSING DISTRIBUTION\n",
      "yes        17254\n",
      "no         14900\n",
      "unknown      796\n",
      "Name: housing, dtype: int64\n"
     ]
    },
    {
     "data": {
      "image/png": "[encoded data removed]",
      "text/plain": [
       "<Figure size 1440x432 with 1 Axes>"
      ]
     },
     "metadata": {
      "needs_background": "light"
     },
     "output_type": "display_data"
    }
   ],
   "source": [
    "categorical_univariant_plot('housing')"
   ]
  },
  {
   "cell_type": "markdown",
   "metadata": {},
   "source": [
    "    - Most of the customers have not taken Housing Loan"
   ]
  },
  {
   "cell_type": "markdown",
   "metadata": {},
   "source": [
    "__`PERSONAL LOAN`__"
   ]
  },
  {
   "cell_type": "code",
   "execution_count": 13,
   "metadata": {},
   "outputs": [
    {
     "name": "stdout",
     "output_type": "stream",
     "text": [
      "LOAN DISTRIBUTION\n",
      "no         27131\n",
      "yes         5023\n",
      "unknown      796\n",
      "Name: loan, dtype: int64\n"
     ]
    },
    {
     "data": {
      "image/png": "[encoded data removed]",
      "text/plain": [
       "<Figure size 1440x432 with 1 Axes>"
      ]
     },
     "metadata": {
      "needs_background": "light"
     },
     "output_type": "display_data"
    }
   ],
   "source": [
    "categorical_univariant_plot('loan')"
   ]
  },
  {
   "cell_type": "markdown",
   "metadata": {},
   "source": [
    "    - Most of the customers have not taken Personal Loan"
   ]
  },
  {
   "cell_type": "markdown",
   "metadata": {},
   "source": [
    "#### `MEDIUM OF CONTACT`"
   ]
  },
  {
   "cell_type": "code",
   "execution_count": 14,
   "metadata": {},
   "outputs": [
    {
     "name": "stdout",
     "output_type": "stream",
     "text": [
      "CONTACT DISTRIBUTION\n",
      "cellular     20908\n",
      "telephone    12042\n",
      "Name: contact, dtype: int64\n"
     ]
    },
    {
     "data": {
      "image/png": "[encoded data removed]",
      "text/plain": [
       "<Figure size 1440x432 with 1 Axes>"
      ]
     },
     "metadata": {
      "needs_background": "light"
     },
     "output_type": "display_data"
    }
   ],
   "source": [
    "categorical_univariant_plot('contact')"
   ]
  },
  {
   "cell_type": "markdown",
   "metadata": {},
   "source": [
    "    - Most of the bank marketing happened via calling curomers mobile phone."
   ]
  },
  {
   "cell_type": "markdown",
   "metadata": {},
   "source": [
    "#### `MONTH OF YEAR`"
   ]
  },
  {
   "cell_type": "code",
   "execution_count": 15,
   "metadata": {},
   "outputs": [
    {
     "name": "stdout",
     "output_type": "stream",
     "text": [
      "MONTH DISTRIBUTION\n",
      "may    11011\n",
      "jul     5763\n",
      "aug     4948\n",
      "jun     4247\n",
      "nov     3266\n",
      "apr     2085\n",
      "oct      587\n",
      "sep      464\n",
      "mar      436\n",
      "dec      143\n",
      "Name: month, dtype: int64\n"
     ]
    },
    {
     "data": {
      "image/png": "[encoded data removed]",
      "text/plain": [
       "<Figure size 1440x432 with 1 Axes>"
      ]
     },
     "metadata": {
      "needs_background": "light"
     },
     "output_type": "display_data"
    }
   ],
   "source": [
    "categorical_univariant_plot('month')"
   ]
  },
  {
   "cell_type": "markdown",
   "metadata": {},
   "source": [
    "    - Most of the Bank Marketing happend in month of May and least in December.\n"
   ]
  },
  {
   "cell_type": "markdown",
   "metadata": {},
   "source": [
    "#### `DAY OF WEEK`"
   ]
  },
  {
   "cell_type": "code",
   "execution_count": 16,
   "metadata": {},
   "outputs": [
    {
     "name": "stdout",
     "output_type": "stream",
     "text": [
      "DAY_OF_WEEK DISTRIBUTION\n",
      "thu    6857\n",
      "mon    6812\n",
      "wed    6515\n",
      "tue    6444\n",
      "fri    6322\n",
      "Name: day_of_week, dtype: int64\n"
     ]
    },
    {
     "data": {
      "image/png": "[encoded data removed]",
      "text/plain": [
       "<Figure size 1440x432 with 1 Axes>"
      ]
     },
     "metadata": {
      "needs_background": "light"
     },
     "output_type": "display_data"
    }
   ],
   "source": [
    "categorical_univariant_plot('day_of_week')"
   ]
  },
  {
   "cell_type": "markdown",
   "metadata": {},
   "source": [
    "    - Day_Of_Week looks to be uniform ditributed."
   ]
  },
  {
   "cell_type": "markdown",
   "metadata": {},
   "source": [
    "#### `DURATION OF TALK`"
   ]
  },
  {
   "cell_type": "code",
   "execution_count": 17,
   "metadata": {},
   "outputs": [
    {
     "name": "stdout",
     "output_type": "stream",
     "text": [
      "count    32950.000000\n",
      "mean       258.127466\n",
      "std        258.975917\n",
      "min          0.000000\n",
      "25%        103.000000\n",
      "50%        180.000000\n",
      "75%        319.000000\n",
      "max       4918.000000\n",
      "Name: duration, dtype: float64 \n",
      "\n",
      "Skewness : 3.326611599428937, Kurtosis : 21.451250603806464\n"
     ]
    },
    {
     "data": {
      "image/png": "[encoded data removed]",
      "text/plain": [
       "<Figure size 1440x360 with 3 Axes>"
      ]
     },
     "metadata": {
      "needs_background": "light"
     },
     "output_type": "display_data"
    }
   ],
   "source": [
    "numerical_univariant_plot('duration')"
   ]
  },
  {
   "cell_type": "markdown",
   "metadata": {},
   "source": [
    "    - There are some outlier values observed. \n",
    " \n",
    "    - They can be realistic value as the customer might be really intrested to know more so explaining took time.\n",
    "   \n",
    "    - Skewness > 0 implies that it is right skewwed. Kurtosis > 0 (Leptokurtic)."
   ]
  },
  {
   "cell_type": "markdown",
   "metadata": {},
   "source": [
    "#### `CAMPAIGN - NOS OF CONTACTS PERFORMED`"
   ]
  },
  {
   "cell_type": "code",
   "execution_count": 18,
   "metadata": {},
   "outputs": [
    {
     "name": "stdout",
     "output_type": "stream",
     "text": [
      "count    32950.000000\n",
      "mean         2.560607\n",
      "std          2.752326\n",
      "min          1.000000\n",
      "25%          1.000000\n",
      "50%          2.000000\n",
      "75%          3.000000\n",
      "max         56.000000\n",
      "Name: campaign, dtype: float64 \n",
      "\n",
      "Skewness : 4.742536895362493, Kurtosis : 36.97060039842992\n"
     ]
    },
    {
     "data": {
      "image/png": "[encoded data removed]",
      "text/plain": [
       "<Figure size 1440x360 with 3 Axes>"
      ]
     },
     "metadata": {
      "needs_background": "light"
     },
     "output_type": "display_data"
    }
   ],
   "source": [
    "numerical_univariant_plot('campaign')"
   ]
  },
  {
   "cell_type": "markdown",
   "metadata": {},
   "source": [
    "    - Skewness and Kurtosis values are observed to be very high. We will have to look into it later "
   ]
  },
  {
   "cell_type": "markdown",
   "metadata": {},
   "source": [
    "<br>"
   ]
  },
  {
   "cell_type": "markdown",
   "metadata": {},
   "source": [
    "> > __`BIVARIANT ANALYSIS`__"
   ]
  },
  {
   "cell_type": "code",
   "execution_count": 19,
   "metadata": {},
   "outputs": [],
   "source": [
    "def categorical_categorical(col1):\n",
    "    a = pd.crosstab(index = train_data[col1], columns = train_data['y'])\n",
    "    print(a.unstack())\n",
    "\n",
    "    a.plot(kind = 'bar', stacked = True)\n",
    "    plt.legend(loc = 'upper left', bbox_to_anchor = (1,1))\n",
    "    plt.show()  "
   ]
  },
  {
   "cell_type": "code",
   "execution_count": 20,
   "metadata": {},
   "outputs": [
    {
     "name": "stdout",
     "output_type": "stream",
     "text": [
      "y    job          \n",
      "no   admin.           7244\n",
      "     blue-collar      6926\n",
      "     entrepreneur     1060\n",
      "     housemaid         769\n",
      "     management       2076\n",
      "     retired          1018\n",
      "     self-employed     980\n",
      "     services         2942\n",
      "     student           494\n",
      "     technician       4815\n",
      "     unemployed        682\n",
      "     unknown           232\n",
      "yes  admin.           1070\n",
      "     blue-collar       515\n",
      "     entrepreneur      100\n",
      "     housemaid          86\n",
      "     management        269\n",
      "     retired           348\n",
      "     self-employed     119\n",
      "     services          254\n",
      "     student           217\n",
      "     technician        585\n",
      "     unemployed        116\n",
      "     unknown            33\n",
      "dtype: int64\n"
     ]
    },
    {
     "data": {
      "image/png": "[encoded data removed]",
      "text/plain": [
       "<Figure size 432x288 with 1 Axes>"
      ]
     },
     "metadata": {
      "needs_background": "light"
     },
     "output_type": "display_data"
    },
    {
     "name": "stdout",
     "output_type": "stream",
     "text": [
      "y    marital \n",
      "no   divorced     3304\n",
      "     married     17933\n",
      "     single       7947\n",
      "     unknown        54\n",
      "yes  divorced      371\n",
      "     married      2020\n",
      "     single       1310\n",
      "     unknown        11\n",
      "dtype: int64\n"
     ]
    },
    {
     "data": {
      "image/png": "[encoded data removed]",
      "text/plain": [
       "<Figure size 432x288 with 1 Axes>"
      ]
     },
     "metadata": {
      "needs_background": "light"
     },
     "output_type": "display_data"
    },
    {
     "name": "stdout",
     "output_type": "stream",
     "text": [
      "y    education          \n",
      "no   basic.4y               2978\n",
      "     basic.6y               1709\n",
      "     basic.9y               4457\n",
      "     high.school            6781\n",
      "     illiterate               13\n",
      "     professional.course    3719\n",
      "     university.degree      8391\n",
      "     unknown                1190\n",
      "yes  basic.4y                344\n",
      "     basic.6y                156\n",
      "     basic.9y                369\n",
      "     high.school             815\n",
      "     illiterate                3\n",
      "     professional.course     473\n",
      "     university.degree      1345\n",
      "     unknown                 207\n",
      "dtype: int64\n"
     ]
    },
    {
     "data": {
      "image/png": "[encoded data removed]",
      "text/plain": [
       "<Figure size 432x288 with 1 Axes>"
      ]
     },
     "metadata": {
      "needs_background": "light"
     },
     "output_type": "display_data"
    },
    {
     "name": "stdout",
     "output_type": "stream",
     "text": [
      "y    default\n",
      "no   no         22656\n",
      "     unknown     6579\n",
      "     yes            3\n",
      "yes  no          3351\n",
      "     unknown      361\n",
      "     yes            0\n",
      "dtype: int64\n"
     ]
    },
    {
     "data": {
      "image/png": "[encoded data removed]",
      "text/plain": [
       "<Figure size 432x288 with 1 Axes>"
      ]
     },
     "metadata": {
      "needs_background": "light"
     },
     "output_type": "display_data"
    },
    {
     "name": "stdout",
     "output_type": "stream",
     "text": [
      "y    housing\n",
      "no   no         13272\n",
      "     unknown      706\n",
      "     yes        15260\n",
      "yes  no          1628\n",
      "     unknown       90\n",
      "     yes         1994\n",
      "dtype: int64\n"
     ]
    },
    {
     "data": {
      "image/png": "[encoded data removed]",
      "text/plain": [
       "<Figure size 432x288 with 1 Axes>"
      ]
     },
     "metadata": {
      "needs_background": "light"
     },
     "output_type": "display_data"
    },
    {
     "name": "stdout",
     "output_type": "stream",
     "text": [
      "y    loan   \n",
      "no   no         24073\n",
      "     unknown      706\n",
      "     yes         4459\n",
      "yes  no          3058\n",
      "     unknown       90\n",
      "     yes          564\n",
      "dtype: int64\n"
     ]
    },
    {
     "data": {
      "image/png": "[encoded data removed]",
      "text/plain": [
       "<Figure size 432x288 with 1 Axes>"
      ]
     },
     "metadata": {
      "needs_background": "light"
     },
     "output_type": "display_data"
    },
    {
     "name": "stdout",
     "output_type": "stream",
     "text": [
      "y    contact  \n",
      "no   cellular     17834\n",
      "     telephone    11404\n",
      "yes  cellular      3074\n",
      "     telephone      638\n",
      "dtype: int64\n"
     ]
    },
    {
     "data": {
      "image/png": "[encoded data removed]",
      "text/plain": [
       "<Figure size 432x288 with 1 Axes>"
      ]
     },
     "metadata": {
      "needs_background": "light"
     },
     "output_type": "display_data"
    },
    {
     "name": "stdout",
     "output_type": "stream",
     "text": [
      "y    month\n",
      "no   apr       1658\n",
      "     aug       4417\n",
      "     dec         71\n",
      "     jul       5231\n",
      "     jun       3806\n",
      "     mar        219\n",
      "     may      10312\n",
      "     nov       2934\n",
      "     oct        333\n",
      "     sep        257\n",
      "yes  apr        427\n",
      "     aug        531\n",
      "     dec         72\n",
      "     jul        532\n",
      "     jun        441\n",
      "     mar        217\n",
      "     may        699\n",
      "     nov        332\n",
      "     oct        254\n",
      "     sep        207\n",
      "dtype: int64\n"
     ]
    },
    {
     "data": {
      "image/png": "[encoded data removed]",
      "text/plain": [
       "<Figure size 432x288 with 1 Axes>"
      ]
     },
     "metadata": {
      "needs_background": "light"
     },
     "output_type": "display_data"
    }
   ],
   "source": [
    "categorical_columns = ['job','marital', 'education', 'default', 'housing', 'loan', 'contact', 'month']\n",
    "\n",
    "for col1 in categorical_columns:\n",
    "    categorical_categorical(col1)"
   ]
  },
  {
   "cell_type": "markdown",
   "metadata": {},
   "source": [
    "Summary : \n",
    "    \n",
    "    - Teachnician/ Admin/ Blue Collor where seem to be our targeted customers.\n",
    "    \n",
    "    - People those who completed their basic along with high school and university degree are more likely to deposit.\n",
    "    \n",
    "    - Most of the clients who are not having Defaults / Personal Loans are likely to go for term deposit.\n",
    "    \n",
    "    - People having housing loan where in the lead as compared to who did not opeted for housing loan.\n",
    "    \n",
    "    - Most of the clinet who where intrested where contacted by cell phones.\n",
    "    \n",
    "    - May month recorded highest number of negative as well as postive feedbacks from clients.\n",
    "    "
   ]
  },
  {
   "cell_type": "markdown",
   "metadata": {},
   "source": [
    "<br>"
   ]
  },
  {
   "cell_type": "code",
   "execution_count": 25,
   "metadata": {},
   "outputs": [],
   "source": [
    "train_data_copy = train_data.copy()"
   ]
  },
  {
   "cell_type": "code",
   "execution_count": 46,
   "metadata": {},
   "outputs": [],
   "source": [
    "# Converting into binary outcome as we need to calculate recall score at each fold.\n",
    "\n",
    "train_data_copy['y'].replace({\n",
    "    'no' : 0,\n",
    "    'yes': 1\n",
    "}, inplace = True)"
   ]
  },
  {
   "cell_type": "code",
   "execution_count": 50,
   "metadata": {},
   "outputs": [],
   "source": [
    "# Splitting Data - Independent & Dependent\n",
    "\n",
    "X = train_data_copy.drop(columns = ['y'],\n",
    "                         axis = 1)\n",
    "\n",
    "y = train_data_copy['y']"
   ]
  },
  {
   "cell_type": "code",
   "execution_count": 51,
   "metadata": {},
   "outputs": [
    {
     "data": {
      "text/plain": [
       "0    29238\n",
       "1     3712\n",
       "Name: y, dtype: int64"
      ]
     },
     "execution_count": 51,
     "metadata": {},
     "output_type": "execute_result"
    }
   ],
   "source": [
    "y.value_counts()"
   ]
  },
  {
   "cell_type": "code",
   "execution_count": 59,
   "metadata": {},
   "outputs": [
    {
     "data": {
      "text/plain": [
       "32952"
      ]
     },
     "execution_count": 59,
     "metadata": {},
     "output_type": "execute_result"
    }
   ],
   "source": [
    "# define actual\n",
    "act_pos = [1 for _ in range(3713)]\n",
    "act_neg = [0 for _ in range(29239)]\n",
    "y_true = act_pos + act_neg\n",
    "len(y_true)"
   ]
  },
  {
   "cell_type": "markdown",
   "metadata": {},
   "source": [
    "<br>"
   ]
  },
  {
   "cell_type": "code",
   "execution_count": 49,
   "metadata": {},
   "outputs": [
    {
     "data": {
      "text/plain": [
       "0    0.887344\n",
       "1    0.112656\n",
       "Name: y, dtype: float64"
      ]
     },
     "execution_count": 49,
     "metadata": {},
     "output_type": "execute_result"
    }
   ],
   "source": [
    "y.value_counts(normalize = True)"
   ]
  },
  {
   "cell_type": "markdown",
   "metadata": {},
   "source": [
    "    -The class is highly imbalance, so we will use classweigths / auto_class_weigths / scale_pos_weight / is_unbalnced"
   ]
  },
  {
   "cell_type": "markdown",
   "metadata": {},
   "source": [
    "### `CATBOOST - VANILLA MODEL`"
   ]
  },
  {
   "cell_type": "code",
   "execution_count": 28,
   "metadata": {},
   "outputs": [],
   "source": [
    "categorical_columns = ['job' ,'marital', 'education' ,'default', 'housing', 'loan', 'contact', 'month', 'day_of_week', 'poutcome']"
   ]
  },
  {
   "cell_type": "code",
   "execution_count": 102,
   "metadata": {},
   "outputs": [
    {
     "name": "stdout",
     "output_type": "stream",
     "text": [
      "\n",
      "Fold: 1\n",
      "\n",
      "Recall Score : 0.8842530282637954\n",
      "\n",
      "\n",
      "\t\t\tCLASSIFICATION REPORT:\n",
      "\n",
      "              precision    recall  f1-score   support\n",
      "\n",
      "           0       0.98      0.83      0.90      5848\n",
      "           1       0.40      0.88      0.56       743\n",
      "\n",
      "    accuracy                           0.84      6591\n",
      "   macro avg       0.69      0.86      0.73      6591\n",
      "weighted avg       0.92      0.84      0.86      6591\n",
      "\n",
      "\t\t\tCONFUSION MATRIX:\n",
      "\n",
      "Predicted Species     0    1\n",
      "Actual Species              \n",
      "0                  4881  967\n",
      "1                    86  657 \n",
      "\n",
      "\n",
      "Fold: 2\n",
      "\n",
      "Recall Score : 0.873485868102288\n",
      "\n",
      "\n",
      "\t\t\tCLASSIFICATION REPORT:\n",
      "\n",
      "              precision    recall  f1-score   support\n",
      "\n",
      "           0       0.98      0.85      0.91      5848\n",
      "           1       0.43      0.87      0.57       743\n",
      "\n",
      "    accuracy                           0.85      6591\n",
      "   macro avg       0.70      0.86      0.74      6591\n",
      "weighted avg       0.92      0.85      0.87      6591\n",
      "\n",
      "\t\t\tCONFUSION MATRIX:\n",
      "\n",
      "Predicted Species     0    1\n",
      "Actual Species              \n",
      "0                  4979  869\n",
      "1                    94  649 \n",
      "\n",
      "\n",
      "Fold: 3\n",
      "\n",
      "Recall Score : 0.8935309973045822\n",
      "\n",
      "\n",
      "\t\t\tCLASSIFICATION REPORT:\n",
      "\n",
      "              precision    recall  f1-score   support\n",
      "\n",
      "           0       0.98      0.83      0.90      5848\n",
      "           1       0.40      0.89      0.56       742\n",
      "\n",
      "    accuracy                           0.84      6590\n",
      "   macro avg       0.69      0.86      0.73      6590\n",
      "weighted avg       0.92      0.84      0.86      6590\n",
      "\n",
      "\t\t\tCONFUSION MATRIX:\n",
      "\n",
      "Predicted Species     0    1\n",
      "Actual Species              \n",
      "0                  4866  982\n",
      "1                    79  663 \n",
      "\n",
      "\n",
      "Fold: 4\n",
      "\n",
      "Recall Score : 0.876010781671159\n",
      "\n",
      "\n",
      "\t\t\tCLASSIFICATION REPORT:\n",
      "\n",
      "              precision    recall  f1-score   support\n",
      "\n",
      "           0       0.98      0.84      0.91      5847\n",
      "           1       0.41      0.88      0.56       742\n",
      "\n",
      "    accuracy                           0.85      6589\n",
      "   macro avg       0.70      0.86      0.73      6589\n",
      "weighted avg       0.92      0.85      0.87      6589\n",
      "\n",
      "\t\t\tCONFUSION MATRIX:\n",
      "\n",
      "Predicted Species     0    1\n",
      "Actual Species              \n",
      "0                  4921  926\n",
      "1                    92  650 \n",
      "\n",
      "\n",
      "Fold: 5\n",
      "\n",
      "Recall Score : 0.8800539083557951\n",
      "\n",
      "\n",
      "\t\t\tCLASSIFICATION REPORT:\n",
      "\n",
      "              precision    recall  f1-score   support\n",
      "\n",
      "           0       0.98      0.84      0.90      5847\n",
      "           1       0.41      0.88      0.56       742\n",
      "\n",
      "    accuracy                           0.84      6589\n",
      "   macro avg       0.69      0.86      0.73      6589\n",
      "weighted avg       0.92      0.84      0.86      6589\n",
      "\n",
      "\t\t\tCONFUSION MATRIX:\n",
      "\n",
      "Predicted Species     0    1\n",
      "Actual Species              \n",
      "0                  4895  952\n",
      "1                    89  653 \n",
      "\n",
      "Average Recall Score      : 0.8814669167395239\n",
      "Execution_Time in seconds : 15.358749628067017\n"
     ]
    }
   ],
   "source": [
    "import time \n",
    "import catboost as cb\n",
    "from sklearn.model_selection import StratifiedKFold\n",
    "from sklearn.metrics import classification_report, confusion_matrix, recall_score\n",
    "\n",
    "kfold  = StratifiedKFold(n_splits = 10, shuffle = True, random_state = 42)\n",
    "scores = []\n",
    "\n",
    "start_time = time.time()\n",
    "for i, (train_index, test_index) in enumerate(kfold.split(X, y)):\n",
    "    X_train, X_val = X.iloc[train_index], X.iloc[test_index]\n",
    "    y_train, y_val = y.iloc[train_index], y.iloc[test_index]\n",
    "    \n",
    "    print('\\nFold: {}\\n'.format(i+1))\n",
    "    \n",
    "    # Instantiate model\n",
    "    model1 = cb.CatBoostClassifier(n_estimators=100,\n",
    "                                   auto_class_weights='Balanced',\n",
    "                                   cat_features=categorical_columns,\n",
    "                                   custom_metric = ['AUC'])\n",
    "    \n",
    "    # Fitting Model\n",
    "    model1.fit(X_train, y_train, eval_set=(X_val, y_val), early_stopping_rounds=100, verbose=0)\n",
    "    \n",
    "    \n",
    "    # Predicting Result on Validation\n",
    "    y_val_pred = model1.predict(X_val)\n",
    "    score = recall_score(y_val, y_val_pred)\n",
    "    print(\"Recall Score : {}\".format(score))\n",
    "    scores.append(score)\n",
    "    print(\"\\n\")\n",
    "    print(\"\\t\\t\\tCLASSIFICATION REPORT:\\n\")\n",
    "    print(classification_report(y_val, y_val_pred))\n",
    "    print(\"\\t\\t\\tCONFUSION MATRIX:\\n\")\n",
    "    print(pd.crosstab(y_val.values.flatten(), y_val_pred, rownames=['Actual Species'], colnames = ['Predicted Species']), \"\\n\")\n",
    "    \n",
    "a = []\n",
    "\n",
    "for each in scores:\n",
    "    a.append(each*100)\n",
    "\n",
    "print(\"Average Recall Score      : {}\".format(np.sum(scores)/len(scores)))\n",
    "#predict1 = np.sum(scores)/len(scores)\n",
    "\n",
    "end_time = time.time()\n",
    "print(\"Execution_Time in seconds : {}\".format(end_time - start_time))"
   ]
  },
  {
   "cell_type": "markdown",
   "metadata": {},
   "source": [
    "Summary: \n",
    "\n",
    "    1) Case1:\n",
    "      -  5 Folds - 100 estimators = 0.8814669167395239 (08 seconds)\n",
    "      - 10 Folds - 100 estimators = 0.8806553053357679 (15 seconds)\n",
    "\n",
    "    -> We saw when we are increasing the nos. of folds with default estimators we saw decrease in our score.\n",
    "\n",
    "    2) Case 2:\n",
    "      - 5  Folds  - 500 estimators = 0.8801159428702029 (1.5 min)\n",
    "      - 10 Folds  - 500 estimators = 0.8793054227168652 (3.5 min)\n",
    "\n",
    "    -> We saw the recall score decrease as we increase the nos of folds along with n_estimators"
   ]
  },
  {
   "cell_type": "markdown",
   "metadata": {},
   "source": [
    "### `LIGHTGBM - VANILLA MODEL`"
   ]
  },
  {
   "cell_type": "code",
   "execution_count": 165,
   "metadata": {},
   "outputs": [],
   "source": [
    "train_data_LGBM = train_data.copy()"
   ]
  },
  {
   "cell_type": "code",
   "execution_count": 166,
   "metadata": {},
   "outputs": [],
   "source": [
    "# Integer Encoding - LightGBM offers good accuracy with integer-encoded categorical features.\n",
    "\n",
    "train_data_LGBM['job'].replace({\n",
    "    'admin.'        : 0,\n",
    "    'blue-collar'   : 1,\n",
    "    'technician'    : 2,\n",
    "    'services'      : 3,\n",
    "    'management'    : 4,\n",
    "    'retired'       : 5,\n",
    "    'entrepreneur'  : 6,\n",
    "    'self-employed' : 7,\n",
    "    'housemaid'     : 8,\n",
    "    'unemployed'    : 9,\n",
    "    'student'       : 10,\n",
    "    'unknown'       : 11\n",
    "}, inplace = True)\n",
    "\n",
    "\n",
    "train_data_LGBM['marital'].replace({\n",
    "    'divorced'  : 0,\n",
    "    'single'    : 1,\n",
    "    'married'   : 2,\n",
    "    'unknown'   : 3\n",
    "}, inplace = True)\n",
    "\n",
    "\n",
    "train_data_LGBM['education'].replace({\n",
    "    'illiterate'          : 0,\n",
    "    'unknown'             : 1,\n",
    "    'basic.4y'            : 2,\n",
    "    'basic.6y'            : 3,\n",
    "    'basic.9y'            : 4,\n",
    "    'high.school'         : 5,\n",
    "    'university.degree'   : 6,\n",
    "    'professional.course' : 7\n",
    "}, inplace = True)\n",
    "\n",
    "\n",
    "train_data_LGBM['contact'].replace({\n",
    "    'cellular'  : 0,\n",
    "    'telephone' : 1,\n",
    "}, inplace = True)\n",
    "\n",
    "\n",
    "train_data_LGBM['month'].replace({\n",
    "    'mar'  : 0,\n",
    "    'apr'  : 1,\n",
    "    'may'  : 2,\n",
    "    'jun'  : 3,\n",
    "    'jul'  : 4,\n",
    "    'aug'  : 5,\n",
    "    'sep'  : 6,\n",
    "    'oct'  : 7,\n",
    "    'nov'  : 8,\n",
    "    'dec'  : 9\n",
    "}, inplace = True)\n",
    "\n",
    "\n",
    "train_data_LGBM['day_of_week'].replace({\n",
    "    'mon' : 0,\n",
    "    'tue' : 1,\n",
    "    'wed' : 2,\n",
    "    'thu' : 3,\n",
    "    'fri' : 4\n",
    "}, inplace = True)\n",
    "\n",
    "\n",
    "train_data_LGBM['poutcome'].replace({\n",
    "    'nonexistent' : 0,\n",
    "    'failure'     : 1,\n",
    "    'success'     : 2  \n",
    "}, inplace = True)\n",
    "\n",
    "\n",
    "train_data_LGBM['default'].replace({\n",
    "    'no'      : 0,\n",
    "    'unknown' : 1,\n",
    "    'yes'     : 2,\n",
    "}, inplace = True)\n",
    "\n",
    "\n",
    "train_data_LGBM['housing'].replace({\n",
    "    'no'      : 0,\n",
    "    'unknown' : 1,\n",
    "    'yes'     : 2\n",
    "}, inplace = True)\n",
    "\n",
    "\n",
    "train_data_LGBM['loan'].replace({\n",
    "    'no'      : 0,\n",
    "    'unknown' : 1,\n",
    "    'yes'     : 2\n",
    "}, inplace = True)\n",
    "\n",
    "\n",
    "train_data_LGBM['y'].replace({\n",
    "    'no'  : 0,\n",
    "    'yes' : 1\n",
    "}, inplace = True)"
   ]
  },
  {
   "cell_type": "code",
   "execution_count": 167,
   "metadata": {},
   "outputs": [],
   "source": [
    "# Splitting Data  - Independent & Dependent\n",
    "\n",
    "X  = train_data_LGBM.drop(columns = ['y'],\n",
    "                          axis = 1)\n",
    "\n",
    "y = train_data_LGBM['y']"
   ]
  },
  {
   "cell_type": "code",
   "execution_count": 168,
   "metadata": {},
   "outputs": [],
   "source": [
    "categorical_columns = [1, 2, 3, 4, 5, 6, 7, 8, 9, 14]"
   ]
  },
  {
   "cell_type": "code",
   "execution_count": 177,
   "metadata": {},
   "outputs": [
    {
     "name": "stdout",
     "output_type": "stream",
     "text": [
      "\n",
      "Fold: 1\n",
      "\n",
      "\n",
      "\n",
      "\t\t\tCLASSIFICATION REPORT:\n",
      "\n",
      "              precision    recall  f1-score   support\n",
      "\n",
      "           0       0.98      0.84      0.90      1462\n",
      "           1       0.41      0.88      0.56       186\n",
      "\n",
      "    accuracy                           0.84      1648\n",
      "   macro avg       0.70      0.86      0.73      1648\n",
      "weighted avg       0.92      0.84      0.87      1648\n",
      "\n",
      "\t\t\tCONFUSION MATRIX:\n",
      "\n",
      "Predicted Species     0    1\n",
      "Actual Species              \n",
      "0                  1225  237\n",
      "1                    22  164 \n",
      "\n",
      "\n",
      "Fold: 2\n",
      "\n",
      "\n",
      "\n",
      "\t\t\tCLASSIFICATION REPORT:\n",
      "\n",
      "              precision    recall  f1-score   support\n",
      "\n",
      "           0       0.98      0.85      0.91      1462\n",
      "           1       0.41      0.83      0.55       186\n",
      "\n",
      "    accuracy                           0.84      1648\n",
      "   macro avg       0.69      0.84      0.73      1648\n",
      "weighted avg       0.91      0.84      0.87      1648\n",
      "\n",
      "\t\t\tCONFUSION MATRIX:\n",
      "\n",
      "Predicted Species     0    1\n",
      "Actual Species              \n",
      "0                  1236  226\n",
      "1                    31  155 \n",
      "\n",
      "\n",
      "Fold: 3\n",
      "\n",
      "\n",
      "\n",
      "\t\t\tCLASSIFICATION REPORT:\n",
      "\n",
      "              precision    recall  f1-score   support\n",
      "\n",
      "           0       0.98      0.84      0.91      1462\n",
      "           1       0.41      0.85      0.55       186\n",
      "\n",
      "    accuracy                           0.85      1648\n",
      "   macro avg       0.69      0.85      0.73      1648\n",
      "weighted avg       0.91      0.85      0.87      1648\n",
      "\n",
      "\t\t\tCONFUSION MATRIX:\n",
      "\n",
      "Predicted Species     0    1\n",
      "Actual Species              \n",
      "0                  1235  227\n",
      "1                    28  158 \n",
      "\n",
      "\n",
      "Fold: 4\n",
      "\n",
      "\n",
      "\n",
      "\t\t\tCLASSIFICATION REPORT:\n",
      "\n",
      "              precision    recall  f1-score   support\n",
      "\n",
      "           0       0.99      0.86      0.92      1462\n",
      "           1       0.45      0.91      0.60       186\n",
      "\n",
      "    accuracy                           0.86      1648\n",
      "   macro avg       0.72      0.88      0.76      1648\n",
      "weighted avg       0.93      0.86      0.88      1648\n",
      "\n",
      "\t\t\tCONFUSION MATRIX:\n",
      "\n",
      "Predicted Species     0    1\n",
      "Actual Species              \n",
      "0                  1253  209\n",
      "1                    17  169 \n",
      "\n",
      "\n",
      "Fold: 5\n",
      "\n",
      "\n",
      "\n",
      "\t\t\tCLASSIFICATION REPORT:\n",
      "\n",
      "              precision    recall  f1-score   support\n",
      "\n",
      "           0       0.98      0.85      0.91      1462\n",
      "           1       0.42      0.87      0.56       186\n",
      "\n",
      "    accuracy                           0.85      1648\n",
      "   macro avg       0.70      0.86      0.74      1648\n",
      "weighted avg       0.92      0.85      0.87      1648\n",
      "\n",
      "\t\t\tCONFUSION MATRIX:\n",
      "\n",
      "Predicted Species     0    1\n",
      "Actual Species              \n",
      "0                  1236  226\n",
      "1                    24  162 \n",
      "\n",
      "\n",
      "Fold: 6\n",
      "\n",
      "\n",
      "\n",
      "\t\t\tCLASSIFICATION REPORT:\n",
      "\n",
      "              precision    recall  f1-score   support\n",
      "\n",
      "           0       0.98      0.85      0.91      1462\n",
      "           1       0.43      0.86      0.57       186\n",
      "\n",
      "    accuracy                           0.86      1648\n",
      "   macro avg       0.70      0.86      0.74      1648\n",
      "weighted avg       0.92      0.86      0.87      1648\n",
      "\n",
      "\t\t\tCONFUSION MATRIX:\n",
      "\n",
      "Predicted Species     0    1\n",
      "Actual Species              \n",
      "0                  1250  212\n",
      "1                    26  160 \n",
      "\n",
      "\n",
      "Fold: 7\n",
      "\n",
      "\n",
      "\n",
      "\t\t\tCLASSIFICATION REPORT:\n",
      "\n",
      "              precision    recall  f1-score   support\n",
      "\n",
      "           0       0.99      0.87      0.92      1462\n",
      "           1       0.47      0.92      0.62       186\n",
      "\n",
      "    accuracy                           0.87      1648\n",
      "   macro avg       0.73      0.89      0.77      1648\n",
      "weighted avg       0.93      0.87      0.89      1648\n",
      "\n",
      "\t\t\tCONFUSION MATRIX:\n",
      "\n",
      "Predicted Species     0    1\n",
      "Actual Species              \n",
      "0                  1268  194\n",
      "1                    15  171 \n",
      "\n",
      "\n",
      "Fold: 8\n",
      "\n",
      "\n",
      "\n",
      "\t\t\tCLASSIFICATION REPORT:\n",
      "\n",
      "              precision    recall  f1-score   support\n",
      "\n",
      "           0       0.98      0.85      0.91      1462\n",
      "           1       0.43      0.88      0.58       186\n",
      "\n",
      "    accuracy                           0.86      1648\n",
      "   macro avg       0.71      0.87      0.75      1648\n",
      "weighted avg       0.92      0.86      0.88      1648\n",
      "\n",
      "\t\t\tCONFUSION MATRIX:\n",
      "\n",
      "Predicted Species     0    1\n",
      "Actual Species              \n",
      "0                  1248  214\n",
      "1                    22  164 \n",
      "\n",
      "\n",
      "Fold: 9\n",
      "\n",
      "\n",
      "\n",
      "\t\t\tCLASSIFICATION REPORT:\n",
      "\n",
      "              precision    recall  f1-score   support\n",
      "\n",
      "           0       0.99      0.83      0.90      1462\n",
      "           1       0.41      0.91      0.56       186\n",
      "\n",
      "    accuracy                           0.84      1648\n",
      "   macro avg       0.70      0.87      0.73      1648\n",
      "weighted avg       0.92      0.84      0.86      1648\n",
      "\n",
      "\t\t\tCONFUSION MATRIX:\n",
      "\n",
      "Predicted Species     0    1\n",
      "Actual Species              \n",
      "0                  1218  244\n",
      "1                    17  169 \n",
      "\n",
      "\n",
      "Fold: 10\n",
      "\n",
      "\n",
      "\n",
      "\t\t\tCLASSIFICATION REPORT:\n",
      "\n",
      "              precision    recall  f1-score   support\n",
      "\n",
      "           0       0.98      0.85      0.91      1462\n",
      "           1       0.43      0.90      0.58       186\n",
      "\n",
      "    accuracy                           0.85      1648\n",
      "   macro avg       0.71      0.87      0.74      1648\n",
      "weighted avg       0.92      0.85      0.87      1648\n",
      "\n",
      "\t\t\tCONFUSION MATRIX:\n",
      "\n",
      "Predicted Species     0    1\n",
      "Actual Species              \n",
      "0                  1238  224\n",
      "1                    19  167 \n",
      "\n",
      "\n",
      "Fold: 11\n",
      "\n",
      "\n",
      "\n",
      "\t\t\tCLASSIFICATION REPORT:\n",
      "\n",
      "              precision    recall  f1-score   support\n",
      "\n",
      "           0       0.98      0.86      0.92      1462\n",
      "           1       0.43      0.83      0.57       186\n",
      "\n",
      "    accuracy                           0.86      1648\n",
      "   macro avg       0.70      0.85      0.74      1648\n",
      "weighted avg       0.91      0.86      0.88      1648\n",
      "\n",
      "\t\t\tCONFUSION MATRIX:\n",
      "\n",
      "Predicted Species     0    1\n",
      "Actual Species              \n",
      "0                  1261  201\n",
      "1                    32  154 \n",
      "\n",
      "\n",
      "Fold: 12\n",
      "\n",
      "\n",
      "\n",
      "\t\t\tCLASSIFICATION REPORT:\n",
      "\n",
      "              precision    recall  f1-score   support\n",
      "\n",
      "           0       0.98      0.86      0.92      1462\n",
      "           1       0.44      0.88      0.59       186\n",
      "\n",
      "    accuracy                           0.86      1648\n",
      "   macro avg       0.71      0.87      0.75      1648\n",
      "weighted avg       0.92      0.86      0.88      1648\n",
      "\n",
      "\t\t\tCONFUSION MATRIX:\n",
      "\n",
      "Predicted Species     0    1\n",
      "Actual Species              \n",
      "0                  1252  210\n",
      "1                    22  164 \n",
      "\n",
      "\n",
      "Fold: 13\n",
      "\n",
      "\n",
      "\n",
      "\t\t\tCLASSIFICATION REPORT:\n",
      "\n",
      "              precision    recall  f1-score   support\n",
      "\n",
      "           0       0.98      0.86      0.91      1462\n",
      "           1       0.42      0.83      0.56       185\n",
      "\n",
      "    accuracy                           0.85      1647\n",
      "   macro avg       0.70      0.84      0.74      1647\n",
      "weighted avg       0.91      0.85      0.87      1647\n",
      "\n",
      "\t\t\tCONFUSION MATRIX:\n",
      "\n",
      "Predicted Species     0    1\n",
      "Actual Species              \n",
      "0                  1251  211\n",
      "1                    31  154 \n",
      "\n",
      "\n",
      "Fold: 14\n",
      "\n",
      "\n",
      "\n",
      "\t\t\tCLASSIFICATION REPORT:\n",
      "\n",
      "              precision    recall  f1-score   support\n",
      "\n",
      "           0       0.98      0.84      0.91      1462\n",
      "           1       0.41      0.87      0.56       185\n",
      "\n",
      "    accuracy                           0.85      1647\n",
      "   macro avg       0.70      0.86      0.73      1647\n",
      "weighted avg       0.92      0.85      0.87      1647\n",
      "\n",
      "\t\t\tCONFUSION MATRIX:\n",
      "\n",
      "Predicted Species     0    1\n",
      "Actual Species              \n",
      "0                  1235  227\n",
      "1                    24  161 \n",
      "\n",
      "\n",
      "Fold: 15\n",
      "\n",
      "\n",
      "\n",
      "\t\t\tCLASSIFICATION REPORT:\n",
      "\n",
      "              precision    recall  f1-score   support\n",
      "\n",
      "           0       0.99      0.84      0.91      1462\n",
      "           1       0.42      0.90      0.58       185\n",
      "\n",
      "    accuracy                           0.85      1647\n",
      "   macro avg       0.70      0.87      0.74      1647\n",
      "weighted avg       0.92      0.85      0.87      1647\n",
      "\n",
      "\t\t\tCONFUSION MATRIX:\n",
      "\n",
      "Predicted Species     0    1\n",
      "Actual Species              \n",
      "0                  1235  227\n",
      "1                    18  167 \n",
      "\n",
      "\n",
      "Fold: 16\n",
      "\n",
      "\n",
      "\n",
      "\t\t\tCLASSIFICATION REPORT:\n",
      "\n",
      "              precision    recall  f1-score   support\n",
      "\n",
      "           0       0.98      0.83      0.90      1462\n",
      "           1       0.41      0.90      0.56       185\n",
      "\n",
      "    accuracy                           0.84      1647\n",
      "   macro avg       0.70      0.87      0.73      1647\n",
      "weighted avg       0.92      0.84      0.86      1647\n",
      "\n",
      "\t\t\tCONFUSION MATRIX:\n",
      "\n",
      "Predicted Species     0    1\n",
      "Actual Species              \n",
      "0                  1219  243\n",
      "1                    19  166 \n",
      "\n",
      "\n",
      "Fold: 17\n",
      "\n",
      "\n",
      "\n",
      "\t\t\tCLASSIFICATION REPORT:\n",
      "\n",
      "              precision    recall  f1-score   support\n",
      "\n",
      "           0       0.99      0.85      0.91      1462\n",
      "           1       0.43      0.91      0.59       185\n",
      "\n",
      "    accuracy                           0.86      1647\n",
      "   macro avg       0.71      0.88      0.75      1647\n",
      "weighted avg       0.92      0.86      0.88      1647\n",
      "\n",
      "\t\t\tCONFUSION MATRIX:\n",
      "\n",
      "Predicted Species     0    1\n",
      "Actual Species              \n",
      "0                  1241  221\n",
      "1                    17  168 \n",
      "\n",
      "\n",
      "Fold: 18\n",
      "\n"
     ]
    },
    {
     "name": "stdout",
     "output_type": "stream",
     "text": [
      "\n",
      "\n",
      "\t\t\tCLASSIFICATION REPORT:\n",
      "\n",
      "              precision    recall  f1-score   support\n",
      "\n",
      "           0       0.98      0.85      0.91      1462\n",
      "           1       0.41      0.84      0.56       185\n",
      "\n",
      "    accuracy                           0.85      1647\n",
      "   macro avg       0.70      0.85      0.73      1647\n",
      "weighted avg       0.91      0.85      0.87      1647\n",
      "\n",
      "\t\t\tCONFUSION MATRIX:\n",
      "\n",
      "Predicted Species     0    1\n",
      "Actual Species              \n",
      "0                  1241  221\n",
      "1                    29  156 \n",
      "\n",
      "\n",
      "Fold: 19\n",
      "\n",
      "\n",
      "\n",
      "\t\t\tCLASSIFICATION REPORT:\n",
      "\n",
      "              precision    recall  f1-score   support\n",
      "\n",
      "           0       0.98      0.86      0.91      1461\n",
      "           1       0.43      0.86      0.57       185\n",
      "\n",
      "    accuracy                           0.86      1646\n",
      "   macro avg       0.71      0.86      0.74      1646\n",
      "weighted avg       0.92      0.86      0.88      1646\n",
      "\n",
      "\t\t\tCONFUSION MATRIX:\n",
      "\n",
      "Predicted Species     0    1\n",
      "Actual Species              \n",
      "0                  1251  210\n",
      "1                    26  159 \n",
      "\n",
      "\n",
      "Fold: 20\n",
      "\n",
      "\n",
      "\n",
      "\t\t\tCLASSIFICATION REPORT:\n",
      "\n",
      "              precision    recall  f1-score   support\n",
      "\n",
      "           0       0.99      0.85      0.91      1461\n",
      "           1       0.43      0.91      0.59       185\n",
      "\n",
      "    accuracy                           0.85      1646\n",
      "   macro avg       0.71      0.88      0.75      1646\n",
      "weighted avg       0.92      0.85      0.88      1646\n",
      "\n",
      "\t\t\tCONFUSION MATRIX:\n",
      "\n",
      "Predicted Species     0    1\n",
      "Actual Species              \n",
      "0                  1238  223\n",
      "1                    16  169 \n",
      "\n",
      "Average Recall Score      : 0.8774266201685558\n",
      "Execution_Time in seconds : 14.343311071395874\n"
     ]
    }
   ],
   "source": [
    "import time \n",
    "import lightgbm as lg\n",
    "from sklearn.model_selection import StratifiedKFold\n",
    "from sklearn.metrics import classification_report, confusion_matrix, recall_score\n",
    "\n",
    "kfold  = StratifiedKFold(n_splits = 10, shuffle = True, random_state = 42)\n",
    "scores = []\n",
    "\n",
    "start_time = time.time()\n",
    "for i, (train_index, test_index) in enumerate(kfold.split(X, y)):\n",
    "    X_train, X_val = X.iloc[train_index], X.iloc[test_index]\n",
    "    y_train, y_val = y.iloc[train_index], y.iloc[test_index]\n",
    "    \n",
    "    print('\\nFold: {}\\n'.format(i+1))\n",
    "    \n",
    "    # Instantiate model\n",
    "    model2 = lg.LGBMClassifier(n_estimators = 100,\n",
    "                               objective = 'binary',\n",
    "                               is_unbalance = True,\n",
    "                               metric = 'auc',\n",
    "                               cat_feature = categorical_columns)\n",
    "    \n",
    "    # Fitting Model\n",
    "    model2.fit(X_train, y_train, eval_set=(X_val, y_val), early_stopping_rounds=100, verbose=0)\n",
    "    \n",
    "    \n",
    "    # Predicting Result on Validation\n",
    "    y_val_pred = model2.predict(X_val)\n",
    "    score = recall_score(y_val, y_val_pred)\n",
    "    scores.append(score)\n",
    "    print(\"\\n\")\n",
    "    print(\"\\t\\t\\tCLASSIFICATION REPORT:\\n\")\n",
    "    print(classification_report(y_val, y_val_pred))\n",
    "    print(\"\\t\\t\\tCONFUSION MATRIX:\\n\")\n",
    "    print(pd.crosstab(y_val.values.flatten(), y_val_pred, rownames=['Actual Species'], colnames = ['Predicted Species']), \"\\n\")\n",
    "    \n",
    "a = []\n",
    "\n",
    "for each in scores:\n",
    "    a.append(each*100)\n",
    "\n",
    "print(\"Average Recall Score      : {}\".format(np.sum(scores)/len(scores)))\n",
    "#predict2 = np.sum(scores)/len(scores)\n",
    "\n",
    "end_time = time.time()\n",
    "print(\"Execution_Time in seconds : {}\".format(end_time - start_time))"
   ]
  },
  {
   "cell_type": "markdown",
   "metadata": {},
   "source": [
    "Summary : \n",
    "    \n",
    "    1) Case 1:\n",
    "         - 5  Folds - 100 estimators = 0.8723061 (03 seconds)\n",
    "         - 10 Folds - 100 estimators = 0.8798481 (03 seconds)\n",
    "         - 15 Folds - 100 estimators = 0.8714890 (04 seconds)\n",
    "         - 20 Folds - 100 estimators = 0.8795829 (05 seconds)\n",
    "         \n",
    "    2) Case  2:\n",
    "         - 5  Folds - 500 estimators = 0.8723061 (04 seconds)\n",
    "         - 10 Folds - 500 estimators = 0.8782308 (06 seconds)\n",
    "         - 15 Folds - 500 estimators = 0.8685255 (12 seconds)\n",
    "         - 20 Folds - 500 estimators = 0.8774266 (14 seconds)\n",
    "         \n",
    "    Note: K = 10 gave better result for our base model."
   ]
  },
  {
   "cell_type": "markdown",
   "metadata": {},
   "source": [
    "### `ENSEMBLING - CATBOOST & LIGHTGBM`"
   ]
  },
  {
   "cell_type": "markdown",
   "metadata": {},
   "source": [
    "    - We will use K = 10 and N_Estimators = 100 and perform Weighted Averaging"
   ]
  },
  {
   "cell_type": "code",
   "execution_count": 183,
   "metadata": {},
   "outputs": [
    {
     "name": "stdout",
     "output_type": "stream",
     "text": [
      "Final recall score : 0.879767235\n"
     ]
    }
   ],
   "source": [
    "predict1 = 0.8798481\n",
    "predict2 = 0.8782308\n",
    "\n",
    "final_predict = (0.95 * predict1 + 0.05* predict2)\n",
    "\n",
    "print(\"Final recall score : {}\".format(final_predict))"
   ]
  },
  {
   "cell_type": "markdown",
   "metadata": {},
   "source": [
    "Summary: \n",
    "    \n",
    "    1) predict1-> CATBOOST\n",
    "       predict2-> LIGHTGBM\n",
    "\n",
    "        0.60 * predict1 + 0.4  * predict2 -> 0.87920118\n",
    "        0.70 * predict1 + 0.3  * predict2 -> 0.87936291\n",
    "        0.80 * predict1 + 0.2  * predict2 -> 0.87952464\n",
    "        0.90 * predict1 + 0.1  * predict2 -> 0.87968636\n",
    "        0.95 * predict1 + 0.05 * predict2 -> 0.87976724\n",
    "    \n",
    "    2) From the observations above, we can observe that CATBBOOST was performing better."
   ]
  },
  {
   "cell_type": "markdown",
   "metadata": {},
   "source": [
    "### `CONCLUSION`"
   ]
  },
  {
   "cell_type": "markdown",
   "metadata": {},
   "source": [
    "    1) CATBOOST perfomed well on BASE MODELS\n",
    "\n",
    "    2) We can go ahead in tuning the paramters and derive meaningfull features if possible and check the recll score.\n",
    "    \n",
    "    3) Giving more weights to CATBOOST resulted in getting closer to the individiual performance of CATBOOST algorithm.\n",
    "    \n",
    "    4) As the nos. of folds along with estimator increase recall scored decreased. (K = 10 gave best result)."
   ]
  }
 ],
 "metadata": {
  "kernelspec": {
   "display_name": "Python 3",
   "language": "python",
   "name": "python3"
  },
  "language_info": {
   "codemirror_mode": {
    "name": "ipython",
    "version": 3
   },
   "file_extension": ".py",
   "mimetype": "text/x-python",
   "name": "python",
   "nbconvert_exporter": "python",
   "pygments_lexer": "ipython3",
   "version": "3.7.4"
  }
 },
 "nbformat": 4,
 "nbformat_minor": 2
}
