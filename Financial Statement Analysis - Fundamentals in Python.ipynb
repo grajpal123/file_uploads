{
 "cells": [
  {
   "cell_type": "markdown",
   "metadata": {},
   "source": [
    "### Financial Statement Analysis\n",
    "\n",
    "You have been supplied with two vectors of data: monthly revenue and monthly expenses for the financial year in the question. Your task is to calculate the following financial metrics:\n",
    "\n",
    "- profit for each month\n",
    "- profit after tax for each month (the tax rate is 30%)\n",
    "- profit margin for each month - equals to profit after tax divided by revenue\n",
    "- good months - where the profit after tax was greater than the mean for the year\n",
    "- bad months - where the profit after tax was less than the mean for the year\n",
    "- the best month - where the profit after tax was max for the year\n",
    "- the worst month - where the profit after tax was min for the year\n",
    "\n",
    "\n",
    "All results need to be presented as vectors.\n",
    "\n",
    "Results for dollar values need to be calculated with 0.01 precision, but need to be presented in Units of 1000 with no decimal points.\n",
    "\n",
    "Results for the profit margin ratio need to be presented in units of % with no decimal points."
   ]
  },
  {
   "cell_type": "code",
   "execution_count": 13,
   "metadata": {},
   "outputs": [],
   "source": [
    "import numpy as np"
   ]
  },
  {
   "cell_type": "code",
   "execution_count": 14,
   "metadata": {},
   "outputs": [],
   "source": [
    "#Data \n",
    "revenue = [14574.49, 7606.46, 8611.41, 9175.41, 8058.65, 8105.44, 11496.28, 9766.09, 10305.32, 14379.96, 10713.97, 15433.50]\n",
    "expenses = [12051.82, 5695.07, 12319.20, 12089.72, 8658.57, 840.20, 3285.73, 5821.12, 6976.93, 16618.61, 10054.37, 3803.96]"
   ]
  },
  {
   "cell_type": "code",
   "execution_count": null,
   "metadata": {},
   "outputs": [],
   "source": [
    "#Calculating profit as difference of revenue and expense"
   ]
  },
  {
   "cell_type": "code",
   "execution_count": 15,
   "metadata": {},
   "outputs": [
    {
     "name": "stdout",
     "output_type": "stream",
     "text": [
      "[2522.67, 1911.3900000000003, -3707.790000000001, -2914.3099999999995, -599.9200000000001, 7265.24, 8210.550000000001, 3944.9700000000003, 3328.3899999999994, -2238.6500000000015, 659.5999999999985, 11629.54]\n"
     ]
    }
   ],
   "source": [
    "profit = []\n",
    "#profit = list()\n",
    "\n",
    "for i in range(0, len(revenue)):\n",
    "    profit.append(revenue[i] - expenses[i])\n",
    "print(profit)"
   ]
  },
  {
   "cell_type": "code",
   "execution_count": null,
   "metadata": {},
   "outputs": [],
   "source": [
    "#Calculating profit after tax for each month (the tax rate is 30%)"
   ]
  },
  {
   "cell_type": "code",
   "execution_count": 16,
   "metadata": {},
   "outputs": [
    {
     "name": "stdout",
     "output_type": "stream",
     "text": [
      "[756.8, 573.42, -1112.34, -874.29, -179.98, 2179.57, 2463.17, 1183.49, 998.52, -671.6, 197.88, 3488.86]\n",
      "[1765.87, 1337.97, -2595.45, -2040.02, -419.94, 5085.67, 5747.38, 2761.48, 2329.87, -1567.05, 461.72, 8140.68]\n"
     ]
    }
   ],
   "source": [
    "tax = [round(i * 0.3,2) for i in profit]\n",
    "print(tax)\n",
    "\n",
    "profit_after_tax = []\n",
    "\n",
    "for i in range(0, len(profit)):\n",
    "   profit_after_tax.append(round(profit[i] - tax[i], 2))\n",
    "print(profit_after_tax)\n",
    "    "
   ]
  },
  {
   "cell_type": "code",
   "execution_count": 54,
   "metadata": {},
   "outputs": [],
   "source": [
    "#Calculating profit margin for each month - equals to profit after tax divided by revenue"
   ]
  },
  {
   "cell_type": "code",
   "execution_count": 17,
   "metadata": {},
   "outputs": [
    {
     "name": "stdout",
     "output_type": "stream",
     "text": [
      "[0.12, 0.18, -0.3, -0.22, -0.05, 0.63, 0.5, 0.28, 0.23, -0.11, 0.04, 0.53]\n",
      "[12.0, 18.0, -30.0, -22.0, -5.0, 63.0, 50.0, 28.0, 23.0, -11.0, 4.0, 53.0]\n"
     ]
    }
   ],
   "source": [
    "profit_margin = []\n",
    "\n",
    "for i in range(0, len(revenue)):\n",
    "    profit_margin.append(round(profit_after_tax[i] / revenue[i], 2))\n",
    "print(profit_margin)\n",
    "\n",
    "profit_margin = [round((i * 100), 2) for i in profit_margin]\n",
    "print(profit_margin)"
   ]
  },
  {
   "cell_type": "code",
   "execution_count": 53,
   "metadata": {},
   "outputs": [],
   "source": [
    "#Calculating good months - where the profit after tax was greater than the mean for the year"
   ]
  },
  {
   "cell_type": "code",
   "execution_count": 18,
   "metadata": {},
   "outputs": [
    {
     "name": "stdout",
     "output_type": "stream",
     "text": [
      "1750.68\n",
      "[1765.87, 1337.97, -2595.45, -2040.02, -419.94, 5085.67, 5747.38, 2761.48, 2329.87, -1567.05, 461.72, 8140.68]\n",
      "[True, False, False, False, False, True, True, True, True, False, False, True]\n"
     ]
    }
   ],
   "source": [
    "mean_profit_after_tax = sum(profit_after_tax) / len(profit_after_tax)\n",
    "print(round(mean_profit_after_tax, 2))\n",
    "\n",
    "good_months = []\n",
    "\n",
    "for i in range(0, len(profit_after_tax)):\n",
    "    good_months.append(profit_after_tax[i] > mean_profit_after_tax)\n",
    "print(profit_after_tax)\n",
    "print(good_months)\n",
    "\n",
    "#As per output January, June, July, August, September, December are good months."
   ]
  },
  {
   "cell_type": "code",
   "execution_count": 52,
   "metadata": {},
   "outputs": [],
   "source": [
    "#Calculating bad months - where the profit after tax was less than the mean for the year"
   ]
  },
  {
   "cell_type": "code",
   "execution_count": 19,
   "metadata": {},
   "outputs": [
    {
     "name": "stdout",
     "output_type": "stream",
     "text": [
      "1750.68\n",
      "[1765.87, 1337.97, -2595.45, -2040.02, -419.94, 5085.67, 5747.38, 2761.48, 2329.87, -1567.05, 461.72, 8140.68]\n",
      "[False, True, True, True, True, False, False, False, False, True, True, False]\n"
     ]
    }
   ],
   "source": [
    "mean_profit_after_tax = sum(profit_after_tax) / len(profit_after_tax)\n",
    "print(round(mean_profit_after_tax, 2))\n",
    "\n",
    "bad_months = []\n",
    "\n",
    "for i in range(0, len(profit_after_tax)):\n",
    "    bad_months.append(profit_after_tax[i] < mean_profit_after_tax)\n",
    "print(profit_after_tax)\n",
    "print(bad_months)\n",
    "\n",
    "#As per output Feb, March, April, May, Oct, Nov are bad months."
   ]
  },
  {
   "cell_type": "markdown",
   "metadata": {},
   "source": [
    "-----"
   ]
  },
  {
   "cell_type": "markdown",
   "metadata": {},
   "source": [
    "We can also use mean function from statistic to calculate mean_profit_after_tax. For this we will import mean from statistic package\n",
    "\n"
   ]
  },
  {
   "cell_type": "code",
   "execution_count": 46,
   "metadata": {},
   "outputs": [],
   "source": [
    "from statistics import mean"
   ]
  },
  {
   "cell_type": "code",
   "execution_count": 48,
   "metadata": {},
   "outputs": [
    {
     "data": {
      "text/plain": [
       "1750.68"
      ]
     },
     "execution_count": 48,
     "metadata": {},
     "output_type": "execute_result"
    }
   ],
   "source": [
    "round(mean(profit_after_tax), 2)"
   ]
  },
  {
   "cell_type": "markdown",
   "metadata": {},
   "source": [
    "We can also use mean function numpy "
   ]
  },
  {
   "cell_type": "code",
   "execution_count": 15,
   "metadata": {},
   "outputs": [
    {
     "data": {
      "text/plain": [
       "1750.6816666666666"
      ]
     },
     "execution_count": 15,
     "metadata": {},
     "output_type": "execute_result"
    }
   ],
   "source": [
    "import numpy as np\n",
    "\n",
    "np.mean(profit_after_tax)"
   ]
  },
  {
   "cell_type": "markdown",
   "metadata": {},
   "source": [
    "---"
   ]
  },
  {
   "cell_type": "code",
   "execution_count": 51,
   "metadata": {},
   "outputs": [],
   "source": [
    "#Calculating best month where profit after tax was equal to max of the year"
   ]
  },
  {
   "cell_type": "code",
   "execution_count": 28,
   "metadata": {},
   "outputs": [
    {
     "name": "stdout",
     "output_type": "stream",
     "text": [
      "8140.68\n",
      "[False, False, False, False, False, False, False, False, False, False, False, True]\n"
     ]
    }
   ],
   "source": [
    "best_month = []\n",
    "\n",
    "for i in range(0, len(profit_after_tax)):\n",
    "    best_month.append(profit_after_tax[i] == max(profit_after_tax))\n",
    "print(max(profit_after_tax))\n",
    "print(best_month)\n",
    "\n",
    "#As per output best month is DECEMBER"
   ]
  },
  {
   "cell_type": "code",
   "execution_count": null,
   "metadata": {},
   "outputs": [],
   "source": [
    "#Calculating worst month where profit after tax was equal to min of the year"
   ]
  },
  {
   "cell_type": "code",
   "execution_count": 29,
   "metadata": {},
   "outputs": [
    {
     "name": "stdout",
     "output_type": "stream",
     "text": [
      "-2595.45\n",
      "[False, False, True, False, False, False, False, False, False, False, False, False]\n"
     ]
    }
   ],
   "source": [
    "worst_month = []\n",
    "\n",
    "for i in range(0, len(profit_after_tax)):\n",
    "    worst_month.append(profit_after_tax[i] == min(profit_after_tax))\n",
    "print(min(profit_after_tax))\n",
    "print(worst_month)\n",
    "\n",
    "#As per output worst month is MARCH"
   ]
  },
  {
   "cell_type": "code",
   "execution_count": 1,
   "metadata": {},
   "outputs": [],
   "source": [
    "#Converting all values in units of 1000"
   ]
  },
  {
   "cell_type": "code",
   "execution_count": 26,
   "metadata": {},
   "outputs": [],
   "source": [
    "revenue_1000 = [round((i/1000),2) for i in revenue]\n",
    "expenses_1000 = [round((i/1000),2) for i in expenses]\n",
    "profit_1000 = [round((i/1000), 2) for i in profit]\n",
    "profit_after_tax_1000 = [round((i/1000),2) for i in profit_after_tax]\n",
    "\n",
    "revenue_1000 = [int(i) for i in revenue_1000]\n",
    "expense_1000 = [int(i) for i in expense_1000]\n",
    "profit_1000 = [int(i) for i in profit_1000]\n",
    "profit_after_tax_1000 = [int(i) for i in profit_after_tax_1000]"
   ]
  },
  {
   "cell_type": "code",
   "execution_count": 30,
   "metadata": {},
   "outputs": [
    {
     "name": "stdout",
     "output_type": "stream",
     "text": [
      "Revenue :\n",
      "[14, 7, 8, 9, 8, 8, 11, 9, 10, 14, 10, 15]\n",
      "Expenses :\n",
      "[12.05, 5.7, 12.32, 12.09, 8.66, 0.84, 3.29, 5.82, 6.98, 16.62, 10.05, 3.8]\n",
      "Profit :\n",
      "[2, 1, -3, -2, 0, 7, 8, 3, 3, -2, 0, 11]\n",
      "Profit after tax :\n",
      "[1, 1, -2, -2, 0, 5, 5, 2, 2, -1, 0, 8]\n",
      "Profit margin :\n",
      "[12.0, 18.0, -30.0, -22.0, -5.0, 63.0, 50.0, 28.0, 23.0, -11.0, 4.0, 53.0]\n",
      "Good months :\n",
      "[True, False, False, False, False, True, True, True, True, False, False, True]\n",
      "Bad months :\n",
      "[False, True, True, True, True, False, False, False, False, True, True, False]\n",
      "Best month :\n",
      "[False, False, False, False, False, False, False, False, False, False, False, True]\n",
      "Worst month :\n",
      "[False, False, True, False, False, False, False, False, False, False, False, False]\n"
     ]
    }
   ],
   "source": [
    "#Displaying Output\n",
    "\n",
    "print (\"Revenue :\") \n",
    "print (revenue_1000)\n",
    "print (\"Expenses :\") \n",
    "print (expenses_1000)\n",
    "print (\"Profit :\")\n",
    "print (profit_1000)\n",
    "print (\"Profit after tax :\")\n",
    "print (profit_after_tax_1000)\n",
    "print (\"Profit margin :\")\n",
    "print (profit_margin)\n",
    "print (\"Good months :\")\n",
    "print (good_months)\n",
    "print (\"Bad months :\")\n",
    "print (bad_months)\n",
    "print (\"Best month :\")\n",
    "print (best_month)\n",
    "print (\"Worst month :\")\n",
    "print (worst_month)"
   ]
  },
  {
   "cell_type": "code",
   "execution_count": null,
   "metadata": {},
   "outputs": [],
   "source": []
  }
 ],
 "metadata": {
  "kernelspec": {
   "display_name": "Python 3",
   "language": "python",
   "name": "python3"
  },
  "language_info": {
   "codemirror_mode": {
    "name": "ipython",
    "version": 3
   },
   "file_extension": ".py",
   "mimetype": "text/x-python",
   "name": "python",
   "nbconvert_exporter": "python",
   "pygments_lexer": "ipython3",
   "version": "3.7.1"
  }
 },
 "nbformat": 4,
 "nbformat_minor": 2
}
