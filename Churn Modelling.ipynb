{
 "cells": [
  {
   "cell_type": "markdown",
   "metadata": {
    "colab_type": "text",
    "id": "_UGulJeUd5V0"
   },
   "source": [
    "# CASE STUDY -  CHURN MODELLING\n"
   ]
  },
  {
   "cell_type": "markdown",
   "metadata": {
    "colab_type": "text",
    "id": "hdPpevTXd5V1"
   },
   "source": [
    "### STEP 1 : PROBELM STATEMENT\n"
   ]
  },
  {
   "attachments": {
    "churn_prediction.jpeg": {
     "image/jpeg": "[encoded data removed]"
    }
   },
   "cell_type": "markdown",
   "metadata": {
    "colab_type": "text",
    "id": "dBoY_txCd5V2"
   },
   "source": [
    " - In this problem we will be analyzing churn rate i.e. We will be building ANN that will help us to know as to why the customers are leaving the bank.\n",
    "\n",
    " \n",
    " \n",
    " - This is a classification problem where we have dependent variable `exited` which has 2 values 0 and 1 \n",
    "     - 1 - Customer Leaves \n",
    "     - 0 - Customer Stays\n",
    "     \n",
    "     \n",
    " - We have 10000 records of observation.\n",
    " \n",
    " \n",
    " - We have following features which will act as an independent variable or neurons for our ANN:\n",
    "    - credit score\n",
    "    - geography \n",
    "    - age \n",
    "    - tenure \n",
    "    - balance \n",
    "    - nos of products (saving, current, fixed etc)\n",
    "    - credit card (1-Yes, 0-NO)\n",
    "    - estimated salary\n",
    "\n",
    "\n",
    "![churn_prediction.jpeg](attachment:churn_prediction.jpeg)"
   ]
  },
  {
   "cell_type": "markdown",
   "metadata": {
    "colab_type": "text",
    "id": "DcjKAOC-d5V2"
   },
   "source": [
    "### STEP 2  - IMPORTING LIBRARIES"
   ]
  },
  {
   "cell_type": "code",
   "execution_count": 1,
   "metadata": {
    "colab": {
     "base_uri": "https://localhost:8080/",
     "height": 70
    },
    "colab_type": "code",
    "id": "zYjN2_hcd5V3",
    "outputId": "37b351a3-691e-4fa8-8e7d-7fedf21447f1"
   },
   "outputs": [],
   "source": [
    "import numpy as np \n",
    "import pandas as pd\n",
    "import matplotlib.pyplot as plt\n",
    "import seaborn as sns\n",
    "\n",
    "import warnings\n",
    "warnings.filterwarnings('ignore')"
   ]
  },
  {
   "cell_type": "markdown",
   "metadata": {
    "colab_type": "text",
    "id": "Rak8i93Ld5V5"
   },
   "source": [
    "### STEP 3 - IMPORTING DATASET "
   ]
  },
  {
   "cell_type": "code",
   "execution_count": 2,
   "metadata": {
    "colab": {
     "base_uri": "https://localhost:8080/",
     "height": 34
    },
    "colab_type": "code",
    "id": "QKnBR_kYd5V6",
    "outputId": "aa846bfd-7c7d-48c7-932c-4ed9954b6aaa"
   },
   "outputs": [
    {
     "name": "stdout",
     "output_type": "stream",
     "text": [
      "Dataset Imported Successfully\n"
     ]
    }
   ],
   "source": [
    "df = pd.read_csv('Churn_Modelling.csv')\n",
    "print('Dataset Imported Successfully')"
   ]
  },
  {
   "cell_type": "markdown",
   "metadata": {
    "colab_type": "text",
    "id": "x2zKZ4mad5V8"
   },
   "source": [
    "### STEP 4 - EXPLORATORY DATA ANALYSIS (EDA) / DATA PREPROCESSING / DATA WRAGLING"
   ]
  },
  {
   "cell_type": "code",
   "execution_count": 3,
   "metadata": {
    "colab": {
     "base_uri": "https://localhost:8080/",
     "height": 34
    },
    "colab_type": "code",
    "id": "Qoy_C-Rud5V8",
    "outputId": "869b00ab-e8c6-492f-d4c7-d08c49e78d84"
   },
   "outputs": [
    {
     "data": {
      "text/plain": [
       "(10000, 14)"
      ]
     },
     "execution_count": 3,
     "metadata": {},
     "output_type": "execute_result"
    }
   ],
   "source": [
    "# Size of the data.\n",
    "\n",
    "df.shape"
   ]
  },
  {
   "cell_type": "code",
   "execution_count": 4,
   "metadata": {
    "colab": {
     "base_uri": "https://localhost:8080/",
     "height": 84
    },
    "colab_type": "code",
    "id": "sMtDtA94d5V_",
    "outputId": "2d709a42-d5d2-4e62-d94f-446a030712ef"
   },
   "outputs": [
    {
     "data": {
      "text/plain": [
       "Index(['RowNumber', 'CustomerId', 'Surname', 'CreditScore', 'Geography',\n",
       "       'Gender', 'Age', 'Tenure', 'Balance', 'NumOfProducts', 'HasCrCard',\n",
       "       'IsActiveMember', 'EstimatedSalary', 'Exited'],\n",
       "      dtype='object')"
      ]
     },
     "execution_count": 4,
     "metadata": {},
     "output_type": "execute_result"
    }
   ],
   "source": [
    "# Checking columns\n",
    "\n",
    "df.keys()"
   ]
  },
  {
   "cell_type": "code",
   "execution_count": 5,
   "metadata": {
    "colab": {
     "base_uri": "https://localhost:8080/",
     "height": 215
    },
    "colab_type": "code",
    "id": "6aGt6K2ud5WC",
    "outputId": "219e73a7-b767-48bc-b5eb-8e34f9a12e4d"
   },
   "outputs": [
    {
     "data": {
      "text/html": [
       "<div>\n",
       "<style scoped>\n",
       "    .dataframe tbody tr th:only-of-type {\n",
       "        vertical-align: middle;\n",
       "    }\n",
       "\n",
       "    .dataframe tbody tr th {\n",
       "        vertical-align: top;\n",
       "    }\n",
       "\n",
       "    .dataframe thead th {\n",
       "        text-align: right;\n",
       "    }\n",
       "</style>\n",
       "<table border=\"1\" class=\"dataframe\">\n",
       "  <thead>\n",
       "    <tr style=\"text-align: right;\">\n",
       "      <th></th>\n",
       "      <th>RowNumber</th>\n",
       "      <th>CustomerId</th>\n",
       "      <th>Surname</th>\n",
       "      <th>CreditScore</th>\n",
       "      <th>Geography</th>\n",
       "      <th>Gender</th>\n",
       "      <th>Age</th>\n",
       "      <th>Tenure</th>\n",
       "      <th>Balance</th>\n",
       "      <th>NumOfProducts</th>\n",
       "      <th>HasCrCard</th>\n",
       "      <th>IsActiveMember</th>\n",
       "      <th>EstimatedSalary</th>\n",
       "      <th>Exited</th>\n",
       "    </tr>\n",
       "  </thead>\n",
       "  <tbody>\n",
       "    <tr>\n",
       "      <td>0</td>\n",
       "      <td>1</td>\n",
       "      <td>15634602</td>\n",
       "      <td>Hargrave</td>\n",
       "      <td>619</td>\n",
       "      <td>France</td>\n",
       "      <td>Female</td>\n",
       "      <td>42</td>\n",
       "      <td>2</td>\n",
       "      <td>0.00</td>\n",
       "      <td>1</td>\n",
       "      <td>1</td>\n",
       "      <td>1</td>\n",
       "      <td>101348.88</td>\n",
       "      <td>1</td>\n",
       "    </tr>\n",
       "    <tr>\n",
       "      <td>1</td>\n",
       "      <td>2</td>\n",
       "      <td>15647311</td>\n",
       "      <td>Hill</td>\n",
       "      <td>608</td>\n",
       "      <td>Spain</td>\n",
       "      <td>Female</td>\n",
       "      <td>41</td>\n",
       "      <td>1</td>\n",
       "      <td>83807.86</td>\n",
       "      <td>1</td>\n",
       "      <td>0</td>\n",
       "      <td>1</td>\n",
       "      <td>112542.58</td>\n",
       "      <td>0</td>\n",
       "    </tr>\n",
       "    <tr>\n",
       "      <td>2</td>\n",
       "      <td>3</td>\n",
       "      <td>15619304</td>\n",
       "      <td>Onio</td>\n",
       "      <td>502</td>\n",
       "      <td>France</td>\n",
       "      <td>Female</td>\n",
       "      <td>42</td>\n",
       "      <td>8</td>\n",
       "      <td>159660.80</td>\n",
       "      <td>3</td>\n",
       "      <td>1</td>\n",
       "      <td>0</td>\n",
       "      <td>113931.57</td>\n",
       "      <td>1</td>\n",
       "    </tr>\n",
       "    <tr>\n",
       "      <td>3</td>\n",
       "      <td>4</td>\n",
       "      <td>15701354</td>\n",
       "      <td>Boni</td>\n",
       "      <td>699</td>\n",
       "      <td>France</td>\n",
       "      <td>Female</td>\n",
       "      <td>39</td>\n",
       "      <td>1</td>\n",
       "      <td>0.00</td>\n",
       "      <td>2</td>\n",
       "      <td>0</td>\n",
       "      <td>0</td>\n",
       "      <td>93826.63</td>\n",
       "      <td>0</td>\n",
       "    </tr>\n",
       "    <tr>\n",
       "      <td>4</td>\n",
       "      <td>5</td>\n",
       "      <td>15737888</td>\n",
       "      <td>Mitchell</td>\n",
       "      <td>850</td>\n",
       "      <td>Spain</td>\n",
       "      <td>Female</td>\n",
       "      <td>43</td>\n",
       "      <td>2</td>\n",
       "      <td>125510.82</td>\n",
       "      <td>1</td>\n",
       "      <td>1</td>\n",
       "      <td>1</td>\n",
       "      <td>79084.10</td>\n",
       "      <td>0</td>\n",
       "    </tr>\n",
       "  </tbody>\n",
       "</table>\n",
       "</div>"
      ],
      "text/plain": [
       "   RowNumber  CustomerId   Surname  CreditScore Geography  Gender  Age  \\\n",
       "0          1    15634602  Hargrave          619    France  Female   42   \n",
       "1          2    15647311      Hill          608     Spain  Female   41   \n",
       "2          3    15619304      Onio          502    France  Female   42   \n",
       "3          4    15701354      Boni          699    France  Female   39   \n",
       "4          5    15737888  Mitchell          850     Spain  Female   43   \n",
       "\n",
       "   Tenure    Balance  NumOfProducts  HasCrCard  IsActiveMember  \\\n",
       "0       2       0.00              1          1               1   \n",
       "1       1   83807.86              1          0               1   \n",
       "2       8  159660.80              3          1               0   \n",
       "3       1       0.00              2          0               0   \n",
       "4       2  125510.82              1          1               1   \n",
       "\n",
       "   EstimatedSalary  Exited  \n",
       "0        101348.88       1  \n",
       "1        112542.58       0  \n",
       "2        113931.57       1  \n",
       "3         93826.63       0  \n",
       "4         79084.10       0  "
      ]
     },
     "execution_count": 5,
     "metadata": {},
     "output_type": "execute_result"
    }
   ],
   "source": [
    "# Checking top 5 records\n",
    "\n",
    "df.head()"
   ]
  },
  {
   "cell_type": "code",
   "execution_count": 6,
   "metadata": {
    "colab": {
     "base_uri": "https://localhost:8080/",
     "height": 195
    },
    "colab_type": "code",
    "id": "jUcfapb2d5WE",
    "outputId": "b542509b-1dc2-40ff-88b0-2e906b0aee41"
   },
   "outputs": [
    {
     "data": {
      "text/html": [
       "<div>\n",
       "<style scoped>\n",
       "    .dataframe tbody tr th:only-of-type {\n",
       "        vertical-align: middle;\n",
       "    }\n",
       "\n",
       "    .dataframe tbody tr th {\n",
       "        vertical-align: top;\n",
       "    }\n",
       "\n",
       "    .dataframe thead th {\n",
       "        text-align: right;\n",
       "    }\n",
       "</style>\n",
       "<table border=\"1\" class=\"dataframe\">\n",
       "  <thead>\n",
       "    <tr style=\"text-align: right;\">\n",
       "      <th></th>\n",
       "      <th>CreditScore</th>\n",
       "      <th>Geography</th>\n",
       "      <th>Gender</th>\n",
       "      <th>Age</th>\n",
       "      <th>Tenure</th>\n",
       "      <th>Balance</th>\n",
       "      <th>NumOfProducts</th>\n",
       "      <th>HasCrCard</th>\n",
       "      <th>IsActiveMember</th>\n",
       "      <th>EstimatedSalary</th>\n",
       "      <th>Exited</th>\n",
       "    </tr>\n",
       "  </thead>\n",
       "  <tbody>\n",
       "    <tr>\n",
       "      <td>0</td>\n",
       "      <td>619</td>\n",
       "      <td>France</td>\n",
       "      <td>Female</td>\n",
       "      <td>42</td>\n",
       "      <td>2</td>\n",
       "      <td>0.00</td>\n",
       "      <td>1</td>\n",
       "      <td>1</td>\n",
       "      <td>1</td>\n",
       "      <td>101348.88</td>\n",
       "      <td>1</td>\n",
       "    </tr>\n",
       "    <tr>\n",
       "      <td>1</td>\n",
       "      <td>608</td>\n",
       "      <td>Spain</td>\n",
       "      <td>Female</td>\n",
       "      <td>41</td>\n",
       "      <td>1</td>\n",
       "      <td>83807.86</td>\n",
       "      <td>1</td>\n",
       "      <td>0</td>\n",
       "      <td>1</td>\n",
       "      <td>112542.58</td>\n",
       "      <td>0</td>\n",
       "    </tr>\n",
       "    <tr>\n",
       "      <td>2</td>\n",
       "      <td>502</td>\n",
       "      <td>France</td>\n",
       "      <td>Female</td>\n",
       "      <td>42</td>\n",
       "      <td>8</td>\n",
       "      <td>159660.80</td>\n",
       "      <td>3</td>\n",
       "      <td>1</td>\n",
       "      <td>0</td>\n",
       "      <td>113931.57</td>\n",
       "      <td>1</td>\n",
       "    </tr>\n",
       "    <tr>\n",
       "      <td>3</td>\n",
       "      <td>699</td>\n",
       "      <td>France</td>\n",
       "      <td>Female</td>\n",
       "      <td>39</td>\n",
       "      <td>1</td>\n",
       "      <td>0.00</td>\n",
       "      <td>2</td>\n",
       "      <td>0</td>\n",
       "      <td>0</td>\n",
       "      <td>93826.63</td>\n",
       "      <td>0</td>\n",
       "    </tr>\n",
       "    <tr>\n",
       "      <td>4</td>\n",
       "      <td>850</td>\n",
       "      <td>Spain</td>\n",
       "      <td>Female</td>\n",
       "      <td>43</td>\n",
       "      <td>2</td>\n",
       "      <td>125510.82</td>\n",
       "      <td>1</td>\n",
       "      <td>1</td>\n",
       "      <td>1</td>\n",
       "      <td>79084.10</td>\n",
       "      <td>0</td>\n",
       "    </tr>\n",
       "  </tbody>\n",
       "</table>\n",
       "</div>"
      ],
      "text/plain": [
       "   CreditScore Geography  Gender  Age  Tenure    Balance  NumOfProducts  \\\n",
       "0          619    France  Female   42       2       0.00              1   \n",
       "1          608     Spain  Female   41       1   83807.86              1   \n",
       "2          502    France  Female   42       8  159660.80              3   \n",
       "3          699    France  Female   39       1       0.00              2   \n",
       "4          850     Spain  Female   43       2  125510.82              1   \n",
       "\n",
       "   HasCrCard  IsActiveMember  EstimatedSalary  Exited  \n",
       "0          1               1        101348.88       1  \n",
       "1          0               1        112542.58       0  \n",
       "2          1               0        113931.57       1  \n",
       "3          0               0         93826.63       0  \n",
       "4          1               1         79084.10       0  "
      ]
     },
     "execution_count": 6,
     "metadata": {},
     "output_type": "execute_result"
    }
   ],
   "source": [
    "# Dropping unwanted columns - Row Number, Customer ID, Surname \n",
    "\n",
    "df.drop(columns = ['RowNumber', 'CustomerId', 'Surname'],\n",
    "        inplace = True)\n",
    "\n",
    "df.head()"
   ]
  },
  {
   "cell_type": "code",
   "execution_count": 7,
   "metadata": {
    "colab": {
     "base_uri": "https://localhost:8080/",
     "height": 319
    },
    "colab_type": "code",
    "id": "2vF9rpw1d5WG",
    "outputId": "5d9c6b97-1875-4023-aa88-408f3f4eccda"
   },
   "outputs": [
    {
     "name": "stdout",
     "output_type": "stream",
     "text": [
      "<class 'pandas.core.frame.DataFrame'>\n",
      "RangeIndex: 10000 entries, 0 to 9999\n",
      "Data columns (total 11 columns):\n",
      "CreditScore        10000 non-null int64\n",
      "Geography          10000 non-null object\n",
      "Gender             10000 non-null object\n",
      "Age                10000 non-null int64\n",
      "Tenure             10000 non-null int64\n",
      "Balance            10000 non-null float64\n",
      "NumOfProducts      10000 non-null int64\n",
      "HasCrCard          10000 non-null int64\n",
      "IsActiveMember     10000 non-null int64\n",
      "EstimatedSalary    10000 non-null float64\n",
      "Exited             10000 non-null int64\n",
      "dtypes: float64(2), int64(7), object(2)\n",
      "memory usage: 859.5+ KB\n"
     ]
    }
   ],
   "source": [
    "# Getting Information\n",
    "\n",
    "df.info()"
   ]
  },
  {
   "cell_type": "code",
   "execution_count": 8,
   "metadata": {
    "colab": {
     "base_uri": "https://localhost:8080/",
     "height": 218
    },
    "colab_type": "code",
    "id": "FzUJNxUYd5WI",
    "outputId": "551fd932-290e-4076-82d4-87e6889daebd"
   },
   "outputs": [
    {
     "data": {
      "text/plain": [
       "CreditScore        0\n",
       "Geography          0\n",
       "Gender             0\n",
       "Age                0\n",
       "Tenure             0\n",
       "Balance            0\n",
       "NumOfProducts      0\n",
       "HasCrCard          0\n",
       "IsActiveMember     0\n",
       "EstimatedSalary    0\n",
       "Exited             0\n",
       "dtype: int64"
      ]
     },
     "execution_count": 8,
     "metadata": {},
     "output_type": "execute_result"
    }
   ],
   "source": [
    "# Checking null values \n",
    "\n",
    "df.isnull().sum()"
   ]
  },
  {
   "cell_type": "code",
   "execution_count": 9,
   "metadata": {
    "colab": {
     "base_uri": "https://localhost:8080/",
     "height": 284
    },
    "colab_type": "code",
    "id": "aKyes2X4d5WK",
    "outputId": "d2624ffc-4833-438e-c94b-559cabfa42af"
   },
   "outputs": [
    {
     "data": {
      "text/html": [
       "<div>\n",
       "<style scoped>\n",
       "    .dataframe tbody tr th:only-of-type {\n",
       "        vertical-align: middle;\n",
       "    }\n",
       "\n",
       "    .dataframe tbody tr th {\n",
       "        vertical-align: top;\n",
       "    }\n",
       "\n",
       "    .dataframe thead th {\n",
       "        text-align: right;\n",
       "    }\n",
       "</style>\n",
       "<table border=\"1\" class=\"dataframe\">\n",
       "  <thead>\n",
       "    <tr style=\"text-align: right;\">\n",
       "      <th></th>\n",
       "      <th>CreditScore</th>\n",
       "      <th>Age</th>\n",
       "      <th>Tenure</th>\n",
       "      <th>Balance</th>\n",
       "      <th>NumOfProducts</th>\n",
       "      <th>HasCrCard</th>\n",
       "      <th>IsActiveMember</th>\n",
       "      <th>EstimatedSalary</th>\n",
       "      <th>Exited</th>\n",
       "    </tr>\n",
       "  </thead>\n",
       "  <tbody>\n",
       "    <tr>\n",
       "      <td>count</td>\n",
       "      <td>10000.000000</td>\n",
       "      <td>10000.000000</td>\n",
       "      <td>10000.000000</td>\n",
       "      <td>10000.000000</td>\n",
       "      <td>10000.000000</td>\n",
       "      <td>10000.00000</td>\n",
       "      <td>10000.000000</td>\n",
       "      <td>10000.000000</td>\n",
       "      <td>10000.000000</td>\n",
       "    </tr>\n",
       "    <tr>\n",
       "      <td>mean</td>\n",
       "      <td>650.528800</td>\n",
       "      <td>38.921800</td>\n",
       "      <td>5.012800</td>\n",
       "      <td>76485.889288</td>\n",
       "      <td>1.530200</td>\n",
       "      <td>0.70550</td>\n",
       "      <td>0.515100</td>\n",
       "      <td>100090.239881</td>\n",
       "      <td>0.203700</td>\n",
       "    </tr>\n",
       "    <tr>\n",
       "      <td>std</td>\n",
       "      <td>96.653299</td>\n",
       "      <td>10.487806</td>\n",
       "      <td>2.892174</td>\n",
       "      <td>62397.405202</td>\n",
       "      <td>0.581654</td>\n",
       "      <td>0.45584</td>\n",
       "      <td>0.499797</td>\n",
       "      <td>57510.492818</td>\n",
       "      <td>0.402769</td>\n",
       "    </tr>\n",
       "    <tr>\n",
       "      <td>min</td>\n",
       "      <td>350.000000</td>\n",
       "      <td>18.000000</td>\n",
       "      <td>0.000000</td>\n",
       "      <td>0.000000</td>\n",
       "      <td>1.000000</td>\n",
       "      <td>0.00000</td>\n",
       "      <td>0.000000</td>\n",
       "      <td>11.580000</td>\n",
       "      <td>0.000000</td>\n",
       "    </tr>\n",
       "    <tr>\n",
       "      <td>25%</td>\n",
       "      <td>584.000000</td>\n",
       "      <td>32.000000</td>\n",
       "      <td>3.000000</td>\n",
       "      <td>0.000000</td>\n",
       "      <td>1.000000</td>\n",
       "      <td>0.00000</td>\n",
       "      <td>0.000000</td>\n",
       "      <td>51002.110000</td>\n",
       "      <td>0.000000</td>\n",
       "    </tr>\n",
       "    <tr>\n",
       "      <td>50%</td>\n",
       "      <td>652.000000</td>\n",
       "      <td>37.000000</td>\n",
       "      <td>5.000000</td>\n",
       "      <td>97198.540000</td>\n",
       "      <td>1.000000</td>\n",
       "      <td>1.00000</td>\n",
       "      <td>1.000000</td>\n",
       "      <td>100193.915000</td>\n",
       "      <td>0.000000</td>\n",
       "    </tr>\n",
       "    <tr>\n",
       "      <td>75%</td>\n",
       "      <td>718.000000</td>\n",
       "      <td>44.000000</td>\n",
       "      <td>7.000000</td>\n",
       "      <td>127644.240000</td>\n",
       "      <td>2.000000</td>\n",
       "      <td>1.00000</td>\n",
       "      <td>1.000000</td>\n",
       "      <td>149388.247500</td>\n",
       "      <td>0.000000</td>\n",
       "    </tr>\n",
       "    <tr>\n",
       "      <td>max</td>\n",
       "      <td>850.000000</td>\n",
       "      <td>92.000000</td>\n",
       "      <td>10.000000</td>\n",
       "      <td>250898.090000</td>\n",
       "      <td>4.000000</td>\n",
       "      <td>1.00000</td>\n",
       "      <td>1.000000</td>\n",
       "      <td>199992.480000</td>\n",
       "      <td>1.000000</td>\n",
       "    </tr>\n",
       "  </tbody>\n",
       "</table>\n",
       "</div>"
      ],
      "text/plain": [
       "        CreditScore           Age        Tenure        Balance  NumOfProducts  \\\n",
       "count  10000.000000  10000.000000  10000.000000   10000.000000   10000.000000   \n",
       "mean     650.528800     38.921800      5.012800   76485.889288       1.530200   \n",
       "std       96.653299     10.487806      2.892174   62397.405202       0.581654   \n",
       "min      350.000000     18.000000      0.000000       0.000000       1.000000   \n",
       "25%      584.000000     32.000000      3.000000       0.000000       1.000000   \n",
       "50%      652.000000     37.000000      5.000000   97198.540000       1.000000   \n",
       "75%      718.000000     44.000000      7.000000  127644.240000       2.000000   \n",
       "max      850.000000     92.000000     10.000000  250898.090000       4.000000   \n",
       "\n",
       "         HasCrCard  IsActiveMember  EstimatedSalary        Exited  \n",
       "count  10000.00000    10000.000000     10000.000000  10000.000000  \n",
       "mean       0.70550        0.515100    100090.239881      0.203700  \n",
       "std        0.45584        0.499797     57510.492818      0.402769  \n",
       "min        0.00000        0.000000        11.580000      0.000000  \n",
       "25%        0.00000        0.000000     51002.110000      0.000000  \n",
       "50%        1.00000        1.000000    100193.915000      0.000000  \n",
       "75%        1.00000        1.000000    149388.247500      0.000000  \n",
       "max        1.00000        1.000000    199992.480000      1.000000  "
      ]
     },
     "execution_count": 9,
     "metadata": {},
     "output_type": "execute_result"
    }
   ],
   "source": [
    "# Getting Summary \n",
    "\n",
    "df.describe()"
   ]
  },
  {
   "cell_type": "code",
   "execution_count": 10,
   "metadata": {
    "colab": {},
    "colab_type": "code",
    "id": "oz4Al66Od5WM"
   },
   "outputs": [],
   "source": [
    "# Checking Categorical Values\n",
    "\n",
    "categorical_val = []\n",
    "continous_val   = []\n",
    "\n",
    "for column in df.columns:\n",
    "    if len(df[column].unique()) <= 10:\n",
    "        categorical_val.append(column)\n",
    "    else:\n",
    "        continous_val.append(column)"
   ]
  },
  {
   "cell_type": "code",
   "execution_count": 11,
   "metadata": {
    "colab": {},
    "colab_type": "code",
    "id": "J6ZP7qNOd5WN",
    "outputId": "3125311c-a11f-4085-97fd-de271615af7d"
   },
   "outputs": [
    {
     "data": {
      "text/plain": [
       "['Geography',\n",
       " 'Gender',\n",
       " 'NumOfProducts',\n",
       " 'HasCrCard',\n",
       " 'IsActiveMember',\n",
       " 'Exited']"
      ]
     },
     "execution_count": 11,
     "metadata": {},
     "output_type": "execute_result"
    }
   ],
   "source": [
    "categorical_val"
   ]
  },
  {
   "cell_type": "code",
   "execution_count": 12,
   "metadata": {
    "colab": {},
    "colab_type": "code",
    "id": "B3MYfffbd5WP",
    "outputId": "e22acfea-e40b-4864-e99b-02f6c197f9a5"
   },
   "outputs": [
    {
     "data": {
      "text/plain": [
       "['CreditScore', 'Age', 'Tenure', 'Balance', 'EstimatedSalary']"
      ]
     },
     "execution_count": 12,
     "metadata": {},
     "output_type": "execute_result"
    }
   ],
   "source": [
    "continous_val"
   ]
  },
  {
   "cell_type": "markdown",
   "metadata": {
    "colab_type": "text",
    "id": "Z7FNPZb3d5WR"
   },
   "source": [
    "No need of following things to apply as dataset is already clean.\n",
    "\n",
    " - No null values to handle \n",
    "\n",
    "\n",
    " - No columns to be renamed \n",
    "\n",
    "\n",
    "- No repositioning of columns to be done.\n"
   ]
  },
  {
   "cell_type": "markdown",
   "metadata": {
    "colab_type": "text",
    "id": "68-jzLBed5WS"
   },
   "source": [
    "#### EDA - Categorical Value Visualization "
   ]
  },
  {
   "cell_type": "markdown",
   "metadata": {
    "colab_type": "text",
    "id": "Z_7VU1dEd5WS"
   },
   "source": [
    "> Target - `Exited`"
   ]
  },
  {
   "cell_type": "code",
   "execution_count": 13,
   "metadata": {
    "colab": {},
    "colab_type": "code",
    "id": "ydm4BmMxd5WS",
    "outputId": "e11ea0ba-a7aa-422a-acb2-1fb5e17e746f"
   },
   "outputs": [
    {
     "name": "stdout",
     "output_type": "stream",
     "text": [
      "Nos of people exiting (1) and non exting (0) from the bank:\n",
      "0    7963\n",
      "1    2037\n",
      "Name: Exited, dtype: int64\n"
     ]
    },
    {
     "data": {
      "image/png": "[encoded data removed]",
      "text/plain": [
       "<Figure size 720x432 with 1 Axes>"
      ]
     },
     "metadata": {
      "needs_background": "light"
     },
     "output_type": "display_data"
    }
   ],
   "source": [
    "plt.figure(figsize = (10,6))\n",
    "\n",
    "print(\"Nos of people exiting (1) and non exting (0) from the bank:\")\n",
    "print(df.Exited.value_counts())\n",
    "\n",
    "sns.countplot(x = 'Exited',\n",
    "              data = df,\n",
    "              palette = 'bone')\n",
    "\n",
    "plt.show()"
   ]
  },
  {
   "cell_type": "markdown",
   "metadata": {
    "colab_type": "text",
    "id": "dJ4Nh7wfd5WU"
   },
   "source": [
    "From the above graph we can see that there are more number of observation recorded for the people not exiting the bank."
   ]
  },
  {
   "cell_type": "markdown",
   "metadata": {
    "colab_type": "text",
    "id": "K6uq3i-Md5WU"
   },
   "source": [
    "> > `Geography` vs `Target`"
   ]
  },
  {
   "cell_type": "code",
   "execution_count": 14,
   "metadata": {
    "colab": {},
    "colab_type": "code",
    "id": "9FygfycOd5WV",
    "outputId": "98b48e90-f643-441c-9ca9-8b744c13181d"
   },
   "outputs": [
    {
     "name": "stdout",
     "output_type": "stream",
     "text": [
      "Nos of people residing in France   : 5014\n",
      "Nos of people residing in Spain    : 2509\n",
      "Nos of people residing inn Germany : 2477\n"
     ]
    },
    {
     "data": {
      "image/png": "[encoded data removed]",
      "text/plain": [
       "<Figure size 1440x360 with 3 Axes>"
      ]
     },
     "metadata": {
      "needs_background": "light"
     },
     "output_type": "display_data"
    }
   ],
   "source": [
    "plt.figure(figsize = (20,5))\n",
    "\n",
    "France, Spain, Germany = df.Geography.value_counts()\n",
    "print(\"Nos of people residing in France   :\", France)\n",
    "print(\"Nos of people residing in Spain    :\", Spain)\n",
    "print(\"Nos of people residing inn Germany :\", Germany)\n",
    "\n",
    "plt.subplot(1,3,1)\n",
    "sns.countplot(x = 'Geography',\n",
    "              data = df,\n",
    "              palette = 'bone')\n",
    "\n",
    "plt.subplot(1,3,2)\n",
    "sns.countplot(x = 'Exited',\n",
    "              data = df,\n",
    "              palette = 'bone',\n",
    "              hue = 'Geography')\n",
    "plt.legend(loc = 'upper left', bbox_to_anchor = (1,1))\n",
    "\n",
    "plt.subplot(1,3,3)\n",
    "labels  = ['France','Spain','Germany']\n",
    "size = df['Geography'].value_counts(), \n",
    "colors = ['lightgrey', 'whitesmoke', 'darkgrey']\n",
    "explode = [0, 0, 0.1]\n",
    "plt.pie(size, explode, shadow=True, autopct='%1.f%%', colors=colors, startangle=30)\n",
    "plt.axis('equal')\n",
    "plt.legend(labels, loc='upper left', bbox_to_anchor = (1,1))\n",
    "\n",
    "plt.show()"
   ]
  },
  {
   "cell_type": "markdown",
   "metadata": {
    "colab_type": "text",
    "id": "p9DS5tTZd5WX"
   },
   "source": [
    " - From the above visualization we can say that people residing in France contribute 50% of our dataset and rest residing in Spain and Germany each contribute 25%. \n",
    " \n",
    " \n",
    " - Also when the geography locations are compared with the target we see that people residing in France are more likely to stay. \n",
    " \n",
    " \n",
    " -  France and Germany have almost equal nos of counts leaving the bank where as Spain seems to be half of France of Germany."
   ]
  },
  {
   "cell_type": "markdown",
   "metadata": {
    "colab_type": "text",
    "id": "AtKDO-Lrd5WX"
   },
   "source": [
    "> > `Gender` vs `Target`"
   ]
  },
  {
   "cell_type": "code",
   "execution_count": 15,
   "metadata": {
    "colab": {},
    "colab_type": "code",
    "id": "LRiejtxMd5WY",
    "outputId": "956113a6-a454-4c85-c0c3-fc2b20250058",
    "scrolled": true
   },
   "outputs": [
    {
     "name": "stdout",
     "output_type": "stream",
     "text": [
      "Nos of Males   : 5457\n",
      "Nos of Females : 4543\n"
     ]
    },
    {
     "data": {
      "image/png": "[encoded data removed]",
      "text/plain": [
       "<Figure size 1440x360 with 3 Axes>"
      ]
     },
     "metadata": {
      "needs_background": "light"
     },
     "output_type": "display_data"
    }
   ],
   "source": [
    "plt.figure(figsize = (20,5))\n",
    "\n",
    "Male, Female = df.Gender.value_counts()\n",
    "print(\"Nos of Males   :\", Male)\n",
    "print(\"Nos of Females :\", Female)\n",
    "\n",
    "plt.subplot(1,3,1)\n",
    "sns.countplot(x = 'Gender',\n",
    "              data = df,\n",
    "              palette = 'bone')\n",
    "\n",
    "plt.subplot(1,3,2)\n",
    "sns.countplot(x = 'Exited',\n",
    "              data = df,\n",
    "              palette = 'bone',\n",
    "              hue = 'Gender')\n",
    "plt.legend(loc = 'upper left', bbox_to_anchor = (1,1))\n",
    "\n",
    "plt.subplot(1,3,3)\n",
    "labels  = ['Male','Female']\n",
    "size = df['Gender'].value_counts(), \n",
    "colors = ['lightgrey', 'whitesmoke']\n",
    "explode = [0, 0.1]\n",
    "plt.pie(size, explode, shadow=True, autopct='%1.f%%', colors=colors, startangle=30)\n",
    "plt.axis('equal')\n",
    "plt.legend(labels, loc='upper left', bbox_to_anchor = (1,1))\n",
    "\n",
    "plt.show()"
   ]
  },
  {
   "cell_type": "markdown",
   "metadata": {
    "colab_type": "text",
    "id": "epe-5g_5d5Wa"
   },
   "source": [
    "- From the above observation we can see that Male contribute 55% and Female contribute 45% of our dataset.\n",
    "\n",
    "\n",
    "-  Also when compared with target variable we see that more number of Males(approx.4500) stay in the bank when compared with Females(approx 3500)\n",
    "\n",
    "\n",
    "- There are very less number of females and males exiting from the bank but we see that females outnumbered males by very few values."
   ]
  },
  {
   "cell_type": "markdown",
   "metadata": {
    "colab_type": "text",
    "id": "Ir65V2u2d5Wa"
   },
   "source": [
    "> > `Num Of Products` vs `Target`"
   ]
  },
  {
   "cell_type": "code",
   "execution_count": 16,
   "metadata": {
    "colab": {},
    "colab_type": "code",
    "id": "RoQqp0tkd5Wa",
    "outputId": "f01b4619-893a-43a5-ebf6-bd9e13851b9f"
   },
   "outputs": [
    {
     "data": {
      "text/plain": [
       "<matplotlib.legend.Legend at 0x295bfcd9f88>"
      ]
     },
     "execution_count": 16,
     "metadata": {},
     "output_type": "execute_result"
    },
    {
     "data": {
      "image/png": "[encoded data removed]",
      "text/plain": [
       "<Figure size 1440x360 with 2 Axes>"
      ]
     },
     "metadata": {
      "needs_background": "light"
     },
     "output_type": "display_data"
    }
   ],
   "source": [
    "plt.figure(figsize=(20,5))\n",
    "\n",
    "plt.subplot(1,2,1)\n",
    "sns.countplot(x = 'Exited',\n",
    "              data = df,\n",
    "              palette = 'bone',\n",
    "              hue = 'NumOfProducts')\n",
    "plt.legend(loc = 'upper left', bbox_to_anchor = (1,1))\n",
    "\n",
    "plt.subplot(1,2,2)\n",
    "sns.barplot(x = 'NumOfProducts',\n",
    "            y = 'Age',\n",
    "            data = df,\n",
    "            hue = 'Exited', \n",
    "            palette ='bone')\n",
    "plt.legend(loc = 'upper left', bbox_to_anchor = (1,1))"
   ]
  },
  {
   "cell_type": "markdown",
   "metadata": {
    "colab_type": "text",
    "id": "b5zwGPLMd5Wc"
   },
   "source": [
    "-  From above visualization we can see that persons who are staying with bank, none of them purchased product which belongs to category 4.\n",
    "\n",
    "\n",
    "- Most of the users are attracted towards the product which belongs to category 2."
   ]
  },
  {
   "cell_type": "markdown",
   "metadata": {
    "colab_type": "text",
    "id": "FjtjM4Wxd5Wd"
   },
   "source": [
    " Q) How many males and females are there who did not purchased product 4 and are staying ?"
   ]
  },
  {
   "cell_type": "code",
   "execution_count": 17,
   "metadata": {
    "colab": {},
    "colab_type": "code",
    "id": "FztVcg-hd5Wd",
    "outputId": "f5a2bbf0-e731-4238-c1bb-ca4c6421c654"
   },
   "outputs": [
    {
     "name": "stdout",
     "output_type": "stream",
     "text": [
      "Series([], Name: Exited, dtype: int64)\n",
      "Series([], Name: Exited, dtype: int64)\n"
     ]
    }
   ],
   "source": [
    "print(df.Exited[(df.Gender == 'Male') & (df.NumOfProducts == 4) & (df.Exited == 0)].value_counts())\n",
    "print(df.Exited[(df.Gender == 'Female') & (df.NumOfProducts == 4) & (df.Exited == 0)].value_counts())"
   ]
  },
  {
   "cell_type": "code",
   "execution_count": 18,
   "metadata": {
    "colab": {},
    "colab_type": "code",
    "id": "R7zH2bMyd5Wh",
    "outputId": "db65cbf7-72d2-4de5-8cf6-8b660c155bee"
   },
   "outputs": [
    {
     "name": "stdout",
     "output_type": "stream",
     "text": [
      "1    22\n",
      "Name: Exited, dtype: int64\n",
      "1    38\n",
      "Name: Exited, dtype: int64\n"
     ]
    }
   ],
   "source": [
    "print(df.Exited[(df.Gender == 'Male') & (df.NumOfProducts == 4) & (df.Exited == 1)].value_counts())\n",
    "print(df.Exited[(df.Gender == 'Female') & (df.NumOfProducts == 4) & (df.Exited == 1)].value_counts())"
   ]
  },
  {
   "cell_type": "markdown",
   "metadata": {
    "colab_type": "text",
    "id": "uZ_mdXiSd5Wk"
   },
   "source": [
    " > > `Credict Card` vs `Target`"
   ]
  },
  {
   "cell_type": "code",
   "execution_count": 19,
   "metadata": {
    "colab": {},
    "colab_type": "code",
    "id": "IDYZXbR9d5Wl",
    "outputId": "0f12d359-06f4-4459-c47f-ab1f946c09ba"
   },
   "outputs": [
    {
     "data": {
      "text/plain": [
       "1    7055\n",
       "0    2945\n",
       "Name: HasCrCard, dtype: int64"
      ]
     },
     "execution_count": 19,
     "metadata": {},
     "output_type": "execute_result"
    }
   ],
   "source": [
    "df.HasCrCard.value_counts()"
   ]
  },
  {
   "cell_type": "code",
   "execution_count": 20,
   "metadata": {
    "colab": {},
    "colab_type": "code",
    "id": "QUSGxV24d5Wn",
    "outputId": "2469c0df-caac-41f5-a367-df6819e83ba1"
   },
   "outputs": [
    {
     "data": {
      "text/plain": [
       "<matplotlib.legend.Legend at 0x295bfd75e88>"
      ]
     },
     "execution_count": 20,
     "metadata": {},
     "output_type": "execute_result"
    },
    {
     "data": {
      "image/png": "[encoded data removed]",
      "text/plain": [
       "<Figure size 720x360 with 1 Axes>"
      ]
     },
     "metadata": {
      "needs_background": "light"
     },
     "output_type": "display_data"
    }
   ],
   "source": [
    "plt.figure(figsize = (10,5))\n",
    "\n",
    "sns.countplot(x = 'Exited',\n",
    "              data = df,\n",
    "              palette = 'bone',\n",
    "              hue = 'HasCrCard')\n",
    "\n",
    "plt.legend(loc = 'upper left', bbox_to_anchor = (1,1))"
   ]
  },
  {
   "cell_type": "code",
   "execution_count": 21,
   "metadata": {
    "colab": {},
    "colab_type": "code",
    "id": "tS8biF9zd5Wq",
    "outputId": "fa1c5aec-1ab7-4e49-862b-b6bdfece2f27"
   },
   "outputs": [
    {
     "data": {
      "text/plain": [
       "0    2332\n",
       "Name: Exited, dtype: int64"
      ]
     },
     "execution_count": 21,
     "metadata": {},
     "output_type": "execute_result"
    }
   ],
   "source": [
    "df.Exited[(df.HasCrCard == 0) & (df.Exited == 0)].value_counts()"
   ]
  },
  {
   "cell_type": "code",
   "execution_count": 22,
   "metadata": {
    "colab": {},
    "colab_type": "code",
    "id": "OpWdHzPmd5Ws",
    "outputId": "3fb2161f-9a0e-4856-9398-af0245e66ce8"
   },
   "outputs": [
    {
     "data": {
      "text/plain": [
       "1    613\n",
       "Name: Exited, dtype: int64"
      ]
     },
     "execution_count": 22,
     "metadata": {},
     "output_type": "execute_result"
    }
   ],
   "source": [
    "df.Exited[(df.HasCrCard == 0) & (df.Exited == 1)].value_counts()"
   ]
  },
  {
   "cell_type": "markdown",
   "metadata": {
    "colab_type": "text",
    "id": "9nVeP5JId5Wu"
   },
   "source": [
    ">  From the above visualization we can see that approx 80 % of the people (2332/2945) those who do not opt for credit card stay with the bank and only 20 % (613/2946) backout from the services."
   ]
  },
  {
   "cell_type": "markdown",
   "metadata": {
    "colab_type": "text",
    "id": "vWaGJzAVd5Wu"
   },
   "source": [
    "Q) How many observations are to be seen as positive - `exited = 1` where user had credit card and was active / not active?"
   ]
  },
  {
   "cell_type": "code",
   "execution_count": 23,
   "metadata": {
    "colab": {},
    "colab_type": "code",
    "id": "uVfKYw3Jd5Wu",
    "outputId": "f853a90b-da68-4f62-ced7-e074fe3672b6"
   },
   "outputs": [
    {
     "data": {
      "text/plain": [
       "1    482\n",
       "Name: Exited, dtype: int64"
      ]
     },
     "execution_count": 23,
     "metadata": {},
     "output_type": "execute_result"
    }
   ],
   "source": [
    "df.Exited[(df.HasCrCard == 1) & (df.IsActiveMember == 1) & (df.Exited == 1)].value_counts()"
   ]
  },
  {
   "cell_type": "code",
   "execution_count": 24,
   "metadata": {
    "colab": {},
    "colab_type": "code",
    "id": "OX_C7eh-d5Ww",
    "outputId": "a2bd6095-8bd2-41e2-db99-0470d5284abb"
   },
   "outputs": [
    {
     "data": {
      "text/plain": [
       "1    942\n",
       "Name: Exited, dtype: int64"
      ]
     },
     "execution_count": 24,
     "metadata": {},
     "output_type": "execute_result"
    }
   ],
   "source": [
    "df.Exited[(df.HasCrCard == 1) & (df.IsActiveMember == 0) & (df.Exited == 1)].value_counts()"
   ]
  },
  {
   "cell_type": "markdown",
   "metadata": {
    "colab_type": "text",
    "id": "pq_JxAgNd5Wy"
   },
   "source": [
    "> > `Active Member` vs `Target`"
   ]
  },
  {
   "cell_type": "code",
   "execution_count": 25,
   "metadata": {
    "colab": {},
    "colab_type": "code",
    "id": "D9Ppqqqod5Wy",
    "outputId": "697de5b4-ccbd-42d6-ef1e-2c402e3298c4"
   },
   "outputs": [
    {
     "data": {
      "text/plain": [
       "1    5151\n",
       "0    4849\n",
       "Name: IsActiveMember, dtype: int64"
      ]
     },
     "execution_count": 25,
     "metadata": {},
     "output_type": "execute_result"
    }
   ],
   "source": [
    "df.IsActiveMember.value_counts()"
   ]
  },
  {
   "cell_type": "code",
   "execution_count": 26,
   "metadata": {
    "colab": {},
    "colab_type": "code",
    "id": "_fslBNtPd5W0",
    "outputId": "1aef1c92-9662-4098-97a0-0fc186f2ab0c"
   },
   "outputs": [
    {
     "data": {
      "text/plain": [
       "<matplotlib.legend.Legend at 0x295bff86d88>"
      ]
     },
     "execution_count": 26,
     "metadata": {},
     "output_type": "execute_result"
    },
    {
     "data": {
      "image/png": "[encoded data removed]",
      "text/plain": [
       "<Figure size 720x432 with 1 Axes>"
      ]
     },
     "metadata": {
      "needs_background": "light"
     },
     "output_type": "display_data"
    }
   ],
   "source": [
    "plt.figure(figsize=(10,6))\n",
    "\n",
    "sns.countplot(x = 'Exited', \n",
    "              data = df,\n",
    "              palette = 'bone',\n",
    "              hue = 'IsActiveMember')\n",
    "\n",
    "plt.legend(loc = 'upper left', bbox_to_anchor = (1,1))"
   ]
  },
  {
   "cell_type": "code",
   "execution_count": 27,
   "metadata": {
    "colab": {},
    "colab_type": "code",
    "id": "GmEUcjbtd5W2",
    "outputId": "c1410059-2dd5-4bcb-802d-54258e4c944e"
   },
   "outputs": [
    {
     "data": {
      "text/plain": [
       "0    3547\n",
       "Name: Exited, dtype: int64"
      ]
     },
     "execution_count": 27,
     "metadata": {},
     "output_type": "execute_result"
    }
   ],
   "source": [
    "df.Exited[(df.IsActiveMember == 0) & (df.Exited == 0)].value_counts()"
   ]
  },
  {
   "cell_type": "code",
   "execution_count": 28,
   "metadata": {
    "colab": {},
    "colab_type": "code",
    "id": "OZoI4xFJd5W5",
    "outputId": "ad25c316-ceeb-481f-d7fb-addc6adb7dc7"
   },
   "outputs": [
    {
     "data": {
      "text/plain": [
       "1    735\n",
       "Name: Exited, dtype: int64"
      ]
     },
     "execution_count": 28,
     "metadata": {},
     "output_type": "execute_result"
    }
   ],
   "source": [
    "df.Exited[(df.IsActiveMember == 1) & (df.Exited == 1)].value_counts()"
   ]
  },
  {
   "cell_type": "markdown",
   "metadata": {
    "colab_type": "text",
    "id": "yeyeeOIqd5W7"
   },
   "source": [
    "- From the above visualization we can see that out of 4849 observations being inactive 70 % stayed with the bank and rest of the 30 % exited from the service. Also our prime focus should be those 70 % people being inactive and staying with the bank.\n"
   ]
  },
  {
   "cell_type": "code",
   "execution_count": 29,
   "metadata": {
    "colab": {},
    "colab_type": "code",
    "id": "I4Mv3m3dd5W7",
    "outputId": "476b8308-3ee8-489b-a62c-35f182194d58"
   },
   "outputs": [
    {
     "data": {
      "image/png": "[encoded data removed]",
      "text/plain": [
       "<Figure size 1440x1440 with 6 Axes>"
      ]
     },
     "metadata": {
      "needs_background": "light"
     },
     "output_type": "display_data"
    }
   ],
   "source": [
    "# Representing all categorical values vs target together.\n",
    "\n",
    "plt.figure(figsize=(20, 20))\n",
    "\n",
    "for i, column in enumerate(categorical_val, 1):\n",
    "    plt.subplot(3, 3, i)\n",
    "    df[df[\"Exited\"] == 0][column].hist(bins=35, color='blue', label='EXIT = NO',  alpha=0.6)\n",
    "    df[df[\"Exited\"] == 1][column].hist(bins=35, color='red',  label='EXIT = YES', alpha=0.6)\n",
    "    plt.legend()\n",
    "    plt.xlabel(column)\n",
    "\n",
    "plt.show()"
   ]
  },
  {
   "cell_type": "markdown",
   "metadata": {
    "colab_type": "text",
    "id": "yEN3lrTad5W9"
   },
   "source": [
    "#### EDA - Continous Value Visualization"
   ]
  },
  {
   "cell_type": "markdown",
   "metadata": {
    "colab_type": "text",
    "id": "3NIEa2VId5W9"
   },
   "source": [
    "> > `AGE`"
   ]
  },
  {
   "cell_type": "code",
   "execution_count": 30,
   "metadata": {
    "colab": {},
    "colab_type": "code",
    "id": "39foiygrd5W9",
    "outputId": "c3affa1a-aba4-43c1-8b09-d461150f1680"
   },
   "outputs": [
    {
     "data": {
      "text/plain": [
       "count    10000.000000\n",
       "mean        38.921800\n",
       "std         10.487806\n",
       "min         18.000000\n",
       "25%         32.000000\n",
       "50%         37.000000\n",
       "75%         44.000000\n",
       "max         92.000000\n",
       "Name: Age, dtype: float64"
      ]
     },
     "execution_count": 30,
     "metadata": {},
     "output_type": "execute_result"
    }
   ],
   "source": [
    "#5 point summary\n",
    "\n",
    "df['Age'].describe()"
   ]
  },
  {
   "cell_type": "code",
   "execution_count": 31,
   "metadata": {
    "colab": {},
    "colab_type": "code",
    "id": "kdGSb-h1d5W_",
    "outputId": "fe6c2c05-1719-4453-a27a-190d68495dff"
   },
   "outputs": [
    {
     "data": {
      "image/png": "[encoded data removed]",
      "text/plain": [
       "<Figure size 1440x432 with 1 Axes>"
      ]
     },
     "metadata": {
      "needs_background": "light"
     },
     "output_type": "display_data"
    }
   ],
   "source": [
    "plt.figure (figsize = (20,6))\n",
    "\n",
    "sns.countplot(df['Age'], palette = 'hsv')\n",
    "\n",
    "plt.title('Distribution of Age')\n",
    "plt.show()"
   ]
  },
  {
   "cell_type": "code",
   "execution_count": 32,
   "metadata": {
    "colab": {},
    "colab_type": "code",
    "id": "7nTIWqBod5XB",
    "outputId": "0b954eef-7637-40f9-ad93-fecc7003fa19"
   },
   "outputs": [
    {
     "data": {
      "image/png": "[encoded data removed]",
      "text/plain": [
       "<Figure size 1440x360 with 3 Axes>"
      ]
     },
     "metadata": {
      "needs_background": "light"
     },
     "output_type": "display_data"
    }
   ],
   "source": [
    "plt.figure(figsize=(20,5))\n",
    "\n",
    "plt.subplot(1,3,1)\n",
    "sns.distplot(df['Age'] , kde = False , bins = 10)\n",
    "\n",
    "plt.subplot(1,3,2)\n",
    "sns.distplot(df['Age'] , hist = False )\n",
    "\n",
    "plt.subplot(1,3,3)\n",
    "plt.boxplot(x = df['Age'],\n",
    "            vert = False,\n",
    "            meanline= True,\n",
    "            showmeans= True)\n",
    "\n",
    "plt.show()"
   ]
  },
  {
   "cell_type": "markdown",
   "metadata": {
    "colab_type": "text",
    "id": "OdZnHrsRd5XC"
   },
   "source": [
    "- Above graphs are conveying the same message but in different way.\n",
    "\n",
    "\n",
    "- We can see that `age` variable is positively skewed where mean > median. Most of the observation are between 30-50 age group."
   ]
  },
  {
   "cell_type": "markdown",
   "metadata": {
    "colab_type": "text",
    "id": "zRjm72Oed5XD"
   },
   "source": [
    "> > `Credit Score`"
   ]
  },
  {
   "cell_type": "code",
   "execution_count": 33,
   "metadata": {
    "colab": {},
    "colab_type": "code",
    "id": "jZFROf59d5XE",
    "outputId": "ea866ae5-4be3-4f7a-a286-bf64b44fdc6c"
   },
   "outputs": [
    {
     "data": {
      "text/plain": [
       "count    10000.000000\n",
       "mean       650.528800\n",
       "std         96.653299\n",
       "min        350.000000\n",
       "25%        584.000000\n",
       "50%        652.000000\n",
       "75%        718.000000\n",
       "max        850.000000\n",
       "Name: CreditScore, dtype: float64"
      ]
     },
     "execution_count": 33,
     "metadata": {},
     "output_type": "execute_result"
    }
   ],
   "source": [
    "# 5 point summary\n",
    "\n",
    "df.CreditScore.describe()"
   ]
  },
  {
   "cell_type": "code",
   "execution_count": 34,
   "metadata": {
    "colab": {},
    "colab_type": "code",
    "id": "4OZWAcn0d5XG",
    "outputId": "7fc3c6e4-9ee3-4f15-beb3-7e3311d5465a"
   },
   "outputs": [
    {
     "data": {
      "image/png": "[encoded data removed]",
      "text/plain": [
       "<Figure size 1440x360 with 3 Axes>"
      ]
     },
     "metadata": {
      "needs_background": "light"
     },
     "output_type": "display_data"
    }
   ],
   "source": [
    "plt.figure(figsize = (20, 5))\n",
    "\n",
    "plt.subplot(1,3,1)\n",
    "sns.distplot(df.CreditScore, kde = False, bins = 10)\n",
    "\n",
    "plt.subplot(1,3,2)\n",
    "sns.distplot(df.CreditScore, hist = False)\n",
    "\n",
    "plt.subplot(1,3,3)\n",
    "plt.boxplot(x = df['CreditScore'],\n",
    "            vert = False,\n",
    "            meanline= True,\n",
    "            showmeans= True)\n",
    "\n",
    "plt.show()"
   ]
  },
  {
   "cell_type": "markdown",
   "metadata": {
    "colab_type": "text",
    "id": "rkKr4Ljhd5XH"
   },
   "source": [
    "- Above graphs are conveying the same message but in different way \n",
    "\n",
    "\n",
    "- We can see that `credit score` is normally distributed where mean = median. No skewness is observed.\n",
    "\n",
    "\n",
    "- Most of the observation have credit score between 580 - 720 as seen from 5 point summary and box plot graph."
   ]
  },
  {
   "cell_type": "markdown",
   "metadata": {
    "colab_type": "text",
    "id": "oxTOULz_d5XI"
   },
   "source": [
    "> > Tenure"
   ]
  },
  {
   "cell_type": "code",
   "execution_count": 35,
   "metadata": {
    "colab": {},
    "colab_type": "code",
    "id": "oCt7F9lvd5XI",
    "outputId": "5de0b31a-493c-4206-face-6abc264fa350"
   },
   "outputs": [
    {
     "data": {
      "text/plain": [
       "count    10000.000000\n",
       "mean         5.012800\n",
       "std          2.892174\n",
       "min          0.000000\n",
       "25%          3.000000\n",
       "50%          5.000000\n",
       "75%          7.000000\n",
       "max         10.000000\n",
       "Name: Tenure, dtype: float64"
      ]
     },
     "execution_count": 35,
     "metadata": {},
     "output_type": "execute_result"
    }
   ],
   "source": [
    "# 5 point summary\n",
    "\n",
    "df.Tenure.describe()"
   ]
  },
  {
   "cell_type": "code",
   "execution_count": 36,
   "metadata": {
    "colab": {},
    "colab_type": "code",
    "id": "e17CVmeJd5XK",
    "outputId": "7141140c-23a6-419c-fc74-f3705412658f"
   },
   "outputs": [
    {
     "data": {
      "image/png": "[encoded data removed]",
      "text/plain": [
       "<Figure size 1440x432 with 3 Axes>"
      ]
     },
     "metadata": {
      "needs_background": "light"
     },
     "output_type": "display_data"
    }
   ],
   "source": [
    "plt.figure(figsize = (20,6))\n",
    "\n",
    "plt.subplot(1,3,1)\n",
    "sns.distplot(df.Tenure, kde = False, bins = 10)\n",
    "\n",
    "plt.subplot(1,3,2)\n",
    "sns.distplot(df.Tenure, hist = False)\n",
    "\n",
    "plt.subplot(1,3,3)\n",
    "plt.boxplot(x = df['Tenure'],\n",
    "            vert = False,\n",
    "            meanline= True,\n",
    "            showmeans= True)\n",
    "\n",
    "plt.show()"
   ]
  },
  {
   "cell_type": "markdown",
   "metadata": {
    "colab_type": "text",
    "id": "jyt65M_ld5XM"
   },
   "source": [
    " - Above graphs are conveying the message in same way but in different manner.\n",
    " \n",
    " \n",
    " - We can see that `Tenure` is normally distributed and no outliers are observerd as the unique values are within the range.\n",
    " "
   ]
  },
  {
   "cell_type": "markdown",
   "metadata": {
    "colab_type": "text",
    "id": "aPbFdFIld5XN"
   },
   "source": [
    "> > `Balance`"
   ]
  },
  {
   "cell_type": "code",
   "execution_count": 37,
   "metadata": {
    "colab": {},
    "colab_type": "code",
    "id": "tteaWQ6Ad5XN",
    "outputId": "5b653ffb-84c2-48ac-b039-314f5357e998"
   },
   "outputs": [
    {
     "data": {
      "text/plain": [
       "count     10000.000000\n",
       "mean      76485.889288\n",
       "std       62397.405202\n",
       "min           0.000000\n",
       "25%           0.000000\n",
       "50%       97198.540000\n",
       "75%      127644.240000\n",
       "max      250898.090000\n",
       "Name: Balance, dtype: float64"
      ]
     },
     "execution_count": 37,
     "metadata": {},
     "output_type": "execute_result"
    }
   ],
   "source": [
    "# 5 point summary\n",
    "\n",
    "df['Balance'].describe()"
   ]
  },
  {
   "cell_type": "code",
   "execution_count": 38,
   "metadata": {
    "colab": {},
    "colab_type": "code",
    "id": "o6ahzoBLd5XQ",
    "outputId": "24da8669-b354-4494-a279-71bde7a95d45"
   },
   "outputs": [
    {
     "data": {
      "text/plain": [
       "0.0    3617\n",
       "Name: Balance, dtype: int64"
      ]
     },
     "execution_count": 38,
     "metadata": {},
     "output_type": "execute_result"
    }
   ],
   "source": [
    "df.Balance[(df['Balance'] == 0)].value_counts()"
   ]
  },
  {
   "cell_type": "code",
   "execution_count": 39,
   "metadata": {
    "colab": {},
    "colab_type": "code",
    "id": "lpcnxrckd5XT",
    "outputId": "bd7e66b7-f6bb-4376-d5a1-a67b3a43dc25"
   },
   "outputs": [
    {
     "data": {
      "image/png": "[encoded data removed]",
      "text/plain": [
       "<Figure size 1440x432 with 3 Axes>"
      ]
     },
     "metadata": {
      "needs_background": "light"
     },
     "output_type": "display_data"
    }
   ],
   "source": [
    "plt.figure(figsize=(20,6))\n",
    "\n",
    "plt.subplot(1,3,1)\n",
    "sns.distplot(df['Balance'], kde = False, hist=10)\n",
    "\n",
    "plt.subplot(1,3,2)\n",
    "sns.distplot(df['Balance'], hist = False)\n",
    "\n",
    "plt.subplot(1,3,3)\n",
    "plt.boxplot(x = df['Balance'],\n",
    "            vert= False,\n",
    "            meanline= True,\n",
    "            showmeans= True)\n",
    "\n",
    "plt.show()"
   ]
  },
  {
   "cell_type": "markdown",
   "metadata": {
    "colab_type": "text",
    "id": "HyZHOgead5XV"
   },
   "source": [
    "- Above graphs are conveying the message in same way but in different manner.\n",
    "\n",
    "\n",
    "- From the box plot we can clearly see that `Balance` attribute is left skewed (negative) where mean < median"
   ]
  },
  {
   "cell_type": "code",
   "execution_count": 40,
   "metadata": {
    "colab": {},
    "colab_type": "code",
    "id": "RWbgDFUid5XV",
    "outputId": "9ce03143-7bdf-4e93-cca6-2962aaa7f167"
   },
   "outputs": [
    {
     "data": {
      "text/plain": [
       "['CreditScore', 'Age', 'Tenure', 'Balance', 'EstimatedSalary']"
      ]
     },
     "execution_count": 40,
     "metadata": {},
     "output_type": "execute_result"
    }
   ],
   "source": [
    "continous_val"
   ]
  },
  {
   "cell_type": "markdown",
   "metadata": {
    "colab_type": "text",
    "id": "XOBKE7-Pd5XY"
   },
   "source": [
    "> > `Estimated Salary`"
   ]
  },
  {
   "cell_type": "code",
   "execution_count": 41,
   "metadata": {
    "colab": {},
    "colab_type": "code",
    "id": "U9bOI3Vvd5XY",
    "outputId": "04001dfb-e359-4e4d-be4d-9984cbaab799"
   },
   "outputs": [
    {
     "data": {
      "text/plain": [
       "count     10000.000000\n",
       "mean     100090.239881\n",
       "std       57510.492818\n",
       "min          11.580000\n",
       "25%       51002.110000\n",
       "50%      100193.915000\n",
       "75%      149388.247500\n",
       "max      199992.480000\n",
       "Name: EstimatedSalary, dtype: float64"
      ]
     },
     "execution_count": 41,
     "metadata": {},
     "output_type": "execute_result"
    }
   ],
   "source": [
    "# 5 point summary\n",
    "\n",
    "df['EstimatedSalary'].describe()"
   ]
  },
  {
   "cell_type": "code",
   "execution_count": 42,
   "metadata": {
    "colab": {},
    "colab_type": "code",
    "id": "5DU8InDFd5Xa",
    "outputId": "1f330905-bc74-4028-8522-312651a513c6"
   },
   "outputs": [
    {
     "data": {
      "image/png": "[encoded data removed]",
      "text/plain": [
       "<Figure size 1440x432 with 3 Axes>"
      ]
     },
     "metadata": {
      "needs_background": "light"
     },
     "output_type": "display_data"
    }
   ],
   "source": [
    "plt.figure(figsize=(20,6))\n",
    "\n",
    "plt.subplot(1,3,1)\n",
    "sns.distplot(df['EstimatedSalary'], kde = False, hist=10)\n",
    "\n",
    "plt.subplot(1,3,2)\n",
    "sns.distplot(df['EstimatedSalary'], hist = False)\n",
    "\n",
    "plt.subplot(1,3,3)\n",
    "plt.boxplot(x = df['EstimatedSalary'],\n",
    "            vert= False,\n",
    "            meanline= True,\n",
    "            showmeans= True)\n",
    "\n",
    "plt.show()"
   ]
  },
  {
   "cell_type": "markdown",
   "metadata": {
    "colab_type": "text",
    "id": "o7GwQvxNd5Xb"
   },
   "source": [
    "- Above graphs are conveying the same message but in differnet way.\n",
    "\n",
    "\n",
    "- We can see that `Salary` attribute is normally distributed and no outliers are detected."
   ]
  },
  {
   "cell_type": "code",
   "execution_count": 43,
   "metadata": {
    "colab": {},
    "colab_type": "code",
    "id": "DOU1jjw9d5Xc",
    "outputId": "94858e52-f1aa-4e10-a536-e4c7ce17dad1"
   },
   "outputs": [
    {
     "data": {
      "image/png": "[encoded data removed]",
      "text/plain": [
       "<Figure size 1440x1080 with 5 Axes>"
      ]
     },
     "metadata": {
      "needs_background": "light"
     },
     "output_type": "display_data"
    }
   ],
   "source": [
    "# Representing all continous values with target variable.\n",
    "\n",
    "plt.figure(figsize=(20, 15))\n",
    "\n",
    "for i, column in enumerate(continous_val, 1):\n",
    "    plt.subplot(3, 2, i)\n",
    "    plt.subplots_adjust(wspace = 0.4, hspace= 0.4)\n",
    "    df[df[\"Exited\"] == 0][column].hist(bins=35, color='blue', label='Exit = NO', alpha=0.6)\n",
    "    df[df[\"Exited\"] == 1][column].hist(bins=35, color='red',  label='Exit = YES', alpha=0.6)\n",
    "    plt.legend(loc = 'upper left', bbox_to_anchor = (1,1))\n",
    "    plt.xlabel(column)\n",
    "\n",
    "plt.show()"
   ]
  },
  {
   "cell_type": "markdown",
   "metadata": {
    "colab_type": "text",
    "id": "rUmwb9red5Xd"
   },
   "source": [
    "- From the above visualizations we can see that irrespective of what value they have for various continous variables in our dataset most of the people stay with the bank and very few people leave the bank."
   ]
  },
  {
   "cell_type": "code",
   "execution_count": 44,
   "metadata": {
    "colab": {},
    "colab_type": "code",
    "id": "5C3WyPZjd5Xd",
    "outputId": "19ebf2c5-1853-4c7d-d90c-aac33284c559"
   },
   "outputs": [
    {
     "data": {
      "text/plain": [
       "['CreditScore', 'Age', 'Tenure', 'Balance', 'EstimatedSalary']"
      ]
     },
     "execution_count": 44,
     "metadata": {},
     "output_type": "execute_result"
    }
   ],
   "source": [
    "continous_val"
   ]
  },
  {
   "cell_type": "markdown",
   "metadata": {
    "colab_type": "text",
    "id": "ajvGvcYAd5Xf"
   },
   "source": [
    "#### Age Group Visualization"
   ]
  },
  {
   "cell_type": "code",
   "execution_count": 45,
   "metadata": {
    "colab": {},
    "colab_type": "code",
    "id": "Kb0FNO3xd5Xf",
    "outputId": "d19fbcf3-7dc4-4aff-aed4-7c5087f8cc48"
   },
   "outputs": [
    {
     "name": "stdout",
     "output_type": "stream",
     "text": [
      "Nos of customers based on Age-Group \n",
      "\n",
      "Nos of customers between 18-30    : 1968\n",
      "Nos of customers between 31-60    : 7568\n",
      "Nos of customers between 60_above : 464\n"
     ]
    },
    {
     "data": {
      "image/png": "[encoded data removed]",
      "text/plain": [
       "<Figure size 720x432 with 1 Axes>"
      ]
     },
     "metadata": {
      "needs_background": "light"
     },
     "output_type": "display_data"
    }
   ],
   "source": [
    "age18_30    = df.Age[(df.Age <= 30) & (df.Age >= 18)]\n",
    "age31_60    = df.Age[(df.Age <= 60) & (df.Age >= 31)]\n",
    "age61_above = df.Age[(df.Age >= 61)]\n",
    "\n",
    "print('Nos of customers based on Age-Group \\n')\n",
    "print('Nos of customers between 18-30    :', age18_30.value_counts().sum())\n",
    "print('Nos of customers between 31-60    :', age31_60.value_counts().sum())\n",
    "print('Nos of customers between 60_above :', age61_above.value_counts().sum())\n",
    "\n",
    "X = [\"18-30\", \"31-60\", \"61_Above\"]\n",
    "y = [len(age18_30.values), len(age31_60.values), len(age61_above.values)]\n",
    "\n",
    "plt.figure(figsize=(10,6))\n",
    "sns.barplot(x=X, \n",
    "            y=y, \n",
    "            palette=['ghostwhite','lavender','royalblue'])\n",
    "plt.title(\"Number of Customer based on Age-Groups\")\n",
    "plt.xlabel(\"Age\")\n",
    "plt.ylabel(\"Number of Customer\")\n",
    "plt.show()"
   ]
  },
  {
   "cell_type": "code",
   "execution_count": 46,
   "metadata": {
    "colab": {},
    "colab_type": "code",
    "id": "0vMWA2Lid5Xh"
   },
   "outputs": [],
   "source": [
    "age18_30    = df[(df.Age <= 30) & (df.Age >= 18)]\n",
    "age31_60    = df[(df.Age <= 60) & (df.Age >= 31)]\n",
    "age61_above = df[(df.Age >= 61)]"
   ]
  },
  {
   "cell_type": "markdown",
   "metadata": {
    "colab_type": "text",
    "id": "yOdXJ0E2d5Xj"
   },
   "source": [
    "> > `Exited`"
   ]
  },
  {
   "cell_type": "code",
   "execution_count": 47,
   "metadata": {
    "colab": {},
    "colab_type": "code",
    "id": "4C4uBtmkd5Xk",
    "outputId": "0b1a3ea1-bc8e-44fa-b724-76bd5dcd1f83"
   },
   "outputs": [
    {
     "data": {
      "image/png": "[encoded data removed]",
      "text/plain": [
       "<Figure size 720x432 with 1 Axes>"
      ]
     },
     "metadata": {
      "needs_background": "light"
     },
     "output_type": "display_data"
    }
   ],
   "source": [
    "# Age Group between 18-30 \n",
    "\n",
    "plt.figure(figsize = (10,6))\n",
    "sns.countplot(x = 'Exited', \n",
    "              data = age18_30,\n",
    "              palette=[\"gainsboro\", \"whitesmoke\"],\n",
    "              hue = 'Gender')\n",
    "plt.legend(loc = 'upper left', bbox_to_anchor = (1,1))\n",
    "plt.show()"
   ]
  },
  {
   "cell_type": "code",
   "execution_count": 48,
   "metadata": {
    "colab": {},
    "colab_type": "code",
    "id": "DBNdnB3Qd5Xn",
    "outputId": "3db55396-459d-4b71-9e7f-81942d5fb5fd"
   },
   "outputs": [
    {
     "data": {
      "image/png": "[encoded data removed]",
      "text/plain": [
       "<Figure size 720x432 with 1 Axes>"
      ]
     },
     "metadata": {
      "needs_background": "light"
     },
     "output_type": "display_data"
    }
   ],
   "source": [
    "# Age Group between 31-60 \n",
    "\n",
    "plt.figure(figsize = (10,6))\n",
    "sns.countplot(x = 'Exited', \n",
    "              data = age31_60,\n",
    "              palette=[\"gainsboro\", \"whitesmoke\"],\n",
    "              hue = 'Gender')\n",
    "plt.legend(loc = 'upper left', bbox_to_anchor = (1,1))\n",
    "plt.show()"
   ]
  },
  {
   "cell_type": "code",
   "execution_count": 49,
   "metadata": {
    "colab": {},
    "colab_type": "code",
    "id": "FK7e7_Lbd5Xr",
    "outputId": "9a416882-a8b6-4fdb-b063-454201213598"
   },
   "outputs": [
    {
     "data": {
      "image/png": "[encoded data removed]",
      "text/plain": [
       "<Figure size 720x432 with 1 Axes>"
      ]
     },
     "metadata": {
      "needs_background": "light"
     },
     "output_type": "display_data"
    }
   ],
   "source": [
    "# Age Group between 60 & above \n",
    "\n",
    "plt.figure(figsize = (10,6))\n",
    "sns.countplot(x = 'Exited', \n",
    "              data = age61_above,\n",
    "              palette=[\"gainsboro\", \"whitesmoke\"],\n",
    "              hue = 'Gender')\n",
    "plt.legend(loc = 'upper left', bbox_to_anchor = (1,1))\n",
    "plt.show()"
   ]
  },
  {
   "cell_type": "markdown",
   "metadata": {
    "colab_type": "text",
    "id": "e1tvi1G8d5Xt"
   },
   "source": [
    " - From all the graphs related to `Age-Group` vs `Exited` above we can comment that.\n",
    " \n",
    "     - There are more people belonging to age group between 31-60 hence we had obtained right skewed graph.\n",
    "     - Most of people stay with bank as seen from the above age-group visualization.\n",
    "     - `Exited = 0` - Males > Womens\n",
    "     - `Exited = 1` - Males < Womens"
   ]
  },
  {
   "cell_type": "markdown",
   "metadata": {
    "colab_type": "text",
    "id": "I8HvK3nid5Xt"
   },
   "source": [
    "#### Encoding Categorical Data "
   ]
  },
  {
   "cell_type": "code",
   "execution_count": 50,
   "metadata": {
    "colab": {
     "base_uri": "https://localhost:8080/",
     "height": 195
    },
    "colab_type": "code",
    "id": "Zg7ckGwjd5Xu",
    "outputId": "d79f97b4-41fc-40ac-c631-1ff7a2e893c8"
   },
   "outputs": [
    {
     "data": {
      "text/html": [
       "<div>\n",
       "<style scoped>\n",
       "    .dataframe tbody tr th:only-of-type {\n",
       "        vertical-align: middle;\n",
       "    }\n",
       "\n",
       "    .dataframe tbody tr th {\n",
       "        vertical-align: top;\n",
       "    }\n",
       "\n",
       "    .dataframe thead th {\n",
       "        text-align: right;\n",
       "    }\n",
       "</style>\n",
       "<table border=\"1\" class=\"dataframe\">\n",
       "  <thead>\n",
       "    <tr style=\"text-align: right;\">\n",
       "      <th></th>\n",
       "      <th>CreditScore</th>\n",
       "      <th>Geography</th>\n",
       "      <th>Gender</th>\n",
       "      <th>Age</th>\n",
       "      <th>Tenure</th>\n",
       "      <th>Balance</th>\n",
       "      <th>NumOfProducts</th>\n",
       "      <th>HasCrCard</th>\n",
       "      <th>IsActiveMember</th>\n",
       "      <th>EstimatedSalary</th>\n",
       "      <th>Exited</th>\n",
       "    </tr>\n",
       "  </thead>\n",
       "  <tbody>\n",
       "    <tr>\n",
       "      <td>0</td>\n",
       "      <td>619</td>\n",
       "      <td>France</td>\n",
       "      <td>Female</td>\n",
       "      <td>42</td>\n",
       "      <td>2</td>\n",
       "      <td>0.00</td>\n",
       "      <td>1</td>\n",
       "      <td>1</td>\n",
       "      <td>1</td>\n",
       "      <td>101348.88</td>\n",
       "      <td>1</td>\n",
       "    </tr>\n",
       "    <tr>\n",
       "      <td>1</td>\n",
       "      <td>608</td>\n",
       "      <td>Spain</td>\n",
       "      <td>Female</td>\n",
       "      <td>41</td>\n",
       "      <td>1</td>\n",
       "      <td>83807.86</td>\n",
       "      <td>1</td>\n",
       "      <td>0</td>\n",
       "      <td>1</td>\n",
       "      <td>112542.58</td>\n",
       "      <td>0</td>\n",
       "    </tr>\n",
       "    <tr>\n",
       "      <td>2</td>\n",
       "      <td>502</td>\n",
       "      <td>France</td>\n",
       "      <td>Female</td>\n",
       "      <td>42</td>\n",
       "      <td>8</td>\n",
       "      <td>159660.80</td>\n",
       "      <td>3</td>\n",
       "      <td>1</td>\n",
       "      <td>0</td>\n",
       "      <td>113931.57</td>\n",
       "      <td>1</td>\n",
       "    </tr>\n",
       "    <tr>\n",
       "      <td>3</td>\n",
       "      <td>699</td>\n",
       "      <td>France</td>\n",
       "      <td>Female</td>\n",
       "      <td>39</td>\n",
       "      <td>1</td>\n",
       "      <td>0.00</td>\n",
       "      <td>2</td>\n",
       "      <td>0</td>\n",
       "      <td>0</td>\n",
       "      <td>93826.63</td>\n",
       "      <td>0</td>\n",
       "    </tr>\n",
       "    <tr>\n",
       "      <td>4</td>\n",
       "      <td>850</td>\n",
       "      <td>Spain</td>\n",
       "      <td>Female</td>\n",
       "      <td>43</td>\n",
       "      <td>2</td>\n",
       "      <td>125510.82</td>\n",
       "      <td>1</td>\n",
       "      <td>1</td>\n",
       "      <td>1</td>\n",
       "      <td>79084.10</td>\n",
       "      <td>0</td>\n",
       "    </tr>\n",
       "  </tbody>\n",
       "</table>\n",
       "</div>"
      ],
      "text/plain": [
       "   CreditScore Geography  Gender  Age  Tenure    Balance  NumOfProducts  \\\n",
       "0          619    France  Female   42       2       0.00              1   \n",
       "1          608     Spain  Female   41       1   83807.86              1   \n",
       "2          502    France  Female   42       8  159660.80              3   \n",
       "3          699    France  Female   39       1       0.00              2   \n",
       "4          850     Spain  Female   43       2  125510.82              1   \n",
       "\n",
       "   HasCrCard  IsActiveMember  EstimatedSalary  Exited  \n",
       "0          1               1        101348.88       1  \n",
       "1          0               1        112542.58       0  \n",
       "2          1               0        113931.57       1  \n",
       "3          0               0         93826.63       0  \n",
       "4          1               1         79084.10       0  "
      ]
     },
     "execution_count": 50,
     "metadata": {},
     "output_type": "execute_result"
    }
   ],
   "source": [
    "df.head()"
   ]
  },
  {
   "cell_type": "code",
   "execution_count": 51,
   "metadata": {
    "colab": {},
    "colab_type": "code",
    "id": "JYBFnE2bd5Xv"
   },
   "outputs": [],
   "source": [
    "#Splitting data into Independednt & Dependent\n",
    "\n",
    "X = df.iloc[:, 0:10].values\n",
    "y = df.iloc[:, -1].values"
   ]
  },
  {
   "cell_type": "code",
   "execution_count": 52,
   "metadata": {
    "colab": {
     "base_uri": "https://localhost:8080/",
     "height": 134
    },
    "colab_type": "code",
    "id": "Y_lOj64BjYGZ",
    "outputId": "cc8de8f9-60b9-4d9a-88da-d234a2570252"
   },
   "outputs": [
    {
     "name": "stdout",
     "output_type": "stream",
     "text": [
      "[[619 'France' 'Female' ... 1 1 101348.88]\n",
      " [608 'Spain' 'Female' ... 0 1 112542.58]\n",
      " [502 'France' 'Female' ... 1 0 113931.57]\n",
      " ...\n",
      " [709 'France' 'Female' ... 0 1 42085.58]\n",
      " [772 'Germany' 'Male' ... 1 0 92888.52]\n",
      " [792 'France' 'Female' ... 1 0 38190.78]]\n"
     ]
    }
   ],
   "source": [
    "print(X)"
   ]
  },
  {
   "cell_type": "code",
   "execution_count": 53,
   "metadata": {
    "colab": {},
    "colab_type": "code",
    "id": "yu2xeDDqd5Xw"
   },
   "outputs": [],
   "source": [
    "# Using Label Encoder to encode the gender feature.\n",
    "\n",
    "from sklearn.preprocessing import LabelEncoder\n",
    "labelencoder_X = LabelEncoder()\n",
    "X[:, 2] = labelencoder_X.fit_transform(X[:, 2])"
   ]
  },
  {
   "cell_type": "code",
   "execution_count": 54,
   "metadata": {
    "colab": {},
    "colab_type": "code",
    "id": "Jjbd9_xPd5Xy"
   },
   "outputs": [],
   "source": [
    "#Using Label Encoder + One Hot Encoder to encode the geography feature.\n",
    "\n",
    "from sklearn.preprocessing import LabelEncoder\n",
    "labelencoder_X = LabelEncoder()\n",
    "X[:, 1] = labelencoder_X.fit_transform(X[:, 1])\n",
    "\n",
    "from sklearn.preprocessing import OneHotEncoder\n",
    "from sklearn.compose import  ColumnTransformer\n",
    "ct = ColumnTransformer([(\"Geography\", OneHotEncoder(), [1])], remainder = 'passthrough')\n",
    "X = ct.fit_transform(X).astype(int)"
   ]
  },
  {
   "cell_type": "code",
   "execution_count": 55,
   "metadata": {
    "colab": {
     "base_uri": "https://localhost:8080/",
     "height": 134
    },
    "colab_type": "code",
    "id": "Vtu0TL6_d5X0",
    "outputId": "ac0422b6-048b-419a-f54e-f01666112aef"
   },
   "outputs": [
    {
     "name": "stdout",
     "output_type": "stream",
     "text": [
      "[[     1      0      0 ...      1      1 101348]\n",
      " [     0      0      1 ...      0      1 112542]\n",
      " [     1      0      0 ...      1      0 113931]\n",
      " ...\n",
      " [     1      0      0 ...      0      1  42085]\n",
      " [     0      1      0 ...      1      0  92888]\n",
      " [     1      0      0 ...      1      0  38190]]\n"
     ]
    }
   ],
   "source": [
    "print(X)"
   ]
  },
  {
   "cell_type": "code",
   "execution_count": 56,
   "metadata": {
    "colab": {
     "base_uri": "https://localhost:8080/",
     "height": 34
    },
    "colab_type": "code",
    "id": "IG7V5vdajnf0",
    "outputId": "7122ef93-4434-4ed1-e622-79d6716a428a"
   },
   "outputs": [
    {
     "data": {
      "text/plain": [
       "numpy.ndarray"
      ]
     },
     "execution_count": 56,
     "metadata": {},
     "output_type": "execute_result"
    }
   ],
   "source": [
    "type(X)"
   ]
  },
  {
   "cell_type": "code",
   "execution_count": 57,
   "metadata": {
    "colab": {
     "base_uri": "https://localhost:8080/",
     "height": 134
    },
    "colab_type": "code",
    "id": "T_DPx95YjtwK",
    "outputId": "0552f54a-89de-4b9d-8481-f8eabc6359b1"
   },
   "outputs": [
    {
     "name": "stdout",
     "output_type": "stream",
     "text": [
      "[[     0      0    619 ...      1      1 101348]\n",
      " [     0      1    608 ...      0      1 112542]\n",
      " [     0      0    502 ...      1      0 113931]\n",
      " ...\n",
      " [     0      0    709 ...      0      1  42085]\n",
      " [     1      0    772 ...      1      0  92888]\n",
      " [     0      0    792 ...      1      0  38190]]\n"
     ]
    }
   ],
   "source": [
    "# Avoiding dummy variable trap\n",
    "\n",
    "X = X[:, 1:]\n",
    "print(X)"
   ]
  },
  {
   "cell_type": "markdown",
   "metadata": {
    "colab_type": "text",
    "id": "a2XYhU_dd5X2"
   },
   "source": [
    "#### Splitting Data  - Training & Test "
   ]
  },
  {
   "cell_type": "code",
   "execution_count": 58,
   "metadata": {
    "colab": {},
    "colab_type": "code",
    "id": "_s6nIxNsd5X2"
   },
   "outputs": [],
   "source": [
    "from sklearn.model_selection import train_test_split\n",
    "X_train, X_test, y_train, y_test = train_test_split(X, y, test_size = 0.2, random_state = 0)"
   ]
  },
  {
   "cell_type": "markdown",
   "metadata": {
    "colab_type": "text",
    "id": "G8IdGlEjd5X5"
   },
   "source": [
    "#### Feature Scaling"
   ]
  },
  {
   "cell_type": "code",
   "execution_count": 59,
   "metadata": {
    "colab": {},
    "colab_type": "code",
    "id": "Ee-Ly7-qd5X5"
   },
   "outputs": [],
   "source": [
    "from sklearn.preprocessing import StandardScaler\n",
    "sc_X = StandardScaler()\n",
    "X_train = sc_X.fit_transform(X_train)\n",
    "X_test = sc_X.transform(X_test)"
   ]
  },
  {
   "cell_type": "markdown",
   "metadata": {
    "colab_type": "text",
    "id": "Gj48CHcNd5X7"
   },
   "source": [
    "### STEP 5 - FEATURE SELECTION / DIMENSIONALITY REDUCTION / MULTICOLLINEARITY"
   ]
  },
  {
   "cell_type": "markdown",
   "metadata": {
    "colab_type": "text",
    "id": "0DEpbv7ld5X8"
   },
   "source": [
    "#### Heat Map"
   ]
  },
  {
   "cell_type": "code",
   "execution_count": 60,
   "metadata": {
    "colab": {
     "base_uri": "https://localhost:8080/",
     "height": 609
    },
    "colab_type": "code",
    "id": "FFxLqc0nd5X8",
    "outputId": "94d9ff47-a33c-41f1-d93a-f64f49b8a5ed"
   },
   "outputs": [
    {
     "data": {
      "text/plain": [
       "(9.0, 0.0)"
      ]
     },
     "execution_count": 60,
     "metadata": {},
     "output_type": "execute_result"
    },
    {
     "data": {
      "image/png": "[encoded data removed]",
      "text/plain": [
       "<Figure size 1440x720 with 2 Axes>"
      ]
     },
     "metadata": {
      "needs_background": "light"
     },
     "output_type": "display_data"
    }
   ],
   "source": [
    "plt.figure(figsize=(20,10))\n",
    "matrix = np.triu(df.corr())\n",
    "ax = sns.heatmap(data=df.corr(), linewidths=5, annot=True, mask=matrix)\n",
    "bottom, top = ax.get_ylim()\n",
    "ax.set_ylim(bottom + 0.5, top - 0.5)"
   ]
  },
  {
   "cell_type": "markdown",
   "metadata": {
    "colab_type": "text",
    "id": "7UFJEX1hd5X-"
   },
   "source": [
    " - From the above observation we can see that non of the independent features are highly co-related with eachother.\n",
    " \n",
    " \n",
    " - All the features can help us to predict the value of dependent variable that whether or not they will be staying in the bank or opting out from the service."
   ]
  },
  {
   "cell_type": "markdown",
   "metadata": {
    "colab_type": "text",
    "id": "AOg2Sp4Jd5X-"
   },
   "source": [
    "### STEP 6  - MODEL BUILDING "
   ]
  },
  {
   "cell_type": "markdown",
   "metadata": {
    "colab_type": "text",
    "id": "SI3hm4Z5d5X_"
   },
   "source": [
    "#### Building Artificial Neural Network "
   ]
  },
  {
   "cell_type": "code",
   "execution_count": 61,
   "metadata": {
    "colab": {},
    "colab_type": "code",
    "id": "qtQolgecd5X_"
   },
   "outputs": [],
   "source": [
    "import tensorflow as tf"
   ]
  },
  {
   "cell_type": "markdown",
   "metadata": {
    "colab_type": "text",
    "id": "3pGy19Srd5YB"
   },
   "source": [
    ">  `STEP 1` : Initialization "
   ]
  },
  {
   "cell_type": "markdown",
   "metadata": {
    "colab_type": "text",
    "id": "vWl5-MVjd5YB"
   },
   "source": [
    "We will create a variable called artifical neural network itself. this variable will be created as an object of certain class and that certain class is the `Sequential Class` which allow us to build the artificial neural network as a sequence of layers and it is taken from models modules which belongs to keras library and indeed it belongs to tensorflow."
   ]
  },
  {
   "cell_type": "code",
   "execution_count": 62,
   "metadata": {
    "colab": {},
    "colab_type": "code",
    "id": "zKjLHPjjd5YC"
   },
   "outputs": [],
   "source": [
    "ann = tf.keras.models.Sequential()"
   ]
  },
  {
   "cell_type": "markdown",
   "metadata": {
    "colab_type": "text",
    "id": "zsz4wBRmd5YD"
   },
   "source": [
    "> `STEP 2` : Adding input layer & hidden layer (Shallow Neural Network)"
   ]
  },
  {
   "cell_type": "markdown",
   "metadata": {
    "colab_type": "text",
    "id": "ccf3luJJd5YD"
   },
   "source": [
    "Here we will be using the `Dense Class` to add the input layer and hidden layer. We would be using artificial neural object i.e. ann of Sequential Class from which we will call one of the method `add` which will be acting as an instance of another class called `Dense Class`. It helps to add fully connected layers and automatically adds input layers neurons."
   ]
  },
  {
   "cell_type": "code",
   "execution_count": 63,
   "metadata": {
    "colab": {},
    "colab_type": "code",
    "id": "DvPwC6uhd5YE"
   },
   "outputs": [],
   "source": [
    "ann.add(tf.keras.layers.Dense(units = 6, activation='relu'))"
   ]
  },
  {
   "cell_type": "markdown",
   "metadata": {
    "colab_type": "text",
    "id": "7ICMKlBfd5YG"
   },
   "source": [
    "> `STEP 3` : Adding second hidden layer"
   ]
  },
  {
   "cell_type": "markdown",
   "metadata": {
    "colab_type": "text",
    "id": "9vUf-6N3d5YG"
   },
   "source": [
    "Here we will be using, same command which we used for adding input layers and hidden layter. "
   ]
  },
  {
   "cell_type": "code",
   "execution_count": 64,
   "metadata": {
    "colab": {},
    "colab_type": "code",
    "id": "9cAa2g3Ld5YH"
   },
   "outputs": [],
   "source": [
    "ann.add(tf.keras.layers.Dense(units = 6, activation='relu'))"
   ]
  },
  {
   "cell_type": "markdown",
   "metadata": {
    "colab_type": "text",
    "id": "suEPg4YBd5YI"
   },
   "source": [
    "> `STEP 4` : Adding output layer"
   ]
  },
  {
   "cell_type": "markdown",
   "metadata": {
    "colab_type": "text",
    "id": "W8lb2Altd5YJ"
   },
   "source": [
    "We are using `units` = 1 since it is binary classifier and activation function as `sigmoid` since we can predict the probabilities of the customers leaving or staying with the bank."
   ]
  },
  {
   "cell_type": "code",
   "execution_count": 65,
   "metadata": {
    "colab": {},
    "colab_type": "code",
    "id": "SlEu3pSsd5YL"
   },
   "outputs": [],
   "source": [
    "ann.add(tf.keras.layers.Dense(units = 1, activation='sigmoid'))"
   ]
  },
  {
   "cell_type": "markdown",
   "metadata": {
    "colab_type": "text",
    "id": "hUjJ-ke2d5YN"
   },
   "source": [
    "#### Training Artificial Neural Network"
   ]
  },
  {
   "cell_type": "markdown",
   "metadata": {
    "colab_type": "text",
    "id": "fxmRQChqd5YO"
   },
   "source": [
    "> `STEP 1`: Compiling ANN"
   ]
  },
  {
   "cell_type": "markdown",
   "metadata": {
    "colab_type": "text",
    "id": "64CtdBjBd5YO"
   },
   "source": [
    "We would be using same artificial neural object and this time we will be calling a new method - `compile` which will take 3 parameters.\n",
    "\n",
    "- `optimizer` = adam (Most commonly used as it can performs Stochastic Gradient Descent which will update the weights and reduce your loss error between predicted and actual result)\n",
    "\n",
    "\n",
    "- `loss` =  binary_crossentrophy or categorical_crossentrophy (depending upon our output neuron)\n",
    "\n",
    "\n",
    "- `metrics` = It accepts value as a list and is use to evaluate the performance of the model. We will choose most used one i.e. accuracy "
   ]
  },
  {
   "cell_type": "code",
   "execution_count": 66,
   "metadata": {
    "colab": {},
    "colab_type": "code",
    "id": "mhb_4pmld5YO"
   },
   "outputs": [
    {
     "name": "stdout",
     "output_type": "stream",
     "text": [
      "WARNING:tensorflow:From D:\\Anaconda3\\lib\\site-packages\\tensorflow\\python\\ops\\resource_variable_ops.py:435: colocate_with (from tensorflow.python.framework.ops) is deprecated and will be removed in a future version.\n",
      "Instructions for updating:\n",
      "Colocations handled automatically by placer.\n"
     ]
    }
   ],
   "source": [
    "ann.compile(optimizer = 'adam', loss = 'binary_crossentropy' , metrics = ['accuracy'])"
   ]
  },
  {
   "cell_type": "markdown",
   "metadata": {
    "colab_type": "text",
    "id": "yQFGUE61d5YQ"
   },
   "source": [
    "> `STEP 2` : Training ANN with Data "
   ]
  },
  {
   "cell_type": "markdown",
   "metadata": {
    "colab_type": "text",
    "id": "UWGdaW2Vd5YQ"
   },
   "source": [
    "We will be using same artificial neural object and this time we will be calling a new method - `fit` which will take following parameters.\n",
    "\n",
    "  - `X_train & y_train` = data needed for training our ANN\n",
    "  \n",
    "  \n",
    "  - `batch_size` = batch learning is indeed more efficient and performant when training the artifical neural network.\n",
    "  \n",
    "  \n",
    "  - `epochs` = neural network is trained on certain amount of epochs to improve the accuracy over the time. "
   ]
  },
  {
   "cell_type": "code",
   "execution_count": 67,
   "metadata": {
    "colab": {
     "base_uri": "https://localhost:8080/",
     "height": 1000
    },
    "colab_type": "code",
    "id": "rCKv1coDd5YR",
    "outputId": "2b86169f-d374-4f15-bf97-c5cc2c74c045"
   },
   "outputs": [
    {
     "name": "stdout",
     "output_type": "stream",
     "text": [
      "WARNING:tensorflow:From D:\\Anaconda3\\lib\\site-packages\\tensorflow\\python\\ops\\math_ops.py:3066: to_int32 (from tensorflow.python.ops.math_ops) is deprecated and will be removed in a future version.\n",
      "Instructions for updating:\n",
      "Use tf.cast instead.\n",
      "Epoch 1/100\n",
      "8000/8000 [==============================] - 1s 83us/sample - loss: 0.6282 - acc: 0.6988\n",
      "Epoch 2/100\n",
      "8000/8000 [==============================] - 0s 41us/sample - loss: 0.4889 - acc: 0.7966\n",
      "Epoch 3/100\n",
      "8000/8000 [==============================] - 1s 71us/sample - loss: 0.4521 - acc: 0.8014\n",
      "Epoch 4/100\n",
      "8000/8000 [==============================] - 1s 66us/sample - loss: 0.4377 - acc: 0.8029\n",
      "Epoch 5/100\n",
      "8000/8000 [==============================] - 1s 67us/sample - loss: 0.4309 - acc: 0.8046\n",
      "Epoch 6/100\n",
      "8000/8000 [==============================] - 1s 65us/sample - loss: 0.4267 - acc: 0.8071\n",
      "Epoch 7/100\n",
      "8000/8000 [==============================] - 1s 68us/sample - loss: 0.4233 - acc: 0.8096\n",
      "Epoch 8/100\n",
      "8000/8000 [==============================] - 1s 66us/sample - loss: 0.4198 - acc: 0.8133\n",
      "Epoch 9/100\n",
      "8000/8000 [==============================] - 1s 65us/sample - loss: 0.4147 - acc: 0.8165\n",
      "Epoch 10/100\n",
      "8000/8000 [==============================] - 1s 67us/sample - loss: 0.4078 - acc: 0.8250\n",
      "Epoch 11/100\n",
      "8000/8000 [==============================] - 1s 67us/sample - loss: 0.3995 - acc: 0.8313\n",
      "Epoch 12/100\n",
      "8000/8000 [==============================] - 1s 65us/sample - loss: 0.3899 - acc: 0.8355\n",
      "Epoch 13/100\n",
      "8000/8000 [==============================] - 1s 63us/sample - loss: 0.3797 - acc: 0.8422\n",
      "Epoch 14/100\n",
      "8000/8000 [==============================] - 1s 64us/sample - loss: 0.3693 - acc: 0.8469\n",
      "Epoch 15/100\n",
      "8000/8000 [==============================] - 0s 48us/sample - loss: 0.3620 - acc: 0.8511\n",
      "Epoch 16/100\n",
      "8000/8000 [==============================] - 0s 24us/sample - loss: 0.3561 - acc: 0.8522\n",
      "Epoch 17/100\n",
      "8000/8000 [==============================] - 0s 24us/sample - loss: 0.3520 - acc: 0.8562\n",
      "Epoch 18/100\n",
      "8000/8000 [==============================] - 0s 27us/sample - loss: 0.3485 - acc: 0.8577\n",
      "Epoch 19/100\n",
      "8000/8000 [==============================] - 0s 32us/sample - loss: 0.3461 - acc: 0.8596\n",
      "Epoch 20/100\n",
      "8000/8000 [==============================] - 0s 59us/sample - loss: 0.3440 - acc: 0.8604\n",
      "Epoch 21/100\n",
      "8000/8000 [==============================] - 0s 41us/sample - loss: 0.3428 - acc: 0.8602\n",
      "Epoch 22/100\n",
      "8000/8000 [==============================] - 0s 30us/sample - loss: 0.3420 - acc: 0.8608\n",
      "Epoch 23/100\n",
      "8000/8000 [==============================] - 0s 36us/sample - loss: 0.3406 - acc: 0.8605\n",
      "Epoch 24/100\n",
      "8000/8000 [==============================] - 0s 35us/sample - loss: 0.3393 - acc: 0.8621\n",
      "Epoch 25/100\n",
      "8000/8000 [==============================] - 0s 30us/sample - loss: 0.3396 - acc: 0.8622\n",
      "Epoch 26/100\n",
      "8000/8000 [==============================] - 0s 40us/sample - loss: 0.3390 - acc: 0.8616\n",
      "Epoch 27/100\n",
      "8000/8000 [==============================] - 0s 60us/sample - loss: 0.3384 - acc: 0.8622\n",
      "Epoch 28/100\n",
      "8000/8000 [==============================] - 1s 67us/sample - loss: 0.3377 - acc: 0.8635\n",
      "Epoch 29/100\n",
      "8000/8000 [==============================] - 1s 66us/sample - loss: 0.3375 - acc: 0.8606\n",
      "Epoch 30/100\n",
      "8000/8000 [==============================] - 1s 66us/sample - loss: 0.3370 - acc: 0.8621\n",
      "Epoch 31/100\n",
      "8000/8000 [==============================] - 1s 69us/sample - loss: 0.3372 - acc: 0.8619\n",
      "Epoch 32/100\n",
      "8000/8000 [==============================] - 1s 68us/sample - loss: 0.3366 - acc: 0.8618\n",
      "Epoch 33/100\n",
      "8000/8000 [==============================] - 0s 49us/sample - loss: 0.3363 - acc: 0.8627\n",
      "Epoch 34/100\n",
      "8000/8000 [==============================] - 0s 36us/sample - loss: 0.3360 - acc: 0.8627\n",
      "Epoch 35/100\n",
      "8000/8000 [==============================] - 1s 64us/sample - loss: 0.3358 - acc: 0.8621\n",
      "Epoch 36/100\n",
      "8000/8000 [==============================] - 1s 64us/sample - loss: 0.3353 - acc: 0.8621\n",
      "Epoch 37/100\n",
      "8000/8000 [==============================] - 1s 63us/sample - loss: 0.3353 - acc: 0.8634\n",
      "Epoch 38/100\n",
      "8000/8000 [==============================] - 1s 64us/sample - loss: 0.3352 - acc: 0.8625\n",
      "Epoch 39/100\n",
      "8000/8000 [==============================] - 1s 64us/sample - loss: 0.3356 - acc: 0.8633\n",
      "Epoch 40/100\n",
      "8000/8000 [==============================] - 1s 64us/sample - loss: 0.3351 - acc: 0.8637\n",
      "Epoch 41/100\n",
      "8000/8000 [==============================] - 0s 54us/sample - loss: 0.3345 - acc: 0.8630\n",
      "Epoch 42/100\n",
      "8000/8000 [==============================] - 0s 47us/sample - loss: 0.3346 - acc: 0.8641\n",
      "Epoch 43/100\n",
      "8000/8000 [==============================] - 1s 65us/sample - loss: 0.3343 - acc: 0.8629\n",
      "Epoch 44/100\n",
      "8000/8000 [==============================] - 1s 64us/sample - loss: 0.3337 - acc: 0.8639\n",
      "Epoch 45/100\n",
      "8000/8000 [==============================] - 1s 64us/sample - loss: 0.3335 - acc: 0.8652\n",
      "Epoch 46/100\n",
      "8000/8000 [==============================] - 1s 63us/sample - loss: 0.3347 - acc: 0.8615\n",
      "Epoch 47/100\n",
      "8000/8000 [==============================] - 1s 66us/sample - loss: 0.3341 - acc: 0.8633\n",
      "Epoch 48/100\n",
      "8000/8000 [==============================] - 0s 55us/sample - loss: 0.3339 - acc: 0.8636\n",
      "Epoch 49/100\n",
      "8000/8000 [==============================] - 0s 54us/sample - loss: 0.3338 - acc: 0.8639\n",
      "Epoch 50/100\n",
      "8000/8000 [==============================] - 0s 53us/sample - loss: 0.3338 - acc: 0.8644\n",
      "Epoch 51/100\n",
      "8000/8000 [==============================] - 0s 40us/sample - loss: 0.3342 - acc: 0.8629\n",
      "Epoch 52/100\n",
      "8000/8000 [==============================] - 0s 56us/sample - loss: 0.3341 - acc: 0.8621\n",
      "Epoch 53/100\n",
      "8000/8000 [==============================] - 1s 66us/sample - loss: 0.3338 - acc: 0.8625\n",
      "Epoch 54/100\n",
      "8000/8000 [==============================] - 1s 70us/sample - loss: 0.3338 - acc: 0.8619\n",
      "Epoch 55/100\n",
      "8000/8000 [==============================] - 1s 67us/sample - loss: 0.3334 - acc: 0.8622\n",
      "Epoch 56/100\n",
      "8000/8000 [==============================] - 0s 55us/sample - loss: 0.3335 - acc: 0.8620\n",
      "Epoch 57/100\n",
      "8000/8000 [==============================] - 1s 67us/sample - loss: 0.3334 - acc: 0.8634\n",
      "Epoch 58/100\n",
      "8000/8000 [==============================] - 1s 69us/sample - loss: 0.3337 - acc: 0.8631\n",
      "Epoch 59/100\n",
      "8000/8000 [==============================] - 1s 66us/sample - loss: 0.3335 - acc: 0.8620\n",
      "Epoch 60/100\n",
      "8000/8000 [==============================] - 1s 66us/sample - loss: 0.3335 - acc: 0.8604\n",
      "Epoch 61/100\n",
      "8000/8000 [==============================] - 1s 70us/sample - loss: 0.3331 - acc: 0.8648\n",
      "Epoch 62/100\n",
      "8000/8000 [==============================] - 1s 72us/sample - loss: 0.3332 - acc: 0.8621\n",
      "Epoch 63/100\n",
      "8000/8000 [==============================] - 1s 69us/sample - loss: 0.3336 - acc: 0.8619\n",
      "Epoch 64/100\n",
      "8000/8000 [==============================] - 1s 67us/sample - loss: 0.3330 - acc: 0.8637\n",
      "Epoch 65/100\n",
      "8000/8000 [==============================] - 0s 45us/sample - loss: 0.3330 - acc: 0.8630\n",
      "Epoch 66/100\n",
      "8000/8000 [==============================] - 1s 64us/sample - loss: 0.3331 - acc: 0.8635\n",
      "Epoch 67/100\n",
      "8000/8000 [==============================] - 1s 74us/sample - loss: 0.3328 - acc: 0.8611\n",
      "Epoch 68/100\n",
      "8000/8000 [==============================] - 1s 72us/sample - loss: 0.3329 - acc: 0.8644\n",
      "Epoch 69/100\n",
      "8000/8000 [==============================] - 0s 48us/sample - loss: 0.3333 - acc: 0.8626\n",
      "Epoch 70/100\n",
      "8000/8000 [==============================] - 0s 47us/sample - loss: 0.3329 - acc: 0.8626\n",
      "Epoch 71/100\n",
      "8000/8000 [==============================] - 1s 74us/sample - loss: 0.3325 - acc: 0.8646\n",
      "Epoch 72/100\n",
      "8000/8000 [==============================] - 1s 70us/sample - loss: 0.3331 - acc: 0.8636\n",
      "Epoch 73/100\n",
      "8000/8000 [==============================] - 1s 71us/sample - loss: 0.3327 - acc: 0.8635\n",
      "Epoch 74/100\n",
      "8000/8000 [==============================] - 1s 72us/sample - loss: 0.3325 - acc: 0.8637\n",
      "Epoch 75/100\n",
      "8000/8000 [==============================] - 1s 70us/sample - loss: 0.3330 - acc: 0.8629\n",
      "Epoch 76/100\n",
      "8000/8000 [==============================] - 1s 74us/sample - loss: 0.3326 - acc: 0.8635\n",
      "Epoch 77/100\n",
      "8000/8000 [==============================] - 1s 66us/sample - loss: 0.3329 - acc: 0.86360s - loss: 0.3260 - acc:\n",
      "Epoch 78/100\n",
      "8000/8000 [==============================] - 1s 63us/sample - loss: 0.3327 - acc: 0.8639\n",
      "Epoch 79/100\n",
      "8000/8000 [==============================] - 1s 66us/sample - loss: 0.3323 - acc: 0.8629\n",
      "Epoch 80/100\n",
      "8000/8000 [==============================] - 1s 65us/sample - loss: 0.3326 - acc: 0.8627\n",
      "Epoch 81/100\n",
      "8000/8000 [==============================] - 1s 64us/sample - loss: 0.3326 - acc: 0.8646\n",
      "Epoch 82/100\n",
      "8000/8000 [==============================] - 1s 63us/sample - loss: 0.3325 - acc: 0.8634\n",
      "Epoch 83/100\n",
      "8000/8000 [==============================] - 1s 65us/sample - loss: 0.3321 - acc: 0.8608\n",
      "Epoch 84/100\n",
      "8000/8000 [==============================] - 1s 65us/sample - loss: 0.3327 - acc: 0.8624\n",
      "Epoch 85/100\n",
      "8000/8000 [==============================] - 0s 48us/sample - loss: 0.3320 - acc: 0.8634\n",
      "Epoch 86/100\n",
      "8000/8000 [==============================] - 1s 65us/sample - loss: 0.3323 - acc: 0.8641\n",
      "Epoch 87/100\n",
      "8000/8000 [==============================] - 1s 63us/sample - loss: 0.3325 - acc: 0.8644\n",
      "Epoch 88/100\n",
      "8000/8000 [==============================] - 1s 65us/sample - loss: 0.3323 - acc: 0.8624\n",
      "Epoch 89/100\n",
      "8000/8000 [==============================] - 1s 64us/sample - loss: 0.3321 - acc: 0.8645\n",
      "Epoch 90/100\n",
      "8000/8000 [==============================] - 0s 62us/sample - loss: 0.3318 - acc: 0.8641\n",
      "Epoch 91/100\n",
      "8000/8000 [==============================] - 1s 65us/sample - loss: 0.3325 - acc: 0.8645\n",
      "Epoch 92/100\n",
      "8000/8000 [==============================] - 1s 65us/sample - loss: 0.3324 - acc: 0.8648\n",
      "Epoch 93/100\n",
      "8000/8000 [==============================] - 1s 68us/sample - loss: 0.3320 - acc: 0.8636\n",
      "Epoch 94/100\n",
      "8000/8000 [==============================] - 1s 71us/sample - loss: 0.3323 - acc: 0.8636\n",
      "Epoch 95/100\n",
      "8000/8000 [==============================] - 1s 72us/sample - loss: 0.3327 - acc: 0.8635\n",
      "Epoch 96/100\n",
      "8000/8000 [==============================] - 0s 46us/sample - loss: 0.3320 - acc: 0.8646\n",
      "Epoch 97/100\n",
      "8000/8000 [==============================] - 0s 33us/sample - loss: 0.3319 - acc: 0.8634\n",
      "Epoch 98/100\n",
      "8000/8000 [==============================] - 0s 49us/sample - loss: 0.3318 - acc: 0.8646\n",
      "Epoch 99/100\n",
      "8000/8000 [==============================] - 1s 67us/sample - loss: 0.3320 - acc: 0.8633\n",
      "Epoch 100/100\n",
      "8000/8000 [==============================] - 1s 63us/sample - loss: 0.3326 - acc: 0.8644\n"
     ]
    },
    {
     "data": {
      "text/plain": [
       "<tensorflow.python.keras.callbacks.History at 0x295c64a2048>"
      ]
     },
     "execution_count": 67,
     "metadata": {},
     "output_type": "execute_result"
    }
   ],
   "source": [
    "ann.fit(X_train, y_train, batch_size = 32, epochs = 100)"
   ]
  },
  {
   "cell_type": "markdown",
   "metadata": {
    "colab_type": "text",
    "id": "_NEHjonrlCrA"
   },
   "source": [
    "### STEP 7 - MODEL EVALUATION"
   ]
  },
  {
   "cell_type": "markdown",
   "metadata": {
    "colab_type": "text",
    "id": "MSx1mslnqjK8"
   },
   "source": [
    "#### Test\n",
    "\n",
    "\n",
    "Use ANN model to predict if customer will leave or stay with the bank.\n",
    "\n",
    "- Geography = France\n",
    "\n",
    "- Credit Score = 600\n",
    "\n",
    "- Gender = Male\n",
    "\n",
    "- Age = 60\n",
    "\n",
    "- Tenure = 3 years\n",
    "\n",
    "- Balance = $ 600000\n",
    "\n",
    "- Nos of Products = 2\n",
    "\n",
    "- Credit Card = Yes\n",
    "\n",
    "- Active Member = Yes\n",
    "\n",
    "- Estimated Salary =  $ 500000\n",
    "\n",
    "So should we say goodbye to that customer ?"
   ]
  },
  {
   "cell_type": "code",
   "execution_count": 68,
   "metadata": {
    "colab": {
     "base_uri": "https://localhost:8080/",
     "height": 195
    },
    "colab_type": "code",
    "id": "7fiULRcmrUuk",
    "outputId": "2dc33f2d-92f3-4d4c-c257-ebdb109c14af"
   },
   "outputs": [
    {
     "data": {
      "text/html": [
       "<div>\n",
       "<style scoped>\n",
       "    .dataframe tbody tr th:only-of-type {\n",
       "        vertical-align: middle;\n",
       "    }\n",
       "\n",
       "    .dataframe tbody tr th {\n",
       "        vertical-align: top;\n",
       "    }\n",
       "\n",
       "    .dataframe thead th {\n",
       "        text-align: right;\n",
       "    }\n",
       "</style>\n",
       "<table border=\"1\" class=\"dataframe\">\n",
       "  <thead>\n",
       "    <tr style=\"text-align: right;\">\n",
       "      <th></th>\n",
       "      <th>CreditScore</th>\n",
       "      <th>Geography</th>\n",
       "      <th>Gender</th>\n",
       "      <th>Age</th>\n",
       "      <th>Tenure</th>\n",
       "      <th>Balance</th>\n",
       "      <th>NumOfProducts</th>\n",
       "      <th>HasCrCard</th>\n",
       "      <th>IsActiveMember</th>\n",
       "      <th>EstimatedSalary</th>\n",
       "      <th>Exited</th>\n",
       "    </tr>\n",
       "  </thead>\n",
       "  <tbody>\n",
       "    <tr>\n",
       "      <td>0</td>\n",
       "      <td>619</td>\n",
       "      <td>France</td>\n",
       "      <td>Female</td>\n",
       "      <td>42</td>\n",
       "      <td>2</td>\n",
       "      <td>0.00</td>\n",
       "      <td>1</td>\n",
       "      <td>1</td>\n",
       "      <td>1</td>\n",
       "      <td>101348.88</td>\n",
       "      <td>1</td>\n",
       "    </tr>\n",
       "    <tr>\n",
       "      <td>1</td>\n",
       "      <td>608</td>\n",
       "      <td>Spain</td>\n",
       "      <td>Female</td>\n",
       "      <td>41</td>\n",
       "      <td>1</td>\n",
       "      <td>83807.86</td>\n",
       "      <td>1</td>\n",
       "      <td>0</td>\n",
       "      <td>1</td>\n",
       "      <td>112542.58</td>\n",
       "      <td>0</td>\n",
       "    </tr>\n",
       "    <tr>\n",
       "      <td>2</td>\n",
       "      <td>502</td>\n",
       "      <td>France</td>\n",
       "      <td>Female</td>\n",
       "      <td>42</td>\n",
       "      <td>8</td>\n",
       "      <td>159660.80</td>\n",
       "      <td>3</td>\n",
       "      <td>1</td>\n",
       "      <td>0</td>\n",
       "      <td>113931.57</td>\n",
       "      <td>1</td>\n",
       "    </tr>\n",
       "    <tr>\n",
       "      <td>3</td>\n",
       "      <td>699</td>\n",
       "      <td>France</td>\n",
       "      <td>Female</td>\n",
       "      <td>39</td>\n",
       "      <td>1</td>\n",
       "      <td>0.00</td>\n",
       "      <td>2</td>\n",
       "      <td>0</td>\n",
       "      <td>0</td>\n",
       "      <td>93826.63</td>\n",
       "      <td>0</td>\n",
       "    </tr>\n",
       "    <tr>\n",
       "      <td>4</td>\n",
       "      <td>850</td>\n",
       "      <td>Spain</td>\n",
       "      <td>Female</td>\n",
       "      <td>43</td>\n",
       "      <td>2</td>\n",
       "      <td>125510.82</td>\n",
       "      <td>1</td>\n",
       "      <td>1</td>\n",
       "      <td>1</td>\n",
       "      <td>79084.10</td>\n",
       "      <td>0</td>\n",
       "    </tr>\n",
       "  </tbody>\n",
       "</table>\n",
       "</div>"
      ],
      "text/plain": [
       "   CreditScore Geography  Gender  Age  Tenure    Balance  NumOfProducts  \\\n",
       "0          619    France  Female   42       2       0.00              1   \n",
       "1          608     Spain  Female   41       1   83807.86              1   \n",
       "2          502    France  Female   42       8  159660.80              3   \n",
       "3          699    France  Female   39       1       0.00              2   \n",
       "4          850     Spain  Female   43       2  125510.82              1   \n",
       "\n",
       "   HasCrCard  IsActiveMember  EstimatedSalary  Exited  \n",
       "0          1               1        101348.88       1  \n",
       "1          0               1        112542.58       0  \n",
       "2          1               0        113931.57       1  \n",
       "3          0               0         93826.63       0  \n",
       "4          1               1         79084.10       0  "
      ]
     },
     "execution_count": 68,
     "metadata": {},
     "output_type": "execute_result"
    }
   ],
   "source": [
    "df.head()"
   ]
  },
  {
   "cell_type": "code",
   "execution_count": 69,
   "metadata": {
    "colab": {
     "base_uri": "https://localhost:8080/",
     "height": 134
    },
    "colab_type": "code",
    "id": "wS55uAobs7ZY",
    "outputId": "7fdd963d-98a9-4664-90bf-de10bcb366c7"
   },
   "outputs": [
    {
     "data": {
      "text/plain": [
       "array([[     0,      0,    619, ...,      1,      1, 101348],\n",
       "       [     0,      1,    608, ...,      0,      1, 112542],\n",
       "       [     0,      0,    502, ...,      1,      0, 113931],\n",
       "       ...,\n",
       "       [     0,      0,    709, ...,      0,      1,  42085],\n",
       "       [     1,      0,    772, ...,      1,      0,  92888],\n",
       "       [     0,      0,    792, ...,      1,      0,  38190]])"
      ]
     },
     "execution_count": 69,
     "metadata": {},
     "output_type": "execute_result"
    }
   ],
   "source": [
    "X"
   ]
  },
  {
   "cell_type": "code",
   "execution_count": 70,
   "metadata": {
    "colab": {
     "base_uri": "https://localhost:8080/",
     "height": 34
    },
    "colab_type": "code",
    "id": "bZR1_S3Wv9IJ",
    "outputId": "eb9d6fa0-1922-44e9-812c-d2f7943e4c05"
   },
   "outputs": [
    {
     "name": "stdout",
     "output_type": "stream",
     "text": [
      "[[0.08698092]]\n"
     ]
    }
   ],
   "source": [
    "# Predicting Class \n",
    "\n",
    "print(ann.predict(sc_X.transform([[0, 0, 600, 1, 60, 3, 60000, 2, 1, 1, 50000]])))"
   ]
  },
  {
   "cell_type": "markdown",
   "metadata": {
    "colab_type": "text",
    "id": "EY2irSh0x_kr"
   },
   "source": [
    "**Note** : Values of the features where all encoded in double square bracket as `predict` method always accepts the input as a 2-D array. Also we have scaled our values which needs to be predicted as our ANN was trianed on scaled values. Output received tells us the probability of the customer staying or leaving the bank since we had used `sigmoid` activation function."
   ]
  },
  {
   "cell_type": "markdown",
   "metadata": {
    "colab_type": "text",
    "id": "htybUHcT2Gz1"
   },
   "source": [
    "#### Predicting Test Result"
   ]
  },
  {
   "cell_type": "code",
   "execution_count": 71,
   "metadata": {
    "colab": {
     "base_uri": "https://localhost:8080/",
     "height": 195
    },
    "colab_type": "code",
    "id": "TfzDxRpN2VPp",
    "outputId": "e8c5d642-1ba3-4361-e55a-f6a64e4104c0"
   },
   "outputs": [
    {
     "data": {
      "text/html": [
       "<div>\n",
       "<style scoped>\n",
       "    .dataframe tbody tr th:only-of-type {\n",
       "        vertical-align: middle;\n",
       "    }\n",
       "\n",
       "    .dataframe tbody tr th {\n",
       "        vertical-align: top;\n",
       "    }\n",
       "\n",
       "    .dataframe thead th {\n",
       "        text-align: right;\n",
       "    }\n",
       "</style>\n",
       "<table border=\"1\" class=\"dataframe\">\n",
       "  <thead>\n",
       "    <tr style=\"text-align: right;\">\n",
       "      <th></th>\n",
       "      <th>Actual Values</th>\n",
       "      <th>Predicted Values</th>\n",
       "    </tr>\n",
       "  </thead>\n",
       "  <tbody>\n",
       "    <tr>\n",
       "      <td>0</td>\n",
       "      <td>0</td>\n",
       "      <td>0</td>\n",
       "    </tr>\n",
       "    <tr>\n",
       "      <td>1</td>\n",
       "      <td>1</td>\n",
       "      <td>0</td>\n",
       "    </tr>\n",
       "    <tr>\n",
       "      <td>2</td>\n",
       "      <td>0</td>\n",
       "      <td>0</td>\n",
       "    </tr>\n",
       "    <tr>\n",
       "      <td>3</td>\n",
       "      <td>0</td>\n",
       "      <td>0</td>\n",
       "    </tr>\n",
       "    <tr>\n",
       "      <td>4</td>\n",
       "      <td>0</td>\n",
       "      <td>0</td>\n",
       "    </tr>\n",
       "  </tbody>\n",
       "</table>\n",
       "</div>"
      ],
      "text/plain": [
       "   Actual Values  Predicted Values\n",
       "0              0                 0\n",
       "1              1                 0\n",
       "2              0                 0\n",
       "3              0                 0\n",
       "4              0                 0"
      ]
     },
     "execution_count": 71,
     "metadata": {},
     "output_type": "execute_result"
    }
   ],
   "source": [
    "y_pred = ann.predict(X_test)\n",
    "y_pred = y_pred > 0.5\n",
    "\n",
    "df_test = pd.DataFrame({\n",
    "    'Actual Values'    : y_test.flatten(),\n",
    "    'Predicted Values' : y_pred.flatten().astype(int)\n",
    "    })\n",
    "\n",
    "df_test.head()"
   ]
  },
  {
   "cell_type": "markdown",
   "metadata": {
    "colab_type": "text",
    "id": "sswsXz-8Tfc4"
   },
   "source": [
    "#### Confusion Matrix"
   ]
  },
  {
   "cell_type": "code",
   "execution_count": 72,
   "metadata": {
    "colab": {
     "base_uri": "https://localhost:8080/",
     "height": 298
    },
    "colab_type": "code",
    "id": "yiirGpp7TmR4",
    "outputId": "de169d41-af60-4890-9c13-247250e7d3df"
   },
   "outputs": [
    {
     "data": {
      "text/plain": [
       "(2.0, 0.0)"
      ]
     },
     "execution_count": 72,
     "metadata": {},
     "output_type": "execute_result"
    },
    {
     "data": {
      "image/png": "[encoded data removed]",
      "text/plain": [
       "<Figure size 432x288 with 1 Axes>"
      ]
     },
     "metadata": {
      "needs_background": "light"
     },
     "output_type": "display_data"
    }
   ],
   "source": [
    "from sklearn.metrics import confusion_matrix\n",
    "df_cm = confusion_matrix(y_test, y_pred)\n",
    "\n",
    "plt.title(\"Confusion Matrix\")\n",
    "ax = sns.heatmap(df_cm,\n",
    "                 annot=True,\n",
    "                 cmap=\"Blues\",\n",
    "                 fmt=\"d\",\n",
    "                 cbar=False, \n",
    "                 annot_kws={\"size\": 15})\n",
    "bottom, top = ax.get_ylim()\n",
    "ax.set_ylim(bottom + 0.5, top - 0.5)"
   ]
  },
  {
   "cell_type": "markdown",
   "metadata": {},
   "source": [
    "### STEP 8 - MODEL IMPROVEMENT / HYPER PARAMETER TUNING"
   ]
  },
  {
   "cell_type": "markdown",
   "metadata": {},
   "source": [
    "> `Case 1` - More hidden layers\n"
   ]
  },
  {
   "cell_type": "code",
   "execution_count": 73,
   "metadata": {},
   "outputs": [
    {
     "name": "stdout",
     "output_type": "stream",
     "text": [
      "Epoch 1/100\n",
      "8000/8000 [==============================] - 1s 147us/sample - loss: 0.5396 - acc: 0.7960\n",
      "Epoch 2/100\n",
      "8000/8000 [==============================] - 1s 76us/sample - loss: 0.4710 - acc: 0.7960\n",
      "Epoch 3/100\n",
      "8000/8000 [==============================] - 1s 78us/sample - loss: 0.4495 - acc: 0.7966\n",
      "Epoch 4/100\n",
      "8000/8000 [==============================] - 1s 79us/sample - loss: 0.4404 - acc: 0.7975\n",
      "Epoch 5/100\n",
      "8000/8000 [==============================] - 1s 78us/sample - loss: 0.4356 - acc: 0.7977\n",
      "Epoch 6/100\n",
      "8000/8000 [==============================] - 1s 81us/sample - loss: 0.4333 - acc: 0.7968\n",
      "Epoch 7/100\n",
      "8000/8000 [==============================] - 1s 79us/sample - loss: 0.4319 - acc: 0.7990\n",
      "Epoch 8/100\n",
      "8000/8000 [==============================] - 1s 78us/sample - loss: 0.4299 - acc: 0.8004\n",
      "Epoch 9/100\n",
      "8000/8000 [==============================] - 1s 78us/sample - loss: 0.4288 - acc: 0.8031\n",
      "Epoch 10/100\n",
      "8000/8000 [==============================] - 0s 62us/sample - loss: 0.4274 - acc: 0.8034\n",
      "Epoch 11/100\n",
      "8000/8000 [==============================] - 1s 78us/sample - loss: 0.4268 - acc: 0.8071\n",
      "Epoch 12/100\n",
      "8000/8000 [==============================] - 1s 79us/sample - loss: 0.4249 - acc: 0.8090\n",
      "Epoch 13/100\n",
      "8000/8000 [==============================] - 1s 79us/sample - loss: 0.4232 - acc: 0.8127\n",
      "Epoch 14/100\n",
      "8000/8000 [==============================] - 1s 79us/sample - loss: 0.4208 - acc: 0.8148\n",
      "Epoch 15/100\n",
      "8000/8000 [==============================] - 1s 83us/sample - loss: 0.4185 - acc: 0.8188\n",
      "Epoch 16/100\n",
      "8000/8000 [==============================] - 1s 81us/sample - loss: 0.4159 - acc: 0.8210\n",
      "Epoch 17/100\n",
      "8000/8000 [==============================] - 1s 80us/sample - loss: 0.4126 - acc: 0.8234\n",
      "Epoch 18/100\n",
      "8000/8000 [==============================] - 0s 43us/sample - loss: 0.4101 - acc: 0.8267\n",
      "Epoch 19/100\n",
      "8000/8000 [==============================] - 1s 78us/sample - loss: 0.4073 - acc: 0.8276\n",
      "Epoch 20/100\n",
      "8000/8000 [==============================] - 1s 79us/sample - loss: 0.4046 - acc: 0.8309\n",
      "Epoch 21/100\n",
      "8000/8000 [==============================] - 1s 78us/sample - loss: 0.4025 - acc: 0.8322\n",
      "Epoch 22/100\n",
      "8000/8000 [==============================] - 1s 77us/sample - loss: 0.4001 - acc: 0.8344\n",
      "Epoch 23/100\n",
      "8000/8000 [==============================] - 1s 77us/sample - loss: 0.3976 - acc: 0.8353\n",
      "Epoch 24/100\n",
      "8000/8000 [==============================] - 1s 76us/sample - loss: 0.3958 - acc: 0.8347\n",
      "Epoch 25/100\n",
      "8000/8000 [==============================] - 1s 78us/sample - loss: 0.3927 - acc: 0.8371\n",
      "Epoch 26/100\n",
      "8000/8000 [==============================] - 1s 77us/sample - loss: 0.3905 - acc: 0.8356\n",
      "Epoch 27/100\n",
      "8000/8000 [==============================] - 1s 79us/sample - loss: 0.3869 - acc: 0.8409\n",
      "Epoch 28/100\n",
      "8000/8000 [==============================] - 1s 80us/sample - loss: 0.3832 - acc: 0.8435\n",
      "Epoch 29/100\n",
      "8000/8000 [==============================] - 1s 78us/sample - loss: 0.3778 - acc: 0.8465\n",
      "Epoch 30/100\n",
      "8000/8000 [==============================] - 1s 77us/sample - loss: 0.3712 - acc: 0.8501\n",
      "Epoch 31/100\n",
      "8000/8000 [==============================] - 1s 78us/sample - loss: 0.3649 - acc: 0.8519\n",
      "Epoch 32/100\n",
      "8000/8000 [==============================] - 1s 83us/sample - loss: 0.3602 - acc: 0.8553\n",
      "Epoch 33/100\n",
      "8000/8000 [==============================] - 1s 76us/sample - loss: 0.3583 - acc: 0.8545\n",
      "Epoch 34/100\n",
      "8000/8000 [==============================] - 1s 78us/sample - loss: 0.3555 - acc: 0.8546\n",
      "Epoch 35/100\n",
      "8000/8000 [==============================] - 0s 59us/sample - loss: 0.3533 - acc: 0.8570\n",
      "Epoch 36/100\n",
      "8000/8000 [==============================] - 1s 78us/sample - loss: 0.3524 - acc: 0.8561\n",
      "Epoch 37/100\n",
      "8000/8000 [==============================] - 1s 80us/sample - loss: 0.3505 - acc: 0.8568\n",
      "Epoch 38/100\n",
      "8000/8000 [==============================] - 1s 78us/sample - loss: 0.3498 - acc: 0.8572\n",
      "Epoch 39/100\n",
      "8000/8000 [==============================] - 1s 78us/sample - loss: 0.3486 - acc: 0.8585\n",
      "Epoch 40/100\n",
      "8000/8000 [==============================] - 1s 79us/sample - loss: 0.3470 - acc: 0.8561\n",
      "Epoch 41/100\n",
      "8000/8000 [==============================] - 1s 78us/sample - loss: 0.3468 - acc: 0.8597\n",
      "Epoch 42/100\n",
      "8000/8000 [==============================] - 1s 84us/sample - loss: 0.3451 - acc: 0.8577\n",
      "Epoch 43/100\n",
      "8000/8000 [==============================] - 1s 82us/sample - loss: 0.3451 - acc: 0.8575\n",
      "Epoch 44/100\n",
      "8000/8000 [==============================] - 1s 68us/sample - loss: 0.3441 - acc: 0.8580\n",
      "Epoch 45/100\n",
      "8000/8000 [==============================] - 0s 32us/sample - loss: 0.3432 - acc: 0.8601\n",
      "Epoch 46/100\n",
      "8000/8000 [==============================] - 1s 63us/sample - loss: 0.3433 - acc: 0.8593\n",
      "Epoch 47/100\n",
      "8000/8000 [==============================] - 1s 72us/sample - loss: 0.3429 - acc: 0.8574\n",
      "Epoch 48/100\n",
      "8000/8000 [==============================] - 1s 79us/sample - loss: 0.3414 - acc: 0.8585\n",
      "Epoch 49/100\n",
      "8000/8000 [==============================] - 1s 80us/sample - loss: 0.3421 - acc: 0.8593\n",
      "Epoch 50/100\n",
      "8000/8000 [==============================] - 1s 81us/sample - loss: 0.3404 - acc: 0.8597\n",
      "Epoch 51/100\n",
      "8000/8000 [==============================] - 1s 79us/sample - loss: 0.3403 - acc: 0.8585\n",
      "Epoch 52/100\n",
      "8000/8000 [==============================] - 1s 76us/sample - loss: 0.3399 - acc: 0.8587\n",
      "Epoch 53/100\n",
      "8000/8000 [==============================] - 1s 77us/sample - loss: 0.3383 - acc: 0.8621\n",
      "Epoch 54/100\n",
      "8000/8000 [==============================] - 1s 79us/sample - loss: 0.3381 - acc: 0.8616\n",
      "Epoch 55/100\n",
      "8000/8000 [==============================] - 1s 82us/sample - loss: 0.3380 - acc: 0.8597\n",
      "Epoch 56/100\n",
      "8000/8000 [==============================] - 1s 78us/sample - loss: 0.3383 - acc: 0.8595\n",
      "Epoch 57/100\n",
      "8000/8000 [==============================] - 1s 79us/sample - loss: 0.3377 - acc: 0.8597\n",
      "Epoch 58/100\n",
      "8000/8000 [==============================] - 1s 75us/sample - loss: 0.3377 - acc: 0.8605\n",
      "Epoch 59/100\n",
      "8000/8000 [==============================] - 1s 78us/sample - loss: 0.3373 - acc: 0.8616\n",
      "Epoch 60/100\n",
      "8000/8000 [==============================] - 1s 77us/sample - loss: 0.3371 - acc: 0.8604\n",
      "Epoch 61/100\n",
      "8000/8000 [==============================] - 1s 78us/sample - loss: 0.3371 - acc: 0.8604\n",
      "Epoch 62/100\n",
      "8000/8000 [==============================] - 0s 62us/sample - loss: 0.3371 - acc: 0.8614\n",
      "Epoch 63/100\n",
      "8000/8000 [==============================] - 1s 78us/sample - loss: 0.3365 - acc: 0.8631\n",
      "Epoch 64/100\n",
      "8000/8000 [==============================] - 1s 79us/sample - loss: 0.3361 - acc: 0.8612\n",
      "Epoch 65/100\n",
      "8000/8000 [==============================] - 1s 77us/sample - loss: 0.3354 - acc: 0.8624\n",
      "Epoch 66/100\n",
      "8000/8000 [==============================] - 1s 78us/sample - loss: 0.3358 - acc: 0.8624\n",
      "Epoch 67/100\n",
      "8000/8000 [==============================] - 1s 76us/sample - loss: 0.3355 - acc: 0.8641\n",
      "Epoch 68/100\n",
      "8000/8000 [==============================] - 1s 80us/sample - loss: 0.3361 - acc: 0.8611\n",
      "Epoch 69/100\n",
      "8000/8000 [==============================] - 1s 81us/sample - loss: 0.3352 - acc: 0.8625\n",
      "Epoch 70/100\n",
      "8000/8000 [==============================] - 1s 66us/sample - loss: 0.3349 - acc: 0.8633\n",
      "Epoch 71/100\n",
      "8000/8000 [==============================] - 1s 63us/sample - loss: 0.3352 - acc: 0.8630\n",
      "Epoch 72/100\n",
      "8000/8000 [==============================] - 1s 80us/sample - loss: 0.3354 - acc: 0.8630\n",
      "Epoch 73/100\n",
      "8000/8000 [==============================] - 1s 79us/sample - loss: 0.3347 - acc: 0.8633\n",
      "Epoch 74/100\n",
      "8000/8000 [==============================] - 1s 78us/sample - loss: 0.3342 - acc: 0.8624\n",
      "Epoch 75/100\n",
      "8000/8000 [==============================] - 1s 79us/sample - loss: 0.3355 - acc: 0.8610\n",
      "Epoch 76/100\n",
      "8000/8000 [==============================] - 1s 78us/sample - loss: 0.3347 - acc: 0.8622\n",
      "Epoch 77/100\n",
      "8000/8000 [==============================] - 1s 84us/sample - loss: 0.3346 - acc: 0.8618\n",
      "Epoch 78/100\n",
      "8000/8000 [==============================] - 1s 78us/sample - loss: 0.3340 - acc: 0.8631\n",
      "Epoch 79/100\n",
      "8000/8000 [==============================] - 1s 77us/sample - loss: 0.3348 - acc: 0.8610\n",
      "Epoch 80/100\n",
      "8000/8000 [==============================] - 1s 80us/sample - loss: 0.3341 - acc: 0.8641\n",
      "Epoch 81/100\n",
      "8000/8000 [==============================] - 0s 45us/sample - loss: 0.3341 - acc: 0.8641\n",
      "Epoch 82/100\n",
      "8000/8000 [==============================] - 0s 59us/sample - loss: 0.3344 - acc: 0.8627\n",
      "Epoch 83/100\n",
      "8000/8000 [==============================] - 1s 84us/sample - loss: 0.3333 - acc: 0.8620\n",
      "Epoch 84/100\n",
      "8000/8000 [==============================] - 1s 82us/sample - loss: 0.3334 - acc: 0.8633\n",
      "Epoch 85/100\n",
      "8000/8000 [==============================] - 1s 63us/sample - loss: 0.3344 - acc: 0.8627\n",
      "Epoch 86/100\n",
      "8000/8000 [==============================] - 0s 52us/sample - loss: 0.3337 - acc: 0.8635\n",
      "Epoch 87/100\n",
      "8000/8000 [==============================] - 0s 50us/sample - loss: 0.3334 - acc: 0.8621\n",
      "Epoch 88/100\n",
      "8000/8000 [==============================] - 1s 72us/sample - loss: 0.3333 - acc: 0.8629\n",
      "Epoch 89/100\n",
      "8000/8000 [==============================] - 0s 44us/sample - loss: 0.3333 - acc: 0.8644\n",
      "Epoch 90/100\n",
      "8000/8000 [==============================] - 1s 77us/sample - loss: 0.3329 - acc: 0.8605\n",
      "Epoch 91/100\n",
      "8000/8000 [==============================] - 1s 82us/sample - loss: 0.3331 - acc: 0.8644\n",
      "Epoch 92/100\n",
      "8000/8000 [==============================] - 1s 78us/sample - loss: 0.3329 - acc: 0.8622\n",
      "Epoch 93/100\n",
      "8000/8000 [==============================] - 1s 77us/sample - loss: 0.3329 - acc: 0.8633\n",
      "Epoch 94/100\n",
      "8000/8000 [==============================] - 1s 80us/sample - loss: 0.3335 - acc: 0.8626\n",
      "Epoch 95/100\n",
      "8000/8000 [==============================] - 1s 80us/sample - loss: 0.3326 - acc: 0.8633\n",
      "Epoch 96/100\n",
      "8000/8000 [==============================] - 1s 81us/sample - loss: 0.3325 - acc: 0.8618\n",
      "Epoch 97/100\n",
      "8000/8000 [==============================] - 1s 80us/sample - loss: 0.3330 - acc: 0.8620\n",
      "Epoch 98/100\n",
      "8000/8000 [==============================] - 0s 57us/sample - loss: 0.3324 - acc: 0.8610\n",
      "Epoch 99/100\n",
      "8000/8000 [==============================] - 0s 31us/sample - loss: 0.3325 - acc: 0.8611\n",
      "Epoch 100/100\n",
      "8000/8000 [==============================] - 1s 71us/sample - loss: 0.3321 - acc: 0.8636\n"
     ]
    },
    {
     "data": {
      "text/plain": [
       "<tensorflow.python.keras.callbacks.History at 0x295bfc43cc8>"
      ]
     },
     "execution_count": 73,
     "metadata": {},
     "output_type": "execute_result"
    }
   ],
   "source": [
    "#Initialize Neural Network\n",
    "ann1 = tf.keras.models.Sequential()\n",
    "\n",
    "#Addition of layers\n",
    "ann1.add(tf.keras.layers.Dense(units = 6, activation = 'relu'))\n",
    "ann1.add(tf.keras.layers.Dense(units = 6, activation = 'relu'))\n",
    "ann1.add(tf.keras.layers.Dense(units = 6, activation = 'relu'))\n",
    "ann1.add(tf.keras.layers.Dense(units = 6, activation = 'relu'))\n",
    "\n",
    "#Addition of Outpur layer\n",
    "ann1.add(tf.keras.layers.Dense(units = 1, activation = 'sigmoid'))\n",
    "\n",
    "#Compiling ANN\n",
    "ann1.compile(optimizer = 'adam', loss = 'binary_crossentropy' , metrics = ['accuracy'])\n",
    "\n",
    "#Fitting training data\n",
    "ann1.fit(X_train, y_train, batch_size = 32, epochs = 100)"
   ]
  },
  {
   "cell_type": "code",
   "execution_count": 74,
   "metadata": {},
   "outputs": [
    {
     "data": {
      "text/plain": [
       "(2.0, 0.0)"
      ]
     },
     "execution_count": 74,
     "metadata": {},
     "output_type": "execute_result"
    },
    {
     "data": {
      "image/png": "[encoded data removed]",
      "text/plain": [
       "<Figure size 432x288 with 1 Axes>"
      ]
     },
     "metadata": {
      "needs_background": "light"
     },
     "output_type": "display_data"
    }
   ],
   "source": [
    "# Predicting Output and Confusion Matrix\n",
    "\n",
    "y_pred1 = ann1.predict(X_test)\n",
    "y_pred1 = (y_pred1 > 0.5)\n",
    "\n",
    "from sklearn.metrics import confusion_matrix\n",
    "df_cm1 = confusion_matrix(y_test, y_pred1)\n",
    "\n",
    "plt.title(\"Confusion Matrix\")\n",
    "ax = sns.heatmap(df_cm1,\n",
    "                 annot=True,\n",
    "                 cmap=\"Blues\",\n",
    "                 fmt=\"d\",\n",
    "                 cbar=False, \n",
    "                 annot_kws={\"size\": 15})\n",
    "bottom, top = ax.get_ylim()\n",
    "ax.set_ylim(bottom + 0.5, top - 0.5)"
   ]
  },
  {
   "cell_type": "markdown",
   "metadata": {},
   "source": [
    "> `Case 2` - More hidden layer + More batch size "
   ]
  },
  {
   "cell_type": "code",
   "execution_count": 75,
   "metadata": {},
   "outputs": [
    {
     "name": "stdout",
     "output_type": "stream",
     "text": [
      "Epoch 1/100\n",
      "8000/8000 [==============================] - 1s 96us/sample - loss: 0.5839 - acc: 0.7685\n",
      "Epoch 2/100\n",
      "8000/8000 [==============================] - 0s 25us/sample - loss: 0.5019 - acc: 0.7960\n",
      "Epoch 3/100\n",
      "8000/8000 [==============================] - 0s 27us/sample - loss: 0.4796 - acc: 0.7960\n",
      "Epoch 4/100\n",
      "8000/8000 [==============================] - 0s 26us/sample - loss: 0.4636 - acc: 0.79600s - loss: 0.4616 - acc: 0.799\n",
      "Epoch 5/100\n",
      "8000/8000 [==============================] - 0s 26us/sample - loss: 0.4508 - acc: 0.7965\n",
      "Epoch 6/100\n",
      "8000/8000 [==============================] - 0s 26us/sample - loss: 0.4393 - acc: 0.7996\n",
      "Epoch 7/100\n",
      "8000/8000 [==============================] - 0s 26us/sample - loss: 0.4285 - acc: 0.8062\n",
      "Epoch 8/100\n",
      "8000/8000 [==============================] - 0s 26us/sample - loss: 0.4197 - acc: 0.8159\n",
      "Epoch 9/100\n",
      "8000/8000 [==============================] - 0s 28us/sample - loss: 0.4082 - acc: 0.8255\n",
      "Epoch 10/100\n",
      "8000/8000 [==============================] - 0s 26us/sample - loss: 0.3946 - acc: 0.8339\n",
      "Epoch 11/100\n",
      "8000/8000 [==============================] - 0s 27us/sample - loss: 0.3810 - acc: 0.8403\n",
      "Epoch 12/100\n",
      "8000/8000 [==============================] - 0s 27us/sample - loss: 0.3707 - acc: 0.8469\n",
      "Epoch 13/100\n",
      "8000/8000 [==============================] - 0s 26us/sample - loss: 0.3642 - acc: 0.8482\n",
      "Epoch 14/100\n",
      "8000/8000 [==============================] - 0s 26us/sample - loss: 0.3602 - acc: 0.8510\n",
      "Epoch 15/100\n",
      "8000/8000 [==============================] - 0s 27us/sample - loss: 0.3575 - acc: 0.8509\n",
      "Epoch 16/100\n",
      "8000/8000 [==============================] - 0s 26us/sample - loss: 0.3559 - acc: 0.8524\n",
      "Epoch 17/100\n",
      "8000/8000 [==============================] - 0s 26us/sample - loss: 0.3538 - acc: 0.8518\n",
      "Epoch 18/100\n",
      "8000/8000 [==============================] - 0s 27us/sample - loss: 0.3528 - acc: 0.8537\n",
      "Epoch 19/100\n",
      "8000/8000 [==============================] - 0s 26us/sample - loss: 0.3513 - acc: 0.8543\n",
      "Epoch 20/100\n",
      "8000/8000 [==============================] - 0s 26us/sample - loss: 0.3509 - acc: 0.8520\n",
      "Epoch 21/100\n",
      "8000/8000 [==============================] - 0s 27us/sample - loss: 0.3504 - acc: 0.8536\n",
      "Epoch 22/100\n",
      "8000/8000 [==============================] - 0s 26us/sample - loss: 0.3494 - acc: 0.8536\n",
      "Epoch 23/100\n",
      "8000/8000 [==============================] - 0s 25us/sample - loss: 0.3484 - acc: 0.8553\n",
      "Epoch 24/100\n",
      "8000/8000 [==============================] - 0s 26us/sample - loss: 0.3474 - acc: 0.8556\n",
      "Epoch 25/100\n",
      "8000/8000 [==============================] - 0s 26us/sample - loss: 0.3473 - acc: 0.8559\n",
      "Epoch 26/100\n",
      "8000/8000 [==============================] - 0s 26us/sample - loss: 0.3469 - acc: 0.8555\n",
      "Epoch 27/100\n",
      "8000/8000 [==============================] - 0s 25us/sample - loss: 0.3456 - acc: 0.8571\n",
      "Epoch 28/100\n",
      "8000/8000 [==============================] - 0s 26us/sample - loss: 0.3458 - acc: 0.8568\n",
      "Epoch 29/100\n",
      "8000/8000 [==============================] - 0s 26us/sample - loss: 0.3451 - acc: 0.8560\n",
      "Epoch 30/100\n",
      "8000/8000 [==============================] - 0s 26us/sample - loss: 0.3443 - acc: 0.8569\n",
      "Epoch 31/100\n",
      "8000/8000 [==============================] - 0s 27us/sample - loss: 0.3434 - acc: 0.8584\n",
      "Epoch 32/100\n",
      "8000/8000 [==============================] - 0s 14us/sample - loss: 0.3428 - acc: 0.8589\n",
      "Epoch 33/100\n",
      "8000/8000 [==============================] - 0s 27us/sample - loss: 0.3426 - acc: 0.8584\n",
      "Epoch 34/100\n",
      "8000/8000 [==============================] - 0s 26us/sample - loss: 0.3421 - acc: 0.8597\n",
      "Epoch 35/100\n",
      "8000/8000 [==============================] - 0s 27us/sample - loss: 0.3420 - acc: 0.8577\n",
      "Epoch 36/100\n",
      "8000/8000 [==============================] - 0s 27us/sample - loss: 0.3417 - acc: 0.8590\n",
      "Epoch 37/100\n",
      "8000/8000 [==============================] - 0s 25us/sample - loss: 0.3409 - acc: 0.8601\n",
      "Epoch 38/100\n",
      "8000/8000 [==============================] - 0s 26us/sample - loss: 0.3404 - acc: 0.8608\n",
      "Epoch 39/100\n",
      "8000/8000 [==============================] - 0s 29us/sample - loss: 0.3401 - acc: 0.8584\n",
      "Epoch 40/100\n",
      "8000/8000 [==============================] - 0s 26us/sample - loss: 0.3393 - acc: 0.8595\n",
      "Epoch 41/100\n",
      "8000/8000 [==============================] - 0s 26us/sample - loss: 0.3396 - acc: 0.8600\n",
      "Epoch 42/100\n",
      "8000/8000 [==============================] - 0s 26us/sample - loss: 0.3390 - acc: 0.8600\n",
      "Epoch 43/100\n",
      "8000/8000 [==============================] - 0s 26us/sample - loss: 0.3397 - acc: 0.8612\n",
      "Epoch 44/100\n",
      "8000/8000 [==============================] - 0s 27us/sample - loss: 0.3389 - acc: 0.8586\n",
      "Epoch 45/100\n",
      "8000/8000 [==============================] - 0s 29us/sample - loss: 0.3389 - acc: 0.8605\n",
      "Epoch 46/100\n",
      "8000/8000 [==============================] - 0s 30us/sample - loss: 0.3385 - acc: 0.8593\n",
      "Epoch 47/100\n",
      "8000/8000 [==============================] - 0s 27us/sample - loss: 0.3381 - acc: 0.8614\n",
      "Epoch 48/100\n",
      "8000/8000 [==============================] - 0s 29us/sample - loss: 0.3377 - acc: 0.8590\n",
      "Epoch 49/100\n",
      "8000/8000 [==============================] - 0s 28us/sample - loss: 0.3380 - acc: 0.8602\n",
      "Epoch 50/100\n",
      "8000/8000 [==============================] - 0s 28us/sample - loss: 0.3382 - acc: 0.8605\n",
      "Epoch 51/100\n",
      "8000/8000 [==============================] - 0s 28us/sample - loss: 0.3374 - acc: 0.8606\n",
      "Epoch 52/100\n",
      "8000/8000 [==============================] - 0s 28us/sample - loss: 0.3372 - acc: 0.8614\n",
      "Epoch 53/100\n",
      "8000/8000 [==============================] - 0s 25us/sample - loss: 0.3372 - acc: 0.8624\n",
      "Epoch 54/100\n",
      "8000/8000 [==============================] - 0s 23us/sample - loss: 0.3365 - acc: 0.8615\n",
      "Epoch 55/100\n",
      "8000/8000 [==============================] - 0s 10us/sample - loss: 0.3369 - acc: 0.8597\n",
      "Epoch 56/100\n",
      "8000/8000 [==============================] - 0s 11us/sample - loss: 0.3368 - acc: 0.8606\n",
      "Epoch 57/100\n",
      "8000/8000 [==============================] - 0s 28us/sample - loss: 0.3365 - acc: 0.8611\n",
      "Epoch 58/100\n",
      "8000/8000 [==============================] - 0s 27us/sample - loss: 0.3367 - acc: 0.8601\n",
      "Epoch 59/100\n",
      "8000/8000 [==============================] - 0s 26us/sample - loss: 0.3365 - acc: 0.8604\n",
      "Epoch 60/100\n",
      "8000/8000 [==============================] - 0s 26us/sample - loss: 0.3361 - acc: 0.8601\n",
      "Epoch 61/100\n",
      "8000/8000 [==============================] - 0s 27us/sample - loss: 0.3359 - acc: 0.8626\n",
      "Epoch 62/100\n",
      "8000/8000 [==============================] - 0s 27us/sample - loss: 0.3364 - acc: 0.8599\n",
      "Epoch 63/100\n",
      "8000/8000 [==============================] - 0s 27us/sample - loss: 0.3359 - acc: 0.8599\n",
      "Epoch 64/100\n",
      "8000/8000 [==============================] - 0s 27us/sample - loss: 0.3358 - acc: 0.8609\n",
      "Epoch 65/100\n",
      "8000/8000 [==============================] - 0s 26us/sample - loss: 0.3348 - acc: 0.8605\n",
      "Epoch 66/100\n",
      "8000/8000 [==============================] - 0s 26us/sample - loss: 0.3358 - acc: 0.8612\n",
      "Epoch 67/100\n",
      "8000/8000 [==============================] - 0s 27us/sample - loss: 0.3358 - acc: 0.8615\n",
      "Epoch 68/100\n",
      "8000/8000 [==============================] - 0s 25us/sample - loss: 0.3360 - acc: 0.8615\n",
      "Epoch 69/100\n",
      "8000/8000 [==============================] - 0s 27us/sample - loss: 0.3357 - acc: 0.8606\n",
      "Epoch 70/100\n",
      "8000/8000 [==============================] - 0s 27us/sample - loss: 0.3351 - acc: 0.8611\n",
      "Epoch 71/100\n",
      "8000/8000 [==============================] - 0s 26us/sample - loss: 0.3359 - acc: 0.8604\n",
      "Epoch 72/100\n",
      "8000/8000 [==============================] - 0s 29us/sample - loss: 0.3353 - acc: 0.8611\n",
      "Epoch 73/100\n",
      "8000/8000 [==============================] - 0s 27us/sample - loss: 0.3354 - acc: 0.8595\n",
      "Epoch 74/100\n",
      "8000/8000 [==============================] - 0s 27us/sample - loss: 0.3355 - acc: 0.8614\n",
      "Epoch 75/100\n",
      "8000/8000 [==============================] - 0s 25us/sample - loss: 0.3353 - acc: 0.8599\n",
      "Epoch 76/100\n",
      "8000/8000 [==============================] - 0s 25us/sample - loss: 0.3352 - acc: 0.8604\n",
      "Epoch 77/100\n",
      "8000/8000 [==============================] - 0s 26us/sample - loss: 0.3352 - acc: 0.8621\n",
      "Epoch 78/100\n",
      "8000/8000 [==============================] - 0s 26us/sample - loss: 0.3348 - acc: 0.8610\n",
      "Epoch 79/100\n",
      "8000/8000 [==============================] - 0s 26us/sample - loss: 0.3346 - acc: 0.8618\n",
      "Epoch 80/100\n",
      "8000/8000 [==============================] - 0s 26us/sample - loss: 0.3351 - acc: 0.8618\n",
      "Epoch 81/100\n"
     ]
    },
    {
     "name": "stdout",
     "output_type": "stream",
     "text": [
      "8000/8000 [==============================] - 0s 26us/sample - loss: 0.3349 - acc: 0.8604\n",
      "Epoch 82/100\n",
      "8000/8000 [==============================] - 0s 27us/sample - loss: 0.3353 - acc: 0.8604\n",
      "Epoch 83/100\n",
      "8000/8000 [==============================] - 0s 25us/sample - loss: 0.3347 - acc: 0.8610\n",
      "Epoch 84/100\n",
      "8000/8000 [==============================] - 0s 26us/sample - loss: 0.3349 - acc: 0.8615\n",
      "Epoch 85/100\n",
      "8000/8000 [==============================] - 0s 26us/sample - loss: 0.3345 - acc: 0.8618\n",
      "Epoch 86/100\n",
      "8000/8000 [==============================] - 0s 26us/sample - loss: 0.3347 - acc: 0.8615\n",
      "Epoch 87/100\n",
      "8000/8000 [==============================] - 0s 27us/sample - loss: 0.3346 - acc: 0.8606\n",
      "Epoch 88/100\n",
      "8000/8000 [==============================] - 0s 26us/sample - loss: 0.3344 - acc: 0.8599\n",
      "Epoch 89/100\n",
      "8000/8000 [==============================] - 0s 27us/sample - loss: 0.3351 - acc: 0.8611\n",
      "Epoch 90/100\n",
      "8000/8000 [==============================] - 0s 25us/sample - loss: 0.3341 - acc: 0.8605\n",
      "Epoch 91/100\n",
      "8000/8000 [==============================] - 0s 26us/sample - loss: 0.3345 - acc: 0.8601\n",
      "Epoch 92/100\n",
      "8000/8000 [==============================] - 0s 27us/sample - loss: 0.3345 - acc: 0.8595\n",
      "Epoch 93/100\n",
      "8000/8000 [==============================] - 0s 26us/sample - loss: 0.3344 - acc: 0.8602\n",
      "Epoch 94/100\n",
      "8000/8000 [==============================] - 0s 27us/sample - loss: 0.3337 - acc: 0.8608\n",
      "Epoch 95/100\n",
      "8000/8000 [==============================] - 0s 26us/sample - loss: 0.3347 - acc: 0.8594\n",
      "Epoch 96/100\n",
      "8000/8000 [==============================] - 0s 25us/sample - loss: 0.3345 - acc: 0.8590\n",
      "Epoch 97/100\n",
      "8000/8000 [==============================] - 0s 25us/sample - loss: 0.3340 - acc: 0.8600\n",
      "Epoch 98/100\n",
      "8000/8000 [==============================] - 0s 27us/sample - loss: 0.3341 - acc: 0.8606\n",
      "Epoch 99/100\n",
      "8000/8000 [==============================] - 0s 28us/sample - loss: 0.3345 - acc: 0.8602\n",
      "Epoch 100/100\n",
      "8000/8000 [==============================] - 0s 27us/sample - loss: 0.3339 - acc: 0.8596\n"
     ]
    },
    {
     "data": {
      "text/plain": [
       "<tensorflow.python.keras.callbacks.History at 0x295c988d108>"
      ]
     },
     "execution_count": 75,
     "metadata": {},
     "output_type": "execute_result"
    }
   ],
   "source": [
    "#Initialize Neural Network\n",
    "ann2 = tf.keras.models.Sequential()\n",
    "\n",
    "#Addition of layers\n",
    "ann2.add(tf.keras.layers.Dense(units = 6, activation = 'relu'))\n",
    "ann2.add(tf.keras.layers.Dense(units = 6, activation = 'relu'))\n",
    "ann2.add(tf.keras.layers.Dense(units = 6, activation = 'relu'))\n",
    "ann2.add(tf.keras.layers.Dense(units = 6, activation = 'relu'))\n",
    "\n",
    "#Addition of Outpur layer\n",
    "ann2.add(tf.keras.layers.Dense(units = 1, activation = 'sigmoid'))\n",
    "\n",
    "#Compiling ANN\n",
    "ann2.compile(optimizer = 'adam', loss = 'binary_crossentropy' , metrics = ['accuracy'])\n",
    "\n",
    "#Fitting training data\n",
    "ann2.fit(X_train, y_train, batch_size = 100, epochs = 100)"
   ]
  },
  {
   "cell_type": "code",
   "execution_count": 76,
   "metadata": {},
   "outputs": [
    {
     "data": {
      "text/plain": [
       "(2.0, 0.0)"
      ]
     },
     "execution_count": 76,
     "metadata": {},
     "output_type": "execute_result"
    },
    {
     "data": {
      "image/png": "[encoded data removed]",
      "text/plain": [
       "<Figure size 432x288 with 1 Axes>"
      ]
     },
     "metadata": {
      "needs_background": "light"
     },
     "output_type": "display_data"
    }
   ],
   "source": [
    "# Predicting Output and Confusion Matrix\n",
    "\n",
    "y_pred2 = ann2.predict(X_test)\n",
    "y_pred2 = (y_pred2 > 0.5)\n",
    "\n",
    "from sklearn.metrics import confusion_matrix\n",
    "df_cm2 = confusion_matrix(y_test, y_pred2)\n",
    "\n",
    "plt.title(\"Confusion Matrix\")\n",
    "ax = sns.heatmap(df_cm2,\n",
    "                 annot=True,\n",
    "                 cmap=\"Blues\",\n",
    "                 fmt=\"d\",\n",
    "                 cbar=False, \n",
    "                 annot_kws={\"size\": 15})\n",
    "bottom, top = ax.get_ylim()\n",
    "ax.set_ylim(bottom + 0.5, top - 0.5)"
   ]
  },
  {
   "cell_type": "markdown",
   "metadata": {},
   "source": [
    "> `CASE 3` - More neurons in hidden layer"
   ]
  },
  {
   "cell_type": "code",
   "execution_count": 77,
   "metadata": {},
   "outputs": [
    {
     "name": "stdout",
     "output_type": "stream",
     "text": [
      "Epoch 1/100\n",
      "8000/8000 [==============================] - 1s 99us/sample - loss: 0.6433 - acc: 0.7054\n",
      "Epoch 2/100\n",
      "8000/8000 [==============================] - 0s 26us/sample - loss: 0.5379 - acc: 0.7960\n",
      "Epoch 3/100\n",
      "8000/8000 [==============================] - 0s 28us/sample - loss: 0.4971 - acc: 0.7960\n",
      "Epoch 4/100\n",
      "8000/8000 [==============================] - 0s 27us/sample - loss: 0.4744 - acc: 0.7960\n",
      "Epoch 5/100\n",
      "8000/8000 [==============================] - 0s 26us/sample - loss: 0.4588 - acc: 0.7969\n",
      "Epoch 6/100\n",
      "8000/8000 [==============================] - 0s 26us/sample - loss: 0.4480 - acc: 0.8010\n",
      "Epoch 7/100\n",
      "8000/8000 [==============================] - 0s 27us/sample - loss: 0.4391 - acc: 0.8051\n",
      "Epoch 8/100\n",
      "8000/8000 [==============================] - 0s 29us/sample - loss: 0.4327 - acc: 0.8091\n",
      "Epoch 9/100\n",
      "8000/8000 [==============================] - 0s 29us/sample - loss: 0.4243 - acc: 0.8149\n",
      "Epoch 10/100\n",
      "8000/8000 [==============================] - 0s 28us/sample - loss: 0.4157 - acc: 0.8234\n",
      "Epoch 11/100\n",
      "8000/8000 [==============================] - 0s 28us/sample - loss: 0.4057 - acc: 0.8292\n",
      "Epoch 12/100\n",
      "8000/8000 [==============================] - 0s 29us/sample - loss: 0.3940 - acc: 0.8342\n",
      "Epoch 13/100\n",
      "8000/8000 [==============================] - 0s 28us/sample - loss: 0.3831 - acc: 0.8378\n",
      "Epoch 14/100\n",
      "8000/8000 [==============================] - 0s 25us/sample - loss: 0.3737 - acc: 0.8406\n",
      "Epoch 15/100\n",
      "8000/8000 [==============================] - 0s 12us/sample - loss: 0.3667 - acc: 0.8446\n",
      "Epoch 16/100\n",
      "8000/8000 [==============================] - 0s 10us/sample - loss: 0.3618 - acc: 0.8454\n",
      "Epoch 17/100\n",
      "8000/8000 [==============================] - 0s 13us/sample - loss: 0.3576 - acc: 0.8465\n",
      "Epoch 18/100\n",
      "8000/8000 [==============================] - 0s 13us/sample - loss: 0.3547 - acc: 0.8485\n",
      "Epoch 19/100\n",
      "8000/8000 [==============================] - 0s 11us/sample - loss: 0.3525 - acc: 0.8512\n",
      "Epoch 20/100\n",
      "8000/8000 [==============================] - 0s 27us/sample - loss: 0.3500 - acc: 0.8561\n",
      "Epoch 21/100\n",
      "8000/8000 [==============================] - 0s 28us/sample - loss: 0.3487 - acc: 0.8550\n",
      "Epoch 22/100\n",
      "8000/8000 [==============================] - 0s 26us/sample - loss: 0.3462 - acc: 0.8581\n",
      "Epoch 23/100\n",
      "8000/8000 [==============================] - 0s 27us/sample - loss: 0.3453 - acc: 0.8575\n",
      "Epoch 24/100\n",
      "8000/8000 [==============================] - 0s 27us/sample - loss: 0.3443 - acc: 0.8593\n",
      "Epoch 25/100\n",
      "8000/8000 [==============================] - 0s 27us/sample - loss: 0.3432 - acc: 0.8584\n",
      "Epoch 26/100\n",
      "8000/8000 [==============================] - 0s 27us/sample - loss: 0.3422 - acc: 0.8600\n",
      "Epoch 27/100\n",
      "8000/8000 [==============================] - 0s 28us/sample - loss: 0.3418 - acc: 0.8606\n",
      "Epoch 28/100\n",
      "8000/8000 [==============================] - 0s 26us/sample - loss: 0.3402 - acc: 0.8618\n",
      "Epoch 29/100\n",
      "8000/8000 [==============================] - 0s 27us/sample - loss: 0.3397 - acc: 0.8611\n",
      "Epoch 30/100\n",
      "8000/8000 [==============================] - 0s 27us/sample - loss: 0.3387 - acc: 0.8610\n",
      "Epoch 31/100\n",
      "8000/8000 [==============================] - 0s 27us/sample - loss: 0.3391 - acc: 0.8611\n",
      "Epoch 32/100\n",
      "8000/8000 [==============================] - 0s 27us/sample - loss: 0.3381 - acc: 0.8626\n",
      "Epoch 33/100\n",
      "8000/8000 [==============================] - 0s 26us/sample - loss: 0.3376 - acc: 0.8624\n",
      "Epoch 34/100\n",
      "8000/8000 [==============================] - 0s 26us/sample - loss: 0.3369 - acc: 0.8626\n",
      "Epoch 35/100\n",
      "8000/8000 [==============================] - 0s 28us/sample - loss: 0.3364 - acc: 0.8635\n",
      "Epoch 36/100\n",
      "8000/8000 [==============================] - 0s 27us/sample - loss: 0.3361 - acc: 0.8629\n",
      "Epoch 37/100\n",
      "8000/8000 [==============================] - 0s 27us/sample - loss: 0.3360 - acc: 0.8648\n",
      "Epoch 38/100\n",
      "8000/8000 [==============================] - 0s 27us/sample - loss: 0.3362 - acc: 0.8635\n",
      "Epoch 39/100\n",
      "8000/8000 [==============================] - 0s 26us/sample - loss: 0.3352 - acc: 0.8622\n",
      "Epoch 40/100\n",
      "8000/8000 [==============================] - 0s 28us/sample - loss: 0.3349 - acc: 0.8639\n",
      "Epoch 41/100\n",
      "8000/8000 [==============================] - 0s 26us/sample - loss: 0.3354 - acc: 0.8648\n",
      "Epoch 42/100\n",
      "8000/8000 [==============================] - 0s 27us/sample - loss: 0.3346 - acc: 0.8648\n",
      "Epoch 43/100\n",
      "8000/8000 [==============================] - 0s 27us/sample - loss: 0.3343 - acc: 0.8630\n",
      "Epoch 44/100\n",
      "8000/8000 [==============================] - 0s 27us/sample - loss: 0.3344 - acc: 0.8637\n",
      "Epoch 45/100\n",
      "8000/8000 [==============================] - 0s 28us/sample - loss: 0.3339 - acc: 0.8639\n",
      "Epoch 46/100\n",
      "8000/8000 [==============================] - 0s 26us/sample - loss: 0.3349 - acc: 0.8635\n",
      "Epoch 47/100\n",
      "8000/8000 [==============================] - 0s 26us/sample - loss: 0.3337 - acc: 0.8652\n",
      "Epoch 48/100\n",
      "8000/8000 [==============================] - 0s 28us/sample - loss: 0.3334 - acc: 0.8637\n",
      "Epoch 49/100\n",
      "8000/8000 [==============================] - 0s 25us/sample - loss: 0.3332 - acc: 0.8648\n",
      "Epoch 50/100\n",
      "8000/8000 [==============================] - 0s 26us/sample - loss: 0.3322 - acc: 0.8649\n",
      "Epoch 51/100\n",
      "8000/8000 [==============================] - 0s 26us/sample - loss: 0.3330 - acc: 0.8627\n",
      "Epoch 52/100\n",
      "8000/8000 [==============================] - 0s 27us/sample - loss: 0.3328 - acc: 0.8649\n",
      "Epoch 53/100\n",
      "8000/8000 [==============================] - 0s 27us/sample - loss: 0.3323 - acc: 0.8631\n",
      "Epoch 54/100\n",
      "8000/8000 [==============================] - 0s 28us/sample - loss: 0.3318 - acc: 0.8636\n",
      "Epoch 55/100\n",
      "8000/8000 [==============================] - 0s 27us/sample - loss: 0.3326 - acc: 0.8654\n",
      "Epoch 56/100\n",
      "8000/8000 [==============================] - 0s 27us/sample - loss: 0.3320 - acc: 0.8641\n",
      "Epoch 57/100\n",
      "8000/8000 [==============================] - 0s 26us/sample - loss: 0.3311 - acc: 0.8664\n",
      "Epoch 58/100\n",
      "8000/8000 [==============================] - 0s 26us/sample - loss: 0.3312 - acc: 0.8645\n",
      "Epoch 59/100\n",
      "8000/8000 [==============================] - 0s 27us/sample - loss: 0.3308 - acc: 0.8669\n",
      "Epoch 60/100\n",
      "8000/8000 [==============================] - 0s 27us/sample - loss: 0.3312 - acc: 0.8644\n",
      "Epoch 61/100\n",
      "8000/8000 [==============================] - 0s 27us/sample - loss: 0.3308 - acc: 0.8648\n",
      "Epoch 62/100\n",
      "8000/8000 [==============================] - 0s 26us/sample - loss: 0.3307 - acc: 0.8644\n",
      "Epoch 63/100\n",
      "8000/8000 [==============================] - 0s 26us/sample - loss: 0.3307 - acc: 0.8654\n",
      "Epoch 64/100\n",
      "8000/8000 [==============================] - 0s 26us/sample - loss: 0.3302 - acc: 0.8649\n",
      "Epoch 65/100\n",
      "8000/8000 [==============================] - 0s 28us/sample - loss: 0.3300 - acc: 0.8654\n",
      "Epoch 66/100\n",
      "8000/8000 [==============================] - 0s 24us/sample - loss: 0.3300 - acc: 0.8656\n",
      "Epoch 67/100\n",
      "8000/8000 [==============================] - 0s 15us/sample - loss: 0.3295 - acc: 0.8659\n",
      "Epoch 68/100\n",
      "8000/8000 [==============================] - 0s 28us/sample - loss: 0.3297 - acc: 0.8654\n",
      "Epoch 69/100\n",
      "8000/8000 [==============================] - 0s 27us/sample - loss: 0.3311 - acc: 0.8655\n",
      "Epoch 70/100\n",
      "8000/8000 [==============================] - 0s 27us/sample - loss: 0.3298 - acc: 0.8662\n",
      "Epoch 71/100\n",
      "8000/8000 [==============================] - 0s 27us/sample - loss: 0.3297 - acc: 0.8645\n",
      "Epoch 72/100\n",
      "8000/8000 [==============================] - 0s 27us/sample - loss: 0.3297 - acc: 0.8646\n",
      "Epoch 73/100\n",
      "8000/8000 [==============================] - 0s 28us/sample - loss: 0.3299 - acc: 0.8655\n",
      "Epoch 74/100\n",
      "8000/8000 [==============================] - 0s 26us/sample - loss: 0.3296 - acc: 0.8665\n",
      "Epoch 75/100\n",
      "8000/8000 [==============================] - 0s 26us/sample - loss: 0.3296 - acc: 0.8661\n",
      "Epoch 76/100\n",
      "8000/8000 [==============================] - 0s 27us/sample - loss: 0.3290 - acc: 0.8656\n",
      "Epoch 77/100\n",
      "8000/8000 [==============================] - 0s 27us/sample - loss: 0.3296 - acc: 0.8656\n",
      "Epoch 78/100\n",
      "8000/8000 [==============================] - 0s 29us/sample - loss: 0.3292 - acc: 0.8645\n",
      "Epoch 79/100\n",
      "8000/8000 [==============================] - 0s 28us/sample - loss: 0.3302 - acc: 0.8652\n",
      "Epoch 80/100\n",
      "8000/8000 [==============================] - 0s 27us/sample - loss: 0.3292 - acc: 0.8646\n",
      "Epoch 81/100\n",
      "8000/8000 [==============================] - 0s 27us/sample - loss: 0.3290 - acc: 0.8654\n",
      "Epoch 82/100\n",
      "8000/8000 [==============================] - 0s 27us/sample - loss: 0.3291 - acc: 0.8661\n",
      "Epoch 83/100\n",
      "8000/8000 [==============================] - 0s 27us/sample - loss: 0.3294 - acc: 0.8665\n",
      "Epoch 84/100\n",
      "8000/8000 [==============================] - 0s 28us/sample - loss: 0.3285 - acc: 0.8656\n",
      "Epoch 85/100\n",
      "8000/8000 [==============================] - 0s 28us/sample - loss: 0.3284 - acc: 0.8669\n",
      "Epoch 86/100\n",
      "8000/8000 [==============================] - 0s 29us/sample - loss: 0.3281 - acc: 0.8661\n",
      "Epoch 87/100\n",
      "8000/8000 [==============================] - 0s 29us/sample - loss: 0.3286 - acc: 0.8658\n",
      "Epoch 88/100\n",
      "8000/8000 [==============================] - 0s 30us/sample - loss: 0.3283 - acc: 0.8668\n",
      "Epoch 89/100\n",
      "8000/8000 [==============================] - 0s 21us/sample - loss: 0.3277 - acc: 0.8652\n",
      "Epoch 90/100\n",
      "8000/8000 [==============================] - 0s 12us/sample - loss: 0.3278 - acc: 0.8664\n",
      "Epoch 91/100\n",
      "8000/8000 [==============================] - 0s 17us/sample - loss: 0.3278 - acc: 0.8665\n",
      "Epoch 92/100\n",
      "8000/8000 [==============================] - 0s 28us/sample - loss: 0.3273 - acc: 0.8662\n",
      "Epoch 93/100\n",
      "8000/8000 [==============================] - 0s 27us/sample - loss: 0.3285 - acc: 0.8656\n",
      "Epoch 94/100\n",
      "8000/8000 [==============================] - 0s 28us/sample - loss: 0.3279 - acc: 0.8668\n",
      "Epoch 95/100\n",
      "8000/8000 [==============================] - 0s 28us/sample - loss: 0.3277 - acc: 0.8658\n",
      "Epoch 96/100\n",
      "8000/8000 [==============================] - 0s 27us/sample - loss: 0.3277 - acc: 0.8666\n",
      "Epoch 97/100\n",
      "8000/8000 [==============================] - 0s 27us/sample - loss: 0.3283 - acc: 0.8651\n",
      "Epoch 98/100\n",
      "8000/8000 [==============================] - 0s 25us/sample - loss: 0.3283 - acc: 0.8651\n",
      "Epoch 99/100\n",
      "8000/8000 [==============================] - 0s 26us/sample - loss: 0.3275 - acc: 0.8641\n",
      "Epoch 100/100\n",
      "8000/8000 [==============================] - 0s 26us/sample - loss: 0.3273 - acc: 0.8668\n"
     ]
    },
    {
     "data": {
      "text/plain": [
       "<tensorflow.python.keras.callbacks.History at 0x295cb240108>"
      ]
     },
     "execution_count": 77,
     "metadata": {},
     "output_type": "execute_result"
    }
   ],
   "source": [
    "#Initialize Neural Network\n",
    "ann3 = tf.keras.models.Sequential()\n",
    "\n",
    "#Addition of layers\n",
    "ann3.add(tf.keras.layers.Dense(units = 8, activation = 'relu'))\n",
    "ann3.add(tf.keras.layers.Dense(units = 8, activation = 'relu'))\n",
    "ann3.add(tf.keras.layers.Dense(units = 8, activation = 'relu'))\n",
    "ann3.add(tf.keras.layers.Dense(units = 8, activation = 'relu'))\n",
    "\n",
    "#Addition of Outpur layer\n",
    "ann3.add(tf.keras.layers.Dense(units = 1, activation = 'sigmoid'))\n",
    "\n",
    "#Compiling ANN\n",
    "ann3.compile(optimizer = 'adam', loss = 'binary_crossentropy' , metrics = ['accuracy'])\n",
    "\n",
    "#Fitting training data\n",
    "ann3.fit(X_train, y_train, batch_size = 100, epochs = 100)"
   ]
  },
  {
   "cell_type": "code",
   "execution_count": 78,
   "metadata": {},
   "outputs": [
    {
     "data": {
      "text/plain": [
       "(2.0, 0.0)"
      ]
     },
     "execution_count": 78,
     "metadata": {},
     "output_type": "execute_result"
    },
    {
     "data": {
      "image/png": "[encoded data removed]",
      "text/plain": [
       "<Figure size 432x288 with 1 Axes>"
      ]
     },
     "metadata": {
      "needs_background": "light"
     },
     "output_type": "display_data"
    }
   ],
   "source": [
    "# Predicting Output and Confusion Matrix\n",
    "\n",
    "y_pred3 = ann3.predict(X_test)\n",
    "y_pred3 = (y_pred3 > 0.5)\n",
    "\n",
    "from sklearn.metrics import confusion_matrix\n",
    "df_cm3 = confusion_matrix(y_test, y_pred3)\n",
    "\n",
    "plt.title(\"Confusion Matrix\")\n",
    "ax = sns.heatmap(df_cm3,\n",
    "                 annot=True,\n",
    "                 cmap=\"Blues\",\n",
    "                 fmt=\"d\",\n",
    "                 cbar=False, \n",
    "                 annot_kws={\"size\": 15})\n",
    "bottom, top = ax.get_ylim()\n",
    "ax.set_ylim(bottom + 0.5, top - 0.5)"
   ]
  },
  {
   "cell_type": "markdown",
   "metadata": {},
   "source": [
    "### STEP 9 - CONCLUSION"
   ]
  },
  {
   "cell_type": "markdown",
   "metadata": {},
   "source": [
    "- Using Data Science Life Cyle process we could build our Artificial Neural Network model.\n",
    "\n",
    "\n",
    "- Accuracy achevied was around 86% when it was trianed on 10,000 observation over 100 epochs.\n",
    "\n",
    "\n",
    "- We tried various combination like increasing the hidden layer, increasing hidden layer with batches, increasing nos of neurons in hidden layer so that we could observe some change in the accuracy, but accuracy was still 86%but there was some sought of reduction in the Type 1 and Type 2 error.\n",
    "\n",
    "\n",
    "- We could see Type 2 error was reduced from 200 to 190 when we had more hidden layers. Also Type 1 error was reduced from 82 to 75 when we added more neurons in hidden layer."
   ]
  }
 ],
 "metadata": {
  "colab": {
   "collapsed_sections": [
    "68-jzLBed5WS",
    "yEN3lrTad5W9",
    "ajvGvcYAd5Xf"
   ],
   "name": "Churn Modelling.ipynb",
   "provenance": [],
   "toc_visible": true
  },
  "kernelspec": {
   "display_name": "Python 3",
   "language": "python",
   "name": "python3"
  },
  "language_info": {
   "codemirror_mode": {
    "name": "ipython",
    "version": 3
   },
   "file_extension": ".py",
   "mimetype": "text/x-python",
   "name": "python",
   "nbconvert_exporter": "python",
   "pygments_lexer": "ipython3",
   "version": "3.7.4"
  }
 },
 "nbformat": 4,
 "nbformat_minor": 1
}
